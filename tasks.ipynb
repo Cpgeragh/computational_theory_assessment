{
 "cells": [
  {
   "cell_type": "markdown",
   "metadata": {},
   "source": [
    "# **Computational Theory Assessment**\n",
    "\n",
    "**Scope**  \n",
    "This notebook presents solutions to all required tasks in the Computational Theory module, organized into distinct sections. Each task is supported by explanatory Markdown cells and corresponding Python code cells that implement and test the solutions. This structure ensures clarity and demonstrates a step-by-step approach to each assignment requirement.\n",
    "\n",
    "**Objectives**  \n",
    "1. Showcase implementation details for binary manipulations, hashing, prime calculations, Turing machines, and more.  \n",
    "2. Provide thorough test coverage with `unittest` to confirm correctness and reliability of the functions.  \n",
    "3. Document each task’s purpose, method, and cryptographic or theoretical context, aligning with the assignment guidelines.\n",
    "\n",
    "All content is arranged so that a reader can navigate the tasks in sequence, understanding both the conceptual underpinnings and practical code execution.\n"
   ]
  },
  {
   "cell_type": "markdown",
   "metadata": {},
   "source": [
    "## **Imports and Libraries**\n",
    "\n",
    "The set of libraries used throughout this notebook:\n",
    "\n",
    "- **unittest** – Provides a framework for structured testing of each function.  \n",
    "- **tempfile** and **os** – Facilitate file creation and management, particularly for tasks involving SHA-256 padding demonstrations.  \n",
    "- **math** – Supplies mathematical functions like `sqrt` and `floor`, especially for prime-related or fractional bit extraction tasks.  \n",
    "- **pandas** – Assists with tabular data representation in certain demonstrations.  \n",
    "- **hashlib** – Used for SHA-256 hashing functionality in proof-of-work and padding tasks.  \n",
    "- **itertools** – Generates permutations and combinations, vital for tasks like bubble sort comparisons.  \n",
    "- **tabulate** – Enables readable table formatting for selected outputs.  \n"
   ]
  },
  {
   "cell_type": "code",
   "execution_count": 227,
   "metadata": {},
   "outputs": [],
   "source": [
    "import unittest\n",
    "import tempfile\n",
    "import os\n",
    "import math\n",
    "import pandas as pd\n",
    "import hashlib\n",
    "import itertools\n",
    "from tabulate import tabulate"
   ]
  },
  {
   "cell_type": "markdown",
   "metadata": {},
   "source": [
    "## **Task 1 - Binary Representations**\n",
    "\n",
    "**Purpose**\n",
    "\n",
    "- This task implements four core bitwise operations: `rotl`, `rotr`, `ch`, and `maj`.\n",
    "\n",
    "- These operations are widely used in cryptographic algorithms such as SHA-256 to ensure strong diffusion and non-linearity.\n",
    "\n",
    "- Bitwise logic ensures that small changes in input produce large, complex changes in output, which is essential for secure hash design.\n",
    "\n",
    "- Each function is tested using `unittest` to validate correctness and ensure reliable behavior in all edge cases.\n",
    "\n",
    "**Cryptographic Context**\n",
    "\n",
    "- These functions mirror components in SHA-256:\n",
    "\n",
    "  - `rotl` and `rotr` allow cyclic shifting of bits to prevent data loss during mixing.\n",
    "\n",
    "  - `ch` (choose) and `maj` (majority) contribute to conditional and majority logic in the SHA-256 compression function.\n",
    "  \n",
    "- Together, they provide the low-level operations needed for constructing secure, high-entropy hash outputs.\n"
   ]
  },
  {
   "cell_type": "markdown",
   "metadata": {},
   "source": [
    "### **Step 1: Implement Bitwise Left Rotation - `rotl(x, n=1)`**\n",
    "\n",
    "- **Definition**\n",
    "    - Performs a left circular rotation on a 32-bit unsigned integer.\n",
    "\n",
    "    - Bits shifted off the left end reappear on the right.\n",
    "\n",
    "    - A 32-bit mask ensures results stay within the valid integer range.\n",
    "\n",
    "    - Left rotation is used in hash functions to mix bits without zero-padding.\n",
    "    \n",
    "    - Ensures full bit coverage and contributes to the avalanche effect in cryptographic diffusion."
   ]
  },
  {
   "cell_type": "code",
   "execution_count": 112,
   "metadata": {},
   "outputs": [],
   "source": [
    "MASK_32 = 0xFFFFFFFF  # 32-bit mask to prevent overflow\n",
    "\n",
    "def rotl(x, n=1):\n",
    "    n %= 32  # Ensures n is within 0-31\n",
    "    return ((x << n) & MASK_32) | ((x & MASK_32) >> (32 - n))"
   ]
  },
  {
   "cell_type": "markdown",
   "metadata": {},
   "source": [
    "#### **Test Class: `TestRotlOutput`**\n",
    "\n",
    "- **Test Approach**\n",
    "\n",
    "    - Applies `rotl` to a known test value with shifts of 0, 4, 8, and 31.\n",
    "\n",
    "    - Uses both hex and binary output for readability.\n",
    "\n",
    "- **Verification**\n",
    "\n",
    "    - Each result is compared to a precomputed expected output.\n",
    "\n",
    "- **Outcome**\n",
    "\n",
    "    - All results match expected values, confirming correct bit rotation and masking logic."
   ]
  },
  {
   "cell_type": "code",
   "execution_count": 174,
   "metadata": {},
   "outputs": [
    {
     "name": "stderr",
     "output_type": "stream",
     "text": [
      "test_rotl_output (__main__.TestRotlOutput.test_rotl_output) ... ok\n",
      "\n",
      "----------------------------------------------------------------------\n",
      "Ran 1 test in 0.001s\n",
      "\n",
      "OK\n"
     ]
    },
    {
     "name": "stdout",
     "output_type": "stream",
     "text": [
      "\n",
      "Starting validation for ROTL (rotate left) function...\n",
      "\n",
      "Original:   0x12345678 (00010010001101000101011001111000)\n",
      "\n",
      "rotl(0):   0x12345678 (00010010001101000101011001111000)\n",
      "Test passed: rotl(0) produces correct result\n",
      "\n",
      "rotl(4):   0x23456781 (00100011010001010110011110000001)\n",
      "Test passed: rotl(4) produces correct result\n",
      "\n",
      "rotl(8):   0x34567812 (00110100010101100111100000010010)\n",
      "Test passed: rotl(8) produces correct result\n",
      "\n",
      "rotl(31):   0x91A2B3C (00001001000110100010101100111100)\n",
      "Test passed: rotl(31) produces correct result\n",
      "\n",
      "All ROTL tests completed successfully.\n",
      "\n"
     ]
    },
    {
     "data": {
      "text/plain": [
       "<unittest.runner.TextTestResult run=1 errors=0 failures=0>"
      ]
     },
     "execution_count": 174,
     "metadata": {},
     "output_type": "execute_result"
    }
   ],
   "source": [
    "def to_bin_str(val):\n",
    "    return bin(val)[2:].zfill(32)\n",
    "\n",
    "class TestRotlOutput(unittest.TestCase):\n",
    "    def test_rotl_output(self):\n",
    "        print(\"\\nStarting validation for ROTL (rotate left) function...\\n\")\n",
    "\n",
    "        test_val = 0x12345678\n",
    "        test_cases = {\n",
    "            0:  0x12345678,\n",
    "            4:  0x23456781,\n",
    "            8:  0x34567812,\n",
    "            31: 0x091A2B3C\n",
    "        }\n",
    "\n",
    "        print(f\"Original:   0x{test_val:X} ({to_bin_str(test_val)})\\n\")\n",
    "\n",
    "        for n, expected in test_cases.items():\n",
    "            result = rotl(test_val, n)\n",
    "            print(f\"rotl({n}):   0x{result:X} ({to_bin_str(result)})\")\n",
    "            self.assertEqual(result, expected)\n",
    "            print(f\"Test passed: rotl({n}) produces correct result\\n\")\n",
    "\n",
    "        print(\"All ROTL tests completed successfully.\\n\")\n",
    "\n",
    "unittest.TextTestRunner(verbosity=2).run(unittest.TestLoader().loadTestsFromTestCase(TestRotlOutput))\n"
   ]
  },
  {
   "cell_type": "markdown",
   "metadata": {},
   "source": [
    "### **Step 2: Implement Bitwise Right Rotation - `rotr(x, n=1)`**\n",
    "\n",
    "- **Definition**\n",
    "\n",
    "    - Performs a right circular rotation on a 32-bit unsigned integer.\n",
    "\n",
    "    - Bits shifted off the right end re-enter from the left.\n",
    "\n",
    "    - The result is masked to 32 bits to match unsigned integer constraints.\n",
    "\n",
    "    - Right rotations appear in cryptographic functions like σ0 and σ1 in SHA-256.\n",
    "\n",
    "    - They provide complementary behavior to left rotations and support full-state mixing across rounds."
   ]
  },
  {
   "cell_type": "code",
   "execution_count": 188,
   "metadata": {},
   "outputs": [],
   "source": [
    "MASK_32 = 0xFFFFFFFF  # 32-bit mask to prevent overflow\n",
    "\n",
    "def rotr(x, n=1):\n",
    "    n %= 32  # Ensure n is within 0-31\n",
    "    return ((x >> n) | (x << (32 - n))) & MASK_32"
   ]
  },
  {
   "cell_type": "markdown",
   "metadata": {},
   "source": [
    "#### **Test Class: `TestRotrOutput`**\n",
    "\n",
    "- **Test Approach**\n",
    "    - Uses the same test value as `rotl` and applies right rotations by 1, 4, 8, and 31.\n",
    "\n",
    "- **Verification**\n",
    "    - Checks whether rotated outputs match expected binary patterns.\n",
    "\n",
    "- **Outcome**\n",
    "    - All outputs align with known reference results, validating the rotation logic."
   ]
  },
  {
   "cell_type": "code",
   "execution_count": 189,
   "metadata": {},
   "outputs": [
    {
     "name": "stderr",
     "output_type": "stream",
     "text": [
      "test_rotr_output (__main__.TestRotrOutput.test_rotr_output) ... ok\n",
      "\n",
      "----------------------------------------------------------------------\n",
      "Ran 1 test in 0.005s\n",
      "\n",
      "OK\n"
     ]
    },
    {
     "name": "stdout",
     "output_type": "stream",
     "text": [
      "\n",
      "Starting validation for ROTR (rotate right) function...\n",
      "\n",
      "Original:   0x12345678 (00010010001101000101011001111000)\n",
      "\n",
      "rotr(1):   0x91A2B3C (00001001000110100010101100111100)\n",
      "Test passed: rotr(1) produces correct result\n",
      "\n",
      "rotr(4):   0x81234567 (10000001001000110100010101100111)\n",
      "Test passed: rotr(4) produces correct result\n",
      "\n",
      "rotr(8):   0x78123456 (01111000000100100011010001010110)\n",
      "Test passed: rotr(8) produces correct result\n",
      "\n",
      "rotr(31):   0x2468ACF0 (00100100011010001010110011110000)\n",
      "Test passed: rotr(31) produces correct result\n",
      "\n",
      "All ROTR tests completed successfully.\n",
      "\n"
     ]
    },
    {
     "data": {
      "text/plain": [
       "<unittest.runner.TextTestResult run=1 errors=0 failures=0>"
      ]
     },
     "execution_count": 189,
     "metadata": {},
     "output_type": "execute_result"
    }
   ],
   "source": [
    "def to_bin_str(val):\n",
    "    return bin(val)[2:].zfill(32)\n",
    "\n",
    "class TestRotrOutput(unittest.TestCase):\n",
    "    def test_rotr_output(self):\n",
    "        print(\"\\nStarting validation for ROTR (rotate right) function...\\n\")\n",
    "\n",
    "        test_val = 0x12345678\n",
    "        test_cases = {\n",
    "            1:  0x091A2B3C, \n",
    "            4:  0x81234567,\n",
    "            8:  0x78123456,\n",
    "            31: 0x2468ACF0\n",
    "        }\n",
    "\n",
    "        print(f\"Original:   0x{test_val:X} ({to_bin_str(test_val)})\\n\")\n",
    "\n",
    "        for n, expected in test_cases.items():\n",
    "            result = rotr(test_val, n)\n",
    "            print(f\"rotr({n}):   0x{result:X} ({to_bin_str(result)})\")\n",
    "            self.assertEqual(result, expected)\n",
    "            print(f\"Test passed: rotr({n}) produces correct result\\n\")\n",
    "\n",
    "        print(\"All ROTR tests completed successfully.\\n\")\n",
    "\n",
    "unittest.TextTestRunner(verbosity=2).run(unittest.TestLoader().loadTestsFromTestCase(TestRotrOutput))"
   ]
  },
  {
   "cell_type": "markdown",
   "metadata": {},
   "source": [
    "#### **Step 3: Implement `ch(x, y, z)` Function**\n",
    "\n",
    "- **Definition**\n",
    "    - For each bit position, chooses the bit from `y` if `x` has a 1, otherwise takes it from `z`.\n",
    "    - Implements the SHA-256 `Ch` function: `(x & y) ^ (~x & z)`.\n",
    "    - Introduces conditional logic based on the state of control bits.\n",
    "    - This selectiveness adds non-linearity and makes output harder to predict or reverse."
   ]
  },
  {
   "cell_type": "code",
   "execution_count": 116,
   "metadata": {},
   "outputs": [],
   "source": [
    "# Chooses bits from y where x has bits set to 1 and from z where x has bits set to 0.\n",
    "def ch(x, y, z):\n",
    "    return (x & y) ^ (~x & z)\n"
   ]
  },
  {
   "cell_type": "markdown",
   "metadata": {},
   "source": [
    "#### **Test Class: `TestChFunction`**\n",
    "\n",
    "- **Test Approach**\n",
    "    - Applies the function to controlled binary inputs that represent corner cases (e.g., all 0s, all 1s, mixed).\n",
    "\n",
    "- **Verification**\n",
    "    - Asserts output bits correctly reflect the behavior of `ch`.\n",
    "\n",
    "- **Outcome**\n",
    "    - Passes all logic-based edge cases, confirming the conditional bit selection is implemented properly."
   ]
  },
  {
   "cell_type": "code",
   "execution_count": 176,
   "metadata": {},
   "outputs": [
    {
     "name": "stderr",
     "output_type": "stream",
     "text": [
      "test_ch_original_cases (__main__.TestChFunction.test_ch_original_cases) ... ok\n",
      "\n",
      "----------------------------------------------------------------------\n",
      "Ran 1 test in 0.001s\n",
      "\n",
      "OK\n"
     ]
    },
    {
     "name": "stdout",
     "output_type": "stream",
     "text": [
      "\n",
      "Starting validation for ch(x, y, z) function...\n",
      "\n",
      "ch(0b1010, 0b1100, 0b1111) = 0b1101\n",
      "Test passed: x ≠ y and x ≠ z\n",
      "\n",
      "ch(0b0000, 0b0000, 0b1111) = 0b1111\n",
      "Test passed: x == y and x ≠ z\n",
      "\n",
      "ch(0b1111, 0b1100, 0b1111) = 0b1100\n",
      "Test passed: x == z and x ≠ y\n",
      "\n",
      "All ch(x, y, z) tests completed successfully.\n",
      "\n"
     ]
    },
    {
     "data": {
      "text/plain": [
       "<unittest.runner.TextTestResult run=1 errors=0 failures=0>"
      ]
     },
     "execution_count": 176,
     "metadata": {},
     "output_type": "execute_result"
    }
   ],
   "source": [
    "class TestChFunction(unittest.TestCase):\n",
    "    def test_ch_original_cases(self):\n",
    "        print(\"\\nStarting validation for ch(x, y, z) function...\\n\")\n",
    "\n",
    "        # Test 1: x is different from both y and z\n",
    "        x_val = 0b1010\n",
    "        y_val = 0b1100\n",
    "        z_val = 0b1111\n",
    "        result = ch(x_val, y_val, z_val) & 0b1111\n",
    "        print(f\"ch(0b{x_val:04b}, 0b{y_val:04b}, 0b{z_val:04b}) = 0b{result:04b}\")\n",
    "        self.assertEqual(result, 0b1101)\n",
    "        print(\"Test passed: x ≠ y and x ≠ z\\n\")\n",
    "\n",
    "        # Test 2: x is equal to y and different from z\n",
    "        x_val = 0b0000\n",
    "        y_val = 0b0000\n",
    "        z_val = 0b1111\n",
    "        result = ch(x_val, y_val, z_val) & 0b1111\n",
    "        print(f\"ch(0b{x_val:04b}, 0b{y_val:04b}, 0b{z_val:04b}) = 0b{result:04b}\")\n",
    "        self.assertEqual(result, 0b1111)\n",
    "        print(\"Test passed: x == y and x ≠ z\\n\")\n",
    "\n",
    "        # Test 3: x is equal to z and different from y\n",
    "        x_val = 0b1111\n",
    "        y_val = 0b1100\n",
    "        z_val = 0b1111\n",
    "        result = ch(x_val, y_val, z_val) & 0b1111\n",
    "        print(f\"ch(0b{x_val:04b}, 0b{y_val:04b}, 0b{z_val:04b}) = 0b{result:04b}\")\n",
    "        self.assertEqual(result, 0b1100)\n",
    "        print(\"Test passed: x == z and x ≠ y\\n\")\n",
    "\n",
    "        print(\"All ch(x, y, z) tests completed successfully.\\n\")\n",
    "\n",
    "unittest.TextTestRunner(verbosity=2).run(unittest.TestLoader().loadTestsFromTestCase(TestChFunction))\n"
   ]
  },
  {
   "cell_type": "markdown",
   "metadata": {},
   "source": [
    "### **Step 4: Implement `maj(x, y, z)` Function**\n",
    "\n",
    "- **Definition**\n",
    "\n",
    "    - Returns a bit that is 1 if at least two of the three corresponding bits are 1.\n",
    "\n",
    "    - Implements the SHA-256 `Maj` function: `(x & y) ^ (x & z) ^ (y & z)`."
   ]
  },
  {
   "cell_type": "code",
   "execution_count": 118,
   "metadata": {},
   "outputs": [],
   "source": [
    "# Implement a function that takes a majority vote of the bits in x, y, z.\n",
    "# Each bit should be 1 if at least two of three inputs have 1 in that position.\n",
    "def maj(x, y, z):\n",
    "    return (x & y) ^ (x & z) ^ (y & z)"
   ]
  },
  {
   "cell_type": "markdown",
   "metadata": {},
   "source": [
    "#### **Test Class: `TestMajFunction`**\n",
    "\n",
    "- **Test Approach**\n",
    "    - Tests three combinations of inputs: all 1s, all 0s, and a mixed case.\n",
    "    \n",
    "    - Validates behavior when x has dominant or minority influence.\n",
    "\n",
    "- **Verification**\n",
    "    - Confirms that the result reflects the majority logic at every bit position.\n",
    "\n",
    "- **Outcome**\n",
    "    - All tests pass, demonstrating correct implementation of majority function logic."
   ]
  },
  {
   "cell_type": "code",
   "execution_count": null,
   "metadata": {},
   "outputs": [
    {
     "name": "stderr",
     "output_type": "stream",
     "text": [
      "test_maj_cases (__main__.TestMajFunction.test_maj_cases) ... ok\n",
      "\n",
      "----------------------------------------------------------------------\n",
      "Ran 1 test in 0.001s\n",
      "\n",
      "OK\n"
     ]
    },
    {
     "name": "stdout",
     "output_type": "stream",
     "text": [
      "\n",
      "Starting validation for maj(x, y, z) function...\n",
      "\n",
      "maj(0b1010, 0b1100, 0b1111) = 0b1110\n",
      "Test passed: x has mixed 1s and 0s\n",
      "\n",
      "maj(0b1111, 0b1100, 0b1111) = 0b1111\n",
      "Test passed: x has all 1s\n",
      "\n",
      "maj(0b0000, 0b1100, 0b1111) = 0b1100\n",
      "Test passed: x has all 0s\n",
      "\n",
      "All maj(x, y, z) tests completed successfully.\n",
      "\n"
     ]
    },
    {
     "data": {
      "text/plain": [
       "<unittest.runner.TextTestResult run=1 errors=0 failures=0>"
      ]
     },
     "execution_count": 119,
     "metadata": {},
     "output_type": "execute_result"
    }
   ],
   "source": [
    "class TestMajFunction(unittest.TestCase):\n",
    "    def test_maj_cases(self):\n",
    "        print(\"\\nStarting validation for maj(x, y, z) function...\\n\")\n",
    "\n",
    "        # Test 1: x has a mixture of 1s and 0s\n",
    "        x_val = 0b1010\n",
    "        y_val = 0b1100\n",
    "        z_val = 0b1111\n",
    "        result = maj(x_val, y_val, z_val) & 0b1111\n",
    "        print(f\"maj(0b{x_val:04b}, 0b{y_val:04b}, 0b{z_val:04b}) = 0b{result:04b}\")\n",
    "        self.assertEqual(result, 0b1110)\n",
    "        print(\"Test passed: x has mixed 1s and 0s\\n\")\n",
    "\n",
    "        # Test 2: x has all 1s\n",
    "        x_val = 0b1111\n",
    "        y_val = 0b1100\n",
    "        z_val = 0b1111\n",
    "        result = maj(x_val, y_val, z_val) & 0b1111\n",
    "        print(f\"maj(0b{x_val:04b}, 0b{y_val:04b}, 0b{z_val:04b}) = 0b{result:04b}\")\n",
    "        self.assertEqual(result, 0b1111)\n",
    "        print(\"Test passed: x has all 1s\\n\")\n",
    "\n",
    "        # Test 3: x has all 0s\n",
    "        x_val = 0b0000\n",
    "        y_val = 0b1100\n",
    "        z_val = 0b1111\n",
    "        result = maj(x_val, y_val, z_val) & 0b1111\n",
    "        print(f\"maj(0b{x_val:04b}, 0b{y_val:04b}, 0b{z_val:04b}) = 0b{result:04b}\")\n",
    "        self.assertEqual(result, 0b1100)\n",
    "        print(\"Test passed: x has all 0s\\n\")\n",
    "\n",
    "        print(\"All maj(x, y, z) tests completed successfully.\\n\")\n",
    "\n",
    "unittest.TextTestRunner(verbosity=2).run(unittest.TestLoader().loadTestsFromTestCase(TestMajFunction))\n"
   ]
  },
  {
   "cell_type": "markdown",
   "metadata": {},
   "source": [
    "### **Conclusion: Bitwise Foundations for Cryptographic Operations**\n",
    "\n",
    "- This task successfully implemented and validated core 32-bit bitwise operations used in cryptographic hash functions.\n",
    "\n",
    "- The tests confirmed correct behavior in various shift and logic scenarios.\n",
    "\n",
    "- These operations form the foundation for more complex transformations in algorithms like SHA-256, where diffusion and predictability resistance are critical."
   ]
  },
  {
   "cell_type": "markdown",
   "metadata": {},
   "source": [
    "## **Task 2 - Hash Functions**"
   ]
  },
  {
   "cell_type": "markdown",
   "metadata": {},
   "source": [
    "**Purpose**  \n",
    "\n",
    "- Task 2 introduces a classic string-hashing approach from Kernighan & Ritchie (K&R). \n",
    "\n",
    "- This demonstrates how a simple polynomial rolling hash formula leverages prime constants to minimize collisions. \n",
    "\n",
    "- Prime-based distribution is key for hash tables, although the resulting hash is not cryptographically secure.\n",
    "\n",
    "- The assignment also includes an “expanded” variant to show each calculation step in full.\n",
    "\n",
    "- The two functions are:\n",
    "\n",
    "    1. **hash_function(s)** – a concise K&R style hash.  \n",
    "\n",
    "    2. **hash_function_expanded(s)** – prints intermediate steps for teaching or debugging.\n",
    "\n",
    "- Both are tested thoroughly to ensure correctness.\n",
    "\n",
    "**Historical / Cryptographic Background**  \n",
    "\n",
    "- **K&R Hash** \n",
    "    - Published in “The C Programming Language” by Kernighan & Ritchie, used widely in early C programs for symbol tables.  \n",
    "\n",
    "- **Prime Constants**\n",
    "    - Multiplying by **31**, then taking modulus **101**, helps spread out hash values by exploiting properties of prime arithmetic. \n",
    "\n",
    "- **Non-Cryptographic**\n",
    "    - This design is not intended for security (like SHA-256 or HMAC), but it illustrates fundamental hashing principles used in compilers, language interpreters, and basic hash tables.\n"
   ]
  },
  {
   "cell_type": "markdown",
   "metadata": {},
   "source": [
    "### **Step 1: Convert C Hash Function to Python**"
   ]
  },
  {
   "cell_type": "markdown",
   "metadata": {},
   "source": [
    "- **Definition**  \n",
    "\n",
    "    - Each character’s ASCII value (`ord(c)`) is added after multiplying the current hash by 31.\n",
    "    \n",
    "    - The final result is constrained to `[0..100]` by taking `% 101`.\n"
   ]
  },
  {
   "cell_type": "code",
   "execution_count": 120,
   "metadata": {},
   "outputs": [],
   "source": [
    "# Converts a string to a hash value.\n",
    "def hash_function(s):\n",
    "\n",
    "    hashValue = 0\n",
    "    # Hash value updated for each character in the string\n",
    "    for char in s:\n",
    "        # ord() gets ASCII value of the character\n",
    "        hashValue = ord(char) + 31 * hashValue\n",
    "    # Ensure the hash value is within 0-100\n",
    "    return hashValue % 101"
   ]
  },
  {
   "cell_type": "markdown",
   "metadata": {},
   "source": [
    "#### **Test Class**: `TestHashFunction`  \n",
    "\n",
    "- **Test Approach**: \n",
    "\n",
    "  - A set of predefined strings (e.g., `\"hello\"`, `\"world\"`, `\"python\"`) is passed through `hash_function`.  \n",
    "\n",
    "- **Verification**\n",
    "\n",
    "  - Each result is verified against a known correct integer. \n",
    "\n",
    "- **Outcome**\n",
    "    - This process confirms the function’s internal arithmetic matches the K&R formula, and that each character properly shifts the running sum by multiplying it by 31 and adding the new ASCII code."
   ]
  },
  {
   "cell_type": "code",
   "execution_count": 121,
   "metadata": {},
   "outputs": [
    {
     "name": "stderr",
     "output_type": "stream",
     "text": [
      "test_hash_strings (__main__.TestHashFunction.test_hash_strings) ... ok\n",
      "\n",
      "----------------------------------------------------------------------\n",
      "Ran 1 test in 0.001s\n",
      "\n",
      "OK\n"
     ]
    },
    {
     "name": "stdout",
     "output_type": "stream",
     "text": [
      "\n",
      "Starting validation for hash_function(s)...\n",
      "\n",
      "hash(hello) = 17\n",
      "Test passed: hash('hello') == 17\n",
      "\n",
      "hash(world) = 34\n",
      "Test passed: hash('world') == 34\n",
      "\n",
      "hash(python) = 91\n",
      "Test passed: hash('python') == 91\n",
      "\n",
      "hash(hash) = 15\n",
      "Test passed: hash('hash') == 15\n",
      "\n",
      "hash(coding) = 73\n",
      "Test passed: hash('coding') == 73\n",
      "\n",
      "hash(umbrella) = 78\n",
      "Test passed: hash('umbrella') == 78\n",
      "\n",
      "All hash_function(s) tests completed successfully.\n",
      "\n"
     ]
    },
    {
     "data": {
      "text/plain": [
       "<unittest.runner.TextTestResult run=1 errors=0 failures=0>"
      ]
     },
     "execution_count": 121,
     "metadata": {},
     "output_type": "execute_result"
    }
   ],
   "source": [
    "class TestHashFunction(unittest.TestCase):\n",
    "    def test_hash_strings(self):\n",
    "        print(\"\\nStarting validation for hash_function(s)...\\n\")\n",
    "\n",
    "        test_cases = [\n",
    "            (\"hello\",    17),\n",
    "            (\"world\",    34),\n",
    "            (\"python\",   91),\n",
    "            (\"hash\",     15),\n",
    "            (\"coding\",   73),\n",
    "            (\"umbrella\", 78)\n",
    "        ]\n",
    "\n",
    "        for s, expected in test_cases:\n",
    "            result = hash_function(s)\n",
    "            print(f\"hash({s}) = {result}\")\n",
    "            self.assertEqual(result, expected)\n",
    "            print(f\"Test passed: hash('{s}') == {expected}\\n\")\n",
    "\n",
    "        print(\"All hash_function(s) tests completed successfully.\\n\")\n",
    "\n",
    "unittest.TextTestRunner(verbosity=2).run(unittest.TestLoader().loadTestsFromTestCase(TestHashFunction))"
   ]
  },
  {
   "cell_type": "markdown",
   "metadata": {},
   "source": [
    "### **Step 2: Expanded Hash Function**"
   ]
  },
  {
   "cell_type": "markdown",
   "metadata": {},
   "source": [
    "- **Definition**  \n",
    "\n",
    "    - A verbose variant that prints each letter update step.\n",
    "\n",
    "    - The formula remains identical, but each iteration reveals the current `hashval`, allowing observation of how ASCII codes and multiplication by 31 transform the sum.\n",
    "\n",
    "- **Implementation Reason**  \n",
    "\n",
    "    - The expanded output is used to show the break down each part of the process for clarity.\n"
   ]
  },
  {
   "cell_type": "code",
   "execution_count": 122,
   "metadata": {},
   "outputs": [],
   "source": [
    "def hash_function_expanded(s):\n",
    "    \n",
    "    hashValue = 0\n",
    "    print(f\"\\nHashing string '{s}':\")\n",
    "    print(\"-\" * 77)\n",
    "\n",
    "    for index, char in enumerate(s):\n",
    "        ascii_value = ord(char)\n",
    "        print(f\"Step {index + 1}: char = '{char}' with an ASCII value of {ascii_value}, previous hash was {hashValue}\")\n",
    "        print(f\"\\thash = {ascii_value} + 31 * {hashValue}\")\n",
    "        hashValue = ascii_value + 31 * hashValue\n",
    "        print(f\"\\tNew hash value after processing '{char}: {hashValue}\")\n",
    "\n",
    "    final_hash_value = hashValue % 101\n",
    "    print(f\"\\nFinal hash value after modulo 101: {final_hash_value}\")\n",
    "    print(\"-\" * 77)\n",
    "\n",
    "    return final_hash_value"
   ]
  },
  {
   "cell_type": "markdown",
   "metadata": {},
   "source": [
    "#### **Test Class**: `TestExpandedHashFunction`  \n",
    "\n",
    "- **Method**\n",
    "    - Runs the same strings tested in `TestHashFunction`.  \n",
    "\n",
    "- **Verification**\n",
    "    - Ensures the final hash is identical to that produced by `hash_function`, while intermediate printed values illustrate the accumulation process.  \n",
    "\n",
    "- **Outcome**\n",
    "    - Demonstrates each addition and multiplication step, clarifying how polynomial rolling accumulation evolves."
   ]
  },
  {
   "cell_type": "code",
   "execution_count": 123,
   "metadata": {},
   "outputs": [
    {
     "name": "stderr",
     "output_type": "stream",
     "text": [
      "test_hash_function_expanded (__main__.TestExpandedHashFunction.test_hash_function_expanded) ... ok\n",
      "\n",
      "----------------------------------------------------------------------\n",
      "Ran 1 test in 0.001s\n",
      "\n",
      "OK\n"
     ]
    },
    {
     "name": "stdout",
     "output_type": "stream",
     "text": [
      "\n",
      "Starting validation for hash_function_expanded(s)...\n",
      "\n",
      "\n",
      "Hashing string 'hello':\n",
      "-----------------------------------------------------------------------------\n",
      "Step 1: char = 'h' with an ASCII value of 104, previous hash was 0\n",
      "\thash = 104 + 31 * 0\n",
      "\tNew hash value after processing 'h: 104\n",
      "Step 2: char = 'e' with an ASCII value of 101, previous hash was 104\n",
      "\thash = 101 + 31 * 104\n",
      "\tNew hash value after processing 'e: 3325\n",
      "Step 3: char = 'l' with an ASCII value of 108, previous hash was 3325\n",
      "\thash = 108 + 31 * 3325\n",
      "\tNew hash value after processing 'l: 103183\n",
      "Step 4: char = 'l' with an ASCII value of 108, previous hash was 103183\n",
      "\thash = 108 + 31 * 103183\n",
      "\tNew hash value after processing 'l: 3198781\n",
      "Step 5: char = 'o' with an ASCII value of 111, previous hash was 3198781\n",
      "\thash = 111 + 31 * 3198781\n",
      "\tNew hash value after processing 'o: 99162322\n",
      "\n",
      "Final hash value after modulo 101: 17\n",
      "-----------------------------------------------------------------------------\n",
      "Test passed: hash('hello') == 17\n",
      "\n",
      "\n",
      "Hashing string 'world':\n",
      "-----------------------------------------------------------------------------\n",
      "Step 1: char = 'w' with an ASCII value of 119, previous hash was 0\n",
      "\thash = 119 + 31 * 0\n",
      "\tNew hash value after processing 'w: 119\n",
      "Step 2: char = 'o' with an ASCII value of 111, previous hash was 119\n",
      "\thash = 111 + 31 * 119\n",
      "\tNew hash value after processing 'o: 3800\n",
      "Step 3: char = 'r' with an ASCII value of 114, previous hash was 3800\n",
      "\thash = 114 + 31 * 3800\n",
      "\tNew hash value after processing 'r: 117914\n",
      "Step 4: char = 'l' with an ASCII value of 108, previous hash was 117914\n",
      "\thash = 108 + 31 * 117914\n",
      "\tNew hash value after processing 'l: 3655442\n",
      "Step 5: char = 'd' with an ASCII value of 100, previous hash was 3655442\n",
      "\thash = 100 + 31 * 3655442\n",
      "\tNew hash value after processing 'd: 113318802\n",
      "\n",
      "Final hash value after modulo 101: 34\n",
      "-----------------------------------------------------------------------------\n",
      "Test passed: hash('world') == 34\n",
      "\n",
      "\n",
      "Hashing string 'python':\n",
      "-----------------------------------------------------------------------------\n",
      "Step 1: char = 'p' with an ASCII value of 112, previous hash was 0\n",
      "\thash = 112 + 31 * 0\n",
      "\tNew hash value after processing 'p: 112\n",
      "Step 2: char = 'y' with an ASCII value of 121, previous hash was 112\n",
      "\thash = 121 + 31 * 112\n",
      "\tNew hash value after processing 'y: 3593\n",
      "Step 3: char = 't' with an ASCII value of 116, previous hash was 3593\n",
      "\thash = 116 + 31 * 3593\n",
      "\tNew hash value after processing 't: 111499\n",
      "Step 4: char = 'h' with an ASCII value of 104, previous hash was 111499\n",
      "\thash = 104 + 31 * 111499\n",
      "\tNew hash value after processing 'h: 3456573\n",
      "Step 5: char = 'o' with an ASCII value of 111, previous hash was 3456573\n",
      "\thash = 111 + 31 * 3456573\n",
      "\tNew hash value after processing 'o: 107153874\n",
      "Step 6: char = 'n' with an ASCII value of 110, previous hash was 107153874\n",
      "\thash = 110 + 31 * 107153874\n",
      "\tNew hash value after processing 'n: 3321770204\n",
      "\n",
      "Final hash value after modulo 101: 91\n",
      "-----------------------------------------------------------------------------\n",
      "Test passed: hash('python') == 91\n",
      "\n",
      "\n",
      "Hashing string 'hash':\n",
      "-----------------------------------------------------------------------------\n",
      "Step 1: char = 'h' with an ASCII value of 104, previous hash was 0\n",
      "\thash = 104 + 31 * 0\n",
      "\tNew hash value after processing 'h: 104\n",
      "Step 2: char = 'a' with an ASCII value of 97, previous hash was 104\n",
      "\thash = 97 + 31 * 104\n",
      "\tNew hash value after processing 'a: 3321\n",
      "Step 3: char = 's' with an ASCII value of 115, previous hash was 3321\n",
      "\thash = 115 + 31 * 3321\n",
      "\tNew hash value after processing 's: 103066\n",
      "Step 4: char = 'h' with an ASCII value of 104, previous hash was 103066\n",
      "\thash = 104 + 31 * 103066\n",
      "\tNew hash value after processing 'h: 3195150\n",
      "\n",
      "Final hash value after modulo 101: 15\n",
      "-----------------------------------------------------------------------------\n",
      "Test passed: hash('hash') == 15\n",
      "\n",
      "\n",
      "Hashing string 'coding':\n",
      "-----------------------------------------------------------------------------\n",
      "Step 1: char = 'c' with an ASCII value of 99, previous hash was 0\n",
      "\thash = 99 + 31 * 0\n",
      "\tNew hash value after processing 'c: 99\n",
      "Step 2: char = 'o' with an ASCII value of 111, previous hash was 99\n",
      "\thash = 111 + 31 * 99\n",
      "\tNew hash value after processing 'o: 3180\n",
      "Step 3: char = 'd' with an ASCII value of 100, previous hash was 3180\n",
      "\thash = 100 + 31 * 3180\n",
      "\tNew hash value after processing 'd: 98680\n",
      "Step 4: char = 'i' with an ASCII value of 105, previous hash was 98680\n",
      "\thash = 105 + 31 * 98680\n",
      "\tNew hash value after processing 'i: 3059185\n",
      "Step 5: char = 'n' with an ASCII value of 110, previous hash was 3059185\n",
      "\thash = 110 + 31 * 3059185\n",
      "\tNew hash value after processing 'n: 94834845\n",
      "Step 6: char = 'g' with an ASCII value of 103, previous hash was 94834845\n",
      "\thash = 103 + 31 * 94834845\n",
      "\tNew hash value after processing 'g: 2939880298\n",
      "\n",
      "Final hash value after modulo 101: 73\n",
      "-----------------------------------------------------------------------------\n",
      "Test passed: hash('coding') == 73\n",
      "\n",
      "\n",
      "Hashing string 'umbrella':\n",
      "-----------------------------------------------------------------------------\n",
      "Step 1: char = 'u' with an ASCII value of 117, previous hash was 0\n",
      "\thash = 117 + 31 * 0\n",
      "\tNew hash value after processing 'u: 117\n",
      "Step 2: char = 'm' with an ASCII value of 109, previous hash was 117\n",
      "\thash = 109 + 31 * 117\n",
      "\tNew hash value after processing 'm: 3736\n",
      "Step 3: char = 'b' with an ASCII value of 98, previous hash was 3736\n",
      "\thash = 98 + 31 * 3736\n",
      "\tNew hash value after processing 'b: 115914\n",
      "Step 4: char = 'r' with an ASCII value of 114, previous hash was 115914\n",
      "\thash = 114 + 31 * 115914\n",
      "\tNew hash value after processing 'r: 3593448\n",
      "Step 5: char = 'e' with an ASCII value of 101, previous hash was 3593448\n",
      "\thash = 101 + 31 * 3593448\n",
      "\tNew hash value after processing 'e: 111396989\n",
      "Step 6: char = 'l' with an ASCII value of 108, previous hash was 111396989\n",
      "\thash = 108 + 31 * 111396989\n",
      "\tNew hash value after processing 'l: 3453306767\n",
      "Step 7: char = 'l' with an ASCII value of 108, previous hash was 3453306767\n",
      "\thash = 108 + 31 * 3453306767\n",
      "\tNew hash value after processing 'l: 107052509885\n",
      "Step 8: char = 'a' with an ASCII value of 97, previous hash was 107052509885\n",
      "\thash = 97 + 31 * 107052509885\n",
      "\tNew hash value after processing 'a: 3318627806532\n",
      "\n",
      "Final hash value after modulo 101: 78\n",
      "-----------------------------------------------------------------------------\n",
      "Test passed: hash('umbrella') == 78\n",
      "\n",
      "\n",
      "Hashing string 'rust':\n",
      "-----------------------------------------------------------------------------\n",
      "Step 1: char = 'r' with an ASCII value of 114, previous hash was 0\n",
      "\thash = 114 + 31 * 0\n",
      "\tNew hash value after processing 'r: 114\n",
      "Step 2: char = 'u' with an ASCII value of 117, previous hash was 114\n",
      "\thash = 117 + 31 * 114\n",
      "\tNew hash value after processing 'u: 3651\n",
      "Step 3: char = 's' with an ASCII value of 115, previous hash was 3651\n",
      "\thash = 115 + 31 * 3651\n",
      "\tNew hash value after processing 's: 113296\n",
      "Step 4: char = 't' with an ASCII value of 116, previous hash was 113296\n",
      "\thash = 116 + 31 * 113296\n",
      "\tNew hash value after processing 't: 3512292\n",
      "\n",
      "Final hash value after modulo 101: 17\n",
      "-----------------------------------------------------------------------------\n",
      "Test passed: hash('rust') == 17\n",
      "\n",
      "All hash_function_expanded(s) tests completed successfully.\n",
      "\n"
     ]
    },
    {
     "data": {
      "text/plain": [
       "<unittest.runner.TextTestResult run=1 errors=0 failures=0>"
      ]
     },
     "execution_count": 123,
     "metadata": {},
     "output_type": "execute_result"
    }
   ],
   "source": [
    "class TestExpandedHashFunction(unittest.TestCase):\n",
    "    def test_hash_function_expanded(self):\n",
    "        print(\"\\nStarting validation for hash_function_expanded(s)...\\n\")\n",
    "\n",
    "        test_cases = [\n",
    "            (\"hello\",    17),\n",
    "            (\"world\",    34),\n",
    "            (\"python\",   91),\n",
    "            (\"hash\",     15),\n",
    "            (\"coding\",   73),\n",
    "            (\"umbrella\", 78),\n",
    "            (\"rust\",     17)\n",
    "        ]\n",
    "\n",
    "        for s, expected in test_cases:\n",
    "            result = hash_function_expanded(s)\n",
    "            self.assertEqual(result, expected)\n",
    "            print(f\"Test passed: hash('{s}') == {expected}\\n\")\n",
    "\n",
    "        print(\"All hash_function_expanded(s) tests completed successfully.\\n\")\n",
    "\n",
    "unittest.TextTestRunner(verbosity=2).run(unittest.TestLoader().loadTestsFromTestCase(TestExpandedHashFunction))\n"
   ]
  },
  {
   "cell_type": "markdown",
   "metadata": {},
   "source": [
    "### **Step 3: Reasons For Using 31 and 101**"
   ]
  },
  {
   "cell_type": "markdown",
   "metadata": {},
   "source": [
    "- **Why 31?**\n",
    "\n",
    "    - It is a **prime number**, this is important because it helps reduce the chance of **collisions** when hashing strings by distributing hash values more evenly accross the hash table. \n",
    "\n",
    "    - A **collision** occurs when two different inputs produce the same hash value. \n",
    "\n",
    "    - The multiplication using 31 makes the hash values less predictable and spread out over a wider range, minimising **clustering**.\n",
    "\n",
    "    - 31 is also a small number, reducing the likelyhood of integer overflow in C due to it having fixed sized integers (such as 32 or 64-bit). \n",
    "    \n",
    "    - However, since this has been converted to Python this is no longer an issue as it automatically swtiches from fixed-sized intgers to arbitrary-precision integers when needed. \n",
    "    \n",
    "    - It is still used here though to maintain consistancy between languages and to prevent performance slowdown which can still happen with extremely large numbers\n",
    "\n",
    "    - In C, multiplying by 31 can be optimised by compilers as a simple calculation it provides of **(hashval << 5) - hashval** enables the efficient use of bit-shifting and subtraction instead of pure multiplication. \n",
    "    \n",
    "    - Once again, however, this isn't a significant issue in Python as it handles operations like multiplication and bit-shifting at a higher level so there is no significant performance difference between them.\n",
    "\n",
    "- **Why 101?**\n",
    "\n",
    "    - It is also a **prime number**, in this case used in the modulo operation to limit the hash values to be within a specific range, in this case 0 to 100.\n",
    "\n",
    "    - Similar to 31, it being a prime number helps **distribute** the hash values more evenly across this range.\n",
    "\n",
    "    - Using 101 also helps prevent the **clustering** of hash values, this can occur if the modulo base has **common factors** with the data. \n",
    "    \n",
    "    - Examples of these factors are if the data contains patterns divisible by the modulo base. 101 **doesn't** share common factors with most data patterns, helping to greatly negate this risk."
   ]
  },
  {
   "cell_type": "markdown",
   "metadata": {},
   "source": [
    "## **Task 3 - SHA256**"
   ]
  },
  {
   "cell_type": "markdown",
   "metadata": {},
   "source": [
    "**Purpose**  \n",
    "\n",
    "- This task involves calculating the padding that would be added to a file’s contents before hashing it with SHA-256, in accordance with the specification defined in [FIPS PUB 180-4](https://doi.org/10.6028/NIST.FIPS.180-4). \n",
    "\n",
    "- Proper message padding is critical to the security and correct functioning of hash functions, as it ensures messages are interpreted consistently by all implementations.\n",
    "\n",
    "**Cryptographic Context**  \n",
    "\n",
    "- In the SHA-2 family of cryptographic hash functions, padding ensures that the total message length (in bits) is a multiple of 512. \n",
    "\n",
    "- The padding also embeds the original message length, which prevents length extension attacks and maintains integrity.\n",
    "\n",
    "**Overview**  \n",
    "\n",
    "- The implemented function performs the following:\n",
    "\n",
    "    - Reads the input file’s raw bytes.\n",
    "\n",
    "    - Appends a `1` bit (`0x80`) followed by enough `0` bits to make the total length 64 bits short of a multiple of 512.\n",
    "\n",
    "    - Appends the original message length as a 64-bit big-endian integer.\n",
    "\n",
    "    - Outputs the final padding in hexadecimal format for inspection or testing.\n",
    "\n",
    "    - The test verifies this process using the `\"abc\"` string, which is the canonical example from FIPS 180-4 Appendix B.1.\n"
   ]
  },
  {
   "cell_type": "markdown",
   "metadata": {},
   "source": [
    "### **Step 1: Create Temporary File**"
   ]
  },
  {
   "cell_type": "markdown",
   "metadata": {},
   "source": [
    "- **Definition**  \n",
    "\n",
    "    - Creates a temporary binary file containing the ASCII string `\"abc\"` using the `tempfile` module. \n",
    "\n",
    "    - The file simulates a raw input source used in cryptographic operations.\n"
   ]
  },
  {
   "cell_type": "code",
   "execution_count": 179,
   "metadata": {},
   "outputs": [],
   "source": [
    "with tempfile.NamedTemporaryFile(delete=False, mode=\"wb\") as temp_file:\n",
    "    temp_file.write(b\"abc\")\n",
    "    temp_file_path = temp_file.name"
   ]
  },
  {
   "cell_type": "markdown",
   "metadata": {},
   "source": [
    "#### **Test**\n",
    "\n",
    "- Confirms that the file exists, and states where it is stored."
   ]
  },
  {
   "cell_type": "code",
   "execution_count": 180,
   "metadata": {},
   "outputs": [
    {
     "name": "stdout",
     "output_type": "stream",
     "text": [
      "Temporary file created at: C:\\Users\\melgo\\AppData\\Local\\Temp\\tmpboieivd9\n"
     ]
    }
   ],
   "source": [
    "print(f\"Temporary file created at: {temp_file_path}\")"
   ]
  },
  {
   "cell_type": "markdown",
   "metadata": {},
   "source": [
    "### **Step  2: Read Temporary File**"
   ]
  },
  {
   "cell_type": "markdown",
   "metadata": {},
   "source": [
    "- **Definition**  \n",
    "\n",
    "    - Reads the contents of the temporary file in binary mode and stores it as a byte array for further processing."
   ]
  },
  {
   "cell_type": "code",
   "execution_count": 181,
   "metadata": {},
   "outputs": [],
   "source": [
    "with open(temp_file_path, \"rb\") as file:\n",
    "    data = file.read()"
   ]
  },
  {
   "cell_type": "markdown",
   "metadata": {},
   "source": [
    "#### **Test Class: `TestBinaryFileContents`**\n",
    "\n",
    "- **Test Approach**  \n",
    "\n",
    "    - The file is opened using `open(path, \"rb\")` and read into a variable using `.read()`. \n",
    "\n",
    "    - Each byte is then printed in binary using an 8-bit format.\n",
    "\n",
    "- **Verification** \n",
    "\n",
    "    - The test confirms that the binary output is `01100001 01100010 01100011`, which corresponds to the ASCII values of `\"abc\"`.\n",
    "\n",
    "- **Outcome**\n",
    "\n",
    "    - The file is successfully read and the binary content matches the expected input."
   ]
  },
  {
   "cell_type": "code",
   "execution_count": 183,
   "metadata": {},
   "outputs": [
    {
     "name": "stderr",
     "output_type": "stream",
     "text": [
      "test_binary_representation (__main__.TestBinaryFileContents.test_binary_representation) ... ok\n",
      "\n",
      "----------------------------------------------------------------------\n",
      "Ran 1 test in 0.001s\n",
      "\n",
      "OK\n"
     ]
    },
    {
     "name": "stdout",
     "output_type": "stream",
     "text": [
      "\n",
      "Starting validation of binary contents from file...\n",
      "\n",
      "Binary contents of the file: 01100001 01100010 01100011\n",
      "Test passed: binary content matches expected bit pattern\n",
      "\n",
      "Binary file content test completed successfully.\n",
      "\n"
     ]
    },
    {
     "data": {
      "text/plain": [
       "<unittest.runner.TextTestResult run=1 errors=0 failures=0>"
      ]
     },
     "execution_count": 183,
     "metadata": {},
     "output_type": "execute_result"
    }
   ],
   "source": [
    "class TestBinaryFileContents(unittest.TestCase):\n",
    "    def test_binary_representation(self):\n",
    "        print(\"\\nStarting validation of binary contents from file...\\n\")\n",
    "\n",
    "        bit_string = \" \".join(f\"{byte:08b}\" for byte in data)\n",
    "        joined_bits = \"\".join(bit_string)\n",
    "        print(\"Binary contents of the file:\", joined_bits)\n",
    "\n",
    "        expected = \"01100001 01100010 01100011\"\n",
    "        self.assertEqual(bit_string, expected)\n",
    "        print(\"Test passed: binary content matches expected bit pattern\\n\")\n",
    "\n",
    "        print(\"Binary file content test completed successfully.\\n\")\n",
    "\n",
    "unittest.TextTestRunner(verbosity=2).run(unittest.TestLoader().loadTestsFromTestCase(TestBinaryFileContents))\n"
   ]
  },
  {
   "cell_type": "markdown",
   "metadata": {},
   "source": [
    "### **Step 3: Calculate the Original Length of File Data in Bits**"
   ]
  },
  {
   "cell_type": "markdown",
   "metadata": {},
   "source": [
    "- **Definition**  \n",
    "\n",
    "    - Multiplies the byte length of the file data by 8 to calculate the original message length in bits. \n",
    "    \n",
    "    - This is needed because SHA-256 requires the original bit length to be appended to the padded message, and the length must be expressed in bits, not bytes.\n"
   ]
  },
  {
   "cell_type": "code",
   "execution_count": 184,
   "metadata": {},
   "outputs": [],
   "source": [
    "num_bytes = len(data) \n",
    "original_length_bits = num_bytes * 8"
   ]
  },
  {
   "cell_type": "markdown",
   "metadata": {},
   "source": [
    "#### **Test Class: `TestOriginalLengthInBits`**\n",
    "\n",
    "- **Test Approach**  \n",
    "\n",
    "    - The length of the byte array is calculated using `len(data)`, and then multiplied by 8 to yield the total number of bits.\n",
    "\n",
    "- **Verification**  \n",
    "\n",
    "    - The test confirms that the result is 24 bits for the 3-byte message (`3 × 8 = 24`).\n",
    "\n",
    "- **Outcome**  \n",
    "\n",
    "    - The original length is correctly calculated as 24 bits."
   ]
  },
  {
   "cell_type": "code",
   "execution_count": 185,
   "metadata": {},
   "outputs": [
    {
     "name": "stderr",
     "output_type": "stream",
     "text": [
      "test_original_length_bits (__main__.TestOriginalLengthInBits.test_original_length_bits) ... ok\n",
      "\n",
      "----------------------------------------------------------------------\n",
      "Ran 1 test in 0.001s\n",
      "\n",
      "OK\n"
     ]
    },
    {
     "name": "stdout",
     "output_type": "stream",
     "text": [
      "\n",
      "Starting validation of original bit length calculation...\n",
      "\n",
      "Original length in bits: 3 × 8 = 24 (Sum of: 01100001 01100010 01100011)\n",
      "Test passed: calculated bit length is correct\n",
      "\n",
      "Bit length test completed successfully.\n",
      "\n"
     ]
    },
    {
     "data": {
      "text/plain": [
       "<unittest.runner.TextTestResult run=1 errors=0 failures=0>"
      ]
     },
     "execution_count": 185,
     "metadata": {},
     "output_type": "execute_result"
    }
   ],
   "source": [
    "class TestOriginalLengthInBits(unittest.TestCase):\n",
    "    def test_original_length_bits(self):\n",
    "        print(\"\\nStarting validation of original bit length calculation...\\n\")\n",
    "\n",
    "        num_bytes = len(data)\n",
    "        original_length_bits = num_bytes * 8\n",
    "\n",
    "        bit_string = \" \".join(f\"{byte:08b}\" for byte in data)\n",
    "\n",
    "        print(f\"Original length in bits: {num_bytes} × 8 = {original_length_bits} (Sum of: {bit_string})\")\n",
    "\n",
    "        self.assertEqual(original_length_bits, 24)\n",
    "        print(\"Test passed: calculated bit length is correct\\n\")\n",
    "\n",
    "        print(\"Bit length test completed successfully.\\n\")\n",
    "\n",
    "unittest.TextTestRunner(verbosity=2).run(unittest.TestLoader().loadTestsFromTestCase(TestOriginalLengthInBits))\n"
   ]
  },
  {
   "cell_type": "markdown",
   "metadata": {},
   "source": [
    "### **Step 4: Append 1 Bit (0x80) Onto End of Data**"
   ]
  },
  {
   "cell_type": "markdown",
   "metadata": {},
   "source": [
    "- **Definition**  \n",
    "\n",
    "    - Appends a 1-bit suffix (represented by the byte `0x80`) to the end of the message. \n",
    "    \n",
    "    - This padding is required by SHA-256 to signal the end of the original message and the start of the padding process."
   ]
  },
  {
   "cell_type": "code",
   "execution_count": 186,
   "metadata": {},
   "outputs": [],
   "source": [
    "# Marks the end of the file data\n",
    "padded_message = data + b'\\x80'"
   ]
  },
  {
   "cell_type": "markdown",
   "metadata": {},
   "source": [
    "#### **Test Class: `TestAppendOneBit`**\n",
    "\n",
    "- **Test Approach**  \n",
    "\n",
    "    - The byte `0x80` is appended to the original message using `data + b'\\x80'`. \n",
    "\n",
    "    - The result is converted to binary and compared to the expected pattern.\n",
    "\n",
    "- **Verification**  \n",
    "\n",
    "    - The binary sequence is verified to be `01100001 01100010 01100011 10000000`.\n",
    "\n",
    "- **Outcome**  \n",
    "\n",
    "    - The 1-bit padding is correctly applied and the message length increases from 3 to 4 bytes.\n"
   ]
  },
  {
   "cell_type": "code",
   "execution_count": 132,
   "metadata": {},
   "outputs": [
    {
     "name": "stderr",
     "output_type": "stream",
     "text": [
      "test_append_one_bit (__main__.TestAppendOneBit.test_append_one_bit) ... ok\n",
      "\n",
      "----------------------------------------------------------------------\n",
      "Ran 1 test in 0.001s\n",
      "\n",
      "OK\n"
     ]
    },
    {
     "name": "stdout",
     "output_type": "stream",
     "text": [
      "\n",
      "Starting validation of appending 1-bit (0x80)...\n",
      "\n",
      "After adding 1-bit: 01100001 01100010 01100011 10000000\n",
      "Test passed: 1-bit (0x80) correctly appended\n",
      "\n",
      "Append 1-bit test completed successfully.\n",
      "\n"
     ]
    },
    {
     "data": {
      "text/plain": [
       "<unittest.runner.TextTestResult run=1 errors=0 failures=0>"
      ]
     },
     "execution_count": 132,
     "metadata": {},
     "output_type": "execute_result"
    }
   ],
   "source": [
    "class TestAppendOneBit(unittest.TestCase):\n",
    "    def test_append_one_bit(self):\n",
    "        print(\"\\nStarting validation of appending 1-bit (0x80)...\\n\")\n",
    "\n",
    "        padded_message = data + b'\\x80'\n",
    "        bit_string = \" \".join(f\"{b:08b}\" for b in padded_message)\n",
    "\n",
    "        print(f\"After adding 1-bit: {bit_string}\")\n",
    "\n",
    "\n",
    "        expected = \"01100001 01100010 01100011 10000000\"\n",
    "        self.assertEqual(bit_string, expected)\n",
    "        print(\"Test passed: 1-bit (0x80) correctly appended\\n\")\n",
    "\n",
    "        print(\"Append 1-bit test completed successfully.\\n\")\n",
    "\n",
    "unittest.TextTestRunner(verbosity=2).run(unittest.TestLoader().loadTestsFromTestCase(TestAppendOneBit))"
   ]
  },
  {
   "cell_type": "markdown",
   "metadata": {},
   "source": [
    "### **5: Calculate Zero Padding**"
   ]
  },
  {
   "cell_type": "markdown",
   "metadata": {},
   "source": [
    "- **Definition**  \n",
    "\n",
    "    - Calculates and appends the necessary number of `0x00` bytes to bring the message length to 56 bytes. \n",
    "    \n",
    "    - This ensures that there is enough space for the 64-bit message length at the end of the padded message, allowing the message to conform to the 512-bit block size required by SHA-256.\n"
   ]
  },
  {
   "cell_type": "code",
   "execution_count": 133,
   "metadata": {},
   "outputs": [],
   "source": [
    "zero_padding_length = (56 - (len(padded_message) % 64)) % 64\n",
    "\n",
    "padded_message += b'\\x00' * zero_padding_length"
   ]
  },
  {
   "cell_type": "markdown",
   "metadata": {},
   "source": [
    "#### **Test Class: `TestZeroPadding`**\n",
    "\n",
    "- **Test Approach**  \n",
    "    \n",
    "    - The required padding length is calculated.\n",
    "    \n",
    "    - Zero bytes are added.\n",
    "\n",
    "- **Verification**  \n",
    "\n",
    "    - The test confirms that exactly 52 bytes of `0x00` are appended, resulting in a message of 56 bytes.\n",
    "\n",
    "- **Outcome**  \n",
    "\n",
    "    - Zero padding is correctly calculated and applied.\n"
   ]
  },
  {
   "cell_type": "code",
   "execution_count": 134,
   "metadata": {},
   "outputs": [
    {
     "name": "stderr",
     "output_type": "stream",
     "text": [
      "test_zero_padding (__main__.TestZeroPadding.test_zero_padding) ... ok\n",
      "\n",
      "----------------------------------------------------------------------\n",
      "Ran 1 test in 0.001s\n",
      "\n",
      "OK\n"
     ]
    },
    {
     "name": "stdout",
     "output_type": "stream",
     "text": [
      "\n",
      "Starting validation of zero padding to 56-byte boundary...\n",
      "\n",
      "After zero padding: 01100001 01100010 01100011 10000000 00000000 00000000 00000000 00000000 00000000 00000000 00000000 00000000 00000000 00000000 00000000 00000000 00000000 00000000 00000000 00000000 00000000 00000000 00000000 00000000 00000000 00000000 00000000 00000000 00000000 00000000 00000000 00000000 00000000 00000000 00000000 00000000 00000000 00000000 00000000 00000000 00000000 00000000 00000000 00000000 00000000 00000000 00000000 00000000 00000000 00000000 00000000 00000000 00000000 00000000 00000000 00000000\n",
      "Padding length: 52 bytes\n",
      "Test passed: zero padding applied correctly\n",
      "\n",
      "Zero padding test completed successfully.\n",
      "\n"
     ]
    },
    {
     "data": {
      "text/plain": [
       "<unittest.runner.TextTestResult run=1 errors=0 failures=0>"
      ]
     },
     "execution_count": 134,
     "metadata": {},
     "output_type": "execute_result"
    }
   ],
   "source": [
    "class TestZeroPadding(unittest.TestCase):\n",
    "    def test_zero_padding(self):\n",
    "        print(\"\\nStarting validation of zero padding to 56-byte boundary...\\n\")\n",
    "\n",
    "        # Rebuild padded_message from original data each time\n",
    "        padded_message = data + b'\\x80'\n",
    "        zero_padding_length = (56 - (len(padded_message) % 64)) % 64\n",
    "        padded_message += b'\\x00' * zero_padding_length\n",
    "        bit_string = \" \".join(f\"{b:08b}\" for b in padded_message)\n",
    "\n",
    "        print(f\"After zero padding: {bit_string}\")\n",
    "        print(f\"Padding length: {zero_padding_length} bytes\")\n",
    "\n",
    "        expected_padding_length = 52\n",
    "        self.assertEqual(zero_padding_length, expected_padding_length)\n",
    "        self.assertEqual(len(padded_message), 56)\n",
    "        print(\"Test passed: zero padding applied correctly\\n\")\n",
    "\n",
    "        print(\"Zero padding test completed successfully.\\n\")\n",
    "\n",
    "unittest.TextTestRunner(verbosity=2).run(unittest.TestLoader().loadTestsFromTestCase(TestZeroPadding))"
   ]
  },
  {
   "cell_type": "markdown",
   "metadata": {},
   "source": [
    "### **Step 6: Append the Original Message Length to End of Padded Message**"
   ]
  },
  {
   "cell_type": "markdown",
   "metadata": {},
   "source": [
    "- **Definition**  \n",
    "\n",
    "    - Appends the original message length (in bits) as a 64-bit big-endian integer to the end of the padded message. \n",
    "    \n",
    "    - This is necessary because the SHA-256 algorithm processes messages in 512-bit blocks, and the final 64 bits are reserved for the original message length. \n",
    "    \n",
    "    - This ensures that the total length of the padded message is a multiple of 512 bits, which is crucial for the hashing process and helps maintain the message’s integrity throughout the compression function."
   ]
  },
  {
   "cell_type": "code",
   "execution_count": 135,
   "metadata": {},
   "outputs": [],
   "source": [
    "padded_message += original_length_bits.to_bytes(8, 'big')"
   ]
  },
  {
   "cell_type": "markdown",
   "metadata": {},
   "source": [
    "#### **Test Class: TestFinalPaddedMessage**\n",
    "\n",
    "- **Test Approach**  \n",
    "\n",
    "    - The value `24` (original bit length) is converted and appended to the padded message.\n",
    "\n",
    "- **Verification**  \n",
    "\n",
    "    - The final message length is verified to be 64 bytes, and the last 8 bytes match 0000000000000018.\n",
    "\n",
    "- **Outcome**  \n",
    "\n",
    "    - The final message is correctly padded and formatted as a 512-bit block.\n"
   ]
  },
  {
   "cell_type": "code",
   "execution_count": 136,
   "metadata": {},
   "outputs": [
    {
     "name": "stderr",
     "output_type": "stream",
     "text": [
      "test_append_length_block (__main__.TestFinalPaddedMessage.test_append_length_block) ... ok\n",
      "\n",
      "----------------------------------------------------------------------\n",
      "Ran 1 test in 0.001s\n",
      "\n",
      "OK\n"
     ]
    },
    {
     "name": "stdout",
     "output_type": "stream",
     "text": [
      "\n",
      "Starting validation of final padded message with 64-bit length...\n",
      "\n",
      "Final padded message: 01100001 01100010 01100011 10000000 00000000 00000000 00000000 00000000 00000000 00000000 00000000 00000000 00000000 00000000 00000000 00000000 00000000 00000000 00000000 00000000 00000000 00000000 00000000 00000000 00000000 00000000 00000000 00000000 00000000 00000000 00000000 00000000 00000000 00000000 00000000 00000000 00000000 00000000 00000000 00000000 00000000 00000000 00000000 00000000 00000000 00000000 00000000 00000000 00000000 00000000 00000000 00000000 00000000 00000000 00000000 00000000 00000000 00000000 00000000 00000000 00000000 00000000 00000000 00011000\n",
      "Test passed: final message is correctly padded and length block is correct\n",
      "\n",
      "Final padding test completed successfully.\n",
      "\n"
     ]
    },
    {
     "data": {
      "text/plain": [
       "<unittest.runner.TextTestResult run=1 errors=0 failures=0>"
      ]
     },
     "execution_count": 136,
     "metadata": {},
     "output_type": "execute_result"
    }
   ],
   "source": [
    "class TestFinalPaddedMessage(unittest.TestCase):\n",
    "    def test_append_length_block(self):\n",
    "        print(\"\\nStarting validation of final padded message with 64-bit length...\\n\")\n",
    "\n",
    "        # Reconstruct everything from scratch for a clean test\n",
    "        padded_message = data + b'\\x80'\n",
    "        zero_padding_length = (56 - (len(padded_message) % 64)) % 64\n",
    "        padded_message += b'\\x00' * zero_padding_length\n",
    "\n",
    "        original_length_bits = len(data) * 8\n",
    "        padded_message += original_length_bits.to_bytes(8, 'big')\n",
    "\n",
    "        bit_string = \" \".join(f\"{b:08b}\" for b in padded_message)\n",
    "        print(f\"Final padded message: {bit_string}\")\n",
    "\n",
    "        self.assertEqual(len(padded_message), 64)\n",
    "        self.assertEqual(padded_message[-8:], original_length_bits.to_bytes(8, 'big'))\n",
    "        print(\"Test passed: final message is correctly padded and length block is correct\\n\")\n",
    "\n",
    "        print(\"Final padding test completed successfully.\\n\")\n",
    "\n",
    "unittest.TextTestRunner(verbosity=2).run(unittest.TestLoader().loadTestsFromTestCase(TestFinalPaddedMessage))"
   ]
  },
  {
   "cell_type": "markdown",
   "metadata": {},
   "source": [
    "### **Step 7: Extract and Display Only the Padding**"
   ]
  },
  {
   "cell_type": "markdown",
   "metadata": {},
   "source": [
    "- **Definition**\n",
    "\n",
    "    - Extracts and displays only the padding portion of the message (excluding the original data), formatted as hexadecimal for inspection. \n",
    "    \n",
    "    - This allows verification that the padding was applied correctly and matches the expected format.\n"
   ]
  },
  {
   "cell_type": "code",
   "execution_count": 137,
   "metadata": {},
   "outputs": [],
   "source": [
    "padding_hex = padded_message[len(data):]"
   ]
  },
  {
   "cell_type": "markdown",
   "metadata": {},
   "source": [
    "#### **Test Class: `TestSha256PaddingHex`**\n",
    "\n",
    "- **Test Approach**  \n",
    "\n",
    "    - The original message bytes are sliced out and the remaining padding is converted to a hex string for inspection.\n",
    "\n",
    "- **Verification**  \n",
    "\n",
    "    - The hex output is confirmed to be 80, followed by 52 00s, and ending with 00 00 00 00 00 00 00 18.\n",
    "\n",
    "- **Outcome**  \n",
    "\n",
    "    - Padding structure matches the expected SHA-256 format exactly."
   ]
  },
  {
   "cell_type": "code",
   "execution_count": 138,
   "metadata": {},
   "outputs": [
    {
     "name": "stderr",
     "output_type": "stream",
     "text": [
      "test_padding_hex_output (__main__.TestSha256PaddingHex.test_padding_hex_output) ... ok\n",
      "\n",
      "----------------------------------------------------------------------\n",
      "Ran 1 test in 0.001s\n",
      "\n",
      "OK\n"
     ]
    },
    {
     "name": "stdout",
     "output_type": "stream",
     "text": [
      "\n",
      "Starting validation of SHA-256 padding in hex format...\n",
      "\n",
      "SHA-256 Padding (Hex): 80 00 00 00 00 00 00 00 00 00 00 00 00 00 00 00 00 00 00 00 00 00 00 00 00 00 00 00 00 00 00 00 00 00 00 00 00 00 00 00 00 00 00 00 00 00 00 00 00 00 00 00 00 00 00 00 00 00 00 00 18\n",
      "Test passed: SHA-256 padding hex output is correct\n",
      "\n",
      "SHA-256 padding hex test completed successfully.\n",
      "\n"
     ]
    },
    {
     "data": {
      "text/plain": [
       "<unittest.runner.TextTestResult run=1 errors=0 failures=0>"
      ]
     },
     "execution_count": 138,
     "metadata": {},
     "output_type": "execute_result"
    }
   ],
   "source": [
    "class TestSha256PaddingHex(unittest.TestCase):\n",
    "    def test_padding_hex_output(self):\n",
    "        print(\"\\nStarting validation of SHA-256 padding in hex format...\\n\")\n",
    "\n",
    "        # Rebuild full padded message\n",
    "        padded_message = data + b'\\x80'\n",
    "        zero_padding_length = (56 - (len(padded_message) % 64)) % 64\n",
    "        padded_message += b'\\x00' * zero_padding_length\n",
    "\n",
    "        original_length_bits = len(data) * 8\n",
    "        padded_message += original_length_bits.to_bytes(8, 'big')\n",
    "\n",
    "        # Extract only the padding part (everything after the original data)\n",
    "        padding_hex = padded_message[len(data):]\n",
    "\n",
    "        hex_output = \" \".join(f\"{b:02X}\" for b in padding_hex)\n",
    "        print(f\"SHA-256 Padding (Hex): {hex_output}\")\n",
    "\n",
    "        expected_hex = (\n",
    "            \"80 \" + \"00 \" * 52 + \"00 00 00 00 00 00 00 18\"\n",
    "        ).strip()\n",
    "\n",
    "        self.assertEqual(hex_output, expected_hex)\n",
    "        print(\"Test passed: SHA-256 padding hex output is correct\\n\")\n",
    "\n",
    "        print(\"SHA-256 padding hex test completed successfully.\\n\")\n",
    "\n",
    "unittest.TextTestRunner(verbosity=2).run(unittest.TestLoader().loadTestsFromTestCase(TestSha256PaddingHex))\n"
   ]
  },
  {
   "cell_type": "markdown",
   "metadata": {},
   "source": [
    "### **Step 8. Delete the Temporary File**"
   ]
  },
  {
   "cell_type": "markdown",
   "metadata": {},
   "source": [
    "- **Definition**  \n",
    "\n",
    "    - Deletes the temporary file from disk after all padding operations are completed. \n",
    "\n",
    "    - This step ensures that there are no leftover resources, adhering to best practices for resource management.\n",
    "\n",
    "    - The file is deleted using `os.remove(path)`. \n",
    "    \n",
    "    - File existence is confirmed before and after the call."
   ]
  },
  {
   "cell_type": "code",
   "execution_count": 139,
   "metadata": {},
   "outputs": [
    {
     "name": "stdout",
     "output_type": "stream",
     "text": [
      "File exists before deletion: True\n",
      "\n",
      "Temporary file deleted successfully.\n",
      "\n",
      "File exists after deletion: False\n"
     ]
    }
   ],
   "source": [
    "print(f\"File exists before deletion: {os.path.exists(temp_file_path)}\")\n",
    "\n",
    "try:\n",
    "    os.remove(temp_file_path)\n",
    "\n",
    "    # Check if the file still exists\n",
    "    if os.path.exists(temp_file_path):\n",
    "        print(\"\\nError: File was NOT deleted!\")\n",
    "    else:\n",
    "        print(\"\\nTemporary file deleted successfully.\")\n",
    "\n",
    "except FileNotFoundError:\n",
    "    print(\"\\nWarning: File already deleted or does not exist.\")\n",
    "except Exception as e:\n",
    "    print(f\"\\nUnexpected error: {e}\")\n",
    "\n",
    "print(f\"\\nFile exists after deletion: {os.path.exists(temp_file_path)}\")"
   ]
  },
  {
   "cell_type": "markdown",
   "metadata": {},
   "source": [
    "## **Task 4 - Prime Numbers**"
   ]
  },
  {
   "cell_type": "markdown",
   "metadata": {},
   "source": [
    "**Purpose**\n",
    "\n",
    "- This task implements two prime number algorithms: Trial Division and the Sieve of Atkin. \n",
    "\n",
    "- Prime Numbers are numbers that cannot be exactly divided (i.e. without a remainder) by any whole number other than itself and 1.\n",
    "\n",
    "- The following two approaches are implemented and tested:\n",
    "\n",
    "    - **Trial Division** - Confirms whether a single integer is prime by checking divisibility against a reduced range of candidate factors, skipping obvious non-primes.\n",
    "\n",
    "    - **Sieve of Atkin** - Generates a full list of prime numbers up to a given limit by marking candidates with quadratic rules and eliminating square multiples.\n",
    "\n",
    "- Each algorithm is tested for correctness using unit tests that validate individual steps and expected outputs.\n",
    "\n",
    "- These techniques enable deterministic identification and collection of prime numbers, which are critical in mathematical computation and cryptographic protocols.\n",
    "\n",
    "**Cryptographic Context**\n",
    "\n",
    "- Prime numbers are a fundamental building block in cryptographic systems. \n",
    "\n",
    "- Public-key cryptography relies on the generation of large prime numbers to create secure and unpredictable key pairs. \n",
    "\n",
    "- The difficulty of factoring large composites directly depends on the ability to efficiently generate and verify prime numbers.\n",
    "\n",
    "- Primality testing and prime enumeration ensure:\n",
    "\n",
    "    - Secure key generation through reliable identification of large prime values.\n",
    "\n",
    "    - Cryptographic strength by avoiding weak or repeated factors.\n",
    "\n",
    "    - Improved performance of cryptosystems relying on modular arithmetic with primes.\n",
    "\n",
    "- This task validates the correctness and performance of both trial-based and sieve-based prime number techniques for cryptographic use.\n",
    "\n"
   ]
  },
  {
   "cell_type": "markdown",
   "metadata": {},
   "source": [
    "### **Algorithm 1: Trial Division Algorithm**"
   ]
  },
  {
   "cell_type": "markdown",
   "metadata": {},
   "source": [
    "#### **Step 1: `def is_prime(n)`**\n",
    "\n",
    "- Definition\n",
    "\n",
    "    - Defines a function that determines whether a given integer is prime using trial division. \n",
    "    \n",
    "    - Numbers less than 2 are excluded, as neither 0 nor 1 are prime. \n",
    "    \n",
    "    - The function first eliminates even numbers greater than 2 and multiples of 3, which are not prime by definition. \n",
    "\n",
    "    - It then checks for divisibility using a loop that tests numbers of the form 6k ± 1, based on the fact that all primes greater than 3 fall into that pattern. \n",
    "    \n",
    "    - This reduces the number of checks required while still correctly identifying all primes. \n",
    "    \n",
    "    - The loop runs only up to the square root of the input, since any larger factor would already have a corresponding smaller one.\n",
    "\n",
    "    - This method works reliably for small to medium input sizes and ensures that composite numbers are accurately filtered out without redundant checks.\n",
    "\n",
    "\n"
   ]
  },
  {
   "cell_type": "code",
   "execution_count": 140,
   "metadata": {},
   "outputs": [],
   "source": [
    "def is_prime(n):\n",
    "    if n < 2:\n",
    "        return False\n",
    "    if n in (2, 3):\n",
    "        return True\n",
    "    if n % 2 == 0 or n % 3 == 0:\n",
    "        return False\n",
    "    \n",
    "    i = 5\n",
    "    while i * i <= n:\n",
    "        if n % i == 0 or n % (i + 2) == 0:\n",
    "            return False\n",
    "        i += 6\n",
    "    return True"
   ]
  },
  {
   "cell_type": "markdown",
   "metadata": {},
   "source": [
    "#### **Step 2: `def first_n_primes_trial(n)`**\n",
    "\n",
    "- Definition\n",
    "\n",
    "    - Defines a function that generates the first N prime numbers using the `is_prime(n)` function. \n",
    "    \n",
    "    - Starting from 2, it tests each number in order and appends confirmed primes to a list until it contains N elements.\n",
    "\n",
    "    - This method guarantees correctness by individually verifying each candidate using a proven primality test. \n",
    "    \n",
    "    - The output list grows sequentially, so the result is always in increasing order.\n",
    "    \n",
    "    - The approach is simple and reliable for generating relatively small sets of prime numbers and is useful for verifying the correctness of more advanced methods like sieves later in the task."
   ]
  },
  {
   "cell_type": "code",
   "execution_count": 141,
   "metadata": {},
   "outputs": [],
   "source": [
    "def first_n_primes_trial(n):\n",
    "    primes = []\n",
    "    num = 2\n",
    "    while len(primes) < n:\n",
    "        if is_prime(num):\n",
    "            primes.append(num)\n",
    "        num += 1\n",
    "    return primes"
   ]
  },
  {
   "cell_type": "markdown",
   "metadata": {},
   "source": [
    "#### **Test Class: `TestPrimeFunctions`**\n",
    "\n",
    "- Test Approach\n",
    "\n",
    "    - Two functions are tested. `is_prime(n)` is tested using known prime and non-prime values to confirm it correctly identifies valid and invalid inputs. \n",
    "    \n",
    "    - `first_n_primes_trial(n)` is tested with small input values to verify that the returned lists contain the expected prime numbers with the correct length and ordering.\n",
    "\n",
    "- Verification\n",
    "\n",
    "    - `is_prime(n)` correctly returns True for primes and False for non-primes  \n",
    "\n",
    "    - `first_n_primes_trial(n)` returns the correct prime sequences for small `n`\n",
    "\n",
    "- Outcome\n",
    "\n",
    "    - The test confirms that both `is_prime(n)` and `first_n_primes_trial(n)` behave as expected. \n"
   ]
  },
  {
   "cell_type": "code",
   "execution_count": 187,
   "metadata": {},
   "outputs": [
    {
     "name": "stderr",
     "output_type": "stream",
     "text": [
      "test_first_n_primes_trial (__main__.TestPrimeFunctions.test_first_n_primes_trial) ... ok\n",
      "test_is_prime (__main__.TestPrimeFunctions.test_is_prime) ... ok\n",
      "\n",
      "----------------------------------------------------------------------\n",
      "Ran 2 tests in 0.004s\n",
      "\n",
      "OK\n"
     ]
    },
    {
     "name": "stdout",
     "output_type": "stream",
     "text": [
      "\n",
      "Testing first_n_primes_trial(n)...\n",
      "\n",
      "Test passed: first_n_primes_trial(1) == [2]\n",
      "Test passed: first_n_primes_trial(3) == [2, 3, 5]\n",
      "\n",
      "first_n_primes_trial(n) tests completed successfully.\n",
      "\n",
      "\n",
      "Testing is_prime(n)...\n",
      "\n",
      "Test passed: 2 is prime\n",
      "Test passed: 17 is prime\n",
      "Test passed: 1 is not prime\n",
      "Test passed: 100 is not prime\n",
      "\n",
      "is_prime(n) tests completed successfully.\n",
      "\n"
     ]
    },
    {
     "data": {
      "text/plain": [
       "<unittest.runner.TextTestResult run=2 errors=0 failures=0>"
      ]
     },
     "execution_count": 187,
     "metadata": {},
     "output_type": "execute_result"
    }
   ],
   "source": [
    "class TestPrimeFunctions(unittest.TestCase):\n",
    "    def test_is_prime(self):\n",
    "        print(\"\\nTesting is_prime(n)...\\n\")\n",
    "\n",
    "        self.assertTrue(is_prime(2))\n",
    "        print(\"Test passed: 2 is prime\")\n",
    "        self.assertTrue(is_prime(17))\n",
    "        print(\"Test passed: 17 is prime\")\n",
    "\n",
    "        self.assertFalse(is_prime(1))\n",
    "        print(\"Test passed: 1 is not prime\")\n",
    "        self.assertFalse(is_prime(100))\n",
    "        print(\"Test passed: 100 is not prime\")\n",
    "\n",
    "        print(\"\\nis_prime(n) tests completed successfully.\\n\")\n",
    "\n",
    "    def test_first_n_primes_trial(self):\n",
    "        print(\"\\nTesting first_n_primes_trial(n)...\\n\")\n",
    "\n",
    "        self.assertEqual(first_n_primes_trial(1), [2])\n",
    "        print(\"Test passed: first_n_primes_trial(1) == [2]\")\n",
    "\n",
    "        self.assertEqual(first_n_primes_trial(3), [2, 3, 5])\n",
    "        print(\"Test passed: first_n_primes_trial(3) == [2, 3, 5]\")\n",
    "\n",
    "        print(\"\\nfirst_n_primes_trial(n) tests completed successfully.\\n\")\n",
    "\n",
    "unittest.TextTestRunner(verbosity=2).run(unittest.TestLoader().loadTestsFromTestCase(TestPrimeFunctions))\n"
   ]
  },
  {
   "cell_type": "markdown",
   "metadata": {},
   "source": [
    "#### **Step 3: Execute Prime Sequence Generator for 1000 Primes**\n",
    "\n",
    "- Definition\n",
    "\n",
    "    - Executes the `first_n_primes_trial(1000)` function to generate the first 1000 prime numbers. \n",
    "    \n",
    "    - The result is printed to verify that the function works as expected for a larger value of N.\n",
    "\n",
    "    - This step validates the correctness and performance of the prime generator.\n",
    "    \n",
    "    - The resulting list contains all prime numbers in sequence from 2 up to the 1000th prime."
   ]
  },
  {
   "cell_type": "code",
   "execution_count": 143,
   "metadata": {},
   "outputs": [
    {
     "name": "stdout",
     "output_type": "stream",
     "text": [
      "[2, 3, 5, 7, 11, 13, 17, 19, 23, 29, 31, 37, 41, 43, 47, 53, 59, 61, 67, 71, 73, 79, 83, 89, 97, 101, 103, 107, 109, 113, 127, 131, 137, 139, 149, 151, 157, 163, 167, 173, 179, 181, 191, 193, 197, 199, 211, 223, 227, 229, 233, 239, 241, 251, 257, 263, 269, 271, 277, 281, 283, 293, 307, 311, 313, 317, 331, 337, 347, 349, 353, 359, 367, 373, 379, 383, 389, 397, 401, 409, 419, 421, 431, 433, 439, 443, 449, 457, 461, 463, 467, 479, 487, 491, 499, 503, 509, 521, 523, 541, 547, 557, 563, 569, 571, 577, 587, 593, 599, 601, 607, 613, 617, 619, 631, 641, 643, 647, 653, 659, 661, 673, 677, 683, 691, 701, 709, 719, 727, 733, 739, 743, 751, 757, 761, 769, 773, 787, 797, 809, 811, 821, 823, 827, 829, 839, 853, 857, 859, 863, 877, 881, 883, 887, 907, 911, 919, 929, 937, 941, 947, 953, 967, 971, 977, 983, 991, 997, 1009, 1013, 1019, 1021, 1031, 1033, 1039, 1049, 1051, 1061, 1063, 1069, 1087, 1091, 1093, 1097, 1103, 1109, 1117, 1123, 1129, 1151, 1153, 1163, 1171, 1181, 1187, 1193, 1201, 1213, 1217, 1223, 1229, 1231, 1237, 1249, 1259, 1277, 1279, 1283, 1289, 1291, 1297, 1301, 1303, 1307, 1319, 1321, 1327, 1361, 1367, 1373, 1381, 1399, 1409, 1423, 1427, 1429, 1433, 1439, 1447, 1451, 1453, 1459, 1471, 1481, 1483, 1487, 1489, 1493, 1499, 1511, 1523, 1531, 1543, 1549, 1553, 1559, 1567, 1571, 1579, 1583, 1597, 1601, 1607, 1609, 1613, 1619, 1621, 1627, 1637, 1657, 1663, 1667, 1669, 1693, 1697, 1699, 1709, 1721, 1723, 1733, 1741, 1747, 1753, 1759, 1777, 1783, 1787, 1789, 1801, 1811, 1823, 1831, 1847, 1861, 1867, 1871, 1873, 1877, 1879, 1889, 1901, 1907, 1913, 1931, 1933, 1949, 1951, 1973, 1979, 1987, 1993, 1997, 1999, 2003, 2011, 2017, 2027, 2029, 2039, 2053, 2063, 2069, 2081, 2083, 2087, 2089, 2099, 2111, 2113, 2129, 2131, 2137, 2141, 2143, 2153, 2161, 2179, 2203, 2207, 2213, 2221, 2237, 2239, 2243, 2251, 2267, 2269, 2273, 2281, 2287, 2293, 2297, 2309, 2311, 2333, 2339, 2341, 2347, 2351, 2357, 2371, 2377, 2381, 2383, 2389, 2393, 2399, 2411, 2417, 2423, 2437, 2441, 2447, 2459, 2467, 2473, 2477, 2503, 2521, 2531, 2539, 2543, 2549, 2551, 2557, 2579, 2591, 2593, 2609, 2617, 2621, 2633, 2647, 2657, 2659, 2663, 2671, 2677, 2683, 2687, 2689, 2693, 2699, 2707, 2711, 2713, 2719, 2729, 2731, 2741, 2749, 2753, 2767, 2777, 2789, 2791, 2797, 2801, 2803, 2819, 2833, 2837, 2843, 2851, 2857, 2861, 2879, 2887, 2897, 2903, 2909, 2917, 2927, 2939, 2953, 2957, 2963, 2969, 2971, 2999, 3001, 3011, 3019, 3023, 3037, 3041, 3049, 3061, 3067, 3079, 3083, 3089, 3109, 3119, 3121, 3137, 3163, 3167, 3169, 3181, 3187, 3191, 3203, 3209, 3217, 3221, 3229, 3251, 3253, 3257, 3259, 3271, 3299, 3301, 3307, 3313, 3319, 3323, 3329, 3331, 3343, 3347, 3359, 3361, 3371, 3373, 3389, 3391, 3407, 3413, 3433, 3449, 3457, 3461, 3463, 3467, 3469, 3491, 3499, 3511, 3517, 3527, 3529, 3533, 3539, 3541, 3547, 3557, 3559, 3571, 3581, 3583, 3593, 3607, 3613, 3617, 3623, 3631, 3637, 3643, 3659, 3671, 3673, 3677, 3691, 3697, 3701, 3709, 3719, 3727, 3733, 3739, 3761, 3767, 3769, 3779, 3793, 3797, 3803, 3821, 3823, 3833, 3847, 3851, 3853, 3863, 3877, 3881, 3889, 3907, 3911, 3917, 3919, 3923, 3929, 3931, 3943, 3947, 3967, 3989, 4001, 4003, 4007, 4013, 4019, 4021, 4027, 4049, 4051, 4057, 4073, 4079, 4091, 4093, 4099, 4111, 4127, 4129, 4133, 4139, 4153, 4157, 4159, 4177, 4201, 4211, 4217, 4219, 4229, 4231, 4241, 4243, 4253, 4259, 4261, 4271, 4273, 4283, 4289, 4297, 4327, 4337, 4339, 4349, 4357, 4363, 4373, 4391, 4397, 4409, 4421, 4423, 4441, 4447, 4451, 4457, 4463, 4481, 4483, 4493, 4507, 4513, 4517, 4519, 4523, 4547, 4549, 4561, 4567, 4583, 4591, 4597, 4603, 4621, 4637, 4639, 4643, 4649, 4651, 4657, 4663, 4673, 4679, 4691, 4703, 4721, 4723, 4729, 4733, 4751, 4759, 4783, 4787, 4789, 4793, 4799, 4801, 4813, 4817, 4831, 4861, 4871, 4877, 4889, 4903, 4909, 4919, 4931, 4933, 4937, 4943, 4951, 4957, 4967, 4969, 4973, 4987, 4993, 4999, 5003, 5009, 5011, 5021, 5023, 5039, 5051, 5059, 5077, 5081, 5087, 5099, 5101, 5107, 5113, 5119, 5147, 5153, 5167, 5171, 5179, 5189, 5197, 5209, 5227, 5231, 5233, 5237, 5261, 5273, 5279, 5281, 5297, 5303, 5309, 5323, 5333, 5347, 5351, 5381, 5387, 5393, 5399, 5407, 5413, 5417, 5419, 5431, 5437, 5441, 5443, 5449, 5471, 5477, 5479, 5483, 5501, 5503, 5507, 5519, 5521, 5527, 5531, 5557, 5563, 5569, 5573, 5581, 5591, 5623, 5639, 5641, 5647, 5651, 5653, 5657, 5659, 5669, 5683, 5689, 5693, 5701, 5711, 5717, 5737, 5741, 5743, 5749, 5779, 5783, 5791, 5801, 5807, 5813, 5821, 5827, 5839, 5843, 5849, 5851, 5857, 5861, 5867, 5869, 5879, 5881, 5897, 5903, 5923, 5927, 5939, 5953, 5981, 5987, 6007, 6011, 6029, 6037, 6043, 6047, 6053, 6067, 6073, 6079, 6089, 6091, 6101, 6113, 6121, 6131, 6133, 6143, 6151, 6163, 6173, 6197, 6199, 6203, 6211, 6217, 6221, 6229, 6247, 6257, 6263, 6269, 6271, 6277, 6287, 6299, 6301, 6311, 6317, 6323, 6329, 6337, 6343, 6353, 6359, 6361, 6367, 6373, 6379, 6389, 6397, 6421, 6427, 6449, 6451, 6469, 6473, 6481, 6491, 6521, 6529, 6547, 6551, 6553, 6563, 6569, 6571, 6577, 6581, 6599, 6607, 6619, 6637, 6653, 6659, 6661, 6673, 6679, 6689, 6691, 6701, 6703, 6709, 6719, 6733, 6737, 6761, 6763, 6779, 6781, 6791, 6793, 6803, 6823, 6827, 6829, 6833, 6841, 6857, 6863, 6869, 6871, 6883, 6899, 6907, 6911, 6917, 6947, 6949, 6959, 6961, 6967, 6971, 6977, 6983, 6991, 6997, 7001, 7013, 7019, 7027, 7039, 7043, 7057, 7069, 7079, 7103, 7109, 7121, 7127, 7129, 7151, 7159, 7177, 7187, 7193, 7207, 7211, 7213, 7219, 7229, 7237, 7243, 7247, 7253, 7283, 7297, 7307, 7309, 7321, 7331, 7333, 7349, 7351, 7369, 7393, 7411, 7417, 7433, 7451, 7457, 7459, 7477, 7481, 7487, 7489, 7499, 7507, 7517, 7523, 7529, 7537, 7541, 7547, 7549, 7559, 7561, 7573, 7577, 7583, 7589, 7591, 7603, 7607, 7621, 7639, 7643, 7649, 7669, 7673, 7681, 7687, 7691, 7699, 7703, 7717, 7723, 7727, 7741, 7753, 7757, 7759, 7789, 7793, 7817, 7823, 7829, 7841, 7853, 7867, 7873, 7877, 7879, 7883, 7901, 7907, 7919]\n"
     ]
    }
   ],
   "source": [
    "primes_output= first_n_primes_trial(1000)\n",
    "print(primes_output)"
   ]
  },
  {
   "cell_type": "markdown",
   "metadata": {},
   "source": [
    "### **Sieve of Atkin Algorithm**"
   ]
  },
  {
   "cell_type": "markdown",
   "metadata": {},
   "source": [
    "#### **Step 1: Implement Sieve of Atkin Algorithm**\n",
    "\n",
    "- Definition\n",
    "\n",
    "    - It creates an optimized algorithm for finding all prime numbers up to a specified limit.\n",
    "    \n",
    "    - It returns an empty list if the limit is less than 2, since there are no prime numbers below 2.\n",
    "    \n",
    "    - It initializes a sieve as a boolean array where all values are False (not prime) by default.\n",
    "    \n",
    "    - It explicitly marks 2 and 3 as prime (True) since they don't follow the patterns used by the main algorithm.\n",
    "    \n",
    "    - It instead of checking each number individually like Trial Division, it uses mathematical quadratic equations to mark numbers that could potentially be prime.\n",
    "    \n",
    "    - It only considers numbers as possible primes if they fit specific repeating patterns in modulo 12 arithmetic, which helps to quickly skip unnecessary checks.\n",
    "    \n",
    "    - **Formula 1**: `4x² + y² ≡ 1 or 5 mod 12` identifies numbers that have remainder 1 or 5 when divided by 12.\n",
    "    \n",
    "    - **Formula 2**: `3x² + y² ≡ 7 mod 12` identifies numbers that have remainder 7 when divided by 12.\n",
    "    \n",
    "    - **Formula 3**: `3x² − y² ≡ 11 mod 12` (only if `x > y`) identifies numbers that have remainder 11 when divided by 12, only when x > y.\n",
    "    \n",
    "    - It toggles the primality status of each number that fits these patterns (from False to True or True to False).\n",
    "    \n",
    "    - It eliminates false positives by marking all multiples of squares of identified primes as non-prime.\n",
    "    \n",
    "    - When this filtering is completed, the remaining marked numbers are guaranteed to be prime.\n",
    "    \n",
    "    - It returns a list containing all numbers that remain marked as prime after the sieving process."
   ]
  },
  {
   "cell_type": "code",
   "execution_count": 144,
   "metadata": {},
   "outputs": [],
   "source": [
    "def sieve_of_atkin(limit):\n",
    "    if limit < 2:\n",
    "        return []\n",
    "\n",
    "    ## Initialise the sieve and create list of False values that assumes all numbers are not prime\n",
    "    sieve = [False] * (limit + 1)\n",
    "    sieve[2] = sieve[3] = True\n",
    "\n",
    "    ## Use Quadratic Equations to find potential prime numbers\n",
    "    for x in range(1, int(limit**0.5) + 1):\n",
    "        for y in range(1, int(limit**0.5) + 1):\n",
    "            \n",
    "            ## Formula 1: Checks if number is modulo 12 = 1 or 5\n",
    "            n = (4 * x * x) + (y * y)\n",
    "            if n <= limit and (n % 12 == 1 or n % 12 == 5):\n",
    "                sieve[n] = not sieve[n]\n",
    "\n",
    "            ## Formula 2: Checks if number is modulo 12 ≡ 7\n",
    "            n = (3 * x * x) + (y * y)\n",
    "            if n <= limit and n % 12 == 7:\n",
    "                sieve[n] = not sieve[n]\n",
    "\n",
    "            ## Formula 3: Checks if number is modulo 12 ≡ 11\n",
    "            n = (3 * x * x) - (y * y)\n",
    "            if x > y and n <= limit and n % 12 == 11:\n",
    "                sieve[n] = not sieve[n]\n",
    "\n",
    "    ## Mark all multiples of known primes as non-prime to eliminate false positives\n",
    "    for num in range(5, int(limit**0.5) + 1):\n",
    "        if sieve[num]:\n",
    "            for multiple in range(num * num, limit + 1, num * num):\n",
    "                sieve[multiple] = False\n",
    "\n",
    "    return [num for num in range(limit + 1) if sieve[num]]\n"
   ]
  },
  {
   "cell_type": "markdown",
   "metadata": {},
   "source": [
    "#### **Test Class `TestSieveOfAtkinFormulas`**\n",
    "\n",
    "- Test Approach\n",
    "\n",
    "    - This test class verifies the functionality of the Sieve of Atkin algorithm. \n",
    "\n",
    "    - It confirms that the sieve correctly identifies primes for small values of `n` (e.g., 5, 7, 11).\n",
    "\n",
    "    - It verifies that the sieve eliminates non-prime numbers, especially composite numbers like squares of primes, which is critical for ensuring the algorithm’s accuracy and efficiency.  \n",
    "\n",
    "- Verification\n",
    "\n",
    "    - The sieve correctly identifies primes up to a given limit.\n",
    "\n",
    "    - The sieve accurately eliminates non-prime numbers, such as squares of primes.\n",
    "\n",
    "- Outcome\n",
    "\n",
    "    - All tests pass, confirming that the Sieve of Atkin algorithm works as expected and correctly identifies primes.\n"
   ]
  },
  {
   "cell_type": "code",
   "execution_count": null,
   "metadata": {},
   "outputs": [
    {
     "name": "stderr",
     "output_type": "stream",
     "text": [
      "test_false_positives_eliminated (__main__.TestSieveOfAtkinFormulas.test_false_positives_eliminated) ... ok\n",
      "test_formula_1_mod_12_1_or_5 (__main__.TestSieveOfAtkinFormulas.test_formula_1_mod_12_1_or_5) ... ok\n",
      "test_formula_2_mod_12_7 (__main__.TestSieveOfAtkinFormulas.test_formula_2_mod_12_7) ... ok\n",
      "test_formula_3_mod_12_11 (__main__.TestSieveOfAtkinFormulas.test_formula_3_mod_12_11) ... ok\n",
      "\n",
      "----------------------------------------------------------------------\n",
      "Ran 4 tests in 0.005s\n",
      "\n",
      "OK\n"
     ]
    },
    {
     "name": "stdout",
     "output_type": "stream",
     "text": [
      "\n",
      "Testing elimination of false positives (non-primes marked off)...\n",
      "\n",
      "Test passed: composite squares eliminated as expected\n",
      "\n",
      "sieve_of_atkin formula-specific tests completed successfully.\n",
      "\n",
      "\n",
      "Testing Formula 1: 4x² + y² ≡ 1 or 5 (mod 12)...\n",
      "\n",
      "Test passed: 5 correctly included by Formula 1\n",
      "\n",
      "Testing Formula 2: 3x² + y² ≡ 7 (mod 12)...\n",
      "\n",
      "Test passed: 7 correctly included by Formula 2\n",
      "\n",
      "Testing Formula 3: 3x² − y² ≡ 11 (mod 12)...\n",
      "\n",
      "Test passed: 11 correctly included by Formula 3\n"
     ]
    },
    {
     "data": {
      "text/plain": [
       "<unittest.runner.TextTestResult run=4 errors=0 failures=0>"
      ]
     },
     "execution_count": 145,
     "metadata": {},
     "output_type": "execute_result"
    }
   ],
   "source": [
    "class TestSieveOfAtkinFormulas(unittest.TestCase):\n",
    "    def test_formula_1_mod_12_1_or_5(self):\n",
    "        print(\"\\nTesting Formula 1: 4x² + y² ≡ 1 or 5 (mod 12)...\\n\")\n",
    "        primes = sieve_of_atkin(5)\n",
    "        self.assertIn(5, primes)\n",
    "        print(\"Test passed: 5 correctly included by Formula 1\")\n",
    "\n",
    "    def test_formula_2_mod_12_7(self):\n",
    "        print(\"\\nTesting Formula 2: 3x² + y² ≡ 7 (mod 12)...\\n\")\n",
    "        primes = sieve_of_atkin(7)\n",
    "        self.assertIn(7, primes)\n",
    "        print(\"Test passed: 7 correctly included by Formula 2\")\n",
    "\n",
    "    def test_formula_3_mod_12_11(self):\n",
    "        print(\"\\nTesting Formula 3: 3x² − y² ≡ 11 (mod 12)...\\n\")\n",
    "        primes = sieve_of_atkin(11)\n",
    "        self.assertIn(11, primes)\n",
    "        print(\"Test passed: 11 correctly included by Formula 3\")\n",
    "\n",
    "    def test_false_positives_eliminated(self):\n",
    "        print(\"\\nTesting elimination of false positives (non-primes marked off)...\\n\")\n",
    "        primes = sieve_of_atkin(50)\n",
    "        self.assertNotIn(49, primes)  # 49 = 7² should be filtered\n",
    "        self.assertNotIn(9, primes)   # 9 = 3²\n",
    "        print(\"Test passed: composite squares eliminated as expected\")\n",
    "\n",
    "        print(\"\\nsieve_of_atkin formula-specific tests completed successfully.\\n\")\n",
    "\n",
    "unittest.TextTestRunner(verbosity=2).run(unittest.TestLoader().loadTestsFromTestCase(TestSieveOfAtkinFormulas))\n"
   ]
  },
  {
   "cell_type": "markdown",
   "metadata": {},
   "source": [
    "#### **Step 2: Execute Sieve of Atkin for 1000 Primes**\n",
    "\n",
    "- Definition\n",
    "\n",
    "   - Executes the Sieve of Atkin algorithm to generate prime numbers, targeting the first 1000 primes.\n",
    "   \n",
    "   - Uses 8000 as the upper limit to ensure capturing at least 1000 prime numbers, since the 1000th prime is approximately 7919.\n",
    "   \n",
    "   - Applies list slicing with [:1000] to extract exactly the first 1000 primes from the generated list.\n",
    "   \n",
    "   - Prints the resulting list to display all 1000 prime numbers generated by the Sieve of Atkin algorithm.\n",
    "   \n",
    "   - This approach allows comparison with the Trial Division method to verify that both algorithms produce identical results for the first 1000 primes.\n",
    "   \n",
    "   - The Sieve of Atkin typically produces the result much faster than Trial Division, especially for larger ranges of prime numbers."
   ]
  },
  {
   "cell_type": "code",
   "execution_count": 146,
   "metadata": {},
   "outputs": [
    {
     "name": "stdout",
     "output_type": "stream",
     "text": [
      "[2, 3, 5, 7, 11, 13, 17, 19, 23, 29, 31, 37, 41, 43, 47, 53, 59, 61, 67, 71, 73, 79, 83, 89, 97, 101, 103, 107, 109, 113, 127, 131, 137, 139, 149, 151, 157, 163, 167, 173, 179, 181, 191, 193, 197, 199, 211, 223, 227, 229, 233, 239, 241, 251, 257, 263, 269, 271, 277, 281, 283, 293, 307, 311, 313, 317, 331, 337, 347, 349, 353, 359, 367, 373, 379, 383, 389, 397, 401, 409, 419, 421, 431, 433, 439, 443, 449, 457, 461, 463, 467, 479, 487, 491, 499, 503, 509, 521, 523, 541, 547, 557, 563, 569, 571, 577, 587, 593, 599, 601, 607, 613, 617, 619, 631, 641, 643, 647, 653, 659, 661, 673, 677, 683, 691, 701, 709, 719, 727, 733, 739, 743, 751, 757, 761, 769, 773, 787, 797, 809, 811, 821, 823, 827, 829, 839, 853, 857, 859, 863, 877, 881, 883, 887, 907, 911, 919, 929, 937, 941, 947, 953, 967, 971, 977, 983, 991, 997, 1009, 1013, 1019, 1021, 1031, 1033, 1039, 1049, 1051, 1061, 1063, 1069, 1087, 1091, 1093, 1097, 1103, 1109, 1117, 1123, 1129, 1151, 1153, 1163, 1171, 1181, 1187, 1193, 1201, 1213, 1217, 1223, 1229, 1231, 1237, 1249, 1259, 1277, 1279, 1283, 1289, 1291, 1297, 1301, 1303, 1307, 1319, 1321, 1327, 1361, 1367, 1373, 1381, 1399, 1409, 1423, 1427, 1429, 1433, 1439, 1447, 1451, 1453, 1459, 1471, 1481, 1483, 1487, 1489, 1493, 1499, 1511, 1523, 1531, 1543, 1549, 1553, 1559, 1567, 1571, 1579, 1583, 1597, 1601, 1607, 1609, 1613, 1619, 1621, 1627, 1637, 1657, 1663, 1667, 1669, 1693, 1697, 1699, 1709, 1721, 1723, 1733, 1741, 1747, 1753, 1759, 1777, 1783, 1787, 1789, 1801, 1811, 1823, 1831, 1847, 1861, 1867, 1871, 1873, 1877, 1879, 1889, 1901, 1907, 1913, 1931, 1933, 1949, 1951, 1973, 1979, 1987, 1993, 1997, 1999, 2003, 2011, 2017, 2027, 2029, 2039, 2053, 2063, 2069, 2081, 2083, 2087, 2089, 2099, 2111, 2113, 2129, 2131, 2137, 2141, 2143, 2153, 2161, 2179, 2203, 2207, 2213, 2221, 2237, 2239, 2243, 2251, 2267, 2269, 2273, 2281, 2287, 2293, 2297, 2309, 2311, 2333, 2339, 2341, 2347, 2351, 2357, 2371, 2377, 2381, 2383, 2389, 2393, 2399, 2411, 2417, 2423, 2437, 2441, 2447, 2459, 2467, 2473, 2477, 2503, 2521, 2531, 2539, 2543, 2549, 2551, 2557, 2579, 2591, 2593, 2609, 2617, 2621, 2633, 2647, 2657, 2659, 2663, 2671, 2677, 2683, 2687, 2689, 2693, 2699, 2707, 2711, 2713, 2719, 2729, 2731, 2741, 2749, 2753, 2767, 2777, 2789, 2791, 2797, 2801, 2803, 2819, 2833, 2837, 2843, 2851, 2857, 2861, 2879, 2887, 2897, 2903, 2909, 2917, 2927, 2939, 2953, 2957, 2963, 2969, 2971, 2999, 3001, 3011, 3019, 3023, 3037, 3041, 3049, 3061, 3067, 3079, 3083, 3089, 3109, 3119, 3121, 3137, 3163, 3167, 3169, 3181, 3187, 3191, 3203, 3209, 3217, 3221, 3229, 3251, 3253, 3257, 3259, 3271, 3299, 3301, 3307, 3313, 3319, 3323, 3329, 3331, 3343, 3347, 3359, 3361, 3371, 3373, 3389, 3391, 3407, 3413, 3433, 3449, 3457, 3461, 3463, 3467, 3469, 3491, 3499, 3511, 3517, 3527, 3529, 3533, 3539, 3541, 3547, 3557, 3559, 3571, 3581, 3583, 3593, 3607, 3613, 3617, 3623, 3631, 3637, 3643, 3659, 3671, 3673, 3677, 3691, 3697, 3701, 3709, 3719, 3727, 3733, 3739, 3761, 3767, 3769, 3779, 3793, 3797, 3803, 3821, 3823, 3833, 3847, 3851, 3853, 3863, 3877, 3881, 3889, 3907, 3911, 3917, 3919, 3923, 3929, 3931, 3943, 3947, 3967, 3989, 4001, 4003, 4007, 4013, 4019, 4021, 4027, 4049, 4051, 4057, 4073, 4079, 4091, 4093, 4099, 4111, 4127, 4129, 4133, 4139, 4153, 4157, 4159, 4177, 4201, 4211, 4217, 4219, 4229, 4231, 4241, 4243, 4253, 4259, 4261, 4271, 4273, 4283, 4289, 4297, 4327, 4337, 4339, 4349, 4357, 4363, 4373, 4391, 4397, 4409, 4421, 4423, 4441, 4447, 4451, 4457, 4463, 4481, 4483, 4493, 4507, 4513, 4517, 4519, 4523, 4547, 4549, 4561, 4567, 4583, 4591, 4597, 4603, 4621, 4637, 4639, 4643, 4649, 4651, 4657, 4663, 4673, 4679, 4691, 4703, 4721, 4723, 4729, 4733, 4751, 4759, 4783, 4787, 4789, 4793, 4799, 4801, 4813, 4817, 4831, 4861, 4871, 4877, 4889, 4903, 4909, 4919, 4931, 4933, 4937, 4943, 4951, 4957, 4967, 4969, 4973, 4987, 4993, 4999, 5003, 5009, 5011, 5021, 5023, 5039, 5051, 5059, 5077, 5081, 5087, 5099, 5101, 5107, 5113, 5119, 5147, 5153, 5167, 5171, 5179, 5189, 5197, 5209, 5227, 5231, 5233, 5237, 5261, 5273, 5279, 5281, 5297, 5303, 5309, 5323, 5333, 5347, 5351, 5381, 5387, 5393, 5399, 5407, 5413, 5417, 5419, 5431, 5437, 5441, 5443, 5449, 5471, 5477, 5479, 5483, 5501, 5503, 5507, 5519, 5521, 5527, 5531, 5557, 5563, 5569, 5573, 5581, 5591, 5623, 5639, 5641, 5647, 5651, 5653, 5657, 5659, 5669, 5683, 5689, 5693, 5701, 5711, 5717, 5737, 5741, 5743, 5749, 5779, 5783, 5791, 5801, 5807, 5813, 5821, 5827, 5839, 5843, 5849, 5851, 5857, 5861, 5867, 5869, 5879, 5881, 5897, 5903, 5923, 5927, 5939, 5953, 5981, 5987, 6007, 6011, 6029, 6037, 6043, 6047, 6053, 6067, 6073, 6079, 6089, 6091, 6101, 6113, 6121, 6131, 6133, 6143, 6151, 6163, 6173, 6197, 6199, 6203, 6211, 6217, 6221, 6229, 6247, 6257, 6263, 6269, 6271, 6277, 6287, 6299, 6301, 6311, 6317, 6323, 6329, 6337, 6343, 6353, 6359, 6361, 6367, 6373, 6379, 6389, 6397, 6421, 6427, 6449, 6451, 6469, 6473, 6481, 6491, 6521, 6529, 6547, 6551, 6553, 6563, 6569, 6571, 6577, 6581, 6599, 6607, 6619, 6637, 6653, 6659, 6661, 6673, 6679, 6689, 6691, 6701, 6703, 6709, 6719, 6733, 6737, 6761, 6763, 6779, 6781, 6791, 6793, 6803, 6823, 6827, 6829, 6833, 6841, 6857, 6863, 6869, 6871, 6883, 6899, 6907, 6911, 6917, 6947, 6949, 6959, 6961, 6967, 6971, 6977, 6983, 6991, 6997, 7001, 7013, 7019, 7027, 7039, 7043, 7057, 7069, 7079, 7103, 7109, 7121, 7127, 7129, 7151, 7159, 7177, 7187, 7193, 7207, 7211, 7213, 7219, 7229, 7237, 7243, 7247, 7253, 7283, 7297, 7307, 7309, 7321, 7331, 7333, 7349, 7351, 7369, 7393, 7411, 7417, 7433, 7451, 7457, 7459, 7477, 7481, 7487, 7489, 7499, 7507, 7517, 7523, 7529, 7537, 7541, 7547, 7549, 7559, 7561, 7573, 7577, 7583, 7589, 7591, 7603, 7607, 7621, 7639, 7643, 7649, 7669, 7673, 7681, 7687, 7691, 7699, 7703, 7717, 7723, 7727, 7741, 7753, 7757, 7759, 7789, 7793, 7817, 7823, 7829, 7841, 7853, 7867, 7873, 7877, 7879, 7883, 7901, 7907, 7919]\n"
     ]
    }
   ],
   "source": [
    "primes_atkin = sieve_of_atkin(8000)[:1000]\n",
    "print(primes_atkin)"
   ]
  },
  {
   "cell_type": "markdown",
   "metadata": {},
   "source": [
    "### **Findings: Prime Number Algorithms**\n",
    "\n",
    "- Both the Trial Division and Sieve of Atkin methods were validated to produce identical prime sequences up to the 1000th prime, confirming consistency and correctness.\n",
    "\n",
    "- **Comparison**:\n",
    "\n",
    "  | Aspect               | Trial Division              | Sieve of Atkin                   |\n",
    "  |----------------------|-----------------------------|----------------------------------|\n",
    "  | Method Type          | Incremental check per value | Bulk sieve using math patterns   |\n",
    "  | Performance          | Slower for large ranges     | Optimized for large ranges       |\n",
    "  | Complexity           | Simple to understand        | Mathematically more complex      |\n",
    "  | Use Case             | Small sets or validation    | High-performance prime generation |\n",
    "\n",
    "\n",
    "### **Conclusion**:\n",
    "  - For small inputs or educational purposes, **Trial Division** offers clarity and simplicity.  \n",
    "  - For generating large numbers of primes efficiently, the **Sieve of Atkin** is the superior choice due to its significantly better runtime performance."
   ]
  },
  {
   "cell_type": "markdown",
   "metadata": {},
   "source": [
    "## **Task 5 - Roots**"
   ]
  },
  {
   "cell_type": "markdown",
   "metadata": {},
   "source": [
    "**Purpose**\n",
    "\n",
    "- This task extracts the 32-bit binary representation of the fractional part of square roots of prime numbers.\n",
    "- It defines a function to isolate and convert the fractional part of any floating-point value into a fixed-size binary integer.\n",
    "- It uses the Sieve of Atkin from Task 4 to generate the first 100 prime numbers.\n",
    "- For each prime, the square root is calculated and its fractional part is encoded into a 32-bit binary integer using the defined function.\n",
    "- This allows binary data to be derived from mathematical constants, which is useful in deterministic random generation and cryptographic precomputation.\n",
    "\n",
    "**Cryptographic Context**\n",
    "\n",
    "- Fractional binary representations of irrational numbers (like square roots of primes) are used in cryptography to derive constants that are hard to reverse-engineer.\n",
    "- SHA-256, for example, uses the fractional parts of square roots of primes to define initial hash values.\n",
    "- Extracting these representations helps demonstrate how deterministic constants can be produced from well-known but non-repeating values.\n",
    "- This supports the design of cryptographic systems where reproducible, high-entropy values are required."
   ]
  },
  {
   "cell_type": "markdown",
   "metadata": {},
   "source": [
    "### **Step 1: Extract Fractional Bits from Real Numbers**\n",
    "\n",
    "- **Definition**\n",
    "\n",
    "    - Defines a function that isolates the fractional part of a float and extracts a specified number of bits from it.\n",
    "\n",
    "    - Uses iterative doubling to shift fractional digits into binary form.\n",
    "\n",
    "    - Accumulates the result as a binary integer by checking whether each successive bit is 1 or 0.\n",
    "\n",
    "    - Works for any real number and customizable bit lengths.\n",
    "\n",
    "    - Useful for encoding non-repeating binary patterns from mathematical constants."
   ]
  },
  {
   "cell_type": "code",
   "execution_count": 148,
   "metadata": {},
   "outputs": [],
   "source": [
    "def get_fractional_bits(value, bits=32):\n",
    "    \"\"\"Extracts the first `bits` binary digits of the fractional part of a number.\"\"\"\n",
    "    fractional_part = value - math.floor(value) \n",
    "    result = 0\n",
    "    for i in range(bits):\n",
    "        fractional_part *= 2\n",
    "        bit = int(fractional_part)\n",
    "        result = (result << 1) | bit\n",
    "        fractional_part -= bit\n",
    "    return result"
   ]
  },
  {
   "cell_type": "markdown",
   "metadata": {},
   "source": [
    "#### **Test Class: `TestGetFractionalBits`**\n",
    "\n",
    "- **Test Approach**\n",
    "    - Evaluates the function against different categories of inputs: 0.0, whole numbers, fractions, irrational numbers, and limited-bit precision cases.\n",
    "\n",
    "    - Each case includes an expected output or property check.\n",
    "\n",
    "- **Verification**\n",
    "    - 0.0 and integers have no fractional component and should return 0.\n",
    "\n",
    "    - 0.5 returns a result with only the highest bit set.\n",
    "\n",
    "    - Square roots and irrational constants return valid 32-bit binary representations.\n",
    "\n",
    "    - Outputs are checked for bit range and type.\n",
    "\n",
    "- **Outcome**\n",
    "    - Function correctly handles all input types and bit sizes.\n",
    "    \n",
    "    - Demonstrates the function’s ability to reliably extract deterministic bit patterns."
   ]
  },
  {
   "cell_type": "code",
   "execution_count": 149,
   "metadata": {},
   "outputs": [
    {
     "name": "stderr",
     "output_type": "stream",
     "text": [
      "test_custom_bits (__main__.TestGetFractionalBits.test_custom_bits) ... ok\n",
      "test_half (__main__.TestGetFractionalBits.test_half) ... ok\n",
      "test_integer_input (__main__.TestGetFractionalBits.test_integer_input) ... ok\n",
      "test_sqrt_2 (__main__.TestGetFractionalBits.test_sqrt_2) ... ok\n",
      "test_zero (__main__.TestGetFractionalBits.test_zero) ... ok\n",
      "\n",
      "----------------------------------------------------------------------\n",
      "Ran 5 tests in 0.004s\n",
      "\n",
      "OK\n"
     ]
    },
    {
     "name": "stdout",
     "output_type": "stream",
     "text": [
      "\n",
      "Testing get_fractional_bits(math.pi, bits=8)...\n",
      "Output: 00100100\n",
      "Test passed: fractional bits of π (8 bits) is within range 0-255\n",
      "\n",
      "get_fractional_bits tests completed successfully.\n",
      "\n",
      "\n",
      "Testing get_fractional_bits(0.5)...\n",
      "Output: 10000000000000000000000000000000\n",
      "Test passed: fractional bits of 0.5 == 1000...0\n",
      "\n",
      "Testing get_fractional_bits(7)...\n",
      "Output: 00000000000000000000000000000000\n",
      "Test passed: fractional bits of 7 == 0\n",
      "\n",
      "Testing get_fractional_bits(math.sqrt(2))...\n",
      "Output: 01101010000010011110011001100111\n",
      "Test passed: fractional bits of √2 is a valid 32-bit integer\n",
      "\n",
      "Testing get_fractional_bits(0.0)...\n",
      "Output: 00000000000000000000000000000000\n",
      "Test passed: fractional bits of 0.0 == 0\n"
     ]
    },
    {
     "data": {
      "text/plain": [
       "<unittest.runner.TextTestResult run=5 errors=0 failures=0>"
      ]
     },
     "execution_count": 149,
     "metadata": {},
     "output_type": "execute_result"
    }
   ],
   "source": [
    "class TestGetFractionalBits(unittest.TestCase):\n",
    "    def test_zero(self):\n",
    "        print(\"\\nTesting get_fractional_bits(0.0)...\")\n",
    "        result = get_fractional_bits(0.0)\n",
    "        print(f\"Output: {result:032b}\")\n",
    "        self.assertEqual(result, 0)\n",
    "        print(\"Test passed: fractional bits of 0.0 == 0\")\n",
    "\n",
    "    def test_integer_input(self):\n",
    "        print(\"\\nTesting get_fractional_bits(7)...\")\n",
    "        result = get_fractional_bits(7)\n",
    "        print(f\"Output: {result:032b}\")\n",
    "        self.assertEqual(result, 0)\n",
    "        print(\"Test passed: fractional bits of 7 == 0\")\n",
    "\n",
    "    def test_half(self):\n",
    "        print(\"\\nTesting get_fractional_bits(0.5)...\")\n",
    "        result = get_fractional_bits(0.5)\n",
    "        expected = int('1' + '0'*31, 2)\n",
    "        print(f\"Output: {result:032b}\")\n",
    "        self.assertEqual(result, expected)\n",
    "        print(\"Test passed: fractional bits of 0.5 == 1000...0\")\n",
    "\n",
    "    def test_sqrt_2(self):\n",
    "        print(\"\\nTesting get_fractional_bits(math.sqrt(2))...\")\n",
    "        value = math.sqrt(2)\n",
    "        result = get_fractional_bits(value)\n",
    "        print(f\"Output: {result:032b}\")\n",
    "        self.assertIsInstance(result, int)\n",
    "        self.assertLess(result, 2**32)\n",
    "        print(\"Test passed: fractional bits of √2 is a valid 32-bit integer\")\n",
    "\n",
    "    def test_custom_bits(self):\n",
    "        print(\"\\nTesting get_fractional_bits(math.pi, bits=8)...\")\n",
    "        value = math.pi\n",
    "        result = get_fractional_bits(value, bits=8)\n",
    "        print(f\"Output: {result:08b}\")\n",
    "        self.assertGreaterEqual(result, 0)\n",
    "        self.assertLess(result, 256)\n",
    "        print(\"Test passed: fractional bits of π (8 bits) is within range 0-255\")\n",
    "\n",
    "        print(\"\\nget_fractional_bits tests completed successfully.\\n\")\n",
    "\n",
    "unittest.TextTestRunner(verbosity=2).run(unittest.TestLoader().loadTestsFromTestCase(TestGetFractionalBits))"
   ]
  },
  {
   "cell_type": "markdown",
   "metadata": {},
   "source": [
    "### **Step 2: Generate First 100 Prime Numbers**\n",
    "\n",
    "- **Definition**\n",
    "\n",
    "    - Reuses the `primes_atkin` list from Task 4, no recomputation is needed as primes were already generated.\n",
    "\n",
    "    - Uses slicing to extract the first 100 primes from the precomputed sequence."
   ]
  },
  {
   "cell_type": "code",
   "execution_count": 150,
   "metadata": {},
   "outputs": [],
   "source": [
    "# Using the Atkin Sieve from task 4 to generate the first 100 prime numbers\n",
    "first_100_primes = primes_atkin[:100] "
   ]
  },
  {
   "cell_type": "markdown",
   "metadata": {},
   "source": [
    "### **Step 3: Compute Fractional Bits of √p for First 100 Primes**\n",
    "\n",
    "- **Definition**\n",
    "\n",
    "    - It iterates over the first 100 prime numbers.\n",
    "\n",
    "    - For each prime, it calculates its square root.\n",
    "\n",
    "    - It extracts the first 32 bits of the fractional part of the square root.\n",
    "\n",
    "    - It stores each 32-bit result in a list."
   ]
  },
  {
   "cell_type": "code",
   "execution_count": 151,
   "metadata": {},
   "outputs": [],
   "source": [
    "# Compute and store the 32-bit fractional binary representation of the square roots\n",
    "sqrt_fractional_bits = []\n",
    "for prime in first_100_primes:\n",
    "    sqrt_val = math.sqrt(prime)\n",
    "    bits = get_fractional_bits(sqrt_val, bits=32)\n",
    "    sqrt_fractional_bits.append(bits)"
   ]
  },
  {
   "cell_type": "markdown",
   "metadata": {},
   "source": [
    "#### **Test Class: `TestSqrtFractionalBitsExtraction`**\n",
    "\n",
    "- **Test Approach**\n",
    "    - Validates the 32-bit fractional bit extraction of prime square root for the first 100 prime numbers.\n",
    "\n",
    "    - Ensures length, type, and correctness of output values.\n",
    "\n",
    "    - Verifies deterministic behavior across repeated runs.\n",
    "\n",
    "- **Verification**\n",
    "    - Confirms output list has exactly 100 results.\n",
    "\n",
    "    - Checks that all results are 32-bit integers within valid bounds.\n",
    "\n",
    "    - Validates that no entries are `None` or `NaN`.\n",
    "\n",
    "    - Confirms output is deterministic when the same input is used.\n",
    "\n",
    "- **Outcome**\n",
    "    - All tests pass.\n",
    "    \n",
    "    - Function is confirmed to produce valid, reproducible results for the square root bit extraction."
   ]
  },
  {
   "cell_type": "code",
   "execution_count": 192,
   "metadata": {},
   "outputs": [
    {
     "name": "stderr",
     "output_type": "stream",
     "text": [
      "test_first_100_primes_sqrt_bits (__main__.TestSqrtFractionalBitsExtraction.test_first_100_primes_sqrt_bits) ... ok\n",
      "\n",
      "----------------------------------------------------------------------\n",
      "Ran 1 test in 0.010s\n",
      "\n",
      "OK\n"
     ]
    },
    {
     "name": "stdout",
     "output_type": "stream",
     "text": [
      "\n",
      "Starting validation for 32-bit fractional extraction from square roots of the first 100 prime numbers...\n",
      "\n",
      "Running Test 1: Check result length == 100...\n",
      "Test passed: Output list contains 100 entries.\n",
      "\n",
      "Running Test 2: Validate each output is a valid 32-bit integer...\n",
      "Test passed: All entries are valid 32-bit integers.\n",
      "\n",
      "Running Test 3: Ensure no None or NaN values...\n",
      "Test passed: No None or NaN values in the output.\n",
      "\n",
      "Running Test 4: Confirm deterministic output...\n",
      "Test passed: Results are reproducible (deterministic).\n",
      "\n",
      "Running Test 5: Validate bit correctness for known input (√2)...\n",
      "Test passed: Fractional bits of √2 match expected binary value.\n",
      "\n",
      "\n",
      "All sqrt(prime) fractional bit extraction tests completed successfully.\n",
      "\n"
     ]
    },
    {
     "data": {
      "text/plain": [
       "<unittest.runner.TextTestResult run=1 errors=0 failures=0>"
      ]
     },
     "execution_count": 192,
     "metadata": {},
     "output_type": "execute_result"
    }
   ],
   "source": [
    "class TestSqrtFractionalBitsExtraction(unittest.TestCase):\n",
    "\n",
    "    def test_first_100_primes_sqrt_bits(self):\n",
    "        first_100_primes = primes_output[:100]\n",
    "\n",
    "        print(\"\\nStarting validation for 32-bit fractional extraction from square roots of the first 100 prime numbers...\\n\")\n",
    "\n",
    "        # Compute the fractional bits\n",
    "        sqrt_fractional_bits = []\n",
    "        for prime in first_100_primes:\n",
    "            sqrt_val = math.sqrt(prime)\n",
    "            bits = get_fractional_bits(sqrt_val, bits=32)\n",
    "            sqrt_fractional_bits.append(bits)\n",
    "\n",
    "        # Test 1: Correct number of results\n",
    "        print(\"Running Test 1: Check result length == 100...\")\n",
    "        self.assertEqual(len(sqrt_fractional_bits), 100)\n",
    "        print(\"Test passed: Output list contains 100 entries.\\n\")\n",
    "\n",
    "        # Test 2: All values are valid 32-bit integers\n",
    "        print(\"Running Test 2: Validate each output is a valid 32-bit integer...\")\n",
    "        for bits in sqrt_fractional_bits:\n",
    "            self.assertIsInstance(bits, int)\n",
    "            self.assertGreaterEqual(bits, 0)\n",
    "            self.assertLess(bits, 2**32)\n",
    "        print(\"Test passed: All entries are valid 32-bit integers.\\n\")\n",
    "\n",
    "        # Test 3: No None or NaN values\n",
    "        print(\"Running Test 3: Ensure no None or NaN values...\")\n",
    "        for bits in sqrt_fractional_bits:\n",
    "            self.assertIsNotNone(bits)\n",
    "            self.assertFalse(math.isnan(bits))\n",
    "        print(\"Test passed: No None or NaN values in the output.\\n\")\n",
    "\n",
    "        # Test 4: Deterministic output\n",
    "        print(\"Running Test 4: Confirm deterministic output...\")\n",
    "        for prime in first_100_primes:\n",
    "            sqrt_val = math.sqrt(prime)\n",
    "            bits1 = get_fractional_bits(sqrt_val, bits=32)\n",
    "            bits2 = get_fractional_bits(sqrt_val, bits=32)\n",
    "            self.assertEqual(bits1, bits2)\n",
    "        print(\"Test passed: Results are reproducible (deterministic).\\n\")\n",
    "\n",
    "        # Test 5: Validate bit correctness for known input\n",
    "        print(\"Running Test 5: Validate bit correctness for known input (√2)...\")\n",
    "        sqrt_2 = math.sqrt(2)\n",
    "        result = get_fractional_bits(sqrt_2, bits=32)\n",
    "        expected = int('01101010000010011110011001100111', 2)\n",
    "        self.assertEqual(result, expected)\n",
    "        print(\"Test passed: Fractional bits of √2 match expected binary value.\\n\")\n",
    "\n",
    "        print(\"\\nAll sqrt(prime) fractional bit extraction tests completed successfully.\\n\")\n",
    "\n",
    "unittest.TextTestRunner(verbosity=2).run(unittest.TestLoader().loadTestsFromTestCase(TestSqrtFractionalBitsExtraction))\n"
   ]
  },
  {
   "cell_type": "markdown",
   "metadata": {},
   "source": [
    "### **Step 4: Display Fractional Bit Output for Selected Primes**\n",
    "\n",
    "- **Definition**\n",
    "\n",
    "    - It pairs each prime number with the 32-bit binary representation of the fractional part of its square root.\n",
    "\n",
    "    - It displays only the first 10 and last 10 (prime, bits) pairs for clarity."
   ]
  },
  {
   "cell_type": "code",
   "execution_count": 191,
   "metadata": {},
   "outputs": [
    {
     "name": "stdout",
     "output_type": "stream",
     "text": [
      "First 10 primes with fractional bits of their square roots:\n",
      "\n",
      "Prime: 2 -> Bits: 01101010000010011110011001100111\n",
      "Prime: 3 -> Bits: 10111011011001111010111010000101\n",
      "Prime: 5 -> Bits: 00111100011011101111001101110010\n",
      "Prime: 7 -> Bits: 10100101010011111111010100111010\n",
      "Prime: 11 -> Bits: 01010001000011100101001001111111\n",
      "Prime: 13 -> Bits: 10011011000001010110100010001100\n",
      "Prime: 17 -> Bits: 00011111100000111101100110101011\n",
      "Prime: 19 -> Bits: 01011011111000001100110100011001\n",
      "Prime: 23 -> Bits: 11001011101110111001110101011101\n",
      "Prime: 29 -> Bits: 01100010100110100010100100101010\n",
      "\n",
      "...\n",
      "\n",
      "Last 10 primes with fractional bits of their square roots:\n",
      "\n",
      "Prime: 467 -> Bits: 10011100001101001111000001100010\n",
      "Prime: 479 -> Bits: 11100010110101010110010011000100\n",
      "Prime: 487 -> Bits: 00010001011011010111010111111101\n",
      "Prime: 491 -> Bits: 00101000100101001100000100000111\n",
      "Prime: 499 -> Bits: 01010110100110110101100011000110\n",
      "Prime: 503 -> Bits: 01101101011110110011100100111001\n",
      "Prime: 509 -> Bits: 10001111100111111000110110111011\n",
      "Prime: 521 -> Bits: 11010011010011110000001111001101\n",
      "Prime: 523 -> Bits: 11011110100000110111001011101111\n",
      "Prime: 541 -> Bits: 01000010011010000111101000111001\n"
     ]
    }
   ],
   "source": [
    "# Create (prime, bits) string pairs\n",
    "pairs = [(p, f\"{get_fractional_bits(math.sqrt(p), bits=32):032b}\") for p in first_100_primes]\n",
    "\n",
    "# Print first 10\n",
    "print(\"First 10 primes with fractional bits of their square roots:\\n\")\n",
    "for p, b in pairs[:10]:\n",
    "    print(f\"Prime: {p} -> Bits: {b}\")\n",
    "\n",
    "# Ellipsis separator\n",
    "print(\"\\n...\\n\")\n",
    "\n",
    "# Print last 10\n",
    "print(\"Last 10 primes with fractional bits of their square roots:\\n\")\n",
    "for p, b in pairs[-10:]:\n",
    "    print(f\"Prime: {p} -> Bits: {b}\")\n"
   ]
  },
  {
   "cell_type": "markdown",
   "metadata": {},
   "source": [
    "### **Conclusion: Square Root Fractional Bit Extraction**\n",
    "\n",
    "- This task successfully demonstrated how to extract deterministic 32-bit binary patterns from the fractional parts of square roots of prime numbers.\n",
    "\n",
    "- The `get_fractional_bits` function was tested and verified for correctness, edge cases, and reproducibility.\n",
    "\n",
    "- The first 100 prime numbers were reused from the Sieve of Atkin implementation in Task 4.\n",
    "\n",
    "- The extracted bit patterns were validated through automated tests and visually confirmed using printed output.\n",
    "\n",
    "- This method parallels how constants are generated in cryptographic systems like SHA-256, where square root and cube root fractional parts of primes are used to initialize hash functions.\n",
    "\n",
    "- The process is mathematically sound, reproducible, and provides entropy suitable for cryptographic applications.\n",
    "\n",
    "- Extracting fractional binary patterns from irrational roots is a reliable technique for deterministic constant generation in security systems."
   ]
  },
  {
   "cell_type": "markdown",
   "metadata": {},
   "source": [
    "## **Task 6 - Proof of Work**\n",
    "\n",
    "**Purpose**\n",
    "\n",
    "- This task simulates a basic proof-of-work mechanism by analyzing the SHA-256 hashes of English dictionary words.\n",
    "\n",
    "- The goal is to find which word(s) produce the most leading zero bits in their 256-bit SHA-256 hash.\n",
    "\n",
    "- A dictionary file is loaded and processed word by word to evaluate hash properties.\n",
    "\n",
    "- The task mirrors the concept of mining in cryptocurrencies, where higher leading zero counts indicate greater computational rarity.\n",
    "\n",
    "**Cryptographic Context**\n",
    "\n",
    "- Proof-of-work systems rely on cryptographic hash functions like SHA-256 to produce outputs that meet certain criteria, such as starting with a number of zero bits.\n",
    "\n",
    "- In blockchain mining, miners seek a nonce that causes the hash of a block to have a specific number of leading zeros, which proves computational effort.\n",
    "\n",
    "- This task demonstrates the same core idea by searching for inputs (words) whose hashes naturally meet that condition.\n",
    "\n",
    "- The rarity of leading zeros showcases the pseudo-random nature of SHA-256 and the infeasibility of predicting or preselecting favorable inputs."
   ]
  },
  {
   "cell_type": "markdown",
   "metadata": {},
   "source": [
    "### **Step 1: Load Dictionary and Initialize Tracking Variables**\n",
    "\n",
    "- **Definition**\n",
    "\n",
    "    - Loads all words from `dictionary.txt` into a lowercase set to eliminate duplicates.\n",
    "\n",
    "    - Initializes `max_leading_zeros` and `best_words` to track the best result encountered during processing.\n",
    "    \n",
    "    - Confirms the total number of words loaded."
   ]
  },
  {
   "cell_type": "code",
   "execution_count": 206,
   "metadata": {},
   "outputs": [
    {
     "name": "stdout",
     "output_type": "stream",
     "text": [
      "Loaded 'dictionary.txt' with 233614 words.\n"
     ]
    }
   ],
   "source": [
    "with open(\"dictionary.txt\", \"r\") as file:\n",
    "    english_words = set(word.strip().lower() for word in file if word.strip())\n",
    "\n",
    "max_leading_zeros = 0\n",
    "best_words = []\n",
    "\n",
    "print(f\"Loaded 'dictionary.txt' with {len(english_words)} words.\")"
   ]
  },
  {
   "cell_type": "markdown",
   "metadata": {},
   "source": [
    "#### **Test Class: `TestSetup`**\n",
    "\n",
    "- **Test Approach**\n",
    "    - Validates that the dictionary file exists, is not empty, and is correctly processed into a usable set.\n",
    "\n",
    "    - Checks initialization of key tracking variables.\n",
    "\n",
    "- **Verification**\n",
    "    - Ensures `dictionary.txt` is found and contains non-empty lines.\n",
    "\n",
    "    - Confirms `english_words` is a populated set of lowercase strings.\n",
    "\n",
    "    - Verifies expected words like `'apple'` are present.\n",
    "    \n",
    "    - Confirms that `max_leading_zeros` starts at 0 and `best_words` starts empty.\n",
    "\n",
    "- **Outcome**\n",
    "    - All checks pass, confirming proper file loading, data structure integrity, and correct initial states."
   ]
  },
  {
   "cell_type": "code",
   "execution_count": 207,
   "metadata": {},
   "outputs": [
    {
     "name": "stderr",
     "output_type": "stream",
     "text": [
      "test_best_words_initial (__main__.TestSetup.test_best_words_initial) ... ok\n",
      "test_common_word_exists (__main__.TestSetup.test_common_word_exists) ... ok\n",
      "test_dictionary_file_exists_and_not_empty (__main__.TestSetup.test_dictionary_file_exists_and_not_empty) ... "
     ]
    },
    {
     "name": "stdout",
     "output_type": "stream",
     "text": [
      "Test passed: best_words is initialized as an empty list.\n",
      "Test passed: Common word 'apple' found in english_words.\n",
      "Test passed: dictionary.txt exists and contains words.\n"
     ]
    },
    {
     "name": "stderr",
     "output_type": "stream",
     "text": [
      "ok\n",
      "test_english_words_set (__main__.TestSetup.test_english_words_set) ... ok\n",
      "test_max_leading_zeros_initial (__main__.TestSetup.test_max_leading_zeros_initial) ... ok\n",
      "\n",
      "----------------------------------------------------------------------\n",
      "Ran 5 tests in 0.162s\n",
      "\n",
      "OK\n"
     ]
    },
    {
     "name": "stdout",
     "output_type": "stream",
     "text": [
      "Test passed: english_words is a non-empty set of strings.\n",
      "Test passed: max_leading_zeros is initialized to 0.\n"
     ]
    },
    {
     "data": {
      "text/plain": [
       "<unittest.runner.TextTestResult run=5 errors=0 failures=0>"
      ]
     },
     "execution_count": 207,
     "metadata": {},
     "output_type": "execute_result"
    }
   ],
   "source": [
    "class TestSetup(unittest.TestCase):\n",
    "\n",
    "    def test_dictionary_file_exists_and_not_empty(self):\n",
    "        self.assertTrue(os.path.exists(\"dictionary.txt\"), \"dictionary.txt should exist.\")\n",
    "        with open(\"dictionary.txt\", \"r\") as f:\n",
    "            lines = [line.strip() for line in f if line.strip()]\n",
    "        self.assertGreater(len(lines), 0, \"dictionary.txt should not be empty.\")\n",
    "        print(\"Test passed: dictionary.txt exists and contains words.\")\n",
    "\n",
    "    def test_english_words_set(self):\n",
    "        self.assertIsInstance(english_words, set, \"english_words should be a set.\")\n",
    "        self.assertGreater(len(english_words), 0, \"english_words should not be empty.\")\n",
    "        sample = next(iter(english_words))\n",
    "        self.assertIsInstance(sample, str, \"Each word should be a string.\")\n",
    "        print(\"Test passed: english_words is a non-empty set of strings.\")\n",
    "\n",
    "    def test_common_word_exists(self):\n",
    "        self.assertIn('apple', english_words, \"'apple' should be in the English word list.\")\n",
    "        print(\"Test passed: Common word 'apple' found in english_words.\")\n",
    "\n",
    "    def test_max_leading_zeros_initial(self):\n",
    "        self.assertEqual(max_leading_zeros, 0, \"max_leading_zeros should start at 0.\")\n",
    "        print(\"Test passed: max_leading_zeros is initialized to 0.\")\n",
    "\n",
    "    def test_best_words_initial(self):\n",
    "        self.assertEqual(best_words, [], \"best_words should start as an empty list.\")\n",
    "        print(\"Test passed: best_words is initialized as an empty list.\")\n",
    "\n",
    "unittest.TextTestRunner(verbosity=2).run(unittest.TestLoader().loadTestsFromTestCase(TestSetup))"
   ]
  },
  {
   "cell_type": "markdown",
   "metadata": {},
   "source": [
    "#### **Step 2: Count Leading Zero Bits in SHA-256 Hashes**\n",
    "\n",
    "- **Definition**\n",
    "\n",
    "    - Defines a helper function `count_leading_zero_bits()` to count the number of leading `'0'`s in a binary string.\n",
    "\n",
    "    - Converts the SHA-256 hex digest to a 256-bit binary string.\n",
    "    \n",
    "    - Processes each word in the dictionary:\n",
    "\n",
    "        - Hashes the word\n",
    "\n",
    "        - Counts the leading zeros\n",
    "        \n",
    "        - Updates tracking variables if a new maximum is found or tied"
   ]
  },
  {
   "cell_type": "code",
   "execution_count": 208,
   "metadata": {},
   "outputs": [],
   "source": [
    "# Function to count leading zero bits in a binary string\n",
    "def count_leading_zero_bits(binary_string):\n",
    "    return len(binary_string) - len(binary_string.lstrip('0'))\n",
    "\n",
    "# Process each word\n",
    "for word in english_words:\n",
    "    word = word.lower()\n",
    "    h = hashlib.sha256(word.encode()).hexdigest() \n",
    "    b = bin(int(h, 16))[2:].zfill(256)  \n",
    "    count = count_leading_zero_bits(b)\n",
    "\n",
    "    if count > max_leading_zeros:\n",
    "        max_leading_zeros = count\n",
    "        best_words = [word]\n",
    "    elif count == max_leading_zeros:\n",
    "        best_words.append(word)"
   ]
  },
  {
   "cell_type": "markdown",
   "metadata": {},
   "source": [
    "#### **Test Class: `TestSHA256BitAnalysis`**\n",
    "\n",
    "- **Test Approach**\n",
    "    - Verifies the correctness and consistency of hash processing and bit-counting logic.\n",
    "\n",
    "- **Verification**\n",
    "    - Validates that `count_leading_zero_bits()` returns the correct count for test inputs.\n",
    "    - Confirms that SHA-256 binary strings are 256 bits and contain only binary characters.\n",
    "    - Ensures that hashing the same word yields consistent results.\n",
    "    - Tests the logic that tracks which words have the most leading zeros.\n",
    "\n",
    "- **Outcome**\n",
    "    - All functional and edge-case tests pass.\n",
    "    - Confirms SHA-256 conversions and tracking logic behave as expected."
   ]
  },
  {
   "cell_type": "code",
   "execution_count": 209,
   "metadata": {},
   "outputs": [
    {
     "name": "stderr",
     "output_type": "stream",
     "text": [
      "test_leading_zero_bits_count (__main__.TestSHA256BitAnalysis.test_leading_zero_bits_count) ... ok\n",
      "test_max_leading_zero_tracking (__main__.TestSHA256BitAnalysis.test_max_leading_zero_tracking) ... ok\n",
      "test_sha256_binary_conversion (__main__.TestSHA256BitAnalysis.test_sha256_binary_conversion) ... ok\n",
      "test_sha256_consistency (__main__.TestSHA256BitAnalysis.test_sha256_consistency) ... ok\n",
      "\n",
      "----------------------------------------------------------------------\n",
      "Ran 4 tests in 0.010s\n",
      "\n",
      "OK\n"
     ]
    },
    {
     "name": "stdout",
     "output_type": "stream",
     "text": [
      "Test passed: count_leading_zero_bits returns correct values.\n",
      "Test passed: leading-zero tracking logic works correctly.\n",
      "Test passed: SHA-256 binary conversion produces 256-bit binary string.\n",
      "Test passed: SHA-256 is deterministic for same input.\n"
     ]
    },
    {
     "data": {
      "text/plain": [
       "<unittest.runner.TextTestResult run=4 errors=0 failures=0>"
      ]
     },
     "execution_count": 209,
     "metadata": {},
     "output_type": "execute_result"
    }
   ],
   "source": [
    "class TestSHA256BitAnalysis(unittest.TestCase):\n",
    "\n",
    "    def test_leading_zero_bits_count(self):\n",
    "        self.assertEqual(count_leading_zero_bits('00001111'), 4)\n",
    "        self.assertEqual(count_leading_zero_bits('11111111'), 0)\n",
    "        self.assertEqual(count_leading_zero_bits('00000000'), 8)\n",
    "        print(\"Test passed: count_leading_zero_bits returns correct values.\")\n",
    "\n",
    "    def test_sha256_binary_conversion(self):\n",
    "        word = 'example'\n",
    "        h = hashlib.sha256(word.encode()).hexdigest()\n",
    "        b = bin(int(h, 16))[2:].zfill(256)\n",
    "        self.assertEqual(len(b), 256)\n",
    "        self.assertTrue(all(c in '01' for c in b))\n",
    "        print(\"Test passed: SHA-256 binary conversion produces 256-bit binary string.\")\n",
    "\n",
    "    def test_sha256_consistency(self):\n",
    "        word = 'blockchain'\n",
    "        h1 = hashlib.sha256(word.encode()).hexdigest()\n",
    "        h2 = hashlib.sha256(word.encode()).hexdigest()\n",
    "        self.assertEqual(h1, h2)\n",
    "        print(\"Test passed: SHA-256 is deterministic for same input.\")\n",
    "\n",
    "    def test_max_leading_zero_tracking(self):\n",
    "        test_words = ['aaaaa', 'zzzzz', 'hello']\n",
    "        max_zeros = 0\n",
    "        best = []\n",
    "        for w in test_words:\n",
    "            h = hashlib.sha256(w.encode()).hexdigest()\n",
    "            b = bin(int(h, 16))[2:].zfill(256)\n",
    "            count = count_leading_zero_bits(b)\n",
    "            if count > max_zeros:\n",
    "                max_zeros = count\n",
    "                best = [w]\n",
    "            elif count == max_zeros:\n",
    "                best.append(w)\n",
    "        self.assertIn(best[0], test_words)\n",
    "        self.assertGreaterEqual(max_zeros, 0)\n",
    "        print(\"Test passed: leading-zero tracking logic works correctly.\")\n",
    "\n",
    "unittest.TextTestRunner(verbosity=2).run(unittest.TestLoader().loadTestsFromTestCase(TestSHA256BitAnalysis))\n"
   ]
  },
  {
   "cell_type": "markdown",
   "metadata": {},
   "source": [
    "#### **Step 3: Output Maximum Result**\n",
    "\n",
    "- **Definition**\n",
    "\n",
    "    - After evaluating all dictionary words, prints:\n",
    "\n",
    "        - The maximum number of leading zero bits observed\n",
    "\n",
    "        - The list of words that produced that number\n",
    "        \n",
    "    - Demonstrates a real-world analog of proof-of-work discovery, using natural language instead of a nonce."
   ]
  },
  {
   "cell_type": "code",
   "execution_count": 216,
   "metadata": {},
   "outputs": [
    {
     "name": "stdout",
     "output_type": "stream",
     "text": [
      "Maximum leading zero bits: 16\n",
      "Top word(s) with the most leading zero bits:\n",
      "\n",
      "  guilefulness\n",
      "\n",
      "  mismatchment\n"
     ]
    }
   ],
   "source": [
    "# Show results\n",
    "print(f\"Maximum leading zero bits: {max_leading_zeros}\")\n",
    "print(\"Top word(s) with the most leading zero bits:\")\n",
    "\n",
    "# Sort alphabeticall\n",
    "for w in sorted(best_words):\n",
    "    print(f\"\\n  {w}\")"
   ]
  },
  {
   "cell_type": "markdown",
   "metadata": {},
   "source": [
    "### **Conclusion: Hash-Based Proof of Work Simulation**\n",
    "\n",
    "- This task successfully demonstrated a simplified proof-of-work search over natural language input.\n",
    "\n",
    "- The SHA-256 hash of each word was converted to binary and analyzed for leading zero bits.\n",
    "\n",
    "- Tracking logic was implemented to find the best results, verified by unit tests.\n",
    "\n",
    "- The simulation provides insight into how computational difficulty and randomness emerge in hash-based systems.\n",
    "\n",
    "- This concept is directly applicable to blockchain mining, where miners must search through inputs to find rare hash outputs."
   ]
  },
  {
   "cell_type": "markdown",
   "metadata": {},
   "source": [
    "## **Task 7 - Turing Machines**\n",
    "\n",
    "**Purpose**\n",
    "\n",
    "- This task simulates a basic Turing Machine that performs binary increment.\n",
    "\n",
    "- The machine reads a binary string (the tape), moves its head to the rightmost bit, and simulates binary addition with carry handling.\n",
    "\n",
    "- The function models Turing-style head movement and state changes without using loops or arithmetic shortcuts.\n",
    "\n",
    "- The goal is to explore computation as a sequence of discrete, rule-based steps, as in theoretical models of computation.\n",
    "\n",
    "**Theoretical Context**\n",
    "\n",
    "- Turing Machines are a foundational model in computational theory, used to define the limits of what can be computed.\n",
    "\n",
    "- They consist of a tape (infinite in theory), a read/write head, and a set of deterministic transition rules.\n",
    "\n",
    "- This simulation models a single transition process: incrementing a binary number by 1 using tape manipulation and head movement.\n",
    "\n",
    "- It demonstrates the universality of the Turing Machine model—even simple arithmetic can be performed through symbol rewriting alone.\n",
    "\n",
    "- This task connects to topics like computability, automata theory, and the Church-Turing thesis."
   ]
  },
  {
   "cell_type": "markdown",
   "metadata": {},
   "source": [
    "### **Step 1: Simulate Binary Increment on a Turing Machine**\n",
    "\n",
    "- **Definition**\n",
    "\n",
    "    - Converts the input tape (string) into a mutable list of symbols.\n",
    "\n",
    "    - Moves the head to the rightmost bit of the tape.\n",
    "\n",
    "    - Applies binary addition logic with carry:\n",
    "\n",
    "        - If the current bit is `0`, it’s changed to `1` and the process halts.\n",
    "\n",
    "        - If the bit is `1`, it’s set to `0`, and the head moves left to propagate the carry.\n",
    "\n",
    "        - If all bits are `1`, a new `1` is added to the front of the tape.\n",
    "        \n",
    "    - Returns the new tape as a string representing the incremented binary number."
   ]
  },
  {
   "cell_type": "code",
   "execution_count": 160,
   "metadata": {},
   "outputs": [],
   "source": [
    "def turing_add_one(tape):\n",
    "    tape = list(tape)\n",
    "    head = 0\n",
    "\n",
    "    # Move to the end of the tape (rightmost bit)\n",
    "    while head < len(tape):\n",
    "        head += 1\n",
    "    head -= 1\n",
    "\n",
    "    # Perform binary addition (carry = 1)\n",
    "    while head >= 0:\n",
    "        if tape[head] == '0':\n",
    "            tape[head] = '1'\n",
    "            break\n",
    "        elif tape[head] == '1':\n",
    "            tape[head] = '0'\n",
    "            head -= 1\n",
    "        else:\n",
    "            raise ValueError(\"Invalid symbol on tape\")\n",
    "\n",
    "    # If the carry propagates to the leftmost bit, add a new bit\n",
    "    if head < 0:\n",
    "        tape = ['1'] + tape\n",
    "\n",
    "    return ''.join(tape)"
   ]
  },
  {
   "cell_type": "markdown",
   "metadata": {},
   "source": [
    "#### **Test Class: `TestTuringAddOne`**\n",
    "\n",
    "- **Test Approach**\n",
    "    - Validates the Turing Machine binary increment function against multiple known inputs and outputs.\n",
    "\n",
    "    - Includes edge cases like all-ones (`'111'`), leading zeros, and simple 1-bit cases.\n",
    "\n",
    "    - Prints confirmation of each test's success.\n",
    "\n",
    "- **Verification**\n",
    "    - Checks each output string matches the correct binary result after increment.\n",
    "\n",
    "    - Ensures no input formats cause the machine to fail or misbehave.\n",
    "\n",
    "    - Confirms carry propagation works as expected across the full tape.\n",
    "\n",
    "- **Outcome**\n",
    "    - All tests pass.\n",
    "    \n",
    "    - Function correctly simulates a Turing Machine increment operation for all test cases provided."
   ]
  },
  {
   "cell_type": "code",
   "execution_count": null,
   "metadata": {},
   "outputs": [
    {
     "name": "stderr",
     "output_type": "stream",
     "text": [
      "test_turing_add_one (__main__.TestTuringAddOne.test_turing_add_one) ... ok\n",
      "\n",
      "----------------------------------------------------------------------\n",
      "Ran 1 test in 0.001s\n",
      "\n",
      "OK\n"
     ]
    },
    {
     "name": "stdout",
     "output_type": "stream",
     "text": [
      "\n",
      "Starting validation for Turing Machine binary increment function...\n",
      "\n",
      "Test passed: Input '0' -> Output '1'\n",
      "Test passed: Input '1' -> Output '10'\n",
      "Test passed: Input '1010' -> Output '1011'\n",
      "Test passed: Input '111' -> Output '1000'\n",
      "Test passed: Input '100111' -> Output '101000'\n",
      "Test passed: Input '000' -> Output '001'\n",
      "Test passed: Input '001' -> Output '010'\n",
      "\n",
      "All Turing Machine increment tests completed successfully.\n"
     ]
    },
    {
     "data": {
      "text/plain": [
       "<unittest.runner.TextTestResult run=1 errors=0 failures=0>"
      ]
     },
     "execution_count": 161,
     "metadata": {},
     "output_type": "execute_result"
    }
   ],
   "source": [
    "class TestTuringAddOne(unittest.TestCase):\n",
    "\n",
    "    def test_turing_add_one(self):\n",
    "        print(\"\\nStarting validation for Turing Machine binary increment function...\\n\")\n",
    "\n",
    "        test_cases = {\n",
    "            '0':      '1',\n",
    "            '1':      '10',\n",
    "            '1010':   '1011',\n",
    "            '111':    '1000',\n",
    "            '100111': '101000',\n",
    "            '000':    '001',\n",
    "            '001':    '010'\n",
    "        }\n",
    "\n",
    "        # Test each case\n",
    "        for binary_input, expected_output in test_cases.items():\n",
    "            result = turing_add_one(binary_input)\n",
    "            self.assertEqual(result, expected_output)\n",
    "            print(f\"Test passed: Input '{binary_input}' -> Output '{result}'\")\n",
    "\n",
    "        print(\"\\nAll Turing Machine increment tests completed successfully.\")\n",
    "\n",
    "# Run the tests\n",
    "unittest.TextTestRunner(verbosity=2).run(unittest.TestLoader().loadTestsFromTestCase(TestTuringAddOne))"
   ]
  },
  {
   "cell_type": "markdown",
   "metadata": {},
   "source": [
    "### **Step 2: Demonstrate Binary Increment**\n",
    "\n",
    "- **Definition**\n",
    "\n",
    "    - Demonstrates a working example using the tape `'100111'`.\n",
    "\n",
    "    - Calls the increment function and prints both the input and output tapes.\n",
    "    \n",
    "    - Confirms the machine correctly produces the incremented result `'101000'`."
   ]
  },
  {
   "cell_type": "code",
   "execution_count": 162,
   "metadata": {},
   "outputs": [
    {
     "name": "stdout",
     "output_type": "stream",
     "text": [
      "Input Tape:  100111\n",
      "Output Tape: 101000\n"
     ]
    }
   ],
   "source": [
    "initial = \"100111\"\n",
    "result = turing_add_one(initial)\n",
    "print(\"Input Tape: \", initial)\n",
    "print(\"Output Tape:\", result)"
   ]
  },
  {
   "cell_type": "markdown",
   "metadata": {},
   "source": [
    "### **Conclusion: Simulated Turing Machine for Binary Increment**\n",
    "\n",
    "- This task successfully demonstrated the simulation of a simple Turing Machine that increments a binary number.\n",
    "\n",
    "- Unit tests validated the correctness of the function across various inputs, including those with leading zeros and different bit lengths.\n",
    "\n",
    "- This task highlights how fundamental computational logic can be implemented using rule-based, tape-driven systems, consistent with the Turing model of universal computation.\n"
   ]
  },
  {
   "cell_type": "markdown",
   "metadata": {},
   "source": [
    "## **Task 8 - Computational Complexity**\n",
    "\n",
    "**Purpose**\n",
    "\n",
    "- This task analyzes the comparison count performance of the bubble sort algorithm under all permutations of a fixed-size input.\n",
    "\n",
    "- Two implementations are used: a basic bubble sort and an optimized version with early exit on sorted input.\n",
    "\n",
    "- The number of comparisons made during sorting is counted for each permutation.\n",
    "\n",
    "- Output includes first and last 10 permutations to summarize results without excessive verbosity.\n",
    "\n",
    "**Theoretical Context**\n",
    "\n",
    "- Bubble sort is a simple comparison-based sorting algorithm with a worst-case time complexity of O(n²).\n",
    "\n",
    "- Measuring the number of comparisons across permutations helps visualize best-case, average-case, and worst-case behavior.\n",
    "\n",
    "- The optimized version improves best-case performance (O(n)) when the input is already sorted, by checking for swaps.\n",
    "\n",
    "- This task demonstrates how the performance of bubble sort varies across all 120 permutations of a 5-element list (n = 5), allowing practical observation of its algorithmic complexity."
   ]
  },
  {
   "cell_type": "markdown",
   "metadata": {},
   "source": [
    "### **Step 1: Implement Basic Bubble Sort with Comparison Counting**\n",
    "\n",
    "- **Definition**\n",
    "\n",
    "    - Implements standard bubble sort with an added counter for the number of comparisons.\n",
    "\n",
    "    - Performs nested passes through the list, comparing adjacent elements and swapping if needed.\n",
    "    \n",
    "    - Returns the sorted array and total comparisons made during sorting."
   ]
  },
  {
   "cell_type": "code",
   "execution_count": 226,
   "metadata": {},
   "outputs": [],
   "source": [
    "def bubble_sort_with_comparisons(arr):\n",
    "    arr = list(arr)\n",
    "    n = len(arr)\n",
    "    comparisons = 0\n",
    "    for i in range(n):\n",
    "        for j in range(n - i - 1):\n",
    "            comparisons += 1\n",
    "            if arr[j] > arr[j + 1]:\n",
    "                arr[j], arr[j + 1] = arr[j + 1], arr[j]\n",
    "    return arr, comparisons\n",
    "\n",
    "# Generate results\n",
    "L = [1, 2, 3, 4, 5]\n",
    "perms = list(itertools.permutations(L))\n",
    "results = [(p, bubble_sort_with_comparisons(p)) for p in perms]"
   ]
  },
  {
   "cell_type": "markdown",
   "metadata": {},
   "source": [
    "### **Step 2: Evaluate Bubble Sort on All Permutations**\n",
    "\n",
    "- **Definition**\n",
    "\n",
    "    - Generates all 120 permutations of the list `[1, 2, 3, 4, 5]`.\n",
    "    \n",
    "    - Applies `bubble_sort_with_comparisons()` to each permutation.\n",
    "\n",
    "    - Flattens and formats the results into `(input, comparisons, output)` triplets.\n",
    "    \n",
    "    - Prints the first 10 and last 10 results with a separator for readability."
   ]
  },
  {
   "cell_type": "code",
   "execution_count": 219,
   "metadata": {},
   "outputs": [
    {
     "name": "stdout",
     "output_type": "stream",
     "text": [
      "Bubble Sort Comparison Results (first 10):\n",
      "\n",
      "Input: (1, 2, 3, 4, 5) -> Comparisons: 10, Sorted: [1, 2, 3, 4, 5]\n",
      "Input: (1, 2, 3, 5, 4) -> Comparisons: 10, Sorted: [1, 2, 3, 4, 5]\n",
      "Input: (1, 2, 4, 3, 5) -> Comparisons: 10, Sorted: [1, 2, 3, 4, 5]\n",
      "Input: (1, 2, 4, 5, 3) -> Comparisons: 10, Sorted: [1, 2, 3, 4, 5]\n",
      "Input: (1, 2, 5, 3, 4) -> Comparisons: 10, Sorted: [1, 2, 3, 4, 5]\n",
      "Input: (1, 2, 5, 4, 3) -> Comparisons: 10, Sorted: [1, 2, 3, 4, 5]\n",
      "Input: (1, 3, 2, 4, 5) -> Comparisons: 10, Sorted: [1, 2, 3, 4, 5]\n",
      "Input: (1, 3, 2, 5, 4) -> Comparisons: 10, Sorted: [1, 2, 3, 4, 5]\n",
      "Input: (1, 3, 4, 2, 5) -> Comparisons: 10, Sorted: [1, 2, 3, 4, 5]\n",
      "Input: (1, 3, 4, 5, 2) -> Comparisons: 10, Sorted: [1, 2, 3, 4, 5]\n",
      "\n",
      "...\n",
      "\n",
      "Bubble Sort Comparison Results (last 10):\n",
      "\n",
      "Input: (5, 3, 2, 1, 4) -> Comparisons: 10, Sorted: [1, 2, 3, 4, 5]\n",
      "Input: (5, 3, 2, 4, 1) -> Comparisons: 10, Sorted: [1, 2, 3, 4, 5]\n",
      "Input: (5, 3, 4, 1, 2) -> Comparisons: 10, Sorted: [1, 2, 3, 4, 5]\n",
      "Input: (5, 3, 4, 2, 1) -> Comparisons: 10, Sorted: [1, 2, 3, 4, 5]\n",
      "Input: (5, 4, 1, 2, 3) -> Comparisons: 10, Sorted: [1, 2, 3, 4, 5]\n",
      "Input: (5, 4, 1, 3, 2) -> Comparisons: 10, Sorted: [1, 2, 3, 4, 5]\n",
      "Input: (5, 4, 2, 1, 3) -> Comparisons: 10, Sorted: [1, 2, 3, 4, 5]\n",
      "Input: (5, 4, 2, 3, 1) -> Comparisons: 10, Sorted: [1, 2, 3, 4, 5]\n",
      "Input: (5, 4, 3, 1, 2) -> Comparisons: 10, Sorted: [1, 2, 3, 4, 5]\n",
      "Input: (5, 4, 3, 2, 1) -> Comparisons: 10, Sorted: [1, 2, 3, 4, 5]\n"
     ]
    }
   ],
   "source": [
    "# Format output as (perm, comparisons, sorted)\n",
    "def format_result(p, s, c):\n",
    "    return f\"Input: {p} -> Comparisons: {c}, Sorted: {s}\"\n",
    "\n",
    "# Extract and flatten results\n",
    "flattened_results = [(p, s, c) for p, (s, c) in results]\n",
    "\n",
    "# First 10\n",
    "print(\"Bubble Sort Comparison Results (first 10):\\n\")\n",
    "for p, s, c in flattened_results[:10]:\n",
    "    print(format_result(p, s, c))\n",
    "\n",
    "# Ellipsis separator\n",
    "print(\"\\n...\\n\")\n",
    "\n",
    "# Last 10\n",
    "print(\"Bubble Sort Comparison Results (last 10):\\n\")\n",
    "for p, s, c in flattened_results[-10:]:\n",
    "    print(format_result(p, s, c))"
   ]
  },
  {
   "cell_type": "markdown",
   "metadata": {},
   "source": [
    "### **Step 3: Implement Optimised Bubble Sort with Early Termination**\n",
    "\n",
    "- **Definition**\n",
    "\n",
    "    - Enhanced version of bubble sort that introduces an early-exit condition for improved efficiency on already sorted input.\n",
    "\n",
    "    - At the beginning of each outer loop pass, a `swapped` flag is set to `False`.\n",
    "\n",
    "    - As elements are compared and potentially swapped, this flag is set to `True` if any swap occurs.\n",
    "\n",
    "    - If an entire pass completes with no swaps, the list is already sorted, and the algorithm exits early—saving unnecessary comparisons.\n",
    "\n",
    "    - This optimised version reduces best-case time complexity from O(n²) to O(n), while retaining the same worst-case performance.\n",
    "    \n",
    "    - Still tracks the number of comparisons to allow a fair performance comparison with the basic bubble sort implementation.\n"
   ]
  },
  {
   "cell_type": "code",
   "execution_count": null,
   "metadata": {},
   "outputs": [],
   "source": [
    "# Bubble sort with comparison counting\n",
    "def bubble_sort_optimised(arr):\n",
    "    arr = list(arr)\n",
    "    n = len(arr)\n",
    "    comparisons = 0\n",
    "    for i in range(n):\n",
    "        swapped = False\n",
    "        for j in range(n - i - 1):\n",
    "            comparisons += 1\n",
    "            if arr[j] > arr[j + 1]:\n",
    "                arr[j], arr[j + 1] = arr[j + 1], arr[j]\n",
    "                swapped = True\n",
    "        if not swapped:\n",
    "            break\n",
    "    return arr, comparisons\n",
    "\n",
    "# Generate permutations and results\n",
    "L = [1, 2, 3, 4, 5]\n",
    "perms = list(itertools.permutations(L))\n",
    "results = [(str(p), c, str(s)) for p, (s, c) in zip(perms, map(bubble_sort_optimised, perms))]"
   ]
  },
  {
   "cell_type": "markdown",
   "metadata": {},
   "source": [
    "### **Step 4: Evaluate Optimised Bubble Sort on All Permutations**\n",
    "\n",
    "- **Definition**\n",
    "\n",
    "    - Repeats the same process as Step 2, but using `bubble_sort_optimised()` instead.\n",
    "\n",
    "    - Collects the number of comparisons and final sorted results for each permutation.\n",
    "\n",
    "    - Displays first 10 and last 10 results for simplicity and readability."
   ]
  },
  {
   "cell_type": "code",
   "execution_count": 222,
   "metadata": {},
   "outputs": [
    {
     "name": "stdout",
     "output_type": "stream",
     "text": [
      "Optimised Bubble Sort Comparison Results (first 10):\n",
      "\n",
      "Input: (1, 2, 3, 4, 5) -> Comparisons: 4, Sorted: [1, 2, 3, 4, 5]\n",
      "Input: (1, 2, 3, 5, 4) -> Comparisons: 7, Sorted: [1, 2, 3, 4, 5]\n",
      "Input: (1, 2, 4, 3, 5) -> Comparisons: 7, Sorted: [1, 2, 3, 4, 5]\n",
      "Input: (1, 2, 4, 5, 3) -> Comparisons: 9, Sorted: [1, 2, 3, 4, 5]\n",
      "Input: (1, 2, 5, 3, 4) -> Comparisons: 7, Sorted: [1, 2, 3, 4, 5]\n",
      "Input: (1, 2, 5, 4, 3) -> Comparisons: 9, Sorted: [1, 2, 3, 4, 5]\n",
      "Input: (1, 3, 2, 4, 5) -> Comparisons: 7, Sorted: [1, 2, 3, 4, 5]\n",
      "Input: (1, 3, 2, 5, 4) -> Comparisons: 7, Sorted: [1, 2, 3, 4, 5]\n",
      "Input: (1, 3, 4, 2, 5) -> Comparisons: 9, Sorted: [1, 2, 3, 4, 5]\n",
      "Input: (1, 3, 4, 5, 2) -> Comparisons: 10, Sorted: [1, 2, 3, 4, 5]\n",
      "\n",
      "...\n",
      "\n",
      "Optimised Bubble Sort Comparison Results (last 10):\n",
      "\n",
      "Input: (5, 3, 2, 1, 4) -> Comparisons: 10, Sorted: [1, 2, 3, 4, 5]\n",
      "Input: (5, 3, 2, 4, 1) -> Comparisons: 10, Sorted: [1, 2, 3, 4, 5]\n",
      "Input: (5, 3, 4, 1, 2) -> Comparisons: 10, Sorted: [1, 2, 3, 4, 5]\n",
      "Input: (5, 3, 4, 2, 1) -> Comparisons: 10, Sorted: [1, 2, 3, 4, 5]\n",
      "Input: (5, 4, 1, 2, 3) -> Comparisons: 9, Sorted: [1, 2, 3, 4, 5]\n",
      "Input: (5, 4, 1, 3, 2) -> Comparisons: 10, Sorted: [1, 2, 3, 4, 5]\n",
      "Input: (5, 4, 2, 1, 3) -> Comparisons: 10, Sorted: [1, 2, 3, 4, 5]\n",
      "Input: (5, 4, 2, 3, 1) -> Comparisons: 10, Sorted: [1, 2, 3, 4, 5]\n",
      "Input: (5, 4, 3, 1, 2) -> Comparisons: 10, Sorted: [1, 2, 3, 4, 5]\n",
      "Input: (5, 4, 3, 2, 1) -> Comparisons: 10, Sorted: [1, 2, 3, 4, 5]\n"
     ]
    }
   ],
   "source": [
    "# Format and print result\n",
    "def format_result(p, c, s):\n",
    "    return f\"Input: {p} -> Comparisons: {c}, Sorted: {s}\"\n",
    "\n",
    "# First 10 results\n",
    "print(\"Optimised Bubble Sort Comparison Results (first 10):\\n\")\n",
    "for p, c, s in results[:10]:\n",
    "    print(format_result(p, c, s))\n",
    "\n",
    "# Ellipsis separator\n",
    "print(\"\\n...\\n\")\n",
    "\n",
    "# Last 10 results\n",
    "print(\"Optimised Bubble Sort Comparison Results (last 10):\\n\")\n",
    "for p, c, s in results[-10:]:\n",
    "    print(format_result(p, c, s))\n"
   ]
  },
  {
   "cell_type": "markdown",
   "metadata": {},
   "source": [
    "### **Conclusion: Bubble Sort Comparison Analysis**\n",
    "\n",
    "- This task explored the computational complexity of bubble sort across all permutations of a 5-element list.\n",
    "\n",
    "- The standard and optimized implementations were analyzed in terms of comparison count for each permutation.\n",
    "\n",
    "- As expected, the optimized version reduced comparisons significantly for already sorted inputs.\n",
    "\n",
    "- The full permutation analysis helped visualize how performance varies from best to worst case.\n",
    "\n",
    "- This task reinforces understanding of practical algorithmic behavior, even for small input sizes."
   ]
  }
 ],
 "metadata": {
  "kernelspec": {
   "display_name": "Python 3",
   "language": "python",
   "name": "python3"
  },
  "language_info": {
   "codemirror_mode": {
    "name": "ipython",
    "version": 3
   },
   "file_extension": ".py",
   "mimetype": "text/x-python",
   "name": "python",
   "nbconvert_exporter": "python",
   "pygments_lexer": "ipython3",
   "version": "3.12.2"
  }
 },
 "nbformat": 4,
 "nbformat_minor": 2
}
