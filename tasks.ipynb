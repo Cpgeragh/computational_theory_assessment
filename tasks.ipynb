{
 "cells": [
  {
   "cell_type": "markdown",
   "metadata": {},
   "source": [
    "# Task 1: Binary Representations"
   ]
  },
  {
   "cell_type": "markdown",
   "metadata": {},
   "source": [
    "Optional part: Calculate how many bits set in code, bits set is number of 1s"
   ]
  },
  {
   "cell_type": "markdown",
   "metadata": {},
   "source": [
    "## 1. Implement Bitwise Left Rotation (`rotl`)"
   ]
  },
  {
   "cell_type": "code",
   "execution_count": 9,
   "metadata": {},
   "outputs": [],
   "source": [
    "MASK_32 = 0xFFFFFFFF  # 32-bit mask to prevent overflow\n",
    "\n",
    "def rotl(x, n=1):\n",
    "    n %= 32  # Ensures n is within 0-31\n",
    "    return ((x << n) & MASK_32) | ((x & MASK_32) >> (32 - n))"
   ]
  },
  {
   "cell_type": "markdown",
   "metadata": {},
   "source": [
    "### Tests"
   ]
  },
  {
   "cell_type": "code",
   "execution_count": 10,
   "metadata": {},
   "outputs": [
    {
     "name": "stdout",
     "output_type": "stream",
     "text": [
      "Original:   0x12345678 (00010010001101000101011001111000)\n",
      "rotl(4):    0x23456781 (00100011010001010110011110000001)\n",
      "rotl(0):    0x12345678 (00010010001101000101011001111000)\n"
     ]
    }
   ],
   "source": [
    "if __name__ == \"__main__\":\n",
    "    test_val = 0x12345678\n",
    "    \n",
    "    result_4 = rotl(test_val, 4)\n",
    "    result_0 = rotl(test_val, 0)\n",
    "\n",
    "    # Function to format binary output with leading zeros\n",
    "    def to_bin_str(val):\n",
    "        return bin(val)[2:].zfill(32)  # Ensures it's always 32 bits long\n",
    "\n",
    "    print(f\"Original:   0x{test_val:X} ({to_bin_str(test_val)})\")\n",
    "    print(f\"rotl(4):    0x{result_4:X} ({to_bin_str(result_4)})\")\n",
    "    print(f\"rotl(0):    0x{result_0:X} ({to_bin_str(result_0)})\")"
   ]
  },
  {
   "cell_type": "markdown",
   "metadata": {},
   "source": [
    "## 2. Implement Bitwise Right Rotation (`rotr`)\n"
   ]
  },
  {
   "cell_type": "code",
   "execution_count": 14,
   "metadata": {},
   "outputs": [],
   "source": [
    "MASK_32 = 0xFFFFFFFF  # 32-bit mask to prevent overflow\n",
    "\n",
    "def rotr(x, n=1):\n",
    "    \n",
    "    n %= 32  # Ensure n is within 0-31\n",
    "    return ((x >> n) & MASK_32) | ((x << (32 - n)) & MASK_32)\n"
   ]
  },
  {
   "cell_type": "markdown",
   "metadata": {},
   "source": [
    "### Tests"
   ]
  },
  {
   "cell_type": "code",
   "execution_count": null,
   "metadata": {},
   "outputs": [],
   "source": [
    "if __name__ == \"__main__\":\n",
    "    test_val = 0x12345678 \n",
    "    \n",
    "    result_4 = rotr(test_val, 4)\n",
    "    result_1 = rotr(test_val, 1)\n",
    "\n",
    "    def to_bin_str(val):\n",
    "        return bin(val)[2:].zfill(32)\n",
    "\n",
    "    print(f\"Original:   0x{test_val:X} ({to_bin_str(test_val)})\")\n",
    "    print(f\"rotr(4):    0x{result_4:X} ({to_bin_str(result_4)})\")\n",
    "    print(f\"rotr(1):    0x{result_1:X} ({to_bin_str(result_1)})\")"
   ]
  },
  {
   "cell_type": "markdown",
   "metadata": {},
   "source": [
    "# Task 2"
   ]
  },
  {
   "cell_type": "markdown",
   "metadata": {},
   "source": [
    "# Task 3"
   ]
  },
  {
   "cell_type": "markdown",
   "metadata": {},
   "source": [
    "# Task 4"
   ]
  },
  {
   "cell_type": "markdown",
   "metadata": {},
   "source": [
    "# Task 5"
   ]
  },
  {
   "cell_type": "markdown",
   "metadata": {},
   "source": [
    "# Task 6"
   ]
  },
  {
   "cell_type": "markdown",
   "metadata": {},
   "source": [
    "# Task 7"
   ]
  },
  {
   "cell_type": "markdown",
   "metadata": {},
   "source": [
    "# Task 8"
   ]
  }
 ],
 "metadata": {
  "kernelspec": {
   "display_name": "Python 3",
   "language": "python",
   "name": "python3"
  },
  "language_info": {
   "codemirror_mode": {
    "name": "ipython",
    "version": 3
   },
   "file_extension": ".py",
   "mimetype": "text/x-python",
   "name": "python",
   "nbconvert_exporter": "python",
   "pygments_lexer": "ipython3",
   "version": "3.12.2"
  }
 },
 "nbformat": 4,
 "nbformat_minor": 2
}
