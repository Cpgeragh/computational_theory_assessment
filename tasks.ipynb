{
 "cells": [
  {
   "cell_type": "markdown",
   "metadata": {},
   "source": [
    "# **Computational Theory Assessment**\n",
    "\n",
    "**Scope**  \n",
    "\n",
    "This notebook presents solutions to all required tasks in the Computational Theory module, organized into distinct sections. Each task is supported by explanatory Markdown cells and corresponding Python code cells that implement and test the solutions. This structure ensures clarity and demonstrates a step-by-step approach to each assignment requirement.\n",
    "\n",
    "**Objectives**  \n",
    "\n",
    "1. Showcase implementation details for binary manipulations, hashing, prime calculations, Turing machines, and more.  \n",
    "\n",
    "2. Provide thorough test coverage with `unittest` to confirm correctness and reliability of the functions.  \n",
    "\n",
    "3. Document each task’s purpose, method, and cryptographic or theoretical context, aligning with the assignment guidelines."
   ]
  },
  {
   "cell_type": "markdown",
   "metadata": {},
   "source": [
    "## **Imports and Libraries**\n",
    "\n",
    "The set of libraries used throughout this notebook:\n",
    "\n",
    "- **unittest** – Provides a framework for structured testing of each function.  \n",
    "- **tempfile** and **os** – Facilitate file creation and management, particularly for tasks involving SHA-256 padding demonstrations.  \n",
    "- **math** – Supplies mathematical functions like `sqrt` and `floor`, especially for prime-related or fractional bit extraction tasks.  \n",
    "- **hashlib** – Used for SHA-256 hashing functionality in proof-of-work and padding tasks.  \n",
    "- **itertools** – Generates permutations and combinations, vital for tasks like bubble sort comparisons.  "
   ]
  },
  {
   "cell_type": "code",
   "execution_count": 132,
   "metadata": {},
   "outputs": [],
   "source": [
    "import unittest\n",
    "import tempfile\n",
    "import os\n",
    "import math\n",
    "import hashlib\n",
    "import itertools"
   ]
  },
  {
   "cell_type": "markdown",
   "metadata": {},
   "source": [
    "## **Task 1 - Binary Representations**\n",
    "\n",
    "**Purpose**\n",
    "\n",
    "- This task implements four core bitwise operations: `rotl`, `rotr`, `ch`, and `maj`.\n",
    "\n",
    "- These operations are widely used in cryptographic algorithms such as SHA-256 to ensure strong diffusion and non-linearity.\n",
    "\n",
    "- Bitwise logic ensures that small changes in input produce large, complex changes in output, which is essential for secure hash design.\n",
    "\n",
    "- Each function is tested using `unittest` to validate correctness and ensure reliable behavior in all edge cases.\n",
    "\n",
    "**Cryptographic Context**\n",
    "\n",
    "- These functions mirror components in SHA-256:\n",
    "\n",
    "  - `rotl` and `rotr` allow cyclic shifting of bits to prevent data loss during mixing.\n",
    "\n",
    "  - `ch` (choose) and `maj` (majority) contribute to conditional and majority logic in the SHA-256 compression function.\n",
    "  \n",
    "- Together, they provide the low-level operations needed for constructing secure, high-entropy hash outputs.\n"
   ]
  },
  {
   "cell_type": "markdown",
   "metadata": {},
   "source": [
    "### **Step 1: Implement Bitwise Left Rotation - `rotl(x, n=1)`**\n",
    "\n",
    "- **Definition**\n",
    "    - Performs a left circular rotation on a 32-bit unsigned integer.\n",
    "\n",
    "    - Bits shifted off the left end reappear on the right.\n",
    "\n",
    "    - A 32-bit mask ensures results stay within the valid integer range.\n",
    "\n",
    "    - Left rotation is used in hash functions to mix bits without zero-padding.\n",
    "    \n",
    "    - Ensures full bit coverage and contributes to the avalanche effect in cryptographic diffusion."
   ]
  },
  {
   "cell_type": "code",
   "execution_count": 133,
   "metadata": {},
   "outputs": [],
   "source": [
    "MASK_32 = 0xFFFFFFFF  # 32-bit mask to prevent overflow\n",
    "\n",
    "def rotl(x, n=1):\n",
    "    n %= 32  # Ensures n is within 0-31\n",
    "    return ((x << n) & MASK_32) | ((x & MASK_32) >> (32 - n))"
   ]
  },
  {
   "cell_type": "markdown",
   "metadata": {},
   "source": [
    "#### **Test Class: `TestRotlOutput`**\n",
    "\n",
    "- **Test Approach**\n",
    "\n",
    "    - Runs rotl on the sample value 0x12345678 with shifts of 0, 4, 8, and 31, then the new edge cases of 32 and 64, and finally negative shifts –1, –4, –8, –31.\n",
    "\n",
    "    - Uses both hex and binary output for readability.\n",
    "\n",
    "- **Verification**\n",
    "\n",
    "    - Checks that rotl(x, n) equals the hard‑coded expected word for the core shifts.\n",
    "\n",
    "    - Verifies that rotating by a full word (n=32,64) returns the original.\n",
    "\n",
    "    - Verifies that negative rotate amounts produce the known correct constants for right‑rotate behavior.\n",
    "\n",
    "- **Outcome**\n",
    "\n",
    "    - All original, edge‑case, and negative‑shift assertions pass, demonstrating that the 32‑bit left rotation works exactly as intended."
   ]
  },
  {
   "cell_type": "code",
   "execution_count": 134,
   "metadata": {},
   "outputs": [
    {
     "name": "stderr",
     "output_type": "stream",
     "text": [
      "test_rotl_output (__main__.TestRotlOutput.test_rotl_output) ... ok\n",
      "\n",
      "----------------------------------------------------------------------\n",
      "Ran 1 test in 0.001s\n",
      "\n",
      "OK\n"
     ]
    },
    {
     "name": "stdout",
     "output_type": "stream",
     "text": [
      "\n",
      "Starting validation for ROTL (rotate left) function...\n",
      "\n",
      "Original:   0x12345678 (00010010001101000101011001111000)\n",
      "\n",
      "rotl(0):   0x12345678 (00010010001101000101011001111000)\n",
      "Test passed: rotl(0) produces correct result\n",
      "\n",
      "rotl(4):   0x23456781 (00100011010001010110011110000001)\n",
      "Test passed: rotl(4) produces correct result\n",
      "\n",
      "rotl(8):   0x34567812 (00110100010101100111100000010010)\n",
      "Test passed: rotl(8) produces correct result\n",
      "\n",
      "rotl(31):   0x91A2B3C (00001001000110100010101100111100)\n",
      "Test passed: rotl(31) produces correct result\n",
      "\n",
      "rotl(32):   0x12345678 (00010010001101000101011001111000)\n",
      "Test passed: rotl(32) produces correct result\n",
      "\n",
      "rotl(64):   0x12345678 (00010010001101000101011001111000)\n",
      "Test passed: rotl(64) produces correct result\n",
      "\n",
      "rotl(-1):   0x91A2B3C (00001001000110100010101100111100)\n",
      "Test passed: rotl(-1) produces correct result\n",
      "\n",
      "rotl(-4):   0x81234567 (10000001001000110100010101100111)\n",
      "Test passed: rotl(-4) produces correct result\n",
      "\n",
      "rotl(-8):   0x78123456 (01111000000100100011010001010110)\n",
      "Test passed: rotl(-8) produces correct result\n",
      "\n",
      "rotl(-31):   0x2468ACF0 (00100100011010001010110011110000)\n",
      "Test passed: rotl(-31) produces correct result\n",
      "\n",
      "All ROTL tests including edge and negative shifts completed successfully.\n",
      "\n"
     ]
    },
    {
     "data": {
      "text/plain": [
       "<unittest.runner.TextTestResult run=1 errors=0 failures=0>"
      ]
     },
     "execution_count": 134,
     "metadata": {},
     "output_type": "execute_result"
    }
   ],
   "source": [
    "import unittest\n",
    "\n",
    "# 32‑bit mask and rotate‑left implementation\n",
    "MASK_32 = 0xFFFFFFFF\n",
    "\n",
    "def rotl(x, n=1):\n",
    "    n %= 32\n",
    "    return ((x << n) & MASK_32) | ((x & MASK_32) >> (32 - n))\n",
    "\n",
    "def to_bin_str(val):\n",
    "    return bin(val)[2:].zfill(32)\n",
    "\n",
    "class TestRotlOutput(unittest.TestCase):\n",
    "    def test_rotl_output(self):\n",
    "        print(\"\\nStarting validation for ROTL (rotate left) function...\\n\")\n",
    "\n",
    "        test_val = 0x12345678\n",
    "        test_cases = {\n",
    "            0:  0x12345678,\n",
    "            4:  0x23456781,\n",
    "            8:  0x34567812,\n",
    "            31: 0x091A2B3C\n",
    "        }\n",
    "\n",
    "        print(f\"Original:   0x{test_val:X} ({to_bin_str(test_val)})\\n\")\n",
    "        for n, expected in test_cases.items():\n",
    "            result = rotl(test_val, n)\n",
    "            print(f\"rotl({n}):   0x{result:X} ({to_bin_str(result)})\")\n",
    "            self.assertEqual(result, expected)\n",
    "            print(f\"Test passed: rotl({n}) produces correct result\\n\")\n",
    "\n",
    "        # Edge‑case: multiples of 32\n",
    "        edge_tests = {32: test_val, 64: test_val}\n",
    "        for m, expected in edge_tests.items():\n",
    "            result = rotl(test_val, m)\n",
    "            print(f\"rotl({m}):   0x{result:X} ({to_bin_str(result)})\")\n",
    "            self.assertEqual(result, expected)\n",
    "            print(f\"Test passed: rotl({m}) produces correct result\\n\")\n",
    "\n",
    "        # Negative shifts\n",
    "        neg_tests = {\n",
    "            -1:  0x091A2B3C,\n",
    "            -4:  0x81234567,\n",
    "            -8:  0x78123456,\n",
    "            -31: 0x2468ACF0\n",
    "        }\n",
    "        for n, expected in neg_tests.items():\n",
    "            result = rotl(test_val, n) & MASK_32\n",
    "            print(f\"rotl({n}):   0x{result:X} ({to_bin_str(result)})\")\n",
    "            self.assertEqual(result, expected)\n",
    "            print(f\"Test passed: rotl({n}) produces correct result\\n\")\n",
    "\n",
    "        print(\"All ROTL tests including edge and negative shifts completed successfully.\\n\")\n",
    "\n",
    "unittest.TextTestRunner(verbosity=2).run(\n",
    "    unittest.TestLoader().loadTestsFromTestCase(TestRotlOutput)\n",
    ")"
   ]
  },
  {
   "cell_type": "markdown",
   "metadata": {},
   "source": [
    "### **Step 2: Implement Bitwise Right Rotation - `rotr(x, n=1)`**\n",
    "\n",
    "- **Definition**\n",
    "\n",
    "    - Performs a right circular rotation on a 32-bit unsigned integer.\n",
    "\n",
    "    - Bits shifted off the right end re-enter from the left.\n",
    "\n",
    "    - The result is masked to 32 bits to match unsigned integer constraints.\n",
    "\n",
    "    - Right rotations appear in cryptographic functions like σ0 and σ1 in SHA-256.\n",
    "\n",
    "    - They provide complementary behavior to left rotations and support full-state mixing across rounds."
   ]
  },
  {
   "cell_type": "code",
   "execution_count": 135,
   "metadata": {},
   "outputs": [],
   "source": [
    "MASK_32 = 0xFFFFFFFF  # 32-bit mask to prevent overflow\n",
    "\n",
    "def rotr(x, n=1):\n",
    "    n %= 32  # Ensure n is within 0-31\n",
    "    return ((x >> n) | (x << (32 - n))) & MASK_32"
   ]
  },
  {
   "cell_type": "markdown",
   "metadata": {},
   "source": [
    "#### **Test Class: `TestRotrOutput`**\n",
    "\n",
    "- **Test Approach**\n",
    "    - Applies rotr to the sample value 0x12345678 with shifts of 1, 4, 8, and 31, then the new edge cases of 32 and 64, and finallt negative shifts –1, –4, –8, –31.\n",
    "\n",
    "- **Verification**\n",
    "    - Compares each rotr(x, n) result against hard‑coded expected words for the core shifts.\n",
    "\n",
    "    - Verifies that rotating by a full word (n=32, 64) returns the original.\n",
    "\n",
    "    - Verifies that negative rotate amounts produce the known correct constants for left‑rotate behavior (rotr(x, –n) == rotl(x, n)).\n",
    "    \n",
    "- **Outcome**\n",
    "    - All original, edge‑case, and negative‑shift assertions pass, demonstrating that the 32‑bit right rotation works exactly as intended."
   ]
  },
  {
   "cell_type": "code",
   "execution_count": 136,
   "metadata": {},
   "outputs": [
    {
     "name": "stderr",
     "output_type": "stream",
     "text": [
      "test_rotr_output (__main__.TestRotrOutput.test_rotr_output) ... ok\n",
      "\n",
      "----------------------------------------------------------------------\n",
      "Ran 1 test in 0.001s\n",
      "\n",
      "OK\n"
     ]
    },
    {
     "name": "stdout",
     "output_type": "stream",
     "text": [
      "\n",
      "Starting validation for ROTR (rotate right) function...\n",
      "\n",
      "Original:   0x12345678 (00010010001101000101011001111000)\n",
      "\n",
      "rotr(1):   0x91A2B3C (00001001000110100010101100111100)\n",
      "Test passed: rotr(1) produces correct result\n",
      "\n",
      "rotr(4):   0x81234567 (10000001001000110100010101100111)\n",
      "Test passed: rotr(4) produces correct result\n",
      "\n",
      "rotr(8):   0x78123456 (01111000000100100011010001010110)\n",
      "Test passed: rotr(8) produces correct result\n",
      "\n",
      "rotr(31):   0x2468ACF0 (00100100011010001010110011110000)\n",
      "Test passed: rotr(31) produces correct result\n",
      "\n",
      "Edge-case: rotr by multiples of 32\n",
      "rotr(32):   0x12345678 (00010010001101000101011001111000)\n",
      "Test passed: rotr(32) produces correct result\n",
      "\n",
      "rotr(64):   0x12345678 (00010010001101000101011001111000)\n",
      "Test passed: rotr(64) produces correct result\n",
      "\n",
      "Negative shifts\n",
      "rotr(-1):   0x2468ACF0 (00100100011010001010110011110000)\n",
      "Test passed: rotr(-1) produces correct result\n",
      "\n",
      "rotr(-4):   0x23456781 (00100011010001010110011110000001)\n",
      "Test passed: rotr(-4) produces correct result\n",
      "\n",
      "rotr(-8):   0x34567812 (00110100010101100111100000010010)\n",
      "Test passed: rotr(-8) produces correct result\n",
      "\n",
      "rotr(-31):   0x91A2B3C (00001001000110100010101100111100)\n",
      "Test passed: rotr(-31) produces correct result\n",
      "\n",
      "All ROTR tests including edge and negative shifts completed successfully.\n",
      "\n"
     ]
    },
    {
     "data": {
      "text/plain": [
       "<unittest.runner.TextTestResult run=1 errors=0 failures=0>"
      ]
     },
     "execution_count": 136,
     "metadata": {},
     "output_type": "execute_result"
    }
   ],
   "source": [
    "import unittest\n",
    "\n",
    "# 32‑bit mask and rotate‑right implementation\n",
    "MASK_32 = 0xFFFFFFFF\n",
    "\n",
    "def rotr(x, n=1):\n",
    "    n %= 32\n",
    "    return ((x >> n) | (x << (32 - n))) & MASK_32\n",
    "\n",
    "def to_bin_str(val):\n",
    "    return bin(val)[2:].zfill(32)\n",
    "\n",
    "class TestRotrOutput(unittest.TestCase):\n",
    "    def test_rotr_output(self):\n",
    "        print(\"\\nStarting validation for ROTR (rotate right) function...\\n\")\n",
    "\n",
    "        test_val = 0x12345678\n",
    "        test_cases = {\n",
    "            1:  0x091A2B3C,\n",
    "            4:  0x81234567,\n",
    "            8:  0x78123456,\n",
    "            31: 0x2468ACF0\n",
    "        }\n",
    "\n",
    "        print(f\"Original:   0x{test_val:X} ({to_bin_str(test_val)})\\n\")\n",
    "        for n, expected in test_cases.items():\n",
    "            result = rotr(test_val, n)\n",
    "            print(f\"rotr({n}):   0x{result:X} ({to_bin_str(result)})\")\n",
    "            self.assertEqual(result, expected)\n",
    "            print(f\"Test passed: rotr({n}) produces correct result\\n\")\n",
    "\n",
    "        # Edge‑case: multiples of 32\n",
    "        edge_tests = {32: test_val, 64: test_val}\n",
    "        print(\"Edge-case: rotr by multiples of 32\")\n",
    "        for m, expected in edge_tests.items():\n",
    "            result = rotr(test_val, m)\n",
    "            print(f\"rotr({m}):   0x{result:X} ({to_bin_str(result)})\")\n",
    "            self.assertEqual(result, expected)\n",
    "            print(f\"Test passed: rotr({m}) produces correct result\\n\")\n",
    "\n",
    "        # Negative shifts\n",
    "        neg_tests = {\n",
    "            -1:  0x2468ACF0,\n",
    "            -4:  0x23456781,\n",
    "            -8:  0x34567812,\n",
    "            -31: 0x091A2B3C\n",
    "        }\n",
    "        print(\"Negative shifts\")\n",
    "        for n, expected in neg_tests.items():\n",
    "            result = rotr(test_val, n) & MASK_32\n",
    "            print(f\"rotr({n}):   0x{result:X} ({to_bin_str(result)})\")\n",
    "            self.assertEqual(result, expected)\n",
    "            print(f\"Test passed: rotr({n}) produces correct result\\n\")\n",
    "\n",
    "        print(\"All ROTR tests including edge and negative shifts completed successfully.\\n\")\n",
    "\n",
    "unittest.TextTestRunner(verbosity=2).run(\n",
    "    unittest.TestLoader().loadTestsFromTestCase(TestRotrOutput)\n",
    ")"
   ]
  },
  {
   "cell_type": "markdown",
   "metadata": {},
   "source": [
    "### **Step 3: Implement `ch(x, y, z)` Function**\n",
    "\n",
    "- **Definition**\n",
    "\n",
    "    - For each bit position, chooses the bit from `y` if `x` has a 1, otherwise takes it from `z`.\n",
    "\n",
    "    - Implements the SHA-256 `Ch` function: `(x & y) ^ (~x & z)`.\n",
    "\n",
    "    - Introduces conditional logic based on the state of control bits.\n",
    "    \n",
    "    - This selectiveness adds non-linearity and makes output harder to predict or reverse."
   ]
  },
  {
   "cell_type": "code",
   "execution_count": 137,
   "metadata": {},
   "outputs": [],
   "source": [
    "# Chooses bits from y where x has bits set to 1 and from z where x has bits set to 0.\n",
    "def ch(x, y, z):\n",
    "    return ((x & y) ^ (~x & z)) & MASK_32"
   ]
  },
  {
   "cell_type": "markdown",
   "metadata": {},
   "source": [
    "#### **Test Class: `TestChFunction`**\n",
    "\n",
    "- **Test Approach**\n",
    "    - Applies the function to controlled binary inputs that represent corner cases (e.g., all 0s, all 1s, mixed).\n",
    "\n",
    "- **Verification**\n",
    "    - Asserts output bits correctly reflect the behavior of `ch`.\n",
    "\n",
    "- **Outcome**\n",
    "    - Passes all logic-based edge cases, confirming the conditional bit selection is implemented properly."
   ]
  },
  {
   "cell_type": "code",
   "execution_count": 138,
   "metadata": {},
   "outputs": [
    {
     "name": "stderr",
     "output_type": "stream",
     "text": [
      "test_ch_original_cases (__main__.TestChFunction.test_ch_original_cases) ... ok\n",
      "\n",
      "----------------------------------------------------------------------\n",
      "Ran 1 test in 0.001s\n",
      "\n",
      "OK\n"
     ]
    },
    {
     "name": "stdout",
     "output_type": "stream",
     "text": [
      "\n",
      "Starting validation for ch(x, y, z) function...\n",
      "\n",
      "ch(0b1010, 0b1100, 0b1111) = 0b1101\n",
      "Test passed: x ≠ y and x ≠ z\n",
      "\n",
      "ch(0b0000, 0b0000, 0b1111) = 0b1111\n",
      "Test passed: x == y and x ≠ z\n",
      "\n",
      "ch(0b1111, 0b1100, 0b1111) = 0b1100\n",
      "Test passed: x == z and x ≠ y\n",
      "\n",
      "All ch(x, y, z) tests completed successfully.\n",
      "\n"
     ]
    },
    {
     "data": {
      "text/plain": [
       "<unittest.runner.TextTestResult run=1 errors=0 failures=0>"
      ]
     },
     "execution_count": 138,
     "metadata": {},
     "output_type": "execute_result"
    }
   ],
   "source": [
    "class TestChFunction(unittest.TestCase):\n",
    "    def test_ch_original_cases(self):\n",
    "        print(\"\\nStarting validation for ch(x, y, z) function...\\n\")\n",
    "\n",
    "        # Test 1: x is different from both y and z\n",
    "        x_val = 0b1010\n",
    "        y_val = 0b1100\n",
    "        z_val = 0b1111\n",
    "        result = ch(x_val, y_val, z_val) & 0b1111\n",
    "        print(f\"ch(0b{x_val:04b}, 0b{y_val:04b}, 0b{z_val:04b}) = 0b{result:04b}\")\n",
    "        self.assertEqual(result, 0b1101)\n",
    "        print(\"Test passed: x ≠ y and x ≠ z\\n\")\n",
    "\n",
    "        # Test 2: x is equal to y and different from z\n",
    "        x_val = 0b0000\n",
    "        y_val = 0b0000\n",
    "        z_val = 0b1111\n",
    "        result = ch(x_val, y_val, z_val) & 0b1111\n",
    "        print(f\"ch(0b{x_val:04b}, 0b{y_val:04b}, 0b{z_val:04b}) = 0b{result:04b}\")\n",
    "        self.assertEqual(result, 0b1111)\n",
    "        print(\"Test passed: x == y and x ≠ z\\n\")\n",
    "\n",
    "        # Test 3: x is equal to z and different from y\n",
    "        x_val = 0b1111\n",
    "        y_val = 0b1100\n",
    "        z_val = 0b1111\n",
    "        result = ch(x_val, y_val, z_val) & 0b1111\n",
    "        print(f\"ch(0b{x_val:04b}, 0b{y_val:04b}, 0b{z_val:04b}) = 0b{result:04b}\")\n",
    "        self.assertEqual(result, 0b1100)\n",
    "        print(\"Test passed: x == z and x ≠ y\\n\")\n",
    "\n",
    "        print(\"All ch(x, y, z) tests completed successfully.\\n\")\n",
    "\n",
    "unittest.TextTestRunner(verbosity=2).run(unittest.TestLoader().loadTestsFromTestCase(TestChFunction))\n"
   ]
  },
  {
   "cell_type": "markdown",
   "metadata": {},
   "source": [
    "### **Step 4: Implement `maj(x, y, z)` Function**\n",
    "\n",
    "- **Definition**\n",
    "\n",
    "    - Returns a bit that is 1 if at least two of the three corresponding bits are 1.\n",
    "\n",
    "    - Implements the SHA-256 `Maj` function: `(x & y) ^ (x & z) ^ (y & z)`.\n",
    "\n",
    "    - Models majority consensus among three state registers.\n",
    "    \n",
    "    - Ensures that dominant patterns are preserved across rounds, contributing to mixing and complexity."
   ]
  },
  {
   "cell_type": "code",
   "execution_count": 139,
   "metadata": {},
   "outputs": [],
   "source": [
    "# Implement a function that takes a majority vote of the bits in x, y, z.\n",
    "# Each bit should be 1 if at least two of three inputs have 1 in that position.\n",
    "def maj(x, y, z):\n",
    "    return ((x & y) ^ (x & z) ^ (y & z)) & MASK_32"
   ]
  },
  {
   "cell_type": "markdown",
   "metadata": {},
   "source": [
    "#### **Test Class: `TestMajFunction`**\n",
    "\n",
    "- **Test Approach**\n",
    "    - Tests three combinations of inputs: all 1s, all 0s, and a mixed case.\n",
    "    \n",
    "    - Validates behavior when x has dominant or minority influence.\n",
    "\n",
    "- **Verification**\n",
    "    - Confirms that the result reflects the majority logic at every bit position.\n",
    "\n",
    "- **Outcome**\n",
    "    - All tests pass, demonstrating correct implementation of majority function logic."
   ]
  },
  {
   "cell_type": "code",
   "execution_count": 140,
   "metadata": {},
   "outputs": [
    {
     "name": "stderr",
     "output_type": "stream",
     "text": [
      "test_maj_cases (__main__.TestMajFunction.test_maj_cases) ... ok\n",
      "\n",
      "----------------------------------------------------------------------\n",
      "Ran 1 test in 0.001s\n",
      "\n",
      "OK\n"
     ]
    },
    {
     "name": "stdout",
     "output_type": "stream",
     "text": [
      "\n",
      "Starting validation for maj(x, y, z) function...\n",
      "\n",
      "maj(0b1010, 0b1100, 0b1111) = 0b1110\n",
      "Test passed: x has mixed 1s and 0s\n",
      "\n",
      "maj(0b1111, 0b1100, 0b1111) = 0b1111\n",
      "Test passed: x has all 1s\n",
      "\n",
      "maj(0b0000, 0b1100, 0b1111) = 0b1100\n",
      "Test passed: x has all 0s\n",
      "\n",
      "All maj(x, y, z) tests completed successfully.\n",
      "\n"
     ]
    },
    {
     "data": {
      "text/plain": [
       "<unittest.runner.TextTestResult run=1 errors=0 failures=0>"
      ]
     },
     "execution_count": 140,
     "metadata": {},
     "output_type": "execute_result"
    }
   ],
   "source": [
    "class TestMajFunction(unittest.TestCase):\n",
    "    def test_maj_cases(self):\n",
    "        print(\"\\nStarting validation for maj(x, y, z) function...\\n\")\n",
    "\n",
    "        # Test 1: x has a mixture of 1s and 0s\n",
    "        x_val = 0b1010\n",
    "        y_val = 0b1100\n",
    "        z_val = 0b1111\n",
    "        result = maj(x_val, y_val, z_val) & 0b1111\n",
    "        print(f\"maj(0b{x_val:04b}, 0b{y_val:04b}, 0b{z_val:04b}) = 0b{result:04b}\")\n",
    "        self.assertEqual(result, 0b1110)\n",
    "        print(\"Test passed: x has mixed 1s and 0s\\n\")\n",
    "\n",
    "        # Test 2: x has all 1s\n",
    "        x_val = 0b1111\n",
    "        y_val = 0b1100\n",
    "        z_val = 0b1111\n",
    "        result = maj(x_val, y_val, z_val) & 0b1111\n",
    "        print(f\"maj(0b{x_val:04b}, 0b{y_val:04b}, 0b{z_val:04b}) = 0b{result:04b}\")\n",
    "        self.assertEqual(result, 0b1111)\n",
    "        print(\"Test passed: x has all 1s\\n\")\n",
    "\n",
    "        # Test 3: x has all 0s\n",
    "        x_val = 0b0000\n",
    "        y_val = 0b1100\n",
    "        z_val = 0b1111\n",
    "        result = maj(x_val, y_val, z_val) & 0b1111\n",
    "        print(f\"maj(0b{x_val:04b}, 0b{y_val:04b}, 0b{z_val:04b}) = 0b{result:04b}\")\n",
    "        self.assertEqual(result, 0b1100)\n",
    "        print(\"Test passed: x has all 0s\\n\")\n",
    "\n",
    "        print(\"All maj(x, y, z) tests completed successfully.\\n\")\n",
    "\n",
    "unittest.TextTestRunner(verbosity=2).run(unittest.TestLoader().loadTestsFromTestCase(TestMajFunction))\n"
   ]
  },
  {
   "cell_type": "markdown",
   "metadata": {},
   "source": [
    "### **Conclusion: Bitwise Foundations for Cryptographic Operations**\n",
    "\n",
    "- This task successfully implemented and validated core 32-bit bitwise operations used in cryptographic hash functions.\n",
    "\n",
    "- The tests confirmed correct behavior in various shift and logic scenarios.\n",
    "\n",
    "- These operations form the foundation for more complex transformations in algorithms like SHA-256, where diffusion and predictability resistance are critical."
   ]
  },
  {
   "cell_type": "markdown",
   "metadata": {},
   "source": [
    "## **Task 2 - Hash Functions**\n",
    "\n",
    "**Purpose**\n",
    "\n",
    "- This task implements a classic string-hashing algorithm based on the Kernighan & Ritchie (K&R) style.\n",
    "\n",
    "- It introduces the concept of a polynomial rolling hash, which multiplies each accumulated value by a prime (31) and uses a modulus (101) to restrict output range.\n",
    "\n",
    "- A second function prints step-by-step values to aid in understanding the hash accumulation process.\n",
    "\n",
    "- Both versions are tested against expected results to validate correctness and consistency.\n",
    "\n",
    "**Theoretical Context**\n",
    "\n",
    "- This hash is used in many early C programs and language internals (e.g. symbol tables, interpreters).\n",
    "\n",
    "- While not cryptographically secure, it demonstrates deterministic hashing, collision minimization via primes, and classic design trade-offs.\n",
    "\n",
    "- Constants like 31 and 101 are chosen for their properties: 31 as a small, efficient prime; 101 to spread results across a fixed hash table size."
   ]
  },
  {
   "cell_type": "markdown",
   "metadata": {},
   "source": [
    "### **Step 1: Implement Basic Hash Function**\n",
    "\n",
    "- **Definition**\n",
    "\n",
    "    - Converts a string to an integer hash.\n",
    "\n",
    "    - Accumulates the result for each character in sequence.\n",
    "\n",
    "    - Final value is reduced modulo 101 to limit it to the range `[0–100]`.\n",
    "\n",
    "    - Demonstrates how simple, efficient string hashing works for non-cryptographic applications like symbol resolution."
   ]
  },
  {
   "cell_type": "code",
   "execution_count": 141,
   "metadata": {},
   "outputs": [],
   "source": [
    "# Converts a string to a hash value.\n",
    "def hash_function(s):\n",
    "\n",
    "    hashValue = 0\n",
    "    # Hash value updated for each character in the string\n",
    "    for char in s:\n",
    "        # ord() gets ASCII value of the character\n",
    "        hashValue = ord(char) + 31 * hashValue\n",
    "    # Ensure the hash value is within 0-100\n",
    "    return hashValue % 101"
   ]
  },
  {
   "cell_type": "markdown",
   "metadata": {},
   "source": [
    "#### **Test Class: `TestHashFunction`**\n",
    "\n",
    "- **Test Approach**\n",
    "    - Passes a predefined set of strings into `hash_function` and compares output against known expected values.\n",
    "\n",
    "- **Verification**\n",
    "    - Checks correctness of the formula and character-by-character accumulation.\n",
    "    \n",
    "    - Uses various string lengths and character distributions.\n",
    "\n",
    "- **Outcome**\n",
    "    - Confirms that the function correctly implements the intended algorithm and modulus behavior."
   ]
  },
  {
   "cell_type": "code",
   "execution_count": 142,
   "metadata": {},
   "outputs": [
    {
     "name": "stderr",
     "output_type": "stream",
     "text": [
      "test_hash_strings (__main__.TestHashFunction.test_hash_strings) ... ok\n",
      "\n",
      "----------------------------------------------------------------------\n",
      "Ran 1 test in 0.001s\n",
      "\n",
      "OK\n"
     ]
    },
    {
     "name": "stdout",
     "output_type": "stream",
     "text": [
      "\n",
      "Starting validation for hash_function(s)...\n",
      "\n",
      "hash(hello) = 17\n",
      "Test passed: hash('hello') == 17\n",
      "\n",
      "hash(world) = 34\n",
      "Test passed: hash('world') == 34\n",
      "\n",
      "hash(python) = 91\n",
      "Test passed: hash('python') == 91\n",
      "\n",
      "hash(hash) = 15\n",
      "Test passed: hash('hash') == 15\n",
      "\n",
      "hash(coding) = 73\n",
      "Test passed: hash('coding') == 73\n",
      "\n",
      "hash(umbrella) = 78\n",
      "Test passed: hash('umbrella') == 78\n",
      "\n",
      "All hash_function(s) tests completed successfully.\n",
      "\n"
     ]
    },
    {
     "data": {
      "text/plain": [
       "<unittest.runner.TextTestResult run=1 errors=0 failures=0>"
      ]
     },
     "execution_count": 142,
     "metadata": {},
     "output_type": "execute_result"
    }
   ],
   "source": [
    "class TestHashFunction(unittest.TestCase):\n",
    "    def test_hash_strings(self):\n",
    "        print(\"\\nStarting validation for hash_function(s)...\\n\")\n",
    "\n",
    "        test_cases = [\n",
    "            (\"hello\",    17),\n",
    "            (\"world\",    34),\n",
    "            (\"python\",   91),\n",
    "            (\"hash\",     15),\n",
    "            (\"coding\",   73),\n",
    "            (\"umbrella\", 78)\n",
    "        ]\n",
    "\n",
    "        for s, expected in test_cases:\n",
    "            result = hash_function(s)\n",
    "            print(f\"hash({s}) = {result}\")\n",
    "            self.assertEqual(result, expected)\n",
    "            print(f\"Test passed: hash('{s}') == {expected}\\n\")\n",
    "\n",
    "        print(\"All hash_function(s) tests completed successfully.\\n\")\n",
    "\n",
    "unittest.TextTestRunner(verbosity=2).run(unittest.TestLoader().loadTestsFromTestCase(TestHashFunction))"
   ]
  },
  {
   "cell_type": "markdown",
   "metadata": {},
   "source": [
    "### **Step 2: Implement Expanded Hash Function**\n",
    "\n",
    "- **Definition**\n",
    "\n",
    "    - Uses the same core formula as `hash_function` but prints each intermediate computation.\n",
    "\n",
    "    - Helps visualize how the ASCII values and multiplication by 31 accumulate.\n",
    "\n",
    "    - Output shows index, character, ASCII code, pre-multiplied value, and running result.\n",
    "\n",
    "    - Useful for demonstrating polynomial rolling accumulation."
   ]
  },
  {
   "cell_type": "code",
   "execution_count": 143,
   "metadata": {},
   "outputs": [],
   "source": [
    "def hash_function_expanded(s):\n",
    "    \n",
    "    hashValue = 0\n",
    "    print(f\"\\nHashing string '{s}':\")\n",
    "    print(\"-\" * 77)\n",
    "\n",
    "    for index, char in enumerate(s):\n",
    "        ascii_value = ord(char)\n",
    "        print(f\"Step {index + 1}: char = '{char}' with an ASCII value of {ascii_value}, previous hash was {hashValue}\")\n",
    "        print(f\"\\thash = {ascii_value} + 31 * {hashValue}\")\n",
    "        hashValue = ascii_value + 31 * hashValue\n",
    "        print(f\"\\tNew hash value after processing '{char}: {hashValue}\")\n",
    "\n",
    "    final_hash_value = hashValue % 101\n",
    "    print(f\"\\nFinal hash value after modulo 101: {final_hash_value}\")\n",
    "    print(\"-\" * 77)\n",
    "\n",
    "    return final_hash_value"
   ]
  },
  {
   "cell_type": "markdown",
   "metadata": {},
   "source": [
    "#### **Test Class: `TestExpandedHashFunction`**\n",
    "\n",
    "- **Test Approach**\n",
    "    - Executes the verbose hash function on a reduced set of representative strings: `\"hello\"` and `\"python\"`.\n",
    "\n",
    "    - Prints each intermediate step to illustrate how the rolling hash is built character by character.\n",
    "\n",
    "- **Verification**\n",
    "    - Confirms that the expanded version returns the same final result as the basic implementation.\n",
    "\n",
    "    - Ensures the accumulation logic is consistent and traceable through printed output.\n",
    "\n",
    "- **Outcome**\n",
    "    - Clearly visualizes how each character contributes to the final hash value.\n",
    "    \n",
    "    - Provides confidence in the correctness of the polynomial hash logic.\n"
   ]
  },
  {
   "cell_type": "code",
   "execution_count": 144,
   "metadata": {},
   "outputs": [
    {
     "name": "stderr",
     "output_type": "stream",
     "text": [
      "test_hash_function_expanded (__main__.TestExpandedHashFunction.test_hash_function_expanded) ... ok\n",
      "\n",
      "----------------------------------------------------------------------\n",
      "Ran 1 test in 0.002s\n",
      "\n",
      "OK\n"
     ]
    },
    {
     "name": "stdout",
     "output_type": "stream",
     "text": [
      "\n",
      "Starting validation for hash_function_expanded(s)...\n",
      "\n",
      "\n",
      "Hashing string 'hello':\n",
      "-----------------------------------------------------------------------------\n",
      "Step 1: char = 'h' with an ASCII value of 104, previous hash was 0\n",
      "\thash = 104 + 31 * 0\n",
      "\tNew hash value after processing 'h: 104\n",
      "Step 2: char = 'e' with an ASCII value of 101, previous hash was 104\n",
      "\thash = 101 + 31 * 104\n",
      "\tNew hash value after processing 'e: 3325\n",
      "Step 3: char = 'l' with an ASCII value of 108, previous hash was 3325\n",
      "\thash = 108 + 31 * 3325\n",
      "\tNew hash value after processing 'l: 103183\n",
      "Step 4: char = 'l' with an ASCII value of 108, previous hash was 103183\n",
      "\thash = 108 + 31 * 103183\n",
      "\tNew hash value after processing 'l: 3198781\n",
      "Step 5: char = 'o' with an ASCII value of 111, previous hash was 3198781\n",
      "\thash = 111 + 31 * 3198781\n",
      "\tNew hash value after processing 'o: 99162322\n",
      "\n",
      "Final hash value after modulo 101: 17\n",
      "-----------------------------------------------------------------------------\n",
      "Test passed: hash('hello') == 17\n",
      "\n",
      "\n",
      "Hashing string 'python':\n",
      "-----------------------------------------------------------------------------\n",
      "Step 1: char = 'p' with an ASCII value of 112, previous hash was 0\n",
      "\thash = 112 + 31 * 0\n",
      "\tNew hash value after processing 'p: 112\n",
      "Step 2: char = 'y' with an ASCII value of 121, previous hash was 112\n",
      "\thash = 121 + 31 * 112\n",
      "\tNew hash value after processing 'y: 3593\n",
      "Step 3: char = 't' with an ASCII value of 116, previous hash was 3593\n",
      "\thash = 116 + 31 * 3593\n",
      "\tNew hash value after processing 't: 111499\n",
      "Step 4: char = 'h' with an ASCII value of 104, previous hash was 111499\n",
      "\thash = 104 + 31 * 111499\n",
      "\tNew hash value after processing 'h: 3456573\n",
      "Step 5: char = 'o' with an ASCII value of 111, previous hash was 3456573\n",
      "\thash = 111 + 31 * 3456573\n",
      "\tNew hash value after processing 'o: 107153874\n",
      "Step 6: char = 'n' with an ASCII value of 110, previous hash was 107153874\n",
      "\thash = 110 + 31 * 107153874\n",
      "\tNew hash value after processing 'n: 3321770204\n",
      "\n",
      "Final hash value after modulo 101: 91\n",
      "-----------------------------------------------------------------------------\n",
      "Test passed: hash('python') == 91\n",
      "\n",
      "All hash_function_expanded(s) tests completed successfully.\n",
      "\n"
     ]
    },
    {
     "data": {
      "text/plain": [
       "<unittest.runner.TextTestResult run=1 errors=0 failures=0>"
      ]
     },
     "execution_count": 144,
     "metadata": {},
     "output_type": "execute_result"
    }
   ],
   "source": [
    "class TestExpandedHashFunction(unittest.TestCase):\n",
    "    def test_hash_function_expanded(self):\n",
    "        print(\"\\nStarting validation for hash_function_expanded(s)...\\n\")\n",
    "\n",
    "        test_cases = [\n",
    "            (\"hello\",   17),\n",
    "            (\"python\",  91)\n",
    "        ]\n",
    "\n",
    "        for s, expected in test_cases:\n",
    "            result = hash_function_expanded(s)\n",
    "            self.assertEqual(result, expected)\n",
    "            print(f\"Test passed: hash('{s}') == {expected}\\n\")\n",
    "\n",
    "        print(\"All hash_function_expanded(s) tests completed successfully.\\n\")\n",
    "\n",
    "unittest.TextTestRunner(verbosity=2).run(unittest.TestLoader().loadTestsFromTestCase(TestExpandedHashFunction))\n"
   ]
  },
  {
   "cell_type": "markdown",
   "metadata": {},
   "source": [
    "### **Step 3: Reasons for Using 31 and 101**\n",
    "\n",
    "- **Why 31?**\n",
    "\n",
    "    - 31 is a **prime number**, which helps reduce hash collisions by spreading values more uniformly across the hash space.\n",
    "\n",
    "    - Multiplying by a prime improves distribution in polynomial rolling hashes, minimizing **clustering** in hash tables.\n",
    "\n",
    "    - It is small enough to avoid **integer overflow** in languages with fixed-width integers (like C), where 32-bit or 64-bit overflows are a concern.\n",
    "\n",
    "    - Although Python handles **arbitrary-precision integers**, 31 is still used for **cross-language consistency** and to avoid performance penalties from large integers.\n",
    "\n",
    "    - In C, multiplication by 31 can be optimized by compilers using the expression:  \n",
    "\n",
    "      **`(hash << 5) - hash`**,  \n",
    "      \n",
    "      which replaces multiplication with a fast bitwise shift and subtraction.\n",
    "\n",
    "    - This optimization is less relevant in Python, but the use of 31 remains idiomatic and efficient.\n",
    "\n",
    "- **Why 101?**\n",
    "\n",
    "    - 101 is also a **prime number**, used here as a modulus to constrain the hash value to the range `[0–100]`.\n",
    "\n",
    "    - Using a prime as the modulo base avoids alignment with common data patterns and reduces the risk of **value clustering**.\n",
    "\n",
    "    - If the modulus shares factors with patterns in the data (e.g., repeated characters or regular ASCII sequences), it can create **hash collisions**.\n",
    "\n",
    "    - 101 does not share common factors with most character data, helping ensure hash values are well-distributed across the output range.\n"
   ]
  },
  {
   "cell_type": "markdown",
   "metadata": {},
   "source": [
    "### **Conclusion: Prime-Based String Hashing and Educational Visualization**\n",
    "\n",
    "- This task successfully implemented a K&R-style hash function and its expanded form.\n",
    "\n",
    "- Testing confirmed accuracy, and verbose output illustrated how ASCII codes and prime multiplication form a rolling hash.\n",
    "\n",
    "- While not secure, this method shows the foundation of hash table mechanics and performance optimization using primes."
   ]
  },
  {
   "cell_type": "markdown",
   "metadata": {},
   "source": [
    "## **Task 3 - SHA256**\n",
    "\n",
    "**Purpose**\n",
    "\n",
    "- This task implements the initial SHA-256 message padding process as defined in [FIPS PUB 180-4](https://doi.org/10.6028/NIST.FIPS.180-4).\n",
    "\n",
    "- Proper SHA-256 padding ensures the input message length is encoded and aligned to the nearest 512-bit boundary.\n",
    "\n",
    "- The implementation simulates pre-processing of a real input string (`\"abc\"`) and verifies bit-level correctness.\n",
    "\n",
    "**Cryptographic Context**\n",
    "\n",
    "- SHA-256 requires all messages to be padded before hashing so that the total bit length is congruent to 448 mod 512.\n",
    "\n",
    "- A `1` bit is appended, followed by enough `0` bits, and finally the original length (in bits) encoded as a 64-bit big-endian integer.\n",
    "\n",
    "- Padding enforces unambiguous interpretation of message boundaries and prevents length-extension attacks."
   ]
  },
  {
   "cell_type": "markdown",
   "metadata": {},
   "source": [
    "### **Step 1: Create Temporary File**\n",
    "\n",
    "- **Definition**\n",
    "    - A temporary binary file is created using Python’s `tempfile` module.\n",
    "\n",
    "    - It contains the ASCII string `\"abc\"`, representing a minimal input example..\n",
    "\n",
    "    - This simulates a real input file used in cryptographic hashing processes.\n",
    "    \n",
    "    - Ensures the padding logic is tested with actual file I/O and raw byte data."
   ]
  },
  {
   "cell_type": "code",
   "execution_count": 145,
   "metadata": {},
   "outputs": [
    {
     "name": "stdout",
     "output_type": "stream",
     "text": [
      "Temporary file created at: C:\\Users\\melgo\\AppData\\Local\\Temp\\tmphvxv_738\n"
     ]
    }
   ],
   "source": [
    "with tempfile.NamedTemporaryFile(delete=False, mode=\"wb\") as temp_file:\n",
    "    temp_file.write(b\"abc\")\n",
    "    temp_file_path = temp_file.name\n",
    "\n",
    "print(f\"Temporary file created at: {temp_file_path}\")"
   ]
  },
  {
   "cell_type": "markdown",
   "metadata": {},
   "source": [
    "#### **Step 2: Read Temporary File**\n",
    "\n",
    "- **Definition**\n",
    "\n",
    "    - Opens the file in binary mode and reads its contents into a byte array.\n",
    "\n",
    "    - Ensures accurate handling of raw bytes instead of string representations.\n",
    "    \n",
    "    - Allows direct access to each byte, which is necessary for correct bit-level padding."
   ]
  },
  {
   "cell_type": "code",
   "execution_count": 146,
   "metadata": {},
   "outputs": [],
   "source": [
    "with open(temp_file_path, \"rb\") as file:\n",
    "    data = file.read()"
   ]
  },
  {
   "cell_type": "markdown",
   "metadata": {},
   "source": [
    "#### **Test Class: `TestBinaryFileContents`**\n",
    "\n",
    "- **Test Approach**\n",
    "    - Converts each byte to its binary representation and joins them with spaces.\n",
    "\n",
    "    - Matches the output against the expected binary pattern of `\"abc\"`:  \n",
    "      `01100001 01100010 01100011`\n",
    "\n",
    "- **Verification**\n",
    "    - Confirms that the file content is correctly preserved at the binary level.\n",
    "\n",
    "- **Outcome**\n",
    "    - The byte-for-byte binary representation matches expectations for ASCII `\"abc\"`."
   ]
  },
  {
   "cell_type": "code",
   "execution_count": 147,
   "metadata": {},
   "outputs": [
    {
     "name": "stderr",
     "output_type": "stream",
     "text": [
      "test_binary_representation (__main__.TestBinaryFileContents.test_binary_representation) ... ok\n",
      "\n",
      "----------------------------------------------------------------------\n",
      "Ran 1 test in 0.001s\n",
      "\n",
      "OK\n"
     ]
    },
    {
     "name": "stdout",
     "output_type": "stream",
     "text": [
      "\n",
      "Starting validation of binary contents from file...\n",
      "\n",
      "Binary contents of the file: 01100001 01100010 01100011\n",
      "Test passed: binary content matches expected bit pattern\n",
      "\n",
      "Binary file content test completed successfully.\n",
      "\n"
     ]
    },
    {
     "data": {
      "text/plain": [
       "<unittest.runner.TextTestResult run=1 errors=0 failures=0>"
      ]
     },
     "execution_count": 147,
     "metadata": {},
     "output_type": "execute_result"
    }
   ],
   "source": [
    "class TestBinaryFileContents(unittest.TestCase):\n",
    "    def test_binary_representation(self):\n",
    "        print(\"\\nStarting validation of binary contents from file...\\n\")\n",
    "\n",
    "        bit_string = \" \".join(f\"{byte:08b}\" for byte in data)\n",
    "        joined_bits = \"\".join(bit_string)\n",
    "        print(\"Binary contents of the file:\", joined_bits)\n",
    "\n",
    "        expected = \"01100001 01100010 01100011\"\n",
    "        self.assertEqual(bit_string, expected)\n",
    "        print(\"Test passed: binary content matches expected bit pattern\\n\")\n",
    "\n",
    "        print(\"Binary file content test completed successfully.\\n\")\n",
    "\n",
    "unittest.TextTestRunner(verbosity=2).run(unittest.TestLoader().loadTestsFromTestCase(TestBinaryFileContents))\n"
   ]
  },
  {
   "cell_type": "markdown",
   "metadata": {},
   "source": [
    "### **Step 3: Calculate Original Message Length (in bits)**\n",
    "\n",
    "- **Definition**\n",
    "\n",
    "    - Multiplies the length of the input (in bytes) by 8 to compute the total bit count.\n",
    "\n",
    "    - This bit length must be included at the end of the padded message as part of the SHA-256 specification.\n",
    "    \n",
    "    - Accurately computing the length is critical to prevent inconsistencies between different implementations."
   ]
  },
  {
   "cell_type": "code",
   "execution_count": 148,
   "metadata": {},
   "outputs": [],
   "source": [
    "num_bytes = len(data) \n",
    "original_length_bits = num_bytes * 8"
   ]
  },
  {
   "cell_type": "markdown",
   "metadata": {},
   "source": [
    "#### **Test Class: `TestOriginalLengthInBits`**\n",
    "\n",
    "- **Test Approach**\n",
    "    - Confirms that the message contains 3 bytes, which equals 24 bits.\n",
    "\n",
    "- **Verification**\n",
    "    - Verifies that `len(data) * 8 == 24`.\n",
    "\n",
    "- **Outcome**\n",
    "    - Successfully confirms the bit-length computation for the given input."
   ]
  },
  {
   "cell_type": "code",
   "execution_count": 149,
   "metadata": {},
   "outputs": [
    {
     "name": "stderr",
     "output_type": "stream",
     "text": [
      "test_original_length_bits (__main__.TestOriginalLengthInBits.test_original_length_bits) ... ok\n",
      "\n",
      "----------------------------------------------------------------------\n",
      "Ran 1 test in 0.001s\n",
      "\n",
      "OK\n"
     ]
    },
    {
     "name": "stdout",
     "output_type": "stream",
     "text": [
      "\n",
      "Starting validation of original bit length calculation...\n",
      "\n",
      "Original length in bits: 3 × 8 = 24 (Sum of: 01100001 01100010 01100011)\n",
      "Test passed: calculated bit length is correct\n",
      "\n",
      "Bit length test completed successfully.\n",
      "\n"
     ]
    },
    {
     "data": {
      "text/plain": [
       "<unittest.runner.TextTestResult run=1 errors=0 failures=0>"
      ]
     },
     "execution_count": 149,
     "metadata": {},
     "output_type": "execute_result"
    }
   ],
   "source": [
    "class TestOriginalLengthInBits(unittest.TestCase):\n",
    "    def test_original_length_bits(self):\n",
    "        print(\"\\nStarting validation of original bit length calculation...\\n\")\n",
    "\n",
    "        num_bytes = len(data)\n",
    "        original_length_bits = num_bytes * 8\n",
    "\n",
    "        bit_string = \" \".join(f\"{byte:08b}\" for byte in data)\n",
    "\n",
    "        print(f\"Original length in bits: {num_bytes} × 8 = {original_length_bits} (Sum of: {bit_string})\")\n",
    "\n",
    "        self.assertEqual(original_length_bits, 24)\n",
    "        print(\"Test passed: calculated bit length is correct\\n\")\n",
    "\n",
    "        print(\"Bit length test completed successfully.\\n\")\n",
    "\n",
    "unittest.TextTestRunner(verbosity=2).run(unittest.TestLoader().loadTestsFromTestCase(TestOriginalLengthInBits))\n"
   ]
  },
  {
   "cell_type": "markdown",
   "metadata": {},
   "source": [
    "### **Step 4: Append 1 Bit (`0x80`) Onto End of Data**\n",
    "\n",
    "- **Definition**\n",
    "\n",
    "    - Appends a single `1` bit (as the byte `0x80`) to the end of the message.\n",
    "\n",
    "    - This marks the end of the message and the beginning of the SHA-256 padding sequence.\n",
    "    \n",
    "    - Ensures that the message is distinct and unambiguous before padding with zeros."
   ]
  },
  {
   "cell_type": "code",
   "execution_count": 150,
   "metadata": {},
   "outputs": [],
   "source": [
    "# Marks the end of the file data\n",
    "padded_message = data + b'\\x80'"
   ]
  },
  {
   "cell_type": "markdown",
   "metadata": {},
   "source": [
    "#### **Test Class: `TestAppendOneBit`**\n",
    "\n",
    "- **Test Approach**\n",
    "    - Verifies that `0x80` is correctly appended after the message `\"abc\"`.\n",
    "    \n",
    "    - Checks the resulting binary pattern matches the expected output.\n",
    "\n",
    "- **Verification**\n",
    "    - Confirms the result is `01100001 01100010 01100011 10000000`.\n",
    "\n",
    "- **Outcome**\n",
    "    - The one-bit terminator is correctly applied, increasing message size to 4 bytes."
   ]
  },
  {
   "cell_type": "code",
   "execution_count": 151,
   "metadata": {},
   "outputs": [
    {
     "name": "stderr",
     "output_type": "stream",
     "text": [
      "test_append_one_bit (__main__.TestAppendOneBit.test_append_one_bit) ... ok\n",
      "\n",
      "----------------------------------------------------------------------\n",
      "Ran 1 test in 0.001s\n",
      "\n",
      "OK\n"
     ]
    },
    {
     "name": "stdout",
     "output_type": "stream",
     "text": [
      "\n",
      "Starting validation of appending 1-bit (0x80)...\n",
      "\n",
      "After adding 1-bit: 01100001 01100010 01100011 10000000\n",
      "Test passed: 1-bit (0x80) correctly appended\n",
      "\n",
      "Append 1-bit test completed successfully.\n",
      "\n"
     ]
    },
    {
     "data": {
      "text/plain": [
       "<unittest.runner.TextTestResult run=1 errors=0 failures=0>"
      ]
     },
     "execution_count": 151,
     "metadata": {},
     "output_type": "execute_result"
    }
   ],
   "source": [
    "class TestAppendOneBit(unittest.TestCase):\n",
    "    def test_append_one_bit(self):\n",
    "        print(\"\\nStarting validation of appending 1-bit (0x80)...\\n\")\n",
    "\n",
    "        padded_message = data + b'\\x80'\n",
    "        bit_string = \" \".join(f\"{b:08b}\" for b in padded_message)\n",
    "\n",
    "        print(f\"After adding 1-bit: {bit_string}\")\n",
    "\n",
    "\n",
    "        expected = \"01100001 01100010 01100011 10000000\"\n",
    "        self.assertEqual(bit_string, expected)\n",
    "        print(\"Test passed: 1-bit (0x80) correctly appended\\n\")\n",
    "\n",
    "        print(\"Append 1-bit test completed successfully.\\n\")\n",
    "\n",
    "unittest.TextTestRunner(verbosity=2).run(unittest.TestLoader().loadTestsFromTestCase(TestAppendOneBit))"
   ]
  },
  {
   "cell_type": "markdown",
   "metadata": {},
   "source": [
    "### **Step 5: Calculate Zero Padding**\n",
    "\n",
    "- **Definition**\n",
    "\n",
    "    - Adds enough `0x00` bytes to bring the message length to 56 bytes (448 bits).\n",
    "\n",
    "    - The final 64 bits (8 bytes) are reserved for the length block.\n",
    "\n",
    "    - Ensures the entire padded message will be exactly 512 bits long."
   ]
  },
  {
   "cell_type": "code",
   "execution_count": 152,
   "metadata": {},
   "outputs": [],
   "source": [
    "zero_padding_length = (56 - (len(padded_message) % 64)) % 64\n",
    "\n",
    "padded_message += b'\\x00' * zero_padding_length"
   ]
  },
  {
   "cell_type": "markdown",
   "metadata": {},
   "source": [
    "#### **Test Class: `TestZeroPadding`**\n",
    "\n",
    "- **Test Approach**\n",
    "    - Calculates the number of `0x00` bytes needed and appends them.\n",
    "    \n",
    "    - Verifies that 52 bytes of padding bring the total message length to 56 bytes.\n",
    "\n",
    "- **Verification**\n",
    "    - Asserts that padding is correctly calculated and applied.\n",
    "\n",
    "- **Outcome**\n",
    "    - Message length is now correctly aligned for final 64-bit length addition."
   ]
  },
  {
   "cell_type": "code",
   "execution_count": 153,
   "metadata": {},
   "outputs": [
    {
     "name": "stderr",
     "output_type": "stream",
     "text": [
      "test_zero_padding (__main__.TestZeroPadding.test_zero_padding) ... ok\n",
      "\n",
      "----------------------------------------------------------------------\n",
      "Ran 1 test in 0.001s\n",
      "\n",
      "OK\n"
     ]
    },
    {
     "name": "stdout",
     "output_type": "stream",
     "text": [
      "\n",
      "Starting validation of zero padding to 56-byte boundary...\n",
      "\n",
      "After zero padding: 01100001 01100010 01100011 10000000 00000000 00000000 00000000 00000000 00000000 00000000 00000000 00000000 00000000 00000000 00000000 00000000 00000000 00000000 00000000 00000000 00000000 00000000 00000000 00000000 00000000 00000000 00000000 00000000 00000000 00000000 00000000 00000000 00000000 00000000 00000000 00000000 00000000 00000000 00000000 00000000 00000000 00000000 00000000 00000000 00000000 00000000 00000000 00000000 00000000 00000000 00000000 00000000 00000000 00000000 00000000 00000000\n",
      "Padding length: 52 bytes\n",
      "Test passed: zero padding applied correctly\n",
      "\n",
      "Zero padding test completed successfully.\n",
      "\n"
     ]
    },
    {
     "data": {
      "text/plain": [
       "<unittest.runner.TextTestResult run=1 errors=0 failures=0>"
      ]
     },
     "execution_count": 153,
     "metadata": {},
     "output_type": "execute_result"
    }
   ],
   "source": [
    "class TestZeroPadding(unittest.TestCase):\n",
    "    def test_zero_padding(self):\n",
    "        print(\"\\nStarting validation of zero padding to 56-byte boundary...\\n\")\n",
    "\n",
    "        # Rebuild padded_message from original data each time\n",
    "        padded_message = data + b'\\x80'\n",
    "        zero_padding_length = (56 - (len(padded_message) % 64)) % 64\n",
    "        padded_message += b'\\x00' * zero_padding_length\n",
    "        bit_string = \" \".join(f\"{b:08b}\" for b in padded_message)\n",
    "\n",
    "        print(f\"After zero padding: {bit_string}\")\n",
    "        print(f\"Padding length: {zero_padding_length} bytes\")\n",
    "\n",
    "        expected_padding_length = 52\n",
    "        self.assertEqual(zero_padding_length, expected_padding_length)\n",
    "        self.assertEqual(len(padded_message), 56)\n",
    "        print(\"Test passed: zero padding applied correctly\\n\")\n",
    "\n",
    "        print(\"Zero padding test completed successfully.\\n\")\n",
    "\n",
    "unittest.TextTestRunner(verbosity=2).run(unittest.TestLoader().loadTestsFromTestCase(TestZeroPadding))"
   ]
  },
  {
   "cell_type": "markdown",
   "metadata": {},
   "source": [
    "### **Step 6: Append the Original Message Length (in Bits)**\n",
    "\n",
    "- **Definition**\n",
    "\n",
    "    - Appends the original message length (24 bits) as an 8-byte (64-bit) big-endian integer.\n",
    "\n",
    "    - This final block encodes the original message length and is required for SHA-256 integrity.\n",
    "    \n",
    "    - Guarantees that the total message length becomes a full 512-bit block."
   ]
  },
  {
   "cell_type": "code",
   "execution_count": 154,
   "metadata": {},
   "outputs": [],
   "source": [
    "padded_message += original_length_bits.to_bytes(8, 'big')"
   ]
  },
  {
   "cell_type": "markdown",
   "metadata": {},
   "source": [
    "#### **Test Class: `TestFinalPaddedMessage`**\n",
    "\n",
    "- **Test Approach**\n",
    "    - Verifies that the original length is appended as a 64-bit integer.\n",
    "    \n",
    "    - Checks that the final message length is exactly 64 bytes.\n",
    "\n",
    "- **Verification**\n",
    "    - Ensures the final 8 bytes match `0000000000000018` (decimal 24 in hex).\n",
    "\n",
    "- **Outcome**\n",
    "    - Final message block is properly formed for SHA-256 hashing."
   ]
  },
  {
   "cell_type": "code",
   "execution_count": 155,
   "metadata": {},
   "outputs": [
    {
     "name": "stderr",
     "output_type": "stream",
     "text": [
      "test_append_length_block (__main__.TestFinalPaddedMessage.test_append_length_block) ... ok\n",
      "\n",
      "----------------------------------------------------------------------\n",
      "Ran 1 test in 0.001s\n",
      "\n",
      "OK\n"
     ]
    },
    {
     "name": "stdout",
     "output_type": "stream",
     "text": [
      "\n",
      "Starting validation of final padded message with 64-bit length...\n",
      "\n",
      "Final padded message: 01100001 01100010 01100011 10000000 00000000 00000000 00000000 00000000 00000000 00000000 00000000 00000000 00000000 00000000 00000000 00000000 00000000 00000000 00000000 00000000 00000000 00000000 00000000 00000000 00000000 00000000 00000000 00000000 00000000 00000000 00000000 00000000 00000000 00000000 00000000 00000000 00000000 00000000 00000000 00000000 00000000 00000000 00000000 00000000 00000000 00000000 00000000 00000000 00000000 00000000 00000000 00000000 00000000 00000000 00000000 00000000 00000000 00000000 00000000 00000000 00000000 00000000 00000000 00011000\n",
      "Test passed: final message is correctly padded and length block is correct\n",
      "\n",
      "Final padding test completed successfully.\n",
      "\n"
     ]
    },
    {
     "data": {
      "text/plain": [
       "<unittest.runner.TextTestResult run=1 errors=0 failures=0>"
      ]
     },
     "execution_count": 155,
     "metadata": {},
     "output_type": "execute_result"
    }
   ],
   "source": [
    "class TestFinalPaddedMessage(unittest.TestCase):\n",
    "    def test_append_length_block(self):\n",
    "        print(\"\\nStarting validation of final padded message with 64-bit length...\\n\")\n",
    "\n",
    "        # Reconstruct everything from scratch for a clean test\n",
    "        padded_message = data + b'\\x80'\n",
    "        zero_padding_length = (56 - (len(padded_message) % 64)) % 64\n",
    "        padded_message += b'\\x00' * zero_padding_length\n",
    "\n",
    "        original_length_bits = len(data) * 8\n",
    "        padded_message += original_length_bits.to_bytes(8, 'big')\n",
    "\n",
    "        bit_string = \" \".join(f\"{b:08b}\" for b in padded_message)\n",
    "        print(f\"Final padded message: {bit_string}\")\n",
    "\n",
    "        self.assertEqual(len(padded_message), 64)\n",
    "        self.assertEqual(padded_message[-8:], original_length_bits.to_bytes(8, 'big'))\n",
    "        print(\"Test passed: final message is correctly padded and length block is correct\\n\")\n",
    "\n",
    "        print(\"Final padding test completed successfully.\\n\")\n",
    "\n",
    "unittest.TextTestRunner(verbosity=2).run(unittest.TestLoader().loadTestsFromTestCase(TestFinalPaddedMessage))"
   ]
  },
  {
   "cell_type": "markdown",
   "metadata": {},
   "source": [
    "### **Step 7: Extract and Display Only the Padding**\n",
    "\n",
    "- **Definition**\n",
    "\n",
    "    - Extracts the portion of the message that was added during padding (excluding the original data).\n",
    "\n",
    "    - Converts this segment to hexadecimal format for visual inspection.\n",
    "    \n",
    "    - Useful for verifying padding layout matches SHA-256 format."
   ]
  },
  {
   "cell_type": "code",
   "execution_count": 156,
   "metadata": {},
   "outputs": [
    {
     "name": "stdout",
     "output_type": "stream",
     "text": [
      "SHA‑256 Padding (Hex): 80 00 00 00 00 00 00 00 00 00 00 00 00 00 00 00 00 00 00 00 00 00 00 00 00 00 00 00 00 00 00 00 00 00 00 00 00 00 00 00 00 00 00 00 00 00 00 00 00 00 00 00 00 00 00 00 00 00 00 00 18\n"
     ]
    }
   ],
   "source": [
    "padding_hex = padded_message[len(data):]\n",
    "print(\"SHA‑256 Padding (Hex):\", \" \".join(f\"{b:02X}\" for b in padding_hex))"
   ]
  },
  {
   "cell_type": "markdown",
   "metadata": {},
   "source": [
    "#### **Test Class: `TestSha256PaddingHex`**\n",
    "\n",
    "- **Test Approach**\n",
    "    - Slices out the padding portion and prints it as a space-separated hex string.\n",
    "    \n",
    "    - Confirms the expected structure of: `80`, 52 zeros, and the final length block.\n",
    "\n",
    "- **Verification**\n",
    "    - Matches the output against a known correct hex padding structure.\n",
    "\n",
    "- **Outcome**\n",
    "    - Padding is correct and matches FIPS 180-4 expected output."
   ]
  },
  {
   "cell_type": "code",
   "execution_count": 157,
   "metadata": {},
   "outputs": [
    {
     "name": "stderr",
     "output_type": "stream",
     "text": [
      "test_padding_hex_output (__main__.TestSha256PaddingHex.test_padding_hex_output) ... ok\n",
      "\n",
      "----------------------------------------------------------------------\n",
      "Ran 1 test in 0.001s\n",
      "\n",
      "OK\n"
     ]
    },
    {
     "name": "stdout",
     "output_type": "stream",
     "text": [
      "\n",
      "Starting validation of SHA-256 padding in hex format...\n",
      "\n",
      "SHA-256 Padding (Hex): 80 00 00 00 00 00 00 00 00 00 00 00 00 00 00 00 00 00 00 00 00 00 00 00 00 00 00 00 00 00 00 00 00 00 00 00 00 00 00 00 00 00 00 00 00 00 00 00 00 00 00 00 00 00 00 00 00 00 00 00 18\n",
      "Test passed: SHA-256 padding hex output is correct\n",
      "\n",
      "SHA-256 padding hex test completed successfully.\n",
      "\n"
     ]
    },
    {
     "data": {
      "text/plain": [
       "<unittest.runner.TextTestResult run=1 errors=0 failures=0>"
      ]
     },
     "execution_count": 157,
     "metadata": {},
     "output_type": "execute_result"
    }
   ],
   "source": [
    "class TestSha256PaddingHex(unittest.TestCase):\n",
    "    def test_padding_hex_output(self):\n",
    "        print(\"\\nStarting validation of SHA-256 padding in hex format...\\n\")\n",
    "\n",
    "        # Rebuild full padded message\n",
    "        padded_message = data + b'\\x80'\n",
    "        zero_padding_length = (56 - (len(padded_message) % 64)) % 64\n",
    "        padded_message += b'\\x00' * zero_padding_length\n",
    "\n",
    "        original_length_bits = len(data) * 8\n",
    "        padded_message += original_length_bits.to_bytes(8, 'big')\n",
    "\n",
    "        # Extract only the padding part (everything after the original data)\n",
    "        padding_hex = padded_message[len(data):]\n",
    "\n",
    "        hex_output = \" \".join(f\"{b:02X}\" for b in padding_hex)\n",
    "        print(f\"SHA-256 Padding (Hex): {hex_output}\")\n",
    "\n",
    "        expected_hex = (\n",
    "            \"80 \" + \"00 \" * 52 + \"00 00 00 00 00 00 00 18\"\n",
    "        ).strip()\n",
    "\n",
    "        self.assertEqual(hex_output, expected_hex)\n",
    "        print(\"Test passed: SHA-256 padding hex output is correct\\n\")\n",
    "\n",
    "        print(\"SHA-256 padding hex test completed successfully.\\n\")\n",
    "\n",
    "unittest.TextTestRunner(verbosity=2).run(unittest.TestLoader().loadTestsFromTestCase(TestSha256PaddingHex))\n"
   ]
  },
  {
   "cell_type": "markdown",
   "metadata": {},
   "source": [
    "#### **Step 8: Delete the Temporary File**\n",
    "\n",
    "- **Definition**\n",
    "\n",
    "    - Deletes the temporary file created in Step 1.\n",
    "\n",
    "    - Ensures no leftover files remain on disk after testing.\n",
    "\n",
    "    - Implements good cleanup practice for temporary test data.\n",
    "\n",
    "    - Prints whether the file exists before and after deletion.\n",
    "\n",
    "    - Handles possible exceptions and confirms cleanup was successful."
   ]
  },
  {
   "cell_type": "code",
   "execution_count": 158,
   "metadata": {},
   "outputs": [
    {
     "name": "stdout",
     "output_type": "stream",
     "text": [
      "File exists before deletion: True\n",
      "\n",
      "Temporary file deleted successfully.\n",
      "\n",
      "File exists after deletion: False\n"
     ]
    }
   ],
   "source": [
    "print(f\"File exists before deletion: {os.path.exists(temp_file_path)}\")\n",
    "\n",
    "try:\n",
    "    os.remove(temp_file_path)\n",
    "\n",
    "    # Check if the file still exists\n",
    "    if os.path.exists(temp_file_path):\n",
    "        print(\"\\nError: File was NOT deleted!\")\n",
    "    else:\n",
    "        print(\"\\nTemporary file deleted successfully.\")\n",
    "\n",
    "except FileNotFoundError:\n",
    "    print(\"\\nWarning: File already deleted or does not exist.\")\n",
    "except Exception as e:\n",
    "    print(f\"\\nUnexpected error: {e}\")\n",
    "\n",
    "print(f\"\\nFile exists after deletion: {os.path.exists(temp_file_path)}\")"
   ]
  },
  {
   "cell_type": "markdown",
   "metadata": {},
   "source": [
    "## **Task 4 - Prime Numbers**\n",
    "\n",
    "**Purpose**\n",
    "\n",
    "- This task implements two approaches for identifying prime numbers: Trial Division and the Sieve of Atkin.\n",
    "\n",
    "- A prime number is a natural number greater than 1 that has no positive divisors other than 1 and itself.\n",
    "\n",
    "- The following algorithms are implemented and tested:\n",
    "\n",
    "    - **Trial Division** – Checks whether an individual number is prime by testing divisibility against a reduced set of candidate factors.\n",
    "    \n",
    "    - **Sieve of Atkin** – Efficiently generates all primes up to a given limit using quadratic formulas and modular arithmetic.\n",
    "\n",
    "- Each function is tested for correctness using unit tests that validate both individual behaviors and full sequence outputs.\n",
    "\n",
    "- These techniques support deterministic generation and validation of prime numbers, which are foundational to cryptographic security.\n",
    "\n",
    "**Cryptographic Context**\n",
    "\n",
    "- Prime numbers are essential in modern cryptographic protocols, especially public-key cryptography.\n",
    "\n",
    "- Systems like RSA depend on large prime generation for secure key pair construction.\n",
    "\n",
    "- Efficient prime testing and generation help ensure:\n",
    "\n",
    "    - Secure and unpredictable key material.\n",
    "\n",
    "    - Resistance against factorization-based attacks.\n",
    "    \n",
    "    - High performance in modular arithmetic operations.\n",
    "\n",
    "- This task verifies that both primality checking and prime enumeration operate correctly and efficiently, supporting their use in secure cryptographic workflows.\n"
   ]
  },
  {
   "cell_type": "markdown",
   "metadata": {},
   "source": [
    "### **Algorithm 1: Trial Division Algorithm**"
   ]
  },
  {
   "cell_type": "markdown",
   "metadata": {},
   "source": [
    "### **Step 1: Check if a Number is Prime**\n",
    "\n",
    "- **Definition**\n",
    "\n",
    "    - Defines a function that determines whether a given integer is prime using trial division.\n",
    "\n",
    "    - Numbers less than 2 are excluded, as neither 0 nor 1 are prime.\n",
    "\n",
    "    - Even numbers greater than 2 and multiples of 3 are filtered out early, as these are not prime by definition.\n",
    "\n",
    "    - For remaining candidates, the function checks divisibility using a loop restricted to numbers of the form `6k ± 1`, since all primes greater than 3 fall into that pattern.\n",
    "\n",
    "    - The loop runs only up to the square root of the input, since any larger divisor would already have been discovered as a smaller complement.\n",
    "\n",
    "    - This method works efficiently for small to medium inputs and avoids redundant checks while maintaining accuracy.\n",
    "\n",
    "    - This function is used because it provides a simple, deterministic way to test individual numbers for primality.\n",
    "\n",
    "    - It forms the basis for generating lists of primes and validating prime properties — both of which are essential in cryptographic applications.\n",
    "\n",
    "    - While not suitable for very large values, it is ideal for checking moderate-sized integers in constrained educational or algorithmic settings.\n"
   ]
  },
  {
   "cell_type": "code",
   "execution_count": 159,
   "metadata": {},
   "outputs": [],
   "source": [
    "def is_prime(n):\n",
    "    if n < 2:\n",
    "        return False\n",
    "    if n in (2, 3):\n",
    "        return True\n",
    "    if n % 2 == 0 or n % 3 == 0:\n",
    "        return False\n",
    "    \n",
    "    i = 5\n",
    "    while i * i <= n:\n",
    "        if n % i == 0 or n % (i + 2) == 0:\n",
    "            return False\n",
    "        i += 6\n",
    "    return True"
   ]
  },
  {
   "cell_type": "markdown",
   "metadata": {},
   "source": [
    "### **Step 2: Generate First N Primes Using Trial Division**\n",
    "\n",
    "- **Definition**\n",
    "\n",
    "    - Defines a function that generates the first `n` prime numbers by repeatedly applying the `is_prime(n)` check.\n",
    "\n",
    "    - Begins at 2 and tests each integer in order, appending it to a list if it is confirmed as prime.\n",
    "\n",
    "    - Continues until the list contains exactly `n` primes, ensuring output is in ascending order.\n",
    "\n",
    "    - This implementation guarantees correctness through exhaustive verification of each candidate using a reliable primality test.\n",
    "\n",
    "    - This function is used to produce controlled lists of prime numbers for testing and comparison.\n",
    "\n",
    "    - Its use ensures a known-good reference when analyzing correctness and completeness across different prime generation strategies.\n"
   ]
  },
  {
   "cell_type": "code",
   "execution_count": 160,
   "metadata": {},
   "outputs": [],
   "source": [
    "def first_n_primes_trial(n):\n",
    "    primes = []\n",
    "    num = 2\n",
    "    while len(primes) < n:\n",
    "        if is_prime(num):\n",
    "            primes.append(num)\n",
    "        num += 1\n",
    "    return primes"
   ]
  },
  {
   "cell_type": "markdown",
   "metadata": {},
   "source": [
    "#### **Test Class: `TestPrimeFunctions`**\n",
    "\n",
    "- Test Approach\n",
    "\n",
    "    - Two functions are tested. `is_prime(n)` is tested using known prime and non-prime values to confirm it correctly identifies valid and invalid inputs. \n",
    "    \n",
    "    - `first_n_primes_trial(n)` is tested with small input values to verify that the returned lists contain the expected prime numbers with the correct length and ordering.\n",
    "\n",
    "- Verification\n",
    "\n",
    "    - `is_prime(n)` correctly returns True for primes and False for non-primes  \n",
    "\n",
    "    - `first_n_primes_trial(n)` returns the correct prime sequences for small `n`\n",
    "\n",
    "- Outcome\n",
    "\n",
    "    - The test confirms that both `is_prime(n)` and `first_n_primes_trial(n)` behave as expected. \n"
   ]
  },
  {
   "cell_type": "code",
   "execution_count": 161,
   "metadata": {},
   "outputs": [
    {
     "name": "stderr",
     "output_type": "stream",
     "text": [
      "test_first_n_primes_trial (__main__.TestPrimeFunctions.test_first_n_primes_trial) ... ok\n",
      "test_is_prime (__main__.TestPrimeFunctions.test_is_prime) ... ok\n",
      "\n",
      "----------------------------------------------------------------------\n",
      "Ran 2 tests in 0.002s\n",
      "\n",
      "OK\n"
     ]
    },
    {
     "name": "stdout",
     "output_type": "stream",
     "text": [
      "\n",
      "Testing first_n_primes_trial(n)...\n",
      "\n",
      "Test passed: first_n_primes_trial(1) == [2]\n",
      "Test passed: first_n_primes_trial(3) == [2, 3, 5]\n",
      "\n",
      "first_n_primes_trial(n) tests completed successfully.\n",
      "\n",
      "\n",
      "Testing is_prime(n)...\n",
      "\n",
      "Test passed: 2 is prime\n",
      "Test passed: 17 is prime\n",
      "Test passed: 1 is not prime\n",
      "Test passed: 100 is not prime\n",
      "\n",
      "is_prime(n) tests completed successfully.\n",
      "\n"
     ]
    },
    {
     "data": {
      "text/plain": [
       "<unittest.runner.TextTestResult run=2 errors=0 failures=0>"
      ]
     },
     "execution_count": 161,
     "metadata": {},
     "output_type": "execute_result"
    }
   ],
   "source": [
    "class TestPrimeFunctions(unittest.TestCase):\n",
    "    def test_is_prime(self):\n",
    "        print(\"\\nTesting is_prime(n)...\\n\")\n",
    "\n",
    "        self.assertTrue(is_prime(2))\n",
    "        print(\"Test passed: 2 is prime\")\n",
    "        self.assertTrue(is_prime(17))\n",
    "        print(\"Test passed: 17 is prime\")\n",
    "\n",
    "        self.assertFalse(is_prime(1))\n",
    "        print(\"Test passed: 1 is not prime\")\n",
    "        self.assertFalse(is_prime(100))\n",
    "        print(\"Test passed: 100 is not prime\")\n",
    "\n",
    "        print(\"\\nis_prime(n) tests completed successfully.\\n\")\n",
    "\n",
    "    def test_first_n_primes_trial(self):\n",
    "        print(\"\\nTesting first_n_primes_trial(n)...\\n\")\n",
    "\n",
    "        self.assertEqual(first_n_primes_trial(1), [2])\n",
    "        print(\"Test passed: first_n_primes_trial(1) == [2]\")\n",
    "\n",
    "        self.assertEqual(first_n_primes_trial(3), [2, 3, 5])\n",
    "        print(\"Test passed: first_n_primes_trial(3) == [2, 3, 5]\")\n",
    "\n",
    "        print(\"\\nfirst_n_primes_trial(n) tests completed successfully.\\n\")\n",
    "\n",
    "unittest.TextTestRunner(verbosity=2).run(unittest.TestLoader().loadTestsFromTestCase(TestPrimeFunctions))\n"
   ]
  },
  {
   "cell_type": "markdown",
   "metadata": {},
   "source": [
    "#### **Step 3: Execute Prime Sequence Generator for 100 Primes**\n",
    "\n",
    "- **Definition**\n",
    "\n",
    "    - Executes the `first_n_primes_trial(100)` function to generate the first 100 prime numbers using trial division.\n",
    "\n",
    "    - This acts as a functional validation that the implementation scales correctly and does not miss any values at larger input sizes.\n",
    "\n",
    "    - Also serves as a reference point to compare against the Sieve of Atkin, ensuring both algorithms return identical results for the same range.\n",
    "    \n",
    "    - Unlike the sieve, this approach does not require an upper bound — it stops automatically after finding 100 confirmed primes.\n"
   ]
  },
  {
   "cell_type": "code",
   "execution_count": 162,
   "metadata": {},
   "outputs": [
    {
     "name": "stdout",
     "output_type": "stream",
     "text": [
      "First 100 primes (Trial Division):\n",
      "[2, 3, 5, 7, 11, 13, 17, 19, 23, 29, 31, 37, 41, 43, 47, 53, 59, 61, 67, 71, 73, 79, 83, 89, 97, 101, 103, 107, 109, 113, 127, 131, 137, 139, 149, 151, 157, 163, 167, 173, 179, 181, 191, 193, 197, 199, 211, 223, 227, 229, 233, 239, 241, 251, 257, 263, 269, 271, 277, 281, 283, 293, 307, 311, 313, 317, 331, 337, 347, 349, 353, 359, 367, 373, 379, 383, 389, 397, 401, 409, 419, 421, 431, 433, 439, 443, 449, 457, 461, 463, 467, 479, 487, 491, 499, 503, 509, 521, 523, 541]\n"
     ]
    }
   ],
   "source": [
    "primes_output = first_n_primes_trial(100)\n",
    "\n",
    "print(\"First 100 primes (Trial Division):\")\n",
    "print(primes_output)   \n"
   ]
  },
  {
   "cell_type": "markdown",
   "metadata": {},
   "source": [
    "### **Sieve of Atkin Algorithm**"
   ]
  },
  {
   "cell_type": "markdown",
   "metadata": {},
   "source": [
    "#### **Step 1: Implement Sieve of Atkin Algorithm**\n",
    "\n",
    "- Definition\n",
    "\n",
    "    - Unlike trial division, which checks each number individually, the Sieve of Atkin uses mathematical properties to eliminate non-primes efficiently in bulk.\n",
    "\n",
    "    - By leveraging modulo arithmetic and specific quadratic patterns, it avoids redundant calculations and skips over large ranges of composite numbers.\n",
    "\n",
    "    - This makes it highly suitable for cryptographic or algorithmic applications that require many primes quickly, especially when the upper bound is large.\n",
    "    - It creates an optimized algorithm for finding all prime numbers up to a specified limit.\n",
    "    \n",
    "    - It returns an empty list if the limit is less than 2, since there are no prime numbers below 2.\n",
    "    \n",
    "    - It initializes a sieve as a boolean array where all values are False (not prime) by default.\n",
    "    \n",
    "    - It explicitly marks 2 and 3 as prime (True) since they don't follow the patterns used by the main algorithm.\n",
    "    \n",
    "    - This function is used because it allows for significantly faster generation of all prime numbers up to a given limit.\n",
    "    \n",
    "    - It only considers numbers as possible primes if they fit specific repeating patterns in modulo 12 arithmetic, which helps to quickly skip unnecessary checks.\n",
    "    \n",
    "    - **Formula 1**: `4x² + y² ≡ 1 or 5 mod 12` identifies numbers that have remainder 1 or 5 when divided by 12.\n",
    "    \n",
    "    - **Formula 2**: `3x² + y² ≡ 7 mod 12` identifies numbers that have remainder 7 when divided by 12.\n",
    "    \n",
    "    - **Formula 3**: `3x² − y² ≡ 11 mod 12` (only if `x > y`) identifies numbers that have remainder 11 when divided by 12, only when x > y.\n",
    "    \n",
    "    - It toggles the primality status of each number that fits these patterns (from False to True or True to False).\n",
    "    \n",
    "    - It eliminates false positives by marking all multiples of squares of identified primes as non-prime.\n",
    "    \n",
    "    - When this filtering is completed, the remaining marked numbers are guaranteed to be prime.\n",
    "    \n",
    "    - It returns a list containing all numbers that remain marked as prime after the sieving process."
   ]
  },
  {
   "cell_type": "code",
   "execution_count": 163,
   "metadata": {},
   "outputs": [],
   "source": [
    "def sieve_of_atkin(limit):\n",
    "    if limit < 2:\n",
    "        return []\n",
    "\n",
    "    ## Initialise the sieve and create list of False values that assumes all numbers are not prime\n",
    "    sieve = [False] * (limit + 1)\n",
    "    sieve[2] = sieve[3] = True\n",
    "\n",
    "    ## Use Quadratic Equations to find potential prime numbers\n",
    "    for x in range(1, int(limit**0.5) + 1):\n",
    "        for y in range(1, int(limit**0.5) + 1):\n",
    "            \n",
    "            ## Formula 1: Checks if number is modulo 12 = 1 or 5\n",
    "            n = (4 * x * x) + (y * y)\n",
    "            if n <= limit and (n % 12 == 1 or n % 12 == 5):\n",
    "                sieve[n] = not sieve[n]\n",
    "\n",
    "            ## Formula 2: Checks if number is modulo 12 ≡ 7\n",
    "            n = (3 * x * x) + (y * y)\n",
    "            if n <= limit and n % 12 == 7:\n",
    "                sieve[n] = not sieve[n]\n",
    "\n",
    "            ## Formula 3: Checks if number is modulo 12 ≡ 11\n",
    "            n = (3 * x * x) - (y * y)\n",
    "            if x > y and n <= limit and n % 12 == 11:\n",
    "                sieve[n] = not sieve[n]\n",
    "\n",
    "    ## Mark all multiples of known primes as non-prime to eliminate false positives\n",
    "    for num in range(5, int(limit**0.5) + 1):\n",
    "        if sieve[num]:\n",
    "            for multiple in range(num * num, limit + 1, num * num):\n",
    "                sieve[multiple] = False\n",
    "\n",
    "    return [num for num in range(limit + 1) if sieve[num]]\n"
   ]
  },
  {
   "cell_type": "markdown",
   "metadata": {},
   "source": [
    "#### **Test Class `TestSieveOfAtkinFormulas`**\n",
    "\n",
    "- Test Approach\n",
    "\n",
    "    - This test class verifies the functionality of the Sieve of Atkin algorithm. \n",
    "\n",
    "    - It confirms that the sieve correctly identifies primes for small values of `n` (e.g., 5, 7, 11).\n",
    "\n",
    "    - It verifies that the sieve eliminates non-prime numbers, especially composite numbers like squares of primes, which is critical for ensuring the algorithm’s accuracy and efficiency.  \n",
    "\n",
    "- Verification\n",
    "\n",
    "    - The sieve correctly identifies primes up to a given limit.\n",
    "\n",
    "    - The sieve accurately eliminates non-prime numbers, such as squares of primes.\n",
    "\n",
    "- Outcome\n",
    "\n",
    "    - All tests pass, confirming that the Sieve of Atkin algorithm works as expected and correctly identifies primes.\n"
   ]
  },
  {
   "cell_type": "code",
   "execution_count": 164,
   "metadata": {},
   "outputs": [
    {
     "name": "stderr",
     "output_type": "stream",
     "text": [
      "test_false_positives_eliminated (__main__.TestSieveOfAtkinFormulas.test_false_positives_eliminated) ... ok\n",
      "test_formula_1_mod_12_1_or_5 (__main__.TestSieveOfAtkinFormulas.test_formula_1_mod_12_1_or_5) ... ok\n",
      "test_formula_2_mod_12_7 (__main__.TestSieveOfAtkinFormulas.test_formula_2_mod_12_7) ... ok\n",
      "test_formula_3_mod_12_11 (__main__.TestSieveOfAtkinFormulas.test_formula_3_mod_12_11) ... ok\n",
      "\n",
      "----------------------------------------------------------------------\n",
      "Ran 4 tests in 0.003s\n",
      "\n",
      "OK\n"
     ]
    },
    {
     "name": "stdout",
     "output_type": "stream",
     "text": [
      "\n",
      "Testing elimination of false positives (non-primes marked off)...\n",
      "\n",
      "Test passed: composite squares eliminated as expected\n",
      "\n",
      "sieve_of_atkin formula-specific tests completed successfully.\n",
      "\n",
      "\n",
      "Testing Formula 1: 4x² + y² ≡ 1 or 5 (mod 12)...\n",
      "\n",
      "Test passed: 5 correctly included by Formula 1\n",
      "\n",
      "Testing Formula 2: 3x² + y² ≡ 7 (mod 12)...\n",
      "\n",
      "Test passed: 7 correctly included by Formula 2\n",
      "\n",
      "Testing Formula 3: 3x² − y² ≡ 11 (mod 12)...\n",
      "\n",
      "Test passed: 11 correctly included by Formula 3\n"
     ]
    },
    {
     "data": {
      "text/plain": [
       "<unittest.runner.TextTestResult run=4 errors=0 failures=0>"
      ]
     },
     "execution_count": 164,
     "metadata": {},
     "output_type": "execute_result"
    }
   ],
   "source": [
    "class TestSieveOfAtkinFormulas(unittest.TestCase):\n",
    "    def test_formula_1_mod_12_1_or_5(self):\n",
    "        print(\"\\nTesting Formula 1: 4x² + y² ≡ 1 or 5 (mod 12)...\\n\")\n",
    "        primes = sieve_of_atkin(5)\n",
    "        self.assertIn(5, primes)\n",
    "        print(\"Test passed: 5 correctly included by Formula 1\")\n",
    "\n",
    "    def test_formula_2_mod_12_7(self):\n",
    "        print(\"\\nTesting Formula 2: 3x² + y² ≡ 7 (mod 12)...\\n\")\n",
    "        primes = sieve_of_atkin(7)\n",
    "        self.assertIn(7, primes)\n",
    "        print(\"Test passed: 7 correctly included by Formula 2\")\n",
    "\n",
    "    def test_formula_3_mod_12_11(self):\n",
    "        print(\"\\nTesting Formula 3: 3x² − y² ≡ 11 (mod 12)...\\n\")\n",
    "        primes = sieve_of_atkin(11)\n",
    "        self.assertIn(11, primes)\n",
    "        print(\"Test passed: 11 correctly included by Formula 3\")\n",
    "\n",
    "    def test_false_positives_eliminated(self):\n",
    "        print(\"\\nTesting elimination of false positives (non-primes marked off)...\\n\")\n",
    "        primes = sieve_of_atkin(50)\n",
    "        self.assertNotIn(49, primes)  \n",
    "        self.assertNotIn(9, primes)   \n",
    "        print(\"Test passed: composite squares eliminated as expected\")\n",
    "\n",
    "        print(\"\\nsieve_of_atkin formula-specific tests completed successfully.\\n\")\n",
    "\n",
    "unittest.TextTestRunner(verbosity=2).run(unittest.TestLoader().loadTestsFromTestCase(TestSieveOfAtkinFormulas))\n"
   ]
  },
  {
   "cell_type": "markdown",
   "metadata": {},
   "source": [
    "### **Step 2: Execute Sieve of Atkin for 100 Primes**\n",
    "\n",
    "- **Definition**\n",
    "\n",
    "    - Executes the Sieve of Atkin algorithm to generate a list of prime numbers, targeting the first 100.\n",
    "\n",
    "    - Uses 600 as the upper bound because the sieve generates **all primes up to a limit**, rather than a specific count.\n",
    "\n",
    "    - This ensures that the 100th prime (which is 541) is included in the result.\n",
    "\n",
    "    - Applies slicing `[:100]` to extract exactly the first 100 primes from the output.\n",
    "\n",
    "    - This approach enables direct comparison with the Trial Division output to verify correctness.\n"
   ]
  },
  {
   "cell_type": "code",
   "execution_count": 165,
   "metadata": {},
   "outputs": [
    {
     "name": "stdout",
     "output_type": "stream",
     "text": [
      "\n",
      "First 100 primes (Sieve of Atkin):\n",
      "[2, 3, 5, 7, 11, 13, 17, 19, 23, 29, 31, 37, 41, 43, 47, 53, 59, 61, 67, 71, 73, 79, 83, 89, 97, 101, 103, 107, 109, 113, 127, 131, 137, 139, 149, 151, 157, 163, 167, 173, 179, 181, 191, 193, 197, 199, 211, 223, 227, 229, 233, 239, 241, 251, 257, 263, 269, 271, 277, 281, 283, 293, 307, 311, 313, 317, 331, 337, 347, 349, 353, 359, 367, 373, 379, 383, 389, 397, 401, 409, 419, 421, 431, 433, 439, 443, 449, 457, 461, 463, 467, 479, 487, 491, 499, 503, 509, 521, 523, 541]\n"
     ]
    }
   ],
   "source": [
    "primes_atkin = sieve_of_atkin(600)[:100]\n",
    "\n",
    "print(\"\\nFirst 100 primes (Sieve of Atkin):\")\n",
    "print(primes_atkin) "
   ]
  },
  {
   "cell_type": "markdown",
   "metadata": {},
   "source": [
    "### **Findings: Prime Number Algorithms**"
   ]
  },
  {
   "cell_type": "code",
   "execution_count": 166,
   "metadata": {},
   "outputs": [
    {
     "name": "stdout",
     "output_type": "stream",
     "text": [
      "\n",
      "✔ Both methods agree on the first 100 primes.\n"
     ]
    }
   ],
   "source": [
    "assert primes_output == primes_atkin, \"Mismatch in first 100 primes!\"\n",
    "print(\"\\n✔ Both methods agree on the first 100 primes.\")"
   ]
  },
  {
   "cell_type": "markdown",
   "metadata": {},
   "source": [
    "- Both the Trial Division and Sieve of Atkin methods were validated to produce identical prime sequences up to the 100th prime, confirming consistency and correctness.\n",
    "\n",
    "- **Comparison**:\n",
    "\n",
    "    - **Method Type**:\n",
    "        - Trial Division: Incremental check per value.\n",
    "        - Sieve of Atkin: Bulk sieve using mathematical patterns.\n",
    "\n",
    "    - **Performance**:\n",
    "        - Trial Division: Slower for large ranges.\n",
    "        - Sieve of Atkin: Optimized for large-scale generation.\n",
    "\n",
    "    - **Complexity**:\n",
    "        - Trial Division: Simple and easy to understand.\n",
    "        - Sieve of Atkin: Requires more advanced number theory.\n",
    "\n",
    "    - **Best Use Case**:\n",
    "        - Trial Division: Ideal for small inputs, testing, or learning.\n",
    "        - Sieve of Atkin: Best for fast generation of large prime sets.\n",
    "\n",
    "---\n",
    "\n",
    "### **Conclusion**\n",
    "\n",
    "- For small inputs or educational purposes, **Trial Division** offers clarity and simplicity.\n",
    "\n",
    "- For generating large numbers of primes efficiently, the **Sieve of Atkin** is the superior choice due to its significantly better runtime performance.\n"
   ]
  },
  {
   "cell_type": "markdown",
   "metadata": {},
   "source": [
    "## **Task 5 - Roots**"
   ]
  },
  {
   "cell_type": "markdown",
   "metadata": {},
   "source": [
    "**Purpose**\n",
    "\n",
    "- This task extracts the 32-bit binary representation of the fractional part of square roots of prime numbers.\n",
    "- It defines a function to isolate and convert the fractional part of any floating-point value into a fixed-size binary integer.\n",
    "- It uses the Sieve of Atkin from Task 4 to generate the first 100 prime numbers.\n",
    "- For each prime, the square root is calculated and its fractional part is encoded into a 32-bit binary integer using the defined function.\n",
    "- This allows binary data to be derived from mathematical constants, which is useful in deterministic random generation and cryptographic precomputation.\n",
    "\n",
    "**Cryptographic Context**\n",
    "\n",
    "- Fractional binary representations of irrational numbers (like square roots of primes) are used in cryptography to derive constants that are hard to reverse-engineer.\n",
    "- SHA-256, for example, uses the fractional parts of square roots of primes to define initial hash values.\n",
    "- Extracting these representations helps demonstrate how deterministic constants can be produced from well-known but non-repeating values.\n",
    "- This supports the design of cryptographic systems where reproducible, high-entropy values are required."
   ]
  },
  {
   "cell_type": "markdown",
   "metadata": {},
   "source": [
    "### **Step 1: Extract Fractional Bits from Real Numbers**\n",
    "\n",
    "- **Definition**\n",
    "\n",
    "    - Defines a function that isolates the fractional part of a float and extracts a specified number of bits from it.\n",
    "\n",
    "    - Uses iterative doubling to shift fractional digits into binary form.\n",
    "\n",
    "    - Accumulates the result as a binary integer by checking whether each successive bit is 1 or 0.\n",
    "\n",
    "    - Works for any real number and customizable bit lengths.\n",
    "\n",
    "    - Useful for encoding non-repeating binary patterns from mathematical constants."
   ]
  },
  {
   "cell_type": "code",
   "execution_count": 167,
   "metadata": {},
   "outputs": [],
   "source": [
    "def get_fractional_bits(value, bits=32):\n",
    "    \"\"\"Extracts the first `bits` binary digits of the fractional part of a number.\"\"\"\n",
    "    fractional_part = value - math.floor(value) \n",
    "    result = 0\n",
    "    for i in range(bits):\n",
    "        fractional_part *= 2\n",
    "        bit = int(fractional_part)\n",
    "        result = (result << 1) | bit\n",
    "        fractional_part -= bit\n",
    "    return result"
   ]
  },
  {
   "cell_type": "markdown",
   "metadata": {},
   "source": [
    "#### **Test Class: `TestGetFractionalBits`**\n",
    "\n",
    "- **Test Approach**\n",
    "    - Evaluates the function against different categories of inputs: 0.0, whole numbers, fractions, irrational numbers, and limited-bit precision cases.\n",
    "\n",
    "    - Each case includes an expected output or property check.\n",
    "\n",
    "- **Verification**\n",
    "    - 0.0 and integers have no fractional component and should return 0.\n",
    "\n",
    "    - 0.5 returns a result with only the highest bit set.\n",
    "\n",
    "    - Square roots and irrational constants return valid 32-bit binary representations.\n",
    "\n",
    "    - Outputs are checked for bit range and type.\n",
    "\n",
    "- **Outcome**\n",
    "    - Function correctly handles all input types and bit sizes.\n",
    "    \n",
    "    - Demonstrates the function’s ability to reliably extract deterministic bit patterns."
   ]
  },
  {
   "cell_type": "code",
   "execution_count": 168,
   "metadata": {},
   "outputs": [
    {
     "name": "stderr",
     "output_type": "stream",
     "text": [
      "test_custom_bits (__main__.TestGetFractionalBits.test_custom_bits) ... ok\n",
      "test_half (__main__.TestGetFractionalBits.test_half) ... ok\n",
      "test_integer_input (__main__.TestGetFractionalBits.test_integer_input) ... ok\n",
      "test_sqrt_2 (__main__.TestGetFractionalBits.test_sqrt_2) ... ok\n"
     ]
    },
    {
     "name": "stdout",
     "output_type": "stream",
     "text": [
      "\n",
      "Testing get_fractional_bits(math.pi, bits=8)...\n",
      "Output: 00100100\n",
      "Test passed: fractional bits of π (8 bits) is within range 0-255\n",
      "\n",
      "get_fractional_bits tests completed successfully.\n",
      "\n",
      "\n",
      "Testing get_fractional_bits(0.5)...\n",
      "Output: 10000000000000000000000000000000\n",
      "Test passed: fractional bits of 0.5 == 1000...0\n",
      "\n",
      "Testing get_fractional_bits(7)...\n",
      "Output: 00000000000000000000000000000000\n",
      "Test passed: fractional bits of 7 == 0\n",
      "\n",
      "Testing get_fractional_bits(math.sqrt(2))...\n",
      "Output: 01101010000010011110011001100111\n",
      "Test passed: fractional bits of √2 is a valid 32-bit integer\n"
     ]
    },
    {
     "name": "stderr",
     "output_type": "stream",
     "text": [
      "test_zero (__main__.TestGetFractionalBits.test_zero) ... ok\n",
      "\n",
      "----------------------------------------------------------------------\n",
      "Ran 5 tests in 0.004s\n",
      "\n",
      "OK\n"
     ]
    },
    {
     "name": "stdout",
     "output_type": "stream",
     "text": [
      "\n",
      "Testing get_fractional_bits(0.0)...\n",
      "Output: 00000000000000000000000000000000\n",
      "Test passed: fractional bits of 0.0 == 0\n"
     ]
    },
    {
     "data": {
      "text/plain": [
       "<unittest.runner.TextTestResult run=5 errors=0 failures=0>"
      ]
     },
     "execution_count": 168,
     "metadata": {},
     "output_type": "execute_result"
    }
   ],
   "source": [
    "class TestGetFractionalBits(unittest.TestCase):\n",
    "    def test_zero(self):\n",
    "        print(\"\\nTesting get_fractional_bits(0.0)...\")\n",
    "        result = get_fractional_bits(0.0)\n",
    "        print(f\"Output: {result:032b}\")\n",
    "        self.assertEqual(result, 0)\n",
    "        print(\"Test passed: fractional bits of 0.0 == 0\")\n",
    "\n",
    "    def test_integer_input(self):\n",
    "        print(\"\\nTesting get_fractional_bits(7)...\")\n",
    "        result = get_fractional_bits(7)\n",
    "        print(f\"Output: {result:032b}\")\n",
    "        self.assertEqual(result, 0)\n",
    "        print(\"Test passed: fractional bits of 7 == 0\")\n",
    "\n",
    "    def test_half(self):\n",
    "        print(\"\\nTesting get_fractional_bits(0.5)...\")\n",
    "        result = get_fractional_bits(0.5)\n",
    "        expected = int('1' + '0'*31, 2)\n",
    "        print(f\"Output: {result:032b}\")\n",
    "        self.assertEqual(result, expected)\n",
    "        print(\"Test passed: fractional bits of 0.5 == 1000...0\")\n",
    "\n",
    "    def test_sqrt_2(self):\n",
    "        print(\"\\nTesting get_fractional_bits(math.sqrt(2))...\")\n",
    "        value = math.sqrt(2)\n",
    "        result = get_fractional_bits(value)\n",
    "        print(f\"Output: {result:032b}\")\n",
    "        self.assertIsInstance(result, int)\n",
    "        self.assertLess(result, 2**32)\n",
    "        print(\"Test passed: fractional bits of √2 is a valid 32-bit integer\")\n",
    "\n",
    "    def test_custom_bits(self):\n",
    "        print(\"\\nTesting get_fractional_bits(math.pi, bits=8)...\")\n",
    "        value = math.pi\n",
    "        result = get_fractional_bits(value, bits=8)\n",
    "        print(f\"Output: {result:08b}\")\n",
    "        self.assertGreaterEqual(result, 0)\n",
    "        self.assertLess(result, 256)\n",
    "        print(\"Test passed: fractional bits of π (8 bits) is within range 0-255\")\n",
    "\n",
    "        print(\"\\nget_fractional_bits tests completed successfully.\\n\")\n",
    "\n",
    "unittest.TextTestRunner(verbosity=2).run(unittest.TestLoader().loadTestsFromTestCase(TestGetFractionalBits))"
   ]
  },
  {
   "cell_type": "markdown",
   "metadata": {},
   "source": [
    "### **Step 2: Generate First 100 Prime Numbers**\n",
    "\n",
    "- **Definition**\n",
    "\n",
    "    - Reuses the `primes_atkin` list from Task 4, no recomputation is needed as primes were already generated.\n",
    "\n",
    "    - Uses slicing to extract the first 100 primes from the precomputed sequence."
   ]
  },
  {
   "cell_type": "code",
   "execution_count": 169,
   "metadata": {},
   "outputs": [],
   "source": [
    "# Using the Atkin Sieve from task 4 to generate the first 100 prime numbers\n",
    "first_100_primes = primes_atkin[:100] "
   ]
  },
  {
   "cell_type": "markdown",
   "metadata": {},
   "source": [
    "### **Step 3: Compute Fractional Bits of √p for First 100 Primes**\n",
    "\n",
    "- **Definition**\n",
    "\n",
    "    - It iterates over the first 100 prime numbers.\n",
    "\n",
    "    - For each prime, it calculates its square root.\n",
    "\n",
    "    - It extracts the first 32 bits of the fractional part of the square root.\n",
    "\n",
    "    - It stores each 32-bit result in a list."
   ]
  },
  {
   "cell_type": "code",
   "execution_count": 170,
   "metadata": {},
   "outputs": [],
   "source": [
    "# Compute and store the 32-bit fractional binary representation of the square roots\n",
    "sqrt_fractional_bits = []\n",
    "for prime in first_100_primes:\n",
    "    sqrt_val = math.sqrt(prime)\n",
    "    bits = get_fractional_bits(sqrt_val, bits=32)\n",
    "    sqrt_fractional_bits.append(bits)"
   ]
  },
  {
   "cell_type": "markdown",
   "metadata": {},
   "source": [
    "#### **Test Class: `TestSqrtFractionalBitsExtraction`**\n",
    "\n",
    "- **Test Approach**\n",
    "    - Validates the 32-bit fractional bit extraction of prime square root for the first 100 prime numbers.\n",
    "\n",
    "    - Ensures length, type, and correctness of output values.\n",
    "\n",
    "    - Verifies deterministic behavior across repeated runs.\n",
    "\n",
    "- **Verification**\n",
    "    - Confirms output list has exactly 100 results.\n",
    "\n",
    "    - Checks that all results are 32-bit integers within valid bounds.\n",
    "\n",
    "    - Validates that no entries are `None` or `NaN`.\n",
    "\n",
    "    - Confirms output is deterministic when the same input is used.\n",
    "\n",
    "- **Outcome**\n",
    "    - All tests pass.\n",
    "    \n",
    "    - Function is confirmed to produce valid, reproducible results for the square root bit extraction."
   ]
  },
  {
   "cell_type": "code",
   "execution_count": 171,
   "metadata": {},
   "outputs": [
    {
     "name": "stderr",
     "output_type": "stream",
     "text": [
      "test_first_100_primes_sqrt_bits (__main__.TestSqrtFractionalBitsExtraction.test_first_100_primes_sqrt_bits) ... ok\n",
      "\n",
      "----------------------------------------------------------------------\n",
      "Ran 1 test in 0.003s\n",
      "\n",
      "OK\n"
     ]
    },
    {
     "name": "stdout",
     "output_type": "stream",
     "text": [
      "\n",
      "Starting validation for 32-bit fractional extraction from square roots of the first 100 prime numbers...\n",
      "\n",
      "Running Test 1: Check result length == 100...\n",
      "Test passed: Output list contains 100 entries.\n",
      "\n",
      "Running Test 2: Validate each output is a valid 32-bit integer...\n",
      "Test passed: All entries are valid 32-bit integers.\n",
      "\n",
      "Running Test 3: Ensure no None or NaN values...\n",
      "Test passed: No None or NaN values in the output.\n",
      "\n",
      "Running Test 4: Confirm deterministic output...\n",
      "Test passed: Results are reproducible (deterministic).\n",
      "\n",
      "Running Test 5: Validate bit correctness for known input (√2)...\n",
      "Test passed: Fractional bits of √2 match expected binary value.\n",
      "\n",
      "\n",
      "All sqrt(prime) fractional bit extraction tests completed successfully.\n",
      "\n"
     ]
    },
    {
     "data": {
      "text/plain": [
       "<unittest.runner.TextTestResult run=1 errors=0 failures=0>"
      ]
     },
     "execution_count": 171,
     "metadata": {},
     "output_type": "execute_result"
    }
   ],
   "source": [
    "class TestSqrtFractionalBitsExtraction(unittest.TestCase):\n",
    "\n",
    "    def test_first_100_primes_sqrt_bits(self):\n",
    "        first_100_primes = primes_output[:100]\n",
    "\n",
    "        print(\"\\nStarting validation for 32-bit fractional extraction from square roots of the first 100 prime numbers...\\n\")\n",
    "\n",
    "        # Compute the fractional bits\n",
    "        sqrt_fractional_bits = []\n",
    "        for prime in first_100_primes:\n",
    "            sqrt_val = math.sqrt(prime)\n",
    "            bits = get_fractional_bits(sqrt_val, bits=32)\n",
    "            sqrt_fractional_bits.append(bits)\n",
    "\n",
    "        # Test 1: Correct number of results\n",
    "        print(\"Running Test 1: Check result length == 100...\")\n",
    "        self.assertEqual(len(sqrt_fractional_bits), 100)\n",
    "        print(\"Test passed: Output list contains 100 entries.\\n\")\n",
    "\n",
    "        # Test 2: All values are valid 32-bit integers\n",
    "        print(\"Running Test 2: Validate each output is a valid 32-bit integer...\")\n",
    "        for bits in sqrt_fractional_bits:\n",
    "            self.assertIsInstance(bits, int)\n",
    "            self.assertGreaterEqual(bits, 0)\n",
    "            self.assertLess(bits, 2**32)\n",
    "        print(\"Test passed: All entries are valid 32-bit integers.\\n\")\n",
    "\n",
    "        # Test 3: No None or NaN values\n",
    "        print(\"Running Test 3: Ensure no None or NaN values...\")\n",
    "        for bits in sqrt_fractional_bits:\n",
    "            self.assertIsNotNone(bits)\n",
    "            self.assertFalse(math.isnan(bits))\n",
    "        print(\"Test passed: No None or NaN values in the output.\\n\")\n",
    "\n",
    "        # Test 4: Deterministic output\n",
    "        print(\"Running Test 4: Confirm deterministic output...\")\n",
    "        for prime in first_100_primes:\n",
    "            sqrt_val = math.sqrt(prime)\n",
    "            bits1 = get_fractional_bits(sqrt_val, bits=32)\n",
    "            bits2 = get_fractional_bits(sqrt_val, bits=32)\n",
    "            self.assertEqual(bits1, bits2)\n",
    "        print(\"Test passed: Results are reproducible (deterministic).\\n\")\n",
    "\n",
    "        # Test 5: Validate bit correctness for known input\n",
    "        print(\"Running Test 5: Validate bit correctness for known input (√2)...\")\n",
    "        sqrt_2 = math.sqrt(2)\n",
    "        result = get_fractional_bits(sqrt_2, bits=32)\n",
    "        expected = int('01101010000010011110011001100111', 2)\n",
    "        self.assertEqual(result, expected)\n",
    "        print(\"Test passed: Fractional bits of √2 match expected binary value.\\n\")\n",
    "\n",
    "        print(\"\\nAll sqrt(prime) fractional bit extraction tests completed successfully.\\n\")\n",
    "\n",
    "unittest.TextTestRunner(verbosity=2).run(unittest.TestLoader().loadTestsFromTestCase(TestSqrtFractionalBitsExtraction))\n"
   ]
  },
  {
   "cell_type": "markdown",
   "metadata": {},
   "source": [
    "### **Step 4: Display Fractional Bit Output for Selected Primes**\n",
    "\n",
    "- **Definition**\n",
    "\n",
    "    - It pairs each prime number with the 32-bit binary representation of the fractional part of its square root.\n",
    "\n",
    "    - It displays only the first 10 and last 10 (prime, bits) pairs for clarity."
   ]
  },
  {
   "cell_type": "code",
   "execution_count": 172,
   "metadata": {},
   "outputs": [
    {
     "name": "stdout",
     "output_type": "stream",
     "text": [
      "First 10 primes with fractional bits of their square roots:\n",
      "\n",
      "Prime: 2 -> Bits: 01101010000010011110011001100111\n",
      "Prime: 3 -> Bits: 10111011011001111010111010000101\n",
      "Prime: 5 -> Bits: 00111100011011101111001101110010\n",
      "Prime: 7 -> Bits: 10100101010011111111010100111010\n",
      "Prime: 11 -> Bits: 01010001000011100101001001111111\n",
      "Prime: 13 -> Bits: 10011011000001010110100010001100\n",
      "Prime: 17 -> Bits: 00011111100000111101100110101011\n",
      "Prime: 19 -> Bits: 01011011111000001100110100011001\n",
      "Prime: 23 -> Bits: 11001011101110111001110101011101\n",
      "Prime: 29 -> Bits: 01100010100110100010100100101010\n",
      "\n",
      "...\n",
      "\n",
      "Last 10 primes with fractional bits of their square roots:\n",
      "\n",
      "Prime: 467 -> Bits: 10011100001101001111000001100010\n",
      "Prime: 479 -> Bits: 11100010110101010110010011000100\n",
      "Prime: 487 -> Bits: 00010001011011010111010111111101\n",
      "Prime: 491 -> Bits: 00101000100101001100000100000111\n",
      "Prime: 499 -> Bits: 01010110100110110101100011000110\n",
      "Prime: 503 -> Bits: 01101101011110110011100100111001\n",
      "Prime: 509 -> Bits: 10001111100111111000110110111011\n",
      "Prime: 521 -> Bits: 11010011010011110000001111001101\n",
      "Prime: 523 -> Bits: 11011110100000110111001011101111\n",
      "Prime: 541 -> Bits: 01000010011010000111101000111001\n"
     ]
    }
   ],
   "source": [
    "# Create (prime, bits) string pairs\n",
    "pairs = [(p, f\"{get_fractional_bits(math.sqrt(p), bits=32):032b}\") for p in first_100_primes]\n",
    "\n",
    "# Print first 10\n",
    "print(\"First 10 primes with fractional bits of their square roots:\\n\")\n",
    "for p, b in pairs[:10]:\n",
    "    print(f\"Prime: {p} -> Bits: {b}\")\n",
    "\n",
    "# Ellipsis separator\n",
    "print(\"\\n...\\n\")\n",
    "\n",
    "# Print last 10\n",
    "print(\"Last 10 primes with fractional bits of their square roots:\\n\")\n",
    "for p, b in pairs[-10:]:\n",
    "    print(f\"Prime: {p} -> Bits: {b}\")\n"
   ]
  },
  {
   "cell_type": "markdown",
   "metadata": {},
   "source": [
    "### **Conclusion: Square Root Fractional Bit Extraction**\n",
    "\n",
    "- This task successfully demonstrated how to extract deterministic 32-bit binary patterns from the fractional parts of square roots of prime numbers.\n",
    "\n",
    "- The `get_fractional_bits` function was tested and verified for correctness, edge cases, and reproducibility.\n",
    "\n",
    "- The first 100 prime numbers were reused from the Sieve of Atkin implementation in Task 4.\n",
    "\n",
    "- The extracted bit patterns were validated through automated tests and visually confirmed using printed output.\n",
    "\n",
    "- This method parallels how constants are generated in cryptographic systems like SHA-256, where square root and cube root fractional parts of primes are used to initialize hash functions.\n",
    "\n",
    "- The process is mathematically sound, reproducible, and provides entropy suitable for cryptographic applications.\n",
    "\n",
    "- Extracting fractional binary patterns from irrational roots is a reliable technique for deterministic constant generation in security systems."
   ]
  },
  {
   "cell_type": "markdown",
   "metadata": {},
   "source": [
    "## **Task 6 - Proof of Work**\n",
    "\n",
    "**Purpose**\n",
    "\n",
    "- This task simulates a basic proof-of-work mechanism by analyzing the SHA-256 hashes of English dictionary words.\n",
    "\n",
    "- The goal is to find which word(s) produce the most leading zero bits in their 256-bit SHA-256 hash.\n",
    "\n",
    "- A dictionary file is loaded and processed word by word to evaluate hash properties.\n",
    "\n",
    "- The task mirrors the concept of mining in cryptocurrencies, where higher leading zero counts indicate greater computational rarity.\n",
    "\n",
    "**Cryptographic Context**\n",
    "\n",
    "- Proof-of-work systems rely on cryptographic hash functions like SHA-256 to produce outputs that meet certain criteria, such as starting with a number of zero bits.\n",
    "\n",
    "- In blockchain mining, miners seek a nonce that causes the hash of a block to have a specific number of leading zeros, which proves computational effort.\n",
    "\n",
    "- This task demonstrates the same core idea by searching for inputs (words) whose hashes naturally meet that condition.\n",
    "\n",
    "- The rarity of leading zeros showcases the pseudo-random nature of SHA-256 and the infeasibility of predicting or preselecting favorable inputs."
   ]
  },
  {
   "cell_type": "markdown",
   "metadata": {},
   "source": [
    "### **Step 1: Load Dictionary and Initialize Tracking Variables**\n",
    "\n",
    "- **Definition**\n",
    "\n",
    "    - Loads all words from `dictionary.txt` into a lowercase set to eliminate duplicates.\n",
    "\n",
    "    - Initializes `max_leading_zeros` and `best_words` to track the best result encountered during processing.\n",
    "    \n",
    "    - Confirms the total number of words loaded."
   ]
  },
  {
   "cell_type": "code",
   "execution_count": 173,
   "metadata": {},
   "outputs": [
    {
     "name": "stdout",
     "output_type": "stream",
     "text": [
      "Loaded 'dictionary.txt' with 233614 words.\n"
     ]
    }
   ],
   "source": [
    "with open(\"dictionary.txt\", \"r\") as file:\n",
    "    english_words = set(word.strip().lower() for word in file if word.strip())\n",
    "\n",
    "max_leading_zeros = 0\n",
    "best_words = []\n",
    "\n",
    "print(f\"Loaded 'dictionary.txt' with {len(english_words)} words.\")"
   ]
  },
  {
   "cell_type": "markdown",
   "metadata": {},
   "source": [
    "#### **Test Class: `TestSetup`**\n",
    "\n",
    "- **Test Approach**\n",
    "    - Validates that the dictionary file exists, is not empty, and is correctly processed into a usable set.\n",
    "\n",
    "    - Checks initialization of key tracking variables.\n",
    "\n",
    "- **Verification**\n",
    "    - Ensures `dictionary.txt` is found and contains non-empty lines.\n",
    "\n",
    "    - Confirms `english_words` is a populated set of lowercase strings.\n",
    "\n",
    "    - Verifies expected words like `'apple'` are present.\n",
    "    \n",
    "    - Confirms that `max_leading_zeros` starts at 0 and `best_words` starts empty.\n",
    "\n",
    "- **Outcome**\n",
    "    - All checks pass, confirming proper file loading, data structure integrity, and correct initial states."
   ]
  },
  {
   "cell_type": "code",
   "execution_count": 174,
   "metadata": {},
   "outputs": [
    {
     "name": "stderr",
     "output_type": "stream",
     "text": [
      "test_best_words_initial (__main__.TestSetup.test_best_words_initial) ... ok\n",
      "test_common_word_exists (__main__.TestSetup.test_common_word_exists) ... ok\n",
      "test_dictionary_file_exists_and_not_empty (__main__.TestSetup.test_dictionary_file_exists_and_not_empty) ... "
     ]
    },
    {
     "name": "stdout",
     "output_type": "stream",
     "text": [
      "Test passed: best_words is initialized as an empty list.\n",
      "Test passed: Common word 'apple' found in english_words.\n"
     ]
    },
    {
     "name": "stderr",
     "output_type": "stream",
     "text": [
      "ok\n",
      "test_english_words_set (__main__.TestSetup.test_english_words_set) ... ok\n",
      "test_max_leading_zeros_initial (__main__.TestSetup.test_max_leading_zeros_initial) ... ok\n",
      "\n",
      "----------------------------------------------------------------------\n",
      "Ran 5 tests in 0.062s\n",
      "\n",
      "OK\n"
     ]
    },
    {
     "name": "stdout",
     "output_type": "stream",
     "text": [
      "Test passed: dictionary.txt exists and contains words.\n",
      "Test passed: english_words is a non-empty set of strings.\n",
      "Test passed: max_leading_zeros is initialized to 0.\n"
     ]
    },
    {
     "data": {
      "text/plain": [
       "<unittest.runner.TextTestResult run=5 errors=0 failures=0>"
      ]
     },
     "execution_count": 174,
     "metadata": {},
     "output_type": "execute_result"
    }
   ],
   "source": [
    "class TestSetup(unittest.TestCase):\n",
    "\n",
    "    def test_dictionary_file_exists_and_not_empty(self):\n",
    "        self.assertTrue(os.path.exists(\"dictionary.txt\"), \"dictionary.txt should exist.\")\n",
    "        with open(\"dictionary.txt\", \"r\") as f:\n",
    "            lines = [line.strip() for line in f if line.strip()]\n",
    "        self.assertGreater(len(lines), 0, \"dictionary.txt should not be empty.\")\n",
    "        print(\"Test passed: dictionary.txt exists and contains words.\")\n",
    "\n",
    "    def test_english_words_set(self):\n",
    "        self.assertIsInstance(english_words, set, \"english_words should be a set.\")\n",
    "        self.assertGreater(len(english_words), 0, \"english_words should not be empty.\")\n",
    "        sample = next(iter(english_words))\n",
    "        self.assertIsInstance(sample, str, \"Each word should be a string.\")\n",
    "        print(\"Test passed: english_words is a non-empty set of strings.\")\n",
    "\n",
    "    def test_common_word_exists(self):\n",
    "        self.assertIn('apple', english_words, \"'apple' should be in the English word list.\")\n",
    "        print(\"Test passed: Common word 'apple' found in english_words.\")\n",
    "\n",
    "    def test_max_leading_zeros_initial(self):\n",
    "        self.assertEqual(max_leading_zeros, 0, \"max_leading_zeros should start at 0.\")\n",
    "        print(\"Test passed: max_leading_zeros is initialized to 0.\")\n",
    "\n",
    "    def test_best_words_initial(self):\n",
    "        self.assertEqual(best_words, [], \"best_words should start as an empty list.\")\n",
    "        print(\"Test passed: best_words is initialized as an empty list.\")\n",
    "\n",
    "unittest.TextTestRunner(verbosity=2).run(unittest.TestLoader().loadTestsFromTestCase(TestSetup))"
   ]
  },
  {
   "cell_type": "markdown",
   "metadata": {},
   "source": [
    "#### **Step 2: Count Leading Zero Bits in SHA-256 Hashes**\n",
    "\n",
    "- **Definition**\n",
    "\n",
    "    - Defines a helper function `count_leading_zero_bits()` to count the number of leading `'0'`s in a binary string.\n",
    "\n",
    "    - Converts the SHA-256 hex digest to a 256-bit binary string.\n",
    "    \n",
    "    - Processes each word in the dictionary:\n",
    "\n",
    "        - Hashes the word\n",
    "\n",
    "        - Counts the leading zeros\n",
    "        \n",
    "        - Updates tracking variables if a new maximum is found or tied"
   ]
  },
  {
   "cell_type": "code",
   "execution_count": 175,
   "metadata": {},
   "outputs": [],
   "source": [
    "# Function to count leading zero bits in a binary string\n",
    "def count_leading_zero_bits(binary_string):\n",
    "    return len(binary_string) - len(binary_string.lstrip('0'))\n",
    "\n",
    "# Process each word\n",
    "for word in english_words:\n",
    "    word = word.lower()\n",
    "    h = hashlib.sha256(word.encode()).hexdigest() \n",
    "    b = bin(int(h, 16))[2:].zfill(256)  \n",
    "    count = count_leading_zero_bits(b)\n",
    "\n",
    "    if count > max_leading_zeros:\n",
    "        max_leading_zeros = count\n",
    "        best_words = [word]\n",
    "    elif count == max_leading_zeros:\n",
    "        best_words.append(word)"
   ]
  },
  {
   "cell_type": "markdown",
   "metadata": {},
   "source": [
    "#### **Test Class: `TestSHA256BitAnalysis`**\n",
    "\n",
    "- **Test Approach**\n",
    "    - Verifies the correctness and consistency of hash processing and bit-counting logic.\n",
    "\n",
    "- **Verification**\n",
    "    - Validates that `count_leading_zero_bits()` returns the correct count for test inputs.\n",
    "    - Confirms that SHA-256 binary strings are 256 bits and contain only binary characters.\n",
    "    - Ensures that hashing the same word yields consistent results.\n",
    "    - Tests the logic that tracks which words have the most leading zeros.\n",
    "\n",
    "- **Outcome**\n",
    "    - All functional and edge-case tests pass.\n",
    "    - Confirms SHA-256 conversions and tracking logic behave as expected."
   ]
  },
  {
   "cell_type": "code",
   "execution_count": 176,
   "metadata": {},
   "outputs": [
    {
     "name": "stderr",
     "output_type": "stream",
     "text": [
      "test_leading_zero_bits_count (__main__.TestSHA256BitAnalysis.test_leading_zero_bits_count) ... ok\n",
      "test_max_leading_zero_tracking (__main__.TestSHA256BitAnalysis.test_max_leading_zero_tracking) ... ok\n",
      "test_sha256_binary_conversion (__main__.TestSHA256BitAnalysis.test_sha256_binary_conversion) ... ok\n",
      "test_sha256_consistency (__main__.TestSHA256BitAnalysis.test_sha256_consistency) ... ok\n",
      "\n",
      "----------------------------------------------------------------------\n",
      "Ran 4 tests in 0.004s\n",
      "\n",
      "OK\n"
     ]
    },
    {
     "name": "stdout",
     "output_type": "stream",
     "text": [
      "Test passed: count_leading_zero_bits returns correct values.\n",
      "Test passed: leading-zero tracking logic works correctly.\n",
      "Test passed: SHA-256 binary conversion produces 256-bit binary string.\n",
      "Test passed: SHA-256 is deterministic for same input.\n"
     ]
    },
    {
     "data": {
      "text/plain": [
       "<unittest.runner.TextTestResult run=4 errors=0 failures=0>"
      ]
     },
     "execution_count": 176,
     "metadata": {},
     "output_type": "execute_result"
    }
   ],
   "source": [
    "class TestSHA256BitAnalysis(unittest.TestCase):\n",
    "\n",
    "    def test_leading_zero_bits_count(self):\n",
    "        self.assertEqual(count_leading_zero_bits('00001111'), 4)\n",
    "        self.assertEqual(count_leading_zero_bits('11111111'), 0)\n",
    "        self.assertEqual(count_leading_zero_bits('00000000'), 8)\n",
    "        print(\"Test passed: count_leading_zero_bits returns correct values.\")\n",
    "\n",
    "    def test_sha256_binary_conversion(self):\n",
    "        word = 'example'\n",
    "        h = hashlib.sha256(word.encode()).hexdigest()\n",
    "        b = bin(int(h, 16))[2:].zfill(256)\n",
    "        self.assertEqual(len(b), 256)\n",
    "        self.assertTrue(all(c in '01' for c in b))\n",
    "        print(\"Test passed: SHA-256 binary conversion produces 256-bit binary string.\")\n",
    "\n",
    "    def test_sha256_consistency(self):\n",
    "        word = 'blockchain'\n",
    "        h1 = hashlib.sha256(word.encode()).hexdigest()\n",
    "        h2 = hashlib.sha256(word.encode()).hexdigest()\n",
    "        self.assertEqual(h1, h2)\n",
    "        print(\"Test passed: SHA-256 is deterministic for same input.\")\n",
    "\n",
    "    def test_max_leading_zero_tracking(self):\n",
    "        test_words = ['aaaaa', 'zzzzz', 'hello']\n",
    "        max_zeros = 0\n",
    "        best = []\n",
    "        for w in test_words:\n",
    "            h = hashlib.sha256(w.encode()).hexdigest()\n",
    "            b = bin(int(h, 16))[2:].zfill(256)\n",
    "            count = count_leading_zero_bits(b)\n",
    "            if count > max_zeros:\n",
    "                max_zeros = count\n",
    "                best = [w]\n",
    "            elif count == max_zeros:\n",
    "                best.append(w)\n",
    "        self.assertIn(best[0], test_words)\n",
    "        self.assertGreaterEqual(max_zeros, 0)\n",
    "        print(\"Test passed: leading-zero tracking logic works correctly.\")\n",
    "\n",
    "unittest.TextTestRunner(verbosity=2).run(unittest.TestLoader().loadTestsFromTestCase(TestSHA256BitAnalysis))\n"
   ]
  },
  {
   "cell_type": "markdown",
   "metadata": {},
   "source": [
    "#### **Step 3: Output Maximum Result**\n",
    "\n",
    "- **Definition**\n",
    "\n",
    "    - After evaluating all dictionary words, prints:\n",
    "\n",
    "        - The maximum number of leading zero bits observed\n",
    "\n",
    "        - The list of words that produced that number\n",
    "        \n",
    "    - Demonstrates a real-world analog of proof-of-work discovery, using natural language instead of a nonce."
   ]
  },
  {
   "cell_type": "code",
   "execution_count": 177,
   "metadata": {},
   "outputs": [
    {
     "name": "stdout",
     "output_type": "stream",
     "text": [
      "Maximum leading zero bits: 16\n",
      "Top word(s) with the most leading zero bits:\n",
      "\n",
      "  guilefulness\n",
      "\n",
      "  mismatchment\n"
     ]
    }
   ],
   "source": [
    "# Show results\n",
    "print(f\"Maximum leading zero bits: {max_leading_zeros}\")\n",
    "print(\"Top word(s) with the most leading zero bits:\")\n",
    "\n",
    "# Sort alphabeticall\n",
    "for w in sorted(best_words):\n",
    "    print(f\"\\n  {w}\")"
   ]
  },
  {
   "cell_type": "markdown",
   "metadata": {},
   "source": [
    "### **Conclusion: Hash-Based Proof of Work Simulation**\n",
    "\n",
    "- This task successfully demonstrated a simplified proof-of-work search over natural language input.\n",
    "\n",
    "- The SHA-256 hash of each word was converted to binary and analyzed for leading zero bits.\n",
    "\n",
    "- Tracking logic was implemented to find the best results, verified by unit tests.\n",
    "\n",
    "- The simulation provides insight into how computational difficulty and randomness emerge in hash-based systems.\n",
    "\n",
    "- This concept is directly applicable to blockchain mining, where miners must search through inputs to find rare hash outputs."
   ]
  },
  {
   "cell_type": "markdown",
   "metadata": {},
   "source": [
    "## **Task 7 - Turing Machines**\n",
    "\n",
    "**Purpose**\n",
    "\n",
    "- This task simulates a basic Turing Machine that performs binary increment.\n",
    "\n",
    "- The machine reads a binary string (the tape), moves its head to the rightmost bit, and simulates binary addition with carry handling.\n",
    "\n",
    "- The function models Turing-style head movement and state changes without using loops or arithmetic shortcuts.\n",
    "\n",
    "- The goal is to explore computation as a sequence of discrete, rule-based steps, as in theoretical models of computation.\n",
    "\n",
    "**Theoretical Context**\n",
    "\n",
    "- Turing Machines are a foundational model in computational theory, used to define the limits of what can be computed.\n",
    "\n",
    "- They consist of a tape (infinite in theory), a read/write head, and a set of deterministic transition rules.\n",
    "\n",
    "- This simulation models a single transition process: incrementing a binary number by 1 using tape manipulation and head movement.\n",
    "\n",
    "- It demonstrates the universality of the Turing Machine model—even simple arithmetic can be performed through symbol rewriting alone.\n",
    "\n",
    "- This task connects to topics like computability, automata theory, and the Church-Turing thesis."
   ]
  },
  {
   "cell_type": "markdown",
   "metadata": {},
   "source": [
    "### **Step 1: Simulate Binary Increment on a Turing Machine**\n",
    "\n",
    "- **Definition**\n",
    "\n",
    "    - Converts the input tape (string) into a mutable list of symbols.\n",
    "\n",
    "    - Moves the head to the rightmost bit of the tape.\n",
    "\n",
    "    - Applies binary addition logic with carry:\n",
    "\n",
    "        - If the current bit is `0`, it’s changed to `1` and the process halts.\n",
    "\n",
    "        - If the bit is `1`, it’s set to `0`, and the head moves left to propagate the carry.\n",
    "\n",
    "        - If all bits are `1`, a new `1` is added to the front of the tape.\n",
    "        \n",
    "    - Returns the new tape as a string representing the incremented binary number."
   ]
  },
  {
   "cell_type": "code",
   "execution_count": 178,
   "metadata": {},
   "outputs": [],
   "source": [
    "def turing_add_one(tape):\n",
    "    tape = list(tape)\n",
    "    head = 0\n",
    "\n",
    "    # Move to the end of the tape (rightmost bit)\n",
    "    while head < len(tape):\n",
    "        head += 1\n",
    "    head -= 1\n",
    "\n",
    "    # Perform binary addition (carry = 1)\n",
    "    while head >= 0:\n",
    "        if tape[head] == '0':\n",
    "            tape[head] = '1'\n",
    "            break\n",
    "        elif tape[head] == '1':\n",
    "            tape[head] = '0'\n",
    "            head -= 1\n",
    "        else:\n",
    "            raise ValueError(\"Invalid symbol on tape\")\n",
    "\n",
    "    # If the carry propagates to the leftmost bit, add a new bit\n",
    "    if head < 0:\n",
    "        tape = ['1'] + tape\n",
    "\n",
    "    return ''.join(tape)"
   ]
  },
  {
   "cell_type": "markdown",
   "metadata": {},
   "source": [
    "#### **Test Class: `TestTuringAddOne`**\n",
    "\n",
    "- **Test Approach**\n",
    "    - Validates the Turing Machine binary increment function against multiple known inputs and outputs.\n",
    "\n",
    "    - Includes edge cases like all-ones (`'111'`), leading zeros, and simple 1-bit cases.\n",
    "\n",
    "    - Prints confirmation of each test's success.\n",
    "\n",
    "- **Verification**\n",
    "    - Checks each output string matches the correct binary result after increment.\n",
    "\n",
    "    - Ensures no input formats cause the machine to fail or misbehave.\n",
    "\n",
    "    - Confirms carry propagation works as expected across the full tape.\n",
    "\n",
    "- **Outcome**\n",
    "    - All tests pass.\n",
    "    \n",
    "    - Function correctly simulates a Turing Machine increment operation for all test cases provided."
   ]
  },
  {
   "cell_type": "code",
   "execution_count": 179,
   "metadata": {},
   "outputs": [
    {
     "name": "stderr",
     "output_type": "stream",
     "text": [
      "test_turing_add_one (__main__.TestTuringAddOne.test_turing_add_one) ... ok\n",
      "\n",
      "----------------------------------------------------------------------\n",
      "Ran 1 test in 0.001s\n",
      "\n",
      "OK\n"
     ]
    },
    {
     "name": "stdout",
     "output_type": "stream",
     "text": [
      "\n",
      "Starting validation for Turing Machine binary increment function...\n",
      "\n",
      "Test passed: Input '0' -> Output '1'\n",
      "Test passed: Input '1' -> Output '10'\n",
      "Test passed: Input '1010' -> Output '1011'\n",
      "Test passed: Input '111' -> Output '1000'\n",
      "Test passed: Input '100111' -> Output '101000'\n",
      "Test passed: Input '000' -> Output '001'\n",
      "Test passed: Input '001' -> Output '010'\n",
      "\n",
      "All Turing Machine increment tests completed successfully.\n"
     ]
    },
    {
     "data": {
      "text/plain": [
       "<unittest.runner.TextTestResult run=1 errors=0 failures=0>"
      ]
     },
     "execution_count": 179,
     "metadata": {},
     "output_type": "execute_result"
    }
   ],
   "source": [
    "class TestTuringAddOne(unittest.TestCase):\n",
    "\n",
    "    def test_turing_add_one(self):\n",
    "        print(\"\\nStarting validation for Turing Machine binary increment function...\\n\")\n",
    "\n",
    "        test_cases = {\n",
    "            '0':      '1',\n",
    "            '1':      '10',\n",
    "            '1010':   '1011',\n",
    "            '111':    '1000',\n",
    "            '100111': '101000',\n",
    "            '000':    '001',\n",
    "            '001':    '010'\n",
    "        }\n",
    "\n",
    "        # Test each case\n",
    "        for binary_input, expected_output in test_cases.items():\n",
    "            result = turing_add_one(binary_input)\n",
    "            self.assertEqual(result, expected_output)\n",
    "            print(f\"Test passed: Input '{binary_input}' -> Output '{result}'\")\n",
    "\n",
    "        print(\"\\nAll Turing Machine increment tests completed successfully.\")\n",
    "\n",
    "# Run the tests\n",
    "unittest.TextTestRunner(verbosity=2).run(unittest.TestLoader().loadTestsFromTestCase(TestTuringAddOne))"
   ]
  },
  {
   "cell_type": "markdown",
   "metadata": {},
   "source": [
    "### **Step 2: Demonstrate Binary Increment**\n",
    "\n",
    "- **Definition**\n",
    "\n",
    "    - Demonstrates a working example using the tape `'100111'`.\n",
    "\n",
    "    - Calls the increment function and prints both the input and output tapes.\n",
    "    \n",
    "    - Confirms the machine correctly produces the incremented result `'101000'`."
   ]
  },
  {
   "cell_type": "code",
   "execution_count": 180,
   "metadata": {},
   "outputs": [
    {
     "name": "stdout",
     "output_type": "stream",
     "text": [
      "Input Tape:  100111\n",
      "Output Tape: 101000\n"
     ]
    }
   ],
   "source": [
    "initial = \"100111\"\n",
    "result = turing_add_one(initial)\n",
    "print(\"Input Tape: \", initial)\n",
    "print(\"Output Tape:\", result)"
   ]
  },
  {
   "cell_type": "markdown",
   "metadata": {},
   "source": [
    "### **Conclusion: Simulated Turing Machine for Binary Increment**\n",
    "\n",
    "- This task successfully demonstrated the simulation of a simple Turing Machine that increments a binary number.\n",
    "\n",
    "- Unit tests validated the correctness of the function across various inputs, including those with leading zeros and different bit lengths.\n",
    "\n",
    "- This task highlights how fundamental computational logic can be implemented using rule-based, tape-driven systems, consistent with the Turing model of universal computation.\n"
   ]
  },
  {
   "cell_type": "markdown",
   "metadata": {},
   "source": [
    "## **Task 8 - Computational Complexity**\n",
    "\n",
    "**Purpose**\n",
    "\n",
    "- This task analyzes the comparison count performance of the bubble sort algorithm under all permutations of a fixed-size input.\n",
    "\n",
    "- Two implementations are used: a basic bubble sort and an optimized version with early exit on sorted input.\n",
    "\n",
    "- The number of comparisons made during sorting is counted for each permutation.\n",
    "\n",
    "- Output includes first and last 10 permutations to summarize results without excessive verbosity.\n",
    "\n",
    "**Theoretical Context**\n",
    "\n",
    "- Bubble sort is a simple comparison-based sorting algorithm with a worst-case time complexity of O(n²).\n",
    "\n",
    "- Measuring the number of comparisons across permutations helps visualize best-case, average-case, and worst-case behavior.\n",
    "\n",
    "- The optimized version improves best-case performance (O(n)) when the input is already sorted, by checking for swaps.\n",
    "\n",
    "- This task demonstrates how the performance of bubble sort varies across all 120 permutations of a 5-element list (n = 5), allowing practical observation of its algorithmic complexity."
   ]
  },
  {
   "cell_type": "markdown",
   "metadata": {},
   "source": [
    "### **Step 1: Implement Basic Bubble Sort with Comparison Counting**\n",
    "\n",
    "- **Definition**\n",
    "\n",
    "    - Implements standard bubble sort with an added counter for the number of comparisons.\n",
    "\n",
    "    - Performs nested passes through the list, comparing adjacent elements and swapping if needed.\n",
    "    \n",
    "    - Returns the sorted array and total comparisons made during sorting."
   ]
  },
  {
   "cell_type": "code",
   "execution_count": 181,
   "metadata": {},
   "outputs": [],
   "source": [
    "def bubble_sort_with_comparisons(arr):\n",
    "    arr = list(arr)\n",
    "    n = len(arr)\n",
    "    comparisons = 0\n",
    "    for i in range(n):\n",
    "        for j in range(n - i - 1):\n",
    "            comparisons += 1\n",
    "            if arr[j] > arr[j + 1]:\n",
    "                arr[j], arr[j + 1] = arr[j + 1], arr[j]\n",
    "    return arr, comparisons\n",
    "\n",
    "# Generate results\n",
    "L = [1, 2, 3, 4, 5]\n",
    "perms = list(itertools.permutations(L))\n",
    "results = [(p, bubble_sort_with_comparisons(p)) for p in perms]"
   ]
  },
  {
   "cell_type": "code",
   "execution_count": null,
   "metadata": {},
   "outputs": [],
   "source": []
  },
  {
   "cell_type": "markdown",
   "metadata": {},
   "source": [
    "### **Step 2: Evaluate Bubble Sort on All Permutations**\n",
    "\n",
    "- **Definition**\n",
    "\n",
    "    - Generates all 120 permutations of the list `[1, 2, 3, 4, 5]`.\n",
    "    \n",
    "    - Applies `bubble_sort_with_comparisons()` to each permutation.\n",
    "\n",
    "    - Flattens and formats the results into `(input, comparisons, output)` triplets.\n",
    "    \n",
    "    - Prints the first 10 and last 10 results with a separator for readability."
   ]
  },
  {
   "cell_type": "code",
   "execution_count": 182,
   "metadata": {},
   "outputs": [
    {
     "name": "stdout",
     "output_type": "stream",
     "text": [
      "Bubble Sort Comparison Results (first 10):\n",
      "\n",
      "Input: (1, 2, 3, 4, 5) -> Comparisons: 10, Sorted: [1, 2, 3, 4, 5]\n",
      "Input: (1, 2, 3, 5, 4) -> Comparisons: 10, Sorted: [1, 2, 3, 4, 5]\n",
      "Input: (1, 2, 4, 3, 5) -> Comparisons: 10, Sorted: [1, 2, 3, 4, 5]\n",
      "Input: (1, 2, 4, 5, 3) -> Comparisons: 10, Sorted: [1, 2, 3, 4, 5]\n",
      "Input: (1, 2, 5, 3, 4) -> Comparisons: 10, Sorted: [1, 2, 3, 4, 5]\n",
      "Input: (1, 2, 5, 4, 3) -> Comparisons: 10, Sorted: [1, 2, 3, 4, 5]\n",
      "Input: (1, 3, 2, 4, 5) -> Comparisons: 10, Sorted: [1, 2, 3, 4, 5]\n",
      "Input: (1, 3, 2, 5, 4) -> Comparisons: 10, Sorted: [1, 2, 3, 4, 5]\n",
      "Input: (1, 3, 4, 2, 5) -> Comparisons: 10, Sorted: [1, 2, 3, 4, 5]\n",
      "Input: (1, 3, 4, 5, 2) -> Comparisons: 10, Sorted: [1, 2, 3, 4, 5]\n",
      "\n",
      "...\n",
      "\n",
      "Bubble Sort Comparison Results (last 10):\n",
      "\n",
      "Input: (5, 3, 2, 1, 4) -> Comparisons: 10, Sorted: [1, 2, 3, 4, 5]\n",
      "Input: (5, 3, 2, 4, 1) -> Comparisons: 10, Sorted: [1, 2, 3, 4, 5]\n",
      "Input: (5, 3, 4, 1, 2) -> Comparisons: 10, Sorted: [1, 2, 3, 4, 5]\n",
      "Input: (5, 3, 4, 2, 1) -> Comparisons: 10, Sorted: [1, 2, 3, 4, 5]\n",
      "Input: (5, 4, 1, 2, 3) -> Comparisons: 10, Sorted: [1, 2, 3, 4, 5]\n",
      "Input: (5, 4, 1, 3, 2) -> Comparisons: 10, Sorted: [1, 2, 3, 4, 5]\n",
      "Input: (5, 4, 2, 1, 3) -> Comparisons: 10, Sorted: [1, 2, 3, 4, 5]\n",
      "Input: (5, 4, 2, 3, 1) -> Comparisons: 10, Sorted: [1, 2, 3, 4, 5]\n",
      "Input: (5, 4, 3, 1, 2) -> Comparisons: 10, Sorted: [1, 2, 3, 4, 5]\n",
      "Input: (5, 4, 3, 2, 1) -> Comparisons: 10, Sorted: [1, 2, 3, 4, 5]\n"
     ]
    }
   ],
   "source": [
    "# Format output as (perm, comparisons, sorted)\n",
    "def format_result(p, s, c):\n",
    "    return f\"Input: {p} -> Comparisons: {c}, Sorted: {s}\"\n",
    "\n",
    "# Extract and flatten results\n",
    "flattened_results = [(p, s, c) for p, (s, c) in results]\n",
    "\n",
    "# First 10\n",
    "print(\"Bubble Sort Comparison Results (first 10):\\n\")\n",
    "for p, s, c in flattened_results[:10]:\n",
    "    print(format_result(p, s, c))\n",
    "\n",
    "# Ellipsis separator\n",
    "print(\"\\n...\\n\")\n",
    "\n",
    "# Last 10\n",
    "print(\"Bubble Sort Comparison Results (last 10):\\n\")\n",
    "for p, s, c in flattened_results[-10:]:\n",
    "    print(format_result(p, s, c))"
   ]
  },
  {
   "cell_type": "markdown",
   "metadata": {},
   "source": [
    "### **Step 3: Implement Optimised Bubble Sort with Early Termination**\n",
    "\n",
    "- **Definition**\n",
    "\n",
    "    - Enhanced version of bubble sort that introduces an early-exit condition for improved efficiency on already sorted input.\n",
    "\n",
    "    - At the beginning of each outer loop pass, a `swapped` flag is set to `False`.\n",
    "\n",
    "    - As elements are compared and potentially swapped, this flag is set to `True` if any swap occurs.\n",
    "\n",
    "    - If an entire pass completes with no swaps, the list is already sorted, and the algorithm exits early—saving unnecessary comparisons.\n",
    "\n",
    "    - This optimised version reduces best-case time complexity from O(n²) to O(n), while retaining the same worst-case performance.\n",
    "    \n",
    "    - Still tracks the number of comparisons to allow a fair performance comparison with the basic bubble sort implementation.\n"
   ]
  },
  {
   "cell_type": "code",
   "execution_count": 183,
   "metadata": {},
   "outputs": [],
   "source": [
    "# Bubble sort with comparison counting\n",
    "def bubble_sort_optimised(arr):\n",
    "    arr = list(arr)\n",
    "    n = len(arr)\n",
    "    comparisons = 0\n",
    "    for i in range(n):\n",
    "        swapped = False\n",
    "        for j in range(n - i - 1):\n",
    "            comparisons += 1\n",
    "            if arr[j] > arr[j + 1]:\n",
    "                arr[j], arr[j + 1] = arr[j + 1], arr[j]\n",
    "                swapped = True\n",
    "        if not swapped:\n",
    "            break\n",
    "    return arr, comparisons\n",
    "\n",
    "# Generate permutations and results\n",
    "L = [1, 2, 3, 4, 5]\n",
    "perms = list(itertools.permutations(L))\n",
    "results = [(str(p), c, str(s)) for p, (s, c) in zip(perms, map(bubble_sort_optimised, perms))]"
   ]
  },
  {
   "cell_type": "markdown",
   "metadata": {},
   "source": [
    "### **Step 4: Evaluate Optimised Bubble Sort on All Permutations**\n",
    "\n",
    "- **Definition**\n",
    "\n",
    "    - Repeats the same process as Step 2, but using `bubble_sort_optimised()` instead.\n",
    "\n",
    "    - Collects the number of comparisons and final sorted results for each permutation.\n",
    "\n",
    "    - The number of comparisons varies depending on the input order.\n",
    "\n",
    "    - The worst-case scenario occurs when the input list is in descending order, requiring the maximum number of comparisons and swaps.\n",
    "\n",
    "    - Displays first 10 and last 10 results for simplicity and readability."
   ]
  },
  {
   "cell_type": "code",
   "execution_count": 184,
   "metadata": {},
   "outputs": [
    {
     "name": "stdout",
     "output_type": "stream",
     "text": [
      "Optimised Bubble Sort Comparison Results (first 10):\n",
      "\n",
      "Input: (1, 2, 3, 4, 5) -> Comparisons: 4, Sorted: [1, 2, 3, 4, 5]\n",
      "Input: (1, 2, 3, 5, 4) -> Comparisons: 7, Sorted: [1, 2, 3, 4, 5]\n",
      "Input: (1, 2, 4, 3, 5) -> Comparisons: 7, Sorted: [1, 2, 3, 4, 5]\n",
      "Input: (1, 2, 4, 5, 3) -> Comparisons: 9, Sorted: [1, 2, 3, 4, 5]\n",
      "Input: (1, 2, 5, 3, 4) -> Comparisons: 7, Sorted: [1, 2, 3, 4, 5]\n",
      "Input: (1, 2, 5, 4, 3) -> Comparisons: 9, Sorted: [1, 2, 3, 4, 5]\n",
      "Input: (1, 3, 2, 4, 5) -> Comparisons: 7, Sorted: [1, 2, 3, 4, 5]\n",
      "Input: (1, 3, 2, 5, 4) -> Comparisons: 7, Sorted: [1, 2, 3, 4, 5]\n",
      "Input: (1, 3, 4, 2, 5) -> Comparisons: 9, Sorted: [1, 2, 3, 4, 5]\n",
      "Input: (1, 3, 4, 5, 2) -> Comparisons: 10, Sorted: [1, 2, 3, 4, 5]\n",
      "\n",
      "...\n",
      "\n",
      "Optimised Bubble Sort Comparison Results (last 10):\n",
      "\n",
      "Input: (5, 3, 2, 1, 4) -> Comparisons: 10, Sorted: [1, 2, 3, 4, 5]\n",
      "Input: (5, 3, 2, 4, 1) -> Comparisons: 10, Sorted: [1, 2, 3, 4, 5]\n",
      "Input: (5, 3, 4, 1, 2) -> Comparisons: 10, Sorted: [1, 2, 3, 4, 5]\n",
      "Input: (5, 3, 4, 2, 1) -> Comparisons: 10, Sorted: [1, 2, 3, 4, 5]\n",
      "Input: (5, 4, 1, 2, 3) -> Comparisons: 9, Sorted: [1, 2, 3, 4, 5]\n",
      "Input: (5, 4, 1, 3, 2) -> Comparisons: 10, Sorted: [1, 2, 3, 4, 5]\n",
      "Input: (5, 4, 2, 1, 3) -> Comparisons: 10, Sorted: [1, 2, 3, 4, 5]\n",
      "Input: (5, 4, 2, 3, 1) -> Comparisons: 10, Sorted: [1, 2, 3, 4, 5]\n",
      "Input: (5, 4, 3, 1, 2) -> Comparisons: 10, Sorted: [1, 2, 3, 4, 5]\n",
      "Input: (5, 4, 3, 2, 1) -> Comparisons: 10, Sorted: [1, 2, 3, 4, 5]\n"
     ]
    }
   ],
   "source": [
    "# Format and print result\n",
    "def format_result(p, c, s):\n",
    "    return f\"Input: {p} -> Comparisons: {c}, Sorted: {s}\"\n",
    "\n",
    "# First 10 results\n",
    "print(\"Optimised Bubble Sort Comparison Results (first 10):\\n\")\n",
    "for p, c, s in results[:10]:\n",
    "    print(format_result(p, c, s))\n",
    "\n",
    "# Ellipsis separator\n",
    "print(\"\\n...\\n\")\n",
    "\n",
    "# Last 10 results\n",
    "print(\"Optimised Bubble Sort Comparison Results (last 10):\\n\")\n",
    "for p, c, s in results[-10:]:\n",
    "    print(format_result(p, c, s))\n",
    "    \n"
   ]
  },
  {
   "cell_type": "markdown",
   "metadata": {},
   "source": [
    "#### **Test Class: `TestBubbleSortComparisons`**\n",
    "\n",
    "**Test Approach**\n",
    "\n",
    "Adds unit tests to explicitly verify key performance scenarios of both the basic and optimised bubble sort:\n",
    "\n",
    "- Sorted input (best-case for optimised version).\n",
    "- Reversed input (worst-case for both versions).\n",
    "\n",
    "**Verification**\n",
    "\n",
    "- Checks that the optimised bubble sort exits early with minimal comparisons on sorted input.\n",
    "\n",
    "- Confirms that the basic version always performs the full comparison count.\n",
    "\n",
    "**Outcome**\n",
    "\n",
    "- Validates expected behavior for key complexity scenarios.\n"
   ]
  },
  {
   "cell_type": "code",
   "execution_count": 185,
   "metadata": {},
   "outputs": [
    {
     "name": "stderr",
     "output_type": "stream",
     "text": [
      "test_reversed_input (__main__.TestBubbleSortComparisons.test_reversed_input) ... ok\n",
      "test_sorted_input (__main__.TestBubbleSortComparisons.test_sorted_input) ... ok\n",
      "\n",
      "----------------------------------------------------------------------\n",
      "Ran 2 tests in 0.001s\n",
      "\n",
      "OK\n"
     ]
    },
    {
     "name": "stdout",
     "output_type": "stream",
     "text": [
      "Test passed: Basic bubble sort performs 10 comparisons on reversed input.\n",
      "Test passed: Optimised bubble sort uses 4 comparisons on sorted input.\n"
     ]
    },
    {
     "data": {
      "text/plain": [
       "<unittest.runner.TextTestResult run=2 errors=0 failures=0>"
      ]
     },
     "execution_count": 185,
     "metadata": {},
     "output_type": "execute_result"
    }
   ],
   "source": [
    "class TestBubbleSortComparisons(unittest.TestCase):\n",
    "    def test_sorted_input(self):\n",
    "        _, comparisons = bubble_sort_optimised([1, 2, 3, 4, 5])\n",
    "        self.assertEqual(comparisons, 4)\n",
    "        print(\"Test passed: Optimised bubble sort uses 4 comparisons on sorted input.\")\n",
    "\n",
    "    def test_reversed_input(self):\n",
    "        _, comparisons = bubble_sort_with_comparisons([5, 4, 3, 2, 1])\n",
    "        self.assertEqual(comparisons, 10)\n",
    "        print(\"Test passed: Basic bubble sort performs 10 comparisons on reversed input.\")\n",
    "\n",
    "unittest.TextTestRunner(verbosity=2).run(unittest.TestLoader().loadTestsFromTestCase(TestBubbleSortComparisons))\n"
   ]
  },
  {
   "cell_type": "markdown",
   "metadata": {},
   "source": [
    "### **Conclusion: Bubble Sort Comparison Analysis**\n",
    "\n",
    "- This task explored the computational complexity of bubble sort across all permutations of a 5-element list.\n",
    "\n",
    "- The standard and optimized implementations were analyzed in terms of comparison count for each permutation.\n",
    "\n",
    "- As expected, the optimized version reduced comparisons significantly for already sorted inputs.\n",
    "\n",
    "- The full permutation analysis helped visualize how performance varies from best to worst case.\n",
    "\n",
    "- This task reinforces understanding of practical algorithmic behavior, even for small input sizes."
   ]
  }
 ],
 "metadata": {
  "kernelspec": {
   "display_name": "Python 3",
   "language": "python",
   "name": "python3"
  },
  "language_info": {
   "codemirror_mode": {
    "name": "ipython",
    "version": 3
   },
   "file_extension": ".py",
   "mimetype": "text/x-python",
   "name": "python",
   "nbconvert_exporter": "python",
   "pygments_lexer": "ipython3",
   "version": "3.12.2"
  }
 },
 "nbformat": 4,
 "nbformat_minor": 2
}
