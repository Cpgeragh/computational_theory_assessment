{
 "cells": [
  {
   "cell_type": "markdown",
   "metadata": {},
   "source": [
    "# **Task 1 - Binary Representations**"
   ]
  },
  {
   "cell_type": "markdown",
   "metadata": {},
   "source": [
    "Notes\n",
    "\n",
    "Optional part: Calculate how many bits set in code, bits set is number of 1s"
   ]
  },
  {
   "cell_type": "markdown",
   "metadata": {},
   "source": [
    "### 1. Implement Bitwise Left Rotation (`rotl`)"
   ]
  },
  {
   "cell_type": "code",
   "execution_count": 48,
   "metadata": {},
   "outputs": [],
   "source": [
    "MASK_32 = 0xFFFFFFFF  # 32-bit mask to prevent overflow\n",
    "\n",
    "def rotl(x, n=1):\n",
    "    n %= 32  # Ensures n is within 0-31\n",
    "    return ((x << n) & MASK_32) | ((x & MASK_32) >> (32 - n))"
   ]
  },
  {
   "cell_type": "markdown",
   "metadata": {},
   "source": [
    "#### Tests"
   ]
  },
  {
   "cell_type": "code",
   "execution_count": 49,
   "metadata": {},
   "outputs": [
    {
     "name": "stdout",
     "output_type": "stream",
     "text": [
      "Original:   0x12345678 (00010010001101000101011001111000)\n",
      "rotl(4):    0x23456781 (00100011010001010110011110000001)\n",
      "rotl(0):    0x12345678 (00010010001101000101011001111000)\n"
     ]
    }
   ],
   "source": [
    "test_val = 0x12345678\n",
    "    \n",
    "result_4 = rotl(test_val, 4)\n",
    "result_0 = rotl(test_val, 0)\n",
    "\n",
    "# Function to format binary output with leading zeros\n",
    "def to_bin_str(val):\n",
    "    return bin(val)[2:].zfill(32)  # Ensures it's always 32 bits long\n",
    "\n",
    "print(f\"Original:   0x{test_val:X} ({to_bin_str(test_val)})\")\n",
    "print(f\"rotl(4):    0x{result_4:X} ({to_bin_str(result_4)})\")\n",
    "print(f\"rotl(0):    0x{result_0:X} ({to_bin_str(result_0)})\")"
   ]
  },
  {
   "cell_type": "markdown",
   "metadata": {},
   "source": [
    "### 2. Implement Bitwise Right Rotation (`rotr`)\n"
   ]
  },
  {
   "cell_type": "code",
   "execution_count": 50,
   "metadata": {},
   "outputs": [],
   "source": [
    "MASK_32 = 0xFFFFFFFF  # 32-bit mask to prevent overflow\n",
    "\n",
    "def rotr(x, n=1):\n",
    "    \n",
    "    n %= 32  # Ensure n is within 0-31\n",
    "    return ((x >> n) & MASK_32) | ((x << (32 - n)) & MASK_32)\n"
   ]
  },
  {
   "cell_type": "markdown",
   "metadata": {},
   "source": [
    "#### Tests"
   ]
  },
  {
   "cell_type": "code",
   "execution_count": 51,
   "metadata": {},
   "outputs": [
    {
     "name": "stdout",
     "output_type": "stream",
     "text": [
      "Original:   0x12345678 (00010010001101000101011001111000)\n",
      "rotr(4):    0x81234567 (10000001001000110100010101100111)\n",
      "rotr(1):    0x91A2B3C (00001001000110100010101100111100)\n"
     ]
    }
   ],
   "source": [
    "test_val = 0x12345678 \n",
    "    \n",
    "result_4 = rotr(test_val, 4)\n",
    "result_1 = rotr(test_val, 1)\n",
    "\n",
    "def to_bin_str(val):\n",
    "    return bin(val)[2:].zfill(32)\n",
    "\n",
    "print(f\"Original:   0x{test_val:X} ({to_bin_str(test_val)})\")\n",
    "print(f\"rotr(4):    0x{result_4:X} ({to_bin_str(result_4)})\")\n",
    "print(f\"rotr(1):    0x{result_1:X} ({to_bin_str(result_1)})\")"
   ]
  },
  {
   "cell_type": "markdown",
   "metadata": {},
   "source": [
    "### 3. Implement `ch(x, y, z)` Function\n"
   ]
  },
  {
   "cell_type": "code",
   "execution_count": 52,
   "metadata": {},
   "outputs": [],
   "source": [
    "# Chooses bits from y where x has bits set to 1 and from z where x has bits set to 0.\n",
    "def ch(x, y, z):\n",
    "    return (x & y) ^ (~x & z)\n"
   ]
  },
  {
   "cell_type": "markdown",
   "metadata": {},
   "source": [
    "#### Tests"
   ]
  },
  {
   "cell_type": "code",
   "execution_count": 53,
   "metadata": {},
   "outputs": [
    {
     "name": "stdout",
     "output_type": "stream",
     "text": [
      "ch(0b1010, 0b1100, 0b1111) = 0b1101\n",
      "ch(0b1010, 0b1100, 0b1111) = 0b1111\n",
      "ch(0b1010, 0b1100, 0b1111) = 0b1100\n"
     ]
    }
   ],
   "source": [
    "# x is diferent from both y and z\n",
    "x_val = 0b1010 \n",
    "y_val = 0b1100\n",
    "z_val = 0b1111\n",
    "result = ch(x_val, y_val, z_val)\n",
    "# prints result in binary, with at least 4 bits (padded with zeros if necessary).\n",
    "print(f\"ch(0b1010, 0b1100, 0b1111) = 0b{result:04b}\")\n",
    "\n",
    "# x is equal to y and diferent from z\n",
    "x_val = 0b0000\n",
    "y_val = 0b1100\n",
    "z_val = 0b1111\n",
    "result = ch(x_val, y_val, z_val)\n",
    "# prints result in binary, with at least 4 bits (padded with zeros if necessary).\n",
    "print(f\"ch(0b1010, 0b1100, 0b1111) = 0b{result:04b}\")\n",
    "\n",
    "# x is equal to z and diferent from y\n",
    "x_val = 0b1111\n",
    "y_val = 0b1100\n",
    "z_val = 0b1111\n",
    "result = ch(x_val, y_val, z_val)\n",
    "# prints result in binary, with at least 4 bits (padded with zeros if necessary).\n",
    "print(f\"ch(0b1010, 0b1100, 0b1111) = 0b{result:04b}\")"
   ]
  },
  {
   "cell_type": "markdown",
   "metadata": {},
   "source": [
    "### 4. Implement `maj(x, y, z)` Function"
   ]
  },
  {
   "cell_type": "code",
   "execution_count": 54,
   "metadata": {},
   "outputs": [],
   "source": [
    "# Implement a function that takes a majority vote of the bits in x, y, z.\n",
    "# Each bit should be 1 if at least two of three inputs have 1 in that position.\n",
    "def maj(x, y, z):\n",
    "    return (x & y) ^ (x & z) ^ (y & z)"
   ]
  },
  {
   "cell_type": "markdown",
   "metadata": {},
   "source": [
    "#### Tests"
   ]
  },
  {
   "cell_type": "code",
   "execution_count": 55,
   "metadata": {},
   "outputs": [
    {
     "name": "stdout",
     "output_type": "stream",
     "text": [
      "maj(0b1010, 0b1100, 0b1111) = 0b1110\n",
      "maj(0b1010, 0b1100, 0b1111) = 0b1111\n",
      "maj(0b1010, 0b1100, 0b1111) = 0b1100\n"
     ]
    }
   ],
   "source": [
    "# x has a mixture of 1s and 0s\n",
    "x_val = 0b1010 \n",
    "y_val = 0b1100  \n",
    "z_val = 0b1111 \n",
    "result = maj(x_val, y_val, z_val)\n",
    "# prints result in binary, with at least 4 bits (padded with zeros if necessary).\n",
    "print(f\"maj(0b1010, 0b1100, 0b1111) = 0b{result:04b}\")\n",
    "\n",
    "# x has all 1s\n",
    "x_val = 0b1111 \n",
    "y_val = 0b1100  \n",
    "z_val = 0b1111 \n",
    "result = maj(x_val, y_val, z_val)\n",
    "# prints result in binary, with at least 4 bits (padded with zeros if necessary).\n",
    "print(f\"maj(0b1010, 0b1100, 0b1111) = 0b{result:04b}\")\n",
    "\n",
    "# x has all 0s\n",
    "x_val = 0b0000\n",
    "y_val = 0b1100\n",
    "z_val = 0b1111 \n",
    "result = maj(x_val, y_val, z_val)\n",
    "# prints result in binary, with at least 4 bits (padded with zeros if necessary).\n",
    "print(f\"maj(0b1010, 0b1100, 0b1111) = 0b{result:04b}\")"
   ]
  },
  {
   "cell_type": "markdown",
   "metadata": {},
   "source": [
    "# **Task 2 - Hash Functions**"
   ]
  },
  {
   "cell_type": "markdown",
   "metadata": {},
   "source": [
    "### 1. Convert C Hash Function to Python"
   ]
  },
  {
   "cell_type": "code",
   "execution_count": 56,
   "metadata": {},
   "outputs": [],
   "source": [
    "# Converts a string to a hash value.\n",
    "def hash_function(s):\n",
    "\n",
    "    hashValue = 0\n",
    "    # Hash value updated for each character in the string\n",
    "    for char in s:\n",
    "        # ord() gets ASCII value of the character\n",
    "        hashValue = ord(char) + 31 * hashValue\n",
    "    # Ensure the hash value is within 0-100\n",
    "    return hashValue % 101"
   ]
  },
  {
   "cell_type": "markdown",
   "metadata": {},
   "source": [
    "#### Tests"
   ]
  },
  {
   "cell_type": "code",
   "execution_count": 57,
   "metadata": {},
   "outputs": [
    {
     "name": "stdout",
     "output_type": "stream",
     "text": [
      "hash(hello) = 17\n",
      "hash(world) = 34\n",
      "hash(python) = 91\n",
      "hash(hash) = 15\n",
      "hash(coding) = 73\n",
      "hash(umbrella) = 78\n"
     ]
    }
   ],
   "source": [
    "test_strings = [\"hello\", \"world\", \"python\", \"hash\", \"coding\", \"umbrella\"]\n",
    "\n",
    "for s in test_strings:\n",
    "    print(f\"hash({s}) = {hash_function(s)}\")"
   ]
  },
  {
   "cell_type": "markdown",
   "metadata": {},
   "source": [
    "### 2. Expanded Hash Function"
   ]
  },
  {
   "cell_type": "code",
   "execution_count": 58,
   "metadata": {},
   "outputs": [],
   "source": [
    "def hash_function_expanded(s):\n",
    "    \n",
    "    hashValue = 0\n",
    "    print(f\"\\nHashing string '{s}':\")\n",
    "    print(\"-\" * 77)\n",
    "\n",
    "    for index, char in enumerate(s):\n",
    "        ascii_value = ord(char)\n",
    "        print(f\"Step {index + 1}: char = '{char}' with an ASCII value of {ascii_value}, previous hash was {hashValue}\")\n",
    "        print(f\"\\thash = {ascii_value} + 31 * {hashValue}\")\n",
    "        hashValue = ascii_value + 31 * hashValue\n",
    "        print(f\"\\tNew hash value after processing '{char}: {hashValue}\")\n",
    "\n",
    "    final_hash_value = hashValue % 101\n",
    "    print(f\"\\nFinal hash value after modulo 101: {final_hash_value}\")\n",
    "    print(\"-\" * 77)\n",
    "\n",
    "    return final_hash_value"
   ]
  },
  {
   "cell_type": "markdown",
   "metadata": {},
   "source": [
    "#### Tests"
   ]
  },
  {
   "cell_type": "code",
   "execution_count": 59,
   "metadata": {},
   "outputs": [
    {
     "name": "stdout",
     "output_type": "stream",
     "text": [
      "\n",
      "Hashing string 'hello':\n",
      "-----------------------------------------------------------------------------\n",
      "Step 1: char = 'h' with an ASCII value of 104, previous hash was 0\n",
      "\thash = 104 + 31 * 0\n",
      "\tNew hash value after processing 'h: 104\n",
      "Step 2: char = 'e' with an ASCII value of 101, previous hash was 104\n",
      "\thash = 101 + 31 * 104\n",
      "\tNew hash value after processing 'e: 3325\n",
      "Step 3: char = 'l' with an ASCII value of 108, previous hash was 3325\n",
      "\thash = 108 + 31 * 3325\n",
      "\tNew hash value after processing 'l: 103183\n",
      "Step 4: char = 'l' with an ASCII value of 108, previous hash was 103183\n",
      "\thash = 108 + 31 * 103183\n",
      "\tNew hash value after processing 'l: 3198781\n",
      "Step 5: char = 'o' with an ASCII value of 111, previous hash was 3198781\n",
      "\thash = 111 + 31 * 3198781\n",
      "\tNew hash value after processing 'o: 99162322\n",
      "\n",
      "Final hash value after modulo 101: 17\n",
      "-----------------------------------------------------------------------------\n",
      "\n",
      "Hashing string 'world':\n",
      "-----------------------------------------------------------------------------\n",
      "Step 1: char = 'w' with an ASCII value of 119, previous hash was 0\n",
      "\thash = 119 + 31 * 0\n",
      "\tNew hash value after processing 'w: 119\n",
      "Step 2: char = 'o' with an ASCII value of 111, previous hash was 119\n",
      "\thash = 111 + 31 * 119\n",
      "\tNew hash value after processing 'o: 3800\n",
      "Step 3: char = 'r' with an ASCII value of 114, previous hash was 3800\n",
      "\thash = 114 + 31 * 3800\n",
      "\tNew hash value after processing 'r: 117914\n",
      "Step 4: char = 'l' with an ASCII value of 108, previous hash was 117914\n",
      "\thash = 108 + 31 * 117914\n",
      "\tNew hash value after processing 'l: 3655442\n",
      "Step 5: char = 'd' with an ASCII value of 100, previous hash was 3655442\n",
      "\thash = 100 + 31 * 3655442\n",
      "\tNew hash value after processing 'd: 113318802\n",
      "\n",
      "Final hash value after modulo 101: 34\n",
      "-----------------------------------------------------------------------------\n",
      "\n",
      "Hashing string 'python':\n",
      "-----------------------------------------------------------------------------\n",
      "Step 1: char = 'p' with an ASCII value of 112, previous hash was 0\n",
      "\thash = 112 + 31 * 0\n",
      "\tNew hash value after processing 'p: 112\n",
      "Step 2: char = 'y' with an ASCII value of 121, previous hash was 112\n",
      "\thash = 121 + 31 * 112\n",
      "\tNew hash value after processing 'y: 3593\n",
      "Step 3: char = 't' with an ASCII value of 116, previous hash was 3593\n",
      "\thash = 116 + 31 * 3593\n",
      "\tNew hash value after processing 't: 111499\n",
      "Step 4: char = 'h' with an ASCII value of 104, previous hash was 111499\n",
      "\thash = 104 + 31 * 111499\n",
      "\tNew hash value after processing 'h: 3456573\n",
      "Step 5: char = 'o' with an ASCII value of 111, previous hash was 3456573\n",
      "\thash = 111 + 31 * 3456573\n",
      "\tNew hash value after processing 'o: 107153874\n",
      "Step 6: char = 'n' with an ASCII value of 110, previous hash was 107153874\n",
      "\thash = 110 + 31 * 107153874\n",
      "\tNew hash value after processing 'n: 3321770204\n",
      "\n",
      "Final hash value after modulo 101: 91\n",
      "-----------------------------------------------------------------------------\n",
      "\n",
      "Hashing string 'hash':\n",
      "-----------------------------------------------------------------------------\n",
      "Step 1: char = 'h' with an ASCII value of 104, previous hash was 0\n",
      "\thash = 104 + 31 * 0\n",
      "\tNew hash value after processing 'h: 104\n",
      "Step 2: char = 'a' with an ASCII value of 97, previous hash was 104\n",
      "\thash = 97 + 31 * 104\n",
      "\tNew hash value after processing 'a: 3321\n",
      "Step 3: char = 's' with an ASCII value of 115, previous hash was 3321\n",
      "\thash = 115 + 31 * 3321\n",
      "\tNew hash value after processing 's: 103066\n",
      "Step 4: char = 'h' with an ASCII value of 104, previous hash was 103066\n",
      "\thash = 104 + 31 * 103066\n",
      "\tNew hash value after processing 'h: 3195150\n",
      "\n",
      "Final hash value after modulo 101: 15\n",
      "-----------------------------------------------------------------------------\n",
      "\n",
      "Hashing string 'coding':\n",
      "-----------------------------------------------------------------------------\n",
      "Step 1: char = 'c' with an ASCII value of 99, previous hash was 0\n",
      "\thash = 99 + 31 * 0\n",
      "\tNew hash value after processing 'c: 99\n",
      "Step 2: char = 'o' with an ASCII value of 111, previous hash was 99\n",
      "\thash = 111 + 31 * 99\n",
      "\tNew hash value after processing 'o: 3180\n",
      "Step 3: char = 'd' with an ASCII value of 100, previous hash was 3180\n",
      "\thash = 100 + 31 * 3180\n",
      "\tNew hash value after processing 'd: 98680\n",
      "Step 4: char = 'i' with an ASCII value of 105, previous hash was 98680\n",
      "\thash = 105 + 31 * 98680\n",
      "\tNew hash value after processing 'i: 3059185\n",
      "Step 5: char = 'n' with an ASCII value of 110, previous hash was 3059185\n",
      "\thash = 110 + 31 * 3059185\n",
      "\tNew hash value after processing 'n: 94834845\n",
      "Step 6: char = 'g' with an ASCII value of 103, previous hash was 94834845\n",
      "\thash = 103 + 31 * 94834845\n",
      "\tNew hash value after processing 'g: 2939880298\n",
      "\n",
      "Final hash value after modulo 101: 73\n",
      "-----------------------------------------------------------------------------\n",
      "\n",
      "Hashing string 'umbrella':\n",
      "-----------------------------------------------------------------------------\n",
      "Step 1: char = 'u' with an ASCII value of 117, previous hash was 0\n",
      "\thash = 117 + 31 * 0\n",
      "\tNew hash value after processing 'u: 117\n",
      "Step 2: char = 'm' with an ASCII value of 109, previous hash was 117\n",
      "\thash = 109 + 31 * 117\n",
      "\tNew hash value after processing 'm: 3736\n",
      "Step 3: char = 'b' with an ASCII value of 98, previous hash was 3736\n",
      "\thash = 98 + 31 * 3736\n",
      "\tNew hash value after processing 'b: 115914\n",
      "Step 4: char = 'r' with an ASCII value of 114, previous hash was 115914\n",
      "\thash = 114 + 31 * 115914\n",
      "\tNew hash value after processing 'r: 3593448\n",
      "Step 5: char = 'e' with an ASCII value of 101, previous hash was 3593448\n",
      "\thash = 101 + 31 * 3593448\n",
      "\tNew hash value after processing 'e: 111396989\n",
      "Step 6: char = 'l' with an ASCII value of 108, previous hash was 111396989\n",
      "\thash = 108 + 31 * 111396989\n",
      "\tNew hash value after processing 'l: 3453306767\n",
      "Step 7: char = 'l' with an ASCII value of 108, previous hash was 3453306767\n",
      "\thash = 108 + 31 * 3453306767\n",
      "\tNew hash value after processing 'l: 107052509885\n",
      "Step 8: char = 'a' with an ASCII value of 97, previous hash was 107052509885\n",
      "\thash = 97 + 31 * 107052509885\n",
      "\tNew hash value after processing 'a: 3318627806532\n",
      "\n",
      "Final hash value after modulo 101: 78\n",
      "-----------------------------------------------------------------------------\n",
      "\n",
      "Hashing string 'rust':\n",
      "-----------------------------------------------------------------------------\n",
      "Step 1: char = 'r' with an ASCII value of 114, previous hash was 0\n",
      "\thash = 114 + 31 * 0\n",
      "\tNew hash value after processing 'r: 114\n",
      "Step 2: char = 'u' with an ASCII value of 117, previous hash was 114\n",
      "\thash = 117 + 31 * 114\n",
      "\tNew hash value after processing 'u: 3651\n",
      "Step 3: char = 's' with an ASCII value of 115, previous hash was 3651\n",
      "\thash = 115 + 31 * 3651\n",
      "\tNew hash value after processing 's: 113296\n",
      "Step 4: char = 't' with an ASCII value of 116, previous hash was 113296\n",
      "\thash = 116 + 31 * 113296\n",
      "\tNew hash value after processing 't: 3512292\n",
      "\n",
      "Final hash value after modulo 101: 17\n",
      "-----------------------------------------------------------------------------\n"
     ]
    }
   ],
   "source": [
    "test_strings = [\"hello\", \"world\", \"python\", \"hash\", \"coding\", \"umbrella\", \"rust\"]\n",
    "\n",
    "for s in test_strings:\n",
    "    hash_function_expanded(s)\n"
   ]
  },
  {
   "cell_type": "markdown",
   "metadata": {},
   "source": [
    "### 3. Reasons For Using 31 and 101"
   ]
  },
  {
   "cell_type": "markdown",
   "metadata": {},
   "source": [
    "**Why 31?**\n",
    "\n",
    "- It is a **prime number**, this is important because it helps reduce the chance of **collisions** when hashing strings by distributing hash values more evenly accross the hash table. \n",
    "\n",
    "- A **collision** occurs when two different inputs produce the same hash value. \n",
    "\n",
    "- The multiplication using 31 makes the hash values less predictable and spread out over a wider range, minimising **clustering**.\n",
    "\n",
    "- 31 is also a small number, reducing the likelyhood of integer overflow in C due to it having fixed sized integers (such as 32 or 64-bit). However, since this has been converted to Python this is no longer an issue as it automatically swtiches from fixed-sized intgers to arbitrary-precision integers when needed. It is still used here though to maintain consistancy between languages and to prevent performance slowdown which can still happen with extremely large numbers\n",
    "\n",
    "- In C, multiplying by 31 can be optimised by compilers as a simple calculation it provides of **(hashval << 5) - hashval** enables the efficient use of bit-shifting and subtraction instead of pure multiplication. Once again, however, this isn't a significant issue in Python as it handles operations like multiplication and bit-shifting at a higher level so there is no significant performance difference between them.\n",
    "\n",
    "**Why 101?**\n",
    "\n",
    "- It is also a **prime number**, in this case used in the modulo operation to limit the hash values to be within a specific range, in this case 0 to 100.\n",
    "\n",
    "- Similar to 31, it being a prime number helps **distribute** the hash values more evenly across this range.\n",
    "\n",
    "- Using 101 also helps prevent the **clustering** of hash values, this can occur if the modulo base has **common factors** with the data. Examples of these factors are if the data contains patterns divisible by the modulo base. 101 **doesn't** share common factors with most data patterns, helping to greatly negate this risk."
   ]
  },
  {
   "cell_type": "markdown",
   "metadata": {},
   "source": [
    "# **Task 3 - SHA256**"
   ]
  },
  {
   "cell_type": "markdown",
   "metadata": {},
   "source": [
    "## Calculate the SHA256 Padding for a Given File"
   ]
  },
  {
   "cell_type": "markdown",
   "metadata": {},
   "source": [
    "### 1. Create Temporary File"
   ]
  },
  {
   "cell_type": "code",
   "execution_count": 60,
   "metadata": {},
   "outputs": [],
   "source": [
    "import tempfile\n",
    "import os"
   ]
  },
  {
   "cell_type": "code",
   "execution_count": 61,
   "metadata": {},
   "outputs": [],
   "source": [
    "with tempfile.NamedTemporaryFile(delete=False, mode=\"wb\") as temp_file:\n",
    "    temp_file.write(b\"abc\")\n",
    "    temp_file_path = temp_file.name"
   ]
  },
  {
   "cell_type": "markdown",
   "metadata": {},
   "source": [
    "#### Tests"
   ]
  },
  {
   "cell_type": "code",
   "execution_count": 62,
   "metadata": {},
   "outputs": [
    {
     "name": "stdout",
     "output_type": "stream",
     "text": [
      "Temporary file created at: C:\\Users\\melgo\\AppData\\Local\\Temp\\tmppodwhq4q\n"
     ]
    }
   ],
   "source": [
    "print(f\"Temporary file created at: {temp_file_path}\")"
   ]
  },
  {
   "cell_type": "markdown",
   "metadata": {},
   "source": [
    "### 2. Read Temporary File"
   ]
  },
  {
   "cell_type": "code",
   "execution_count": 63,
   "metadata": {},
   "outputs": [],
   "source": [
    "with open(temp_file_path, \"rb\") as file:\n",
    "    data = file.read()"
   ]
  },
  {
   "cell_type": "markdown",
   "metadata": {},
   "source": [
    "#### Tests"
   ]
  },
  {
   "cell_type": "code",
   "execution_count": 64,
   "metadata": {},
   "outputs": [
    {
     "name": "stdout",
     "output_type": "stream",
     "text": [
      "Binary contents of the file: 01100001 01100010 01100011\n"
     ]
    }
   ],
   "source": [
    "bit_string = \" \".join(f\"{byte:08b}\" for byte in data)\n",
    "print(\"Binary contents of the file:\", \"\".join(bit_string))"
   ]
  },
  {
   "cell_type": "markdown",
   "metadata": {},
   "source": [
    "### 3. Calculate the Original Length of File Data in Bits"
   ]
  },
  {
   "cell_type": "code",
   "execution_count": 65,
   "metadata": {},
   "outputs": [],
   "source": [
    "num_bytes = len(data) \n",
    "original_length_bits = num_bytes * 8"
   ]
  },
  {
   "cell_type": "markdown",
   "metadata": {},
   "source": [
    "#### Tests"
   ]
  },
  {
   "cell_type": "code",
   "execution_count": 66,
   "metadata": {},
   "outputs": [
    {
     "name": "stdout",
     "output_type": "stream",
     "text": [
      "Original length in bits: 3 × 8 = 24 (Sum of: 01100001 01100010 01100011)\n"
     ]
    }
   ],
   "source": [
    "print(f\"Original length in bits: {num_bytes} × 8 = {original_length_bits} (Sum of: {bit_string})\")"
   ]
  },
  {
   "cell_type": "markdown",
   "metadata": {},
   "source": [
    "### 4. Append 1 Bit (0x80) Onto End of Data"
   ]
  },
  {
   "cell_type": "code",
   "execution_count": 67,
   "metadata": {},
   "outputs": [],
   "source": [
    "# Marks the end of the file data\n",
    "padded_message = data + b'\\x80'"
   ]
  },
  {
   "cell_type": "markdown",
   "metadata": {},
   "source": [
    "#### Tests"
   ]
  },
  {
   "cell_type": "code",
   "execution_count": 68,
   "metadata": {},
   "outputs": [
    {
     "name": "stdout",
     "output_type": "stream",
     "text": [
      "After adding 1-bit: 01100001 01100010 01100011 10000000\n"
     ]
    }
   ],
   "source": [
    "print(f\"After adding 1-bit: {' '.join(f'{b:08b}' for b in padded_message)}\")"
   ]
  },
  {
   "cell_type": "markdown",
   "metadata": {},
   "source": [
    "### 5. Calculate Zero Padding"
   ]
  },
  {
   "cell_type": "code",
   "execution_count": 69,
   "metadata": {},
   "outputs": [],
   "source": [
    "zero_padding_length = (56 - (len(padded_message) % 64)) % 64\n",
    "\n",
    "padded_message += b'\\x00' * zero_padding_length"
   ]
  },
  {
   "cell_type": "markdown",
   "metadata": {},
   "source": [
    "#### Tests"
   ]
  },
  {
   "cell_type": "code",
   "execution_count": 70,
   "metadata": {},
   "outputs": [
    {
     "name": "stdout",
     "output_type": "stream",
     "text": [
      "After zero padding: 01100001 01100010 01100011 10000000 00000000 00000000 00000000 00000000 00000000 00000000 00000000 00000000 00000000 00000000 00000000 00000000 00000000 00000000 00000000 00000000 00000000 00000000 00000000 00000000 00000000 00000000 00000000 00000000 00000000 00000000 00000000 00000000 00000000 00000000 00000000 00000000 00000000 00000000 00000000 00000000 00000000 00000000 00000000 00000000 00000000 00000000 00000000 00000000 00000000 00000000 00000000 00000000 00000000 00000000 00000000 00000000\n",
      "Padding length: 52 bytes\n"
     ]
    }
   ],
   "source": [
    "print(f\"After zero padding: {' '.join(f'{b:08b}' for b in padded_message)}\")\n",
    "print(f\"Padding length: {zero_padding_length} bytes\") "
   ]
  },
  {
   "cell_type": "markdown",
   "metadata": {},
   "source": [
    "### 6. Append the Original Message Length to End of Padded Message"
   ]
  },
  {
   "cell_type": "code",
   "execution_count": 71,
   "metadata": {},
   "outputs": [],
   "source": [
    "padded_message += original_length_bits.to_bytes(8, 'big')"
   ]
  },
  {
   "cell_type": "markdown",
   "metadata": {},
   "source": [
    "#### Tests"
   ]
  },
  {
   "cell_type": "code",
   "execution_count": 72,
   "metadata": {},
   "outputs": [
    {
     "name": "stdout",
     "output_type": "stream",
     "text": [
      "Final padded message: 01100001 01100010 01100011 10000000 00000000 00000000 00000000 00000000 00000000 00000000 00000000 00000000 00000000 00000000 00000000 00000000 00000000 00000000 00000000 00000000 00000000 00000000 00000000 00000000 00000000 00000000 00000000 00000000 00000000 00000000 00000000 00000000 00000000 00000000 00000000 00000000 00000000 00000000 00000000 00000000 00000000 00000000 00000000 00000000 00000000 00000000 00000000 00000000 00000000 00000000 00000000 00000000 00000000 00000000 00000000 00000000 00000000 00000000 00000000 00000000 00000000 00000000 00000000 00011000\n"
     ]
    }
   ],
   "source": [
    "print(f\"Final padded message: {' '.join(f'{b:08b}' for b in padded_message)}\")"
   ]
  },
  {
   "cell_type": "markdown",
   "metadata": {},
   "source": [
    "### 7. Extract and Display Only the Padding"
   ]
  },
  {
   "cell_type": "code",
   "execution_count": 73,
   "metadata": {},
   "outputs": [],
   "source": [
    "padding_hex = padded_message[len(data):]"
   ]
  },
  {
   "cell_type": "markdown",
   "metadata": {},
   "source": [
    "#### Tests"
   ]
  },
  {
   "cell_type": "code",
   "execution_count": 74,
   "metadata": {},
   "outputs": [
    {
     "name": "stdout",
     "output_type": "stream",
     "text": [
      "SHA-256 Padding (Hex): 80 00 00 00 00 00 00 00 00 00 00 00 00 00 00 00 00 00 00 00 00 00 00 00 00 00 00 00 00 00 00 00 00 00 00 00 00 00 00 00 00 00 00 00 00 00 00 00 00 00 00 00 00 00 00 00 00 00 00 00 18\n"
     ]
    }
   ],
   "source": [
    "print(f\"SHA-256 Padding (Hex): {' '.join(f'{b:02X}' for b in padding_hex)}\")"
   ]
  },
  {
   "cell_type": "markdown",
   "metadata": {},
   "source": [
    "### 8. Delete the Temporary File"
   ]
  },
  {
   "cell_type": "markdown",
   "metadata": {},
   "source": [
    "#### File Deletion Confirmation Example"
   ]
  },
  {
   "cell_type": "code",
   "execution_count": 75,
   "metadata": {},
   "outputs": [
    {
     "name": "stdout",
     "output_type": "stream",
     "text": [
      "File exists before deletion: True\n",
      "\n",
      "Temporary file deleted successfully.\n",
      "\n",
      "File exists after deletion: False\n"
     ]
    }
   ],
   "source": [
    "print(f\"File exists before deletion: {os.path.exists(temp_file_path)}\")\n",
    "\n",
    "try:\n",
    "    os.remove(temp_file_path)\n",
    "\n",
    "    # Check if the file still exists\n",
    "    if os.path.exists(temp_file_path):\n",
    "        print(\"\\nError: File was NOT deleted!\")\n",
    "    else:\n",
    "        print(\"\\nTemporary file deleted successfully.\")\n",
    "\n",
    "except FileNotFoundError:\n",
    "    print(\"\\nWarning: File already deleted or does not exist.\")\n",
    "except Exception as e:\n",
    "    print(f\"\\nUnexpected error: {e}\")\n",
    "\n",
    "print(f\"\\nFile exists after deletion: {os.path.exists(temp_file_path)}\")"
   ]
  },
  {
   "cell_type": "markdown",
   "metadata": {},
   "source": [
    "#### Error Handling Example if file is not found"
   ]
  },
  {
   "cell_type": "code",
   "execution_count": 76,
   "metadata": {},
   "outputs": [
    {
     "name": "stdout",
     "output_type": "stream",
     "text": [
      "File exists before deletion: False\n",
      "\n",
      "Warning: File already deleted or does not exist.\n",
      "\n",
      "File exists after deletion: False\n"
     ]
    }
   ],
   "source": [
    "print(f\"File exists before deletion: {os.path.exists(temp_file_path)}\")\n",
    "\n",
    "try:\n",
    "    os.remove(temp_file_path)\n",
    "\n",
    "    # Check if the file still exists\n",
    "    if os.path.exists(temp_file_path):\n",
    "        print(\"\\nError: File was NOT deleted!\")\n",
    "    else:\n",
    "        print(\"\\nTemporary file deleted successfully.\")\n",
    "\n",
    "except FileNotFoundError:\n",
    "    print(\"\\nWarning: File already deleted or does not exist.\")\n",
    "except Exception as e:\n",
    "    print(f\"\\nUnexpected error: {e}\")\n",
    "\n",
    "print(f\"\\nFile exists after deletion: {os.path.exists(temp_file_path)}\")"
   ]
  },
  {
   "cell_type": "markdown",
   "metadata": {},
   "source": [
    "# **Task 4 - Prime Numbers**"
   ]
  },
  {
   "cell_type": "markdown",
   "metadata": {},
   "source": [
    "#### What are Prime Numbers?\n",
    "\n",
    "- These are numbers that cannot be exactly divided (i.e. without a remainder) by any whole number other than itself and 1."
   ]
  },
  {
   "cell_type": "markdown",
   "metadata": {},
   "source": [
    "### Trial Division Algorithm"
   ]
  },
  {
   "cell_type": "code",
   "execution_count": 77,
   "metadata": {},
   "outputs": [],
   "source": [
    "def is_prime(n):\n",
    "    if n < 2:\n",
    "        return False\n",
    "    if n in (2, 3):\n",
    "        return True\n",
    "    if n % 2 == 0 or n % 3 == 0:\n",
    "        return False\n",
    "    \n",
    "    i = 5\n",
    "    while i * i <= n:\n",
    "        if n % i == 0 or n % (i + 2) == 0:\n",
    "            return False\n",
    "        i += 6\n",
    "    return True"
   ]
  },
  {
   "cell_type": "code",
   "execution_count": 78,
   "metadata": {},
   "outputs": [],
   "source": [
    "def first_n_primes_trial(n):\n",
    "    primes = []\n",
    "    num = 2\n",
    "    while len(primes) < n:\n",
    "        if is_prime(num):\n",
    "            primes.append(num)\n",
    "        num += 1\n",
    "    return primes"
   ]
  },
  {
   "cell_type": "markdown",
   "metadata": {},
   "source": [
    "#### Tests\n"
   ]
  },
  {
   "cell_type": "code",
   "execution_count": 79,
   "metadata": {},
   "outputs": [
    {
     "name": "stdout",
     "output_type": "stream",
     "text": [
      "[2, 3, 5, 7, 11, 13, 17, 19, 23, 29, 31, 37, 41, 43, 47, 53, 59, 61, 67, 71, 73, 79, 83, 89, 97, 101, 103, 107, 109, 113, 127, 131, 137, 139, 149, 151, 157, 163, 167, 173, 179, 181, 191, 193, 197, 199, 211, 223, 227, 229, 233, 239, 241, 251, 257, 263, 269, 271, 277, 281, 283, 293, 307, 311, 313, 317, 331, 337, 347, 349, 353, 359, 367, 373, 379, 383, 389, 397, 401, 409, 419, 421, 431, 433, 439, 443, 449, 457, 461, 463, 467, 479, 487, 491, 499, 503, 509, 521, 523, 541, 547, 557, 563, 569, 571, 577, 587, 593, 599, 601, 607, 613, 617, 619, 631, 641, 643, 647, 653, 659, 661, 673, 677, 683, 691, 701, 709, 719, 727, 733, 739, 743, 751, 757, 761, 769, 773, 787, 797, 809, 811, 821, 823, 827, 829, 839, 853, 857, 859, 863, 877, 881, 883, 887, 907, 911, 919, 929, 937, 941, 947, 953, 967, 971, 977, 983, 991, 997, 1009, 1013, 1019, 1021, 1031, 1033, 1039, 1049, 1051, 1061, 1063, 1069, 1087, 1091, 1093, 1097, 1103, 1109, 1117, 1123, 1129, 1151, 1153, 1163, 1171, 1181, 1187, 1193, 1201, 1213, 1217, 1223, 1229, 1231, 1237, 1249, 1259, 1277, 1279, 1283, 1289, 1291, 1297, 1301, 1303, 1307, 1319, 1321, 1327, 1361, 1367, 1373, 1381, 1399, 1409, 1423, 1427, 1429, 1433, 1439, 1447, 1451, 1453, 1459, 1471, 1481, 1483, 1487, 1489, 1493, 1499, 1511, 1523, 1531, 1543, 1549, 1553, 1559, 1567, 1571, 1579, 1583, 1597, 1601, 1607, 1609, 1613, 1619, 1621, 1627, 1637, 1657, 1663, 1667, 1669, 1693, 1697, 1699, 1709, 1721, 1723, 1733, 1741, 1747, 1753, 1759, 1777, 1783, 1787, 1789, 1801, 1811, 1823, 1831, 1847, 1861, 1867, 1871, 1873, 1877, 1879, 1889, 1901, 1907, 1913, 1931, 1933, 1949, 1951, 1973, 1979, 1987, 1993, 1997, 1999, 2003, 2011, 2017, 2027, 2029, 2039, 2053, 2063, 2069, 2081, 2083, 2087, 2089, 2099, 2111, 2113, 2129, 2131, 2137, 2141, 2143, 2153, 2161, 2179, 2203, 2207, 2213, 2221, 2237, 2239, 2243, 2251, 2267, 2269, 2273, 2281, 2287, 2293, 2297, 2309, 2311, 2333, 2339, 2341, 2347, 2351, 2357, 2371, 2377, 2381, 2383, 2389, 2393, 2399, 2411, 2417, 2423, 2437, 2441, 2447, 2459, 2467, 2473, 2477, 2503, 2521, 2531, 2539, 2543, 2549, 2551, 2557, 2579, 2591, 2593, 2609, 2617, 2621, 2633, 2647, 2657, 2659, 2663, 2671, 2677, 2683, 2687, 2689, 2693, 2699, 2707, 2711, 2713, 2719, 2729, 2731, 2741, 2749, 2753, 2767, 2777, 2789, 2791, 2797, 2801, 2803, 2819, 2833, 2837, 2843, 2851, 2857, 2861, 2879, 2887, 2897, 2903, 2909, 2917, 2927, 2939, 2953, 2957, 2963, 2969, 2971, 2999, 3001, 3011, 3019, 3023, 3037, 3041, 3049, 3061, 3067, 3079, 3083, 3089, 3109, 3119, 3121, 3137, 3163, 3167, 3169, 3181, 3187, 3191, 3203, 3209, 3217, 3221, 3229, 3251, 3253, 3257, 3259, 3271, 3299, 3301, 3307, 3313, 3319, 3323, 3329, 3331, 3343, 3347, 3359, 3361, 3371, 3373, 3389, 3391, 3407, 3413, 3433, 3449, 3457, 3461, 3463, 3467, 3469, 3491, 3499, 3511, 3517, 3527, 3529, 3533, 3539, 3541, 3547, 3557, 3559, 3571, 3581, 3583, 3593, 3607, 3613, 3617, 3623, 3631, 3637, 3643, 3659, 3671, 3673, 3677, 3691, 3697, 3701, 3709, 3719, 3727, 3733, 3739, 3761, 3767, 3769, 3779, 3793, 3797, 3803, 3821, 3823, 3833, 3847, 3851, 3853, 3863, 3877, 3881, 3889, 3907, 3911, 3917, 3919, 3923, 3929, 3931, 3943, 3947, 3967, 3989, 4001, 4003, 4007, 4013, 4019, 4021, 4027, 4049, 4051, 4057, 4073, 4079, 4091, 4093, 4099, 4111, 4127, 4129, 4133, 4139, 4153, 4157, 4159, 4177, 4201, 4211, 4217, 4219, 4229, 4231, 4241, 4243, 4253, 4259, 4261, 4271, 4273, 4283, 4289, 4297, 4327, 4337, 4339, 4349, 4357, 4363, 4373, 4391, 4397, 4409, 4421, 4423, 4441, 4447, 4451, 4457, 4463, 4481, 4483, 4493, 4507, 4513, 4517, 4519, 4523, 4547, 4549, 4561, 4567, 4583, 4591, 4597, 4603, 4621, 4637, 4639, 4643, 4649, 4651, 4657, 4663, 4673, 4679, 4691, 4703, 4721, 4723, 4729, 4733, 4751, 4759, 4783, 4787, 4789, 4793, 4799, 4801, 4813, 4817, 4831, 4861, 4871, 4877, 4889, 4903, 4909, 4919, 4931, 4933, 4937, 4943, 4951, 4957, 4967, 4969, 4973, 4987, 4993, 4999, 5003, 5009, 5011, 5021, 5023, 5039, 5051, 5059, 5077, 5081, 5087, 5099, 5101, 5107, 5113, 5119, 5147, 5153, 5167, 5171, 5179, 5189, 5197, 5209, 5227, 5231, 5233, 5237, 5261, 5273, 5279, 5281, 5297, 5303, 5309, 5323, 5333, 5347, 5351, 5381, 5387, 5393, 5399, 5407, 5413, 5417, 5419, 5431, 5437, 5441, 5443, 5449, 5471, 5477, 5479, 5483, 5501, 5503, 5507, 5519, 5521, 5527, 5531, 5557, 5563, 5569, 5573, 5581, 5591, 5623, 5639, 5641, 5647, 5651, 5653, 5657, 5659, 5669, 5683, 5689, 5693, 5701, 5711, 5717, 5737, 5741, 5743, 5749, 5779, 5783, 5791, 5801, 5807, 5813, 5821, 5827, 5839, 5843, 5849, 5851, 5857, 5861, 5867, 5869, 5879, 5881, 5897, 5903, 5923, 5927, 5939, 5953, 5981, 5987, 6007, 6011, 6029, 6037, 6043, 6047, 6053, 6067, 6073, 6079, 6089, 6091, 6101, 6113, 6121, 6131, 6133, 6143, 6151, 6163, 6173, 6197, 6199, 6203, 6211, 6217, 6221, 6229, 6247, 6257, 6263, 6269, 6271, 6277, 6287, 6299, 6301, 6311, 6317, 6323, 6329, 6337, 6343, 6353, 6359, 6361, 6367, 6373, 6379, 6389, 6397, 6421, 6427, 6449, 6451, 6469, 6473, 6481, 6491, 6521, 6529, 6547, 6551, 6553, 6563, 6569, 6571, 6577, 6581, 6599, 6607, 6619, 6637, 6653, 6659, 6661, 6673, 6679, 6689, 6691, 6701, 6703, 6709, 6719, 6733, 6737, 6761, 6763, 6779, 6781, 6791, 6793, 6803, 6823, 6827, 6829, 6833, 6841, 6857, 6863, 6869, 6871, 6883, 6899, 6907, 6911, 6917, 6947, 6949, 6959, 6961, 6967, 6971, 6977, 6983, 6991, 6997, 7001, 7013, 7019, 7027, 7039, 7043, 7057, 7069, 7079, 7103, 7109, 7121, 7127, 7129, 7151, 7159, 7177, 7187, 7193, 7207, 7211, 7213, 7219, 7229, 7237, 7243, 7247, 7253, 7283, 7297, 7307, 7309, 7321, 7331, 7333, 7349, 7351, 7369, 7393, 7411, 7417, 7433, 7451, 7457, 7459, 7477, 7481, 7487, 7489, 7499, 7507, 7517, 7523, 7529, 7537, 7541, 7547, 7549, 7559, 7561, 7573, 7577, 7583, 7589, 7591, 7603, 7607, 7621, 7639, 7643, 7649, 7669, 7673, 7681, 7687, 7691, 7699, 7703, 7717, 7723, 7727, 7741, 7753, 7757, 7759, 7789, 7793, 7817, 7823, 7829, 7841, 7853, 7867, 7873, 7877, 7879, 7883, 7901, 7907, 7919]\n"
     ]
    }
   ],
   "source": [
    "primes_trial = first_n_primes_trial(1000)\n",
    "print(primes_trial)"
   ]
  },
  {
   "cell_type": "markdown",
   "metadata": {},
   "source": [
    "#### Explanation\n",
    "\n",
    "- Trial Division checks if a number is prime by checking its divisibilty by smaller numbers before it.\n",
    "- First, it eliminates small cases, in this case numbers less than 2 as 0 and 1 are not prime, and even numbers greater than 2 as they are not prime because they are divisible by 2.\n",
    "- Next, it tests divisibility only up to the square root of the number, because if the number has a factor larger than the square root of the number, it must also have a smaller factor that will already have been found.\n",
    "- It skips even numbers and only tests divisibilty by odd numbers (after elimenating 2 and 3). This is because if the number is not divisible by 2, it cannot be divisible by any larger even number, and if the number is divisible by 3 it is also not prime.\n",
    "- If the number is not divisible by any of these, it is prime.\n",
    "- The drawbacks of this algorithm is that even with optimisation, it is slow for very large numbers because it has to check many individual numbers. For instance, if the number is 1,000,003, all numbers up the square root of it, which is 1000, must be checked."
   ]
  },
  {
   "cell_type": "markdown",
   "metadata": {},
   "source": [
    "### Sieve of Atkin Algorithm"
   ]
  },
  {
   "cell_type": "code",
   "execution_count": 80,
   "metadata": {},
   "outputs": [],
   "source": [
    "def sieve_of_atkin(limit):\n",
    "    if limit < 2:\n",
    "        return []\n",
    "\n",
    "    ## Initialise the sieve and create list of False values that assumes all numbers are not prime\n",
    "    sieve = [False] * (limit + 1)\n",
    "    sieve[2] = sieve[3] = True\n",
    "\n",
    "    ## Use Quadratic Equations to find potential prime numbers\n",
    "    for x in range(1, int(limit**0.5) + 1):\n",
    "        for y in range(1, int(limit**0.5) + 1):\n",
    "            \n",
    "            ## Formula 1: Checks if number is modulo 12 = 1 or 5\n",
    "            n = (4 * x * x) + (y * y)\n",
    "            if n <= limit and (n % 12 == 1 or n % 12 == 5):\n",
    "                sieve[n] = not sieve[n]\n",
    "\n",
    "            ## Formula 2: Checks if number is modulo 12 ≡ 7\n",
    "            n = (3 * x * x) + (y * y)\n",
    "            if n <= limit and n % 12 == 7:\n",
    "                sieve[n] = not sieve[n]\n",
    "\n",
    "            ## Formula 3: Checks if number is modulo 12 ≡ 11\n",
    "            n = (3 * x * x) - (y * y)\n",
    "            if x > y and n <= limit and n % 12 == 11:\n",
    "                sieve[n] = not sieve[n]\n",
    "\n",
    "    ## Mark all multiples of known primes as non-prime to eliminate false positives\n",
    "    for num in range(5, int(limit**0.5) + 1):\n",
    "        if sieve[num]:\n",
    "            for multiple in range(num * num, limit + 1, num * num):\n",
    "                sieve[multiple] = False\n",
    "\n",
    "    return [num for num in range(limit + 1) if sieve[num]]\n"
   ]
  },
  {
   "cell_type": "code",
   "execution_count": 81,
   "metadata": {},
   "outputs": [
    {
     "name": "stdout",
     "output_type": "stream",
     "text": [
      "[2, 3, 5, 7, 11, 13, 17, 19, 23, 29, 31, 37, 41, 43, 47, 53, 59, 61, 67, 71, 73, 79, 83, 89, 97, 101, 103, 107, 109, 113, 127, 131, 137, 139, 149, 151, 157, 163, 167, 173, 179, 181, 191, 193, 197, 199, 211, 223, 227, 229, 233, 239, 241, 251, 257, 263, 269, 271, 277, 281, 283, 293, 307, 311, 313, 317, 331, 337, 347, 349, 353, 359, 367, 373, 379, 383, 389, 397, 401, 409, 419, 421, 431, 433, 439, 443, 449, 457, 461, 463, 467, 479, 487, 491, 499, 503, 509, 521, 523, 541, 547, 557, 563, 569, 571, 577, 587, 593, 599, 601, 607, 613, 617, 619, 631, 641, 643, 647, 653, 659, 661, 673, 677, 683, 691, 701, 709, 719, 727, 733, 739, 743, 751, 757, 761, 769, 773, 787, 797, 809, 811, 821, 823, 827, 829, 839, 853, 857, 859, 863, 877, 881, 883, 887, 907, 911, 919, 929, 937, 941, 947, 953, 967, 971, 977, 983, 991, 997, 1009, 1013, 1019, 1021, 1031, 1033, 1039, 1049, 1051, 1061, 1063, 1069, 1087, 1091, 1093, 1097, 1103, 1109, 1117, 1123, 1129, 1151, 1153, 1163, 1171, 1181, 1187, 1193, 1201, 1213, 1217, 1223, 1229, 1231, 1237, 1249, 1259, 1277, 1279, 1283, 1289, 1291, 1297, 1301, 1303, 1307, 1319, 1321, 1327, 1361, 1367, 1373, 1381, 1399, 1409, 1423, 1427, 1429, 1433, 1439, 1447, 1451, 1453, 1459, 1471, 1481, 1483, 1487, 1489, 1493, 1499, 1511, 1523, 1531, 1543, 1549, 1553, 1559, 1567, 1571, 1579, 1583, 1597, 1601, 1607, 1609, 1613, 1619, 1621, 1627, 1637, 1657, 1663, 1667, 1669, 1693, 1697, 1699, 1709, 1721, 1723, 1733, 1741, 1747, 1753, 1759, 1777, 1783, 1787, 1789, 1801, 1811, 1823, 1831, 1847, 1861, 1867, 1871, 1873, 1877, 1879, 1889, 1901, 1907, 1913, 1931, 1933, 1949, 1951, 1973, 1979, 1987, 1993, 1997, 1999, 2003, 2011, 2017, 2027, 2029, 2039, 2053, 2063, 2069, 2081, 2083, 2087, 2089, 2099, 2111, 2113, 2129, 2131, 2137, 2141, 2143, 2153, 2161, 2179, 2203, 2207, 2213, 2221, 2237, 2239, 2243, 2251, 2267, 2269, 2273, 2281, 2287, 2293, 2297, 2309, 2311, 2333, 2339, 2341, 2347, 2351, 2357, 2371, 2377, 2381, 2383, 2389, 2393, 2399, 2411, 2417, 2423, 2437, 2441, 2447, 2459, 2467, 2473, 2477, 2503, 2521, 2531, 2539, 2543, 2549, 2551, 2557, 2579, 2591, 2593, 2609, 2617, 2621, 2633, 2647, 2657, 2659, 2663, 2671, 2677, 2683, 2687, 2689, 2693, 2699, 2707, 2711, 2713, 2719, 2729, 2731, 2741, 2749, 2753, 2767, 2777, 2789, 2791, 2797, 2801, 2803, 2819, 2833, 2837, 2843, 2851, 2857, 2861, 2879, 2887, 2897, 2903, 2909, 2917, 2927, 2939, 2953, 2957, 2963, 2969, 2971, 2999, 3001, 3011, 3019, 3023, 3037, 3041, 3049, 3061, 3067, 3079, 3083, 3089, 3109, 3119, 3121, 3137, 3163, 3167, 3169, 3181, 3187, 3191, 3203, 3209, 3217, 3221, 3229, 3251, 3253, 3257, 3259, 3271, 3299, 3301, 3307, 3313, 3319, 3323, 3329, 3331, 3343, 3347, 3359, 3361, 3371, 3373, 3389, 3391, 3407, 3413, 3433, 3449, 3457, 3461, 3463, 3467, 3469, 3491, 3499, 3511, 3517, 3527, 3529, 3533, 3539, 3541, 3547, 3557, 3559, 3571, 3581, 3583, 3593, 3607, 3613, 3617, 3623, 3631, 3637, 3643, 3659, 3671, 3673, 3677, 3691, 3697, 3701, 3709, 3719, 3727, 3733, 3739, 3761, 3767, 3769, 3779, 3793, 3797, 3803, 3821, 3823, 3833, 3847, 3851, 3853, 3863, 3877, 3881, 3889, 3907, 3911, 3917, 3919, 3923, 3929, 3931, 3943, 3947, 3967, 3989, 4001, 4003, 4007, 4013, 4019, 4021, 4027, 4049, 4051, 4057, 4073, 4079, 4091, 4093, 4099, 4111, 4127, 4129, 4133, 4139, 4153, 4157, 4159, 4177, 4201, 4211, 4217, 4219, 4229, 4231, 4241, 4243, 4253, 4259, 4261, 4271, 4273, 4283, 4289, 4297, 4327, 4337, 4339, 4349, 4357, 4363, 4373, 4391, 4397, 4409, 4421, 4423, 4441, 4447, 4451, 4457, 4463, 4481, 4483, 4493, 4507, 4513, 4517, 4519, 4523, 4547, 4549, 4561, 4567, 4583, 4591, 4597, 4603, 4621, 4637, 4639, 4643, 4649, 4651, 4657, 4663, 4673, 4679, 4691, 4703, 4721, 4723, 4729, 4733, 4751, 4759, 4783, 4787, 4789, 4793, 4799, 4801, 4813, 4817, 4831, 4861, 4871, 4877, 4889, 4903, 4909, 4919, 4931, 4933, 4937, 4943, 4951, 4957, 4967, 4969, 4973, 4987, 4993, 4999, 5003, 5009, 5011, 5021, 5023, 5039, 5051, 5059, 5077, 5081, 5087, 5099, 5101, 5107, 5113, 5119, 5147, 5153, 5167, 5171, 5179, 5189, 5197, 5209, 5227, 5231, 5233, 5237, 5261, 5273, 5279, 5281, 5297, 5303, 5309, 5323, 5333, 5347, 5351, 5381, 5387, 5393, 5399, 5407, 5413, 5417, 5419, 5431, 5437, 5441, 5443, 5449, 5471, 5477, 5479, 5483, 5501, 5503, 5507, 5519, 5521, 5527, 5531, 5557, 5563, 5569, 5573, 5581, 5591, 5623, 5639, 5641, 5647, 5651, 5653, 5657, 5659, 5669, 5683, 5689, 5693, 5701, 5711, 5717, 5737, 5741, 5743, 5749, 5779, 5783, 5791, 5801, 5807, 5813, 5821, 5827, 5839, 5843, 5849, 5851, 5857, 5861, 5867, 5869, 5879, 5881, 5897, 5903, 5923, 5927, 5939, 5953, 5981, 5987, 6007, 6011, 6029, 6037, 6043, 6047, 6053, 6067, 6073, 6079, 6089, 6091, 6101, 6113, 6121, 6131, 6133, 6143, 6151, 6163, 6173, 6197, 6199, 6203, 6211, 6217, 6221, 6229, 6247, 6257, 6263, 6269, 6271, 6277, 6287, 6299, 6301, 6311, 6317, 6323, 6329, 6337, 6343, 6353, 6359, 6361, 6367, 6373, 6379, 6389, 6397, 6421, 6427, 6449, 6451, 6469, 6473, 6481, 6491, 6521, 6529, 6547, 6551, 6553, 6563, 6569, 6571, 6577, 6581, 6599, 6607, 6619, 6637, 6653, 6659, 6661, 6673, 6679, 6689, 6691, 6701, 6703, 6709, 6719, 6733, 6737, 6761, 6763, 6779, 6781, 6791, 6793, 6803, 6823, 6827, 6829, 6833, 6841, 6857, 6863, 6869, 6871, 6883, 6899, 6907, 6911, 6917, 6947, 6949, 6959, 6961, 6967, 6971, 6977, 6983, 6991, 6997, 7001, 7013, 7019, 7027, 7039, 7043, 7057, 7069, 7079, 7103, 7109, 7121, 7127, 7129, 7151, 7159, 7177, 7187, 7193, 7207, 7211, 7213, 7219, 7229, 7237, 7243, 7247, 7253, 7283, 7297, 7307, 7309, 7321, 7331, 7333, 7349, 7351, 7369, 7393, 7411, 7417, 7433, 7451, 7457, 7459, 7477, 7481, 7487, 7489, 7499, 7507, 7517, 7523, 7529, 7537, 7541, 7547, 7549, 7559, 7561, 7573, 7577, 7583, 7589, 7591, 7603, 7607, 7621, 7639, 7643, 7649, 7669, 7673, 7681, 7687, 7691, 7699, 7703, 7717, 7723, 7727, 7741, 7753, 7757, 7759, 7789, 7793, 7817, 7823, 7829, 7841, 7853, 7867, 7873, 7877, 7879, 7883, 7901, 7907, 7919]\n"
     ]
    }
   ],
   "source": [
    "primes_atkin = sieve_of_atkin(8000)[:1000]\n",
    "print(primes_atkin)"
   ]
  },
  {
   "cell_type": "markdown",
   "metadata": {},
   "source": [
    "#### Explanation\n",
    "\n",
    "- This is an optimised algorithm for finding all primes up to a given limit.\n",
    "- Instead of checking each number individually, like Trial Division, it uses mathematical quadratic equations to mark numbers that could be prime.\n",
    "- It only considers numbers as possible primes if they fit specific repeating patterns in modulo 12 arithmetic (i.e. numbers that can satisfy certain properties when divided by 12). These equations help to quickly skip unnecessary checks.\n",
    "- False positives are then eliminated by removing multiples of known primes.\n",
    "- When this filtering is completed, the remaining marked numbers are prime."
   ]
  },
  {
   "cell_type": "markdown",
   "metadata": {},
   "source": [
    "# **Task 5 - Roots**"
   ]
  },
  {
   "cell_type": "code",
   "execution_count": 82,
   "metadata": {},
   "outputs": [],
   "source": [
    "import math\n",
    "import unittest"
   ]
  },
  {
   "cell_type": "code",
   "execution_count": 83,
   "metadata": {},
   "outputs": [],
   "source": [
    "def get_fractional_bits(value, bits=32):\n",
    "    \"\"\"Extracts the first `bits` binary digits of the fractional part of a number.\"\"\"\n",
    "    fractional_part = value - math.floor(value) \n",
    "    result = 0\n",
    "    for i in range(bits):\n",
    "        fractional_part *= 2\n",
    "        bit = int(fractional_part)\n",
    "        result = (result << 1) | bit\n",
    "        fractional_part -= bit\n",
    "    return result"
   ]
  },
  {
   "cell_type": "code",
   "execution_count": 84,
   "metadata": {},
   "outputs": [
    {
     "name": "stderr",
     "output_type": "stream",
     "text": [
      "test_custom_bits (__main__.TestGetFractionalBits.test_custom_bits) ... ok\n",
      "test_half (__main__.TestGetFractionalBits.test_half) ... ok\n",
      "test_integer_input (__main__.TestGetFractionalBits.test_integer_input) ... ok\n",
      "test_sqrt_2 (__main__.TestGetFractionalBits.test_sqrt_2) ... ok\n",
      "test_zero (__main__.TestGetFractionalBits.test_zero) ... ok\n",
      "\n",
      "----------------------------------------------------------------------\n",
      "Ran 5 tests in 0.004s\n",
      "\n",
      "OK\n"
     ]
    },
    {
     "name": "stdout",
     "output_type": "stream",
     "text": [
      "Test π (8 bits): Input = 3.141592653589793, Output = 00100100\n",
      "Test Half: Input = 0.5, Output = 10000000000000000000000000000000\n",
      "Test Integer: Input = 7, Output = 00000000000000000000000000000000\n",
      "Test √2: Input = 1.4142135623730951, Output = 01101010000010011110011001100111\n",
      "Test Zero: Input = 0.0, Output = 00000000000000000000000000000000\n"
     ]
    },
    {
     "data": {
      "text/plain": [
       "<unittest.runner.TextTestResult run=5 errors=0 failures=0>"
      ]
     },
     "execution_count": 84,
     "metadata": {},
     "output_type": "execute_result"
    }
   ],
   "source": [
    "class TestGetFractionalBits(unittest.TestCase):\n",
    "\n",
    "    # Test that input of 0.0 returns 0 since there's no fractional part\n",
    "    def test_zero(self):\n",
    "        result = get_fractional_bits(0.0)\n",
    "        print(f\"Test Zero: Input = 0.0, Output = {result:032b}\")\n",
    "        self.assertEqual(result, 0)\n",
    "\n",
    "    # Test that integer input also returns 0, as it has no fractional part\n",
    "    def test_integer_input(self):\n",
    "        result = get_fractional_bits(7)\n",
    "        print(f\"Test Integer: Input = 7, Output = {result:032b}\")\n",
    "        self.assertEqual(result, 0)\n",
    "\n",
    "    # Test with 0.5 which in binary is exactly 0.1, the first bit should be 1 followed by 31 zeros\n",
    "    def test_half(self):\n",
    "        result = get_fractional_bits(0.5)\n",
    "        expected = int('1' + '0'*31, 2)  # Expected 32-bit binary: 1000...0\n",
    "        print(f\"Test Half: Input = 0.5, Output = {result:032b}\")\n",
    "        self.assertEqual(result, expected)\n",
    "\n",
    "    # Test with an irrational number: sqrt(2) ≈ 1.414 that it's a valid integer and within the 32-bit range\n",
    "    def test_sqrt_2(self):\n",
    "        value = math.sqrt(2)\n",
    "        result = get_fractional_bits(value)\n",
    "        print(f\"Test √2: Input = {value}, Output = {result:032b}\")\n",
    "        self.assertIsInstance(result, int)\n",
    "        self.assertLess(result, 2**32)\n",
    "\n",
    "    # Test custom bit length: only extract 8 bits from π ≈ 3.1415 with the result should be between 0 and 255 (2^8 - 1)\n",
    "    def test_custom_bits(self):\n",
    "        value = math.pi\n",
    "        result = get_fractional_bits(value, bits=8)\n",
    "        print(f\"Test π (8 bits): Input = {value}, Output = {result:08b}\")\n",
    "        self.assertGreaterEqual(result, 0)\n",
    "        self.assertLess(result, 256)\n",
    "\n",
    "unittest.TextTestRunner(verbosity=2).run(unittest.TestLoader().loadTestsFromTestCase(TestGetFractionalBits))\n"
   ]
  },
  {
   "cell_type": "code",
   "execution_count": 85,
   "metadata": {},
   "outputs": [],
   "source": [
    "# Using the Atkin Sieve from task 4 to generate the first 100 prime numbers\n",
    "first_100_primes = primes_atkin[:100] "
   ]
  },
  {
   "cell_type": "code",
   "execution_count": 86,
   "metadata": {},
   "outputs": [],
   "source": [
    "# Compute and store the 32-bit fractional binary representation of the square roots\n",
    "sqrt_fractional_bits = []\n",
    "for prime in first_100_primes:\n",
    "    sqrt_val = math.sqrt(prime)\n",
    "    bits = get_fractional_bits(sqrt_val, bits=32)\n",
    "    sqrt_fractional_bits.append(bits)"
   ]
  },
  {
   "cell_type": "code",
   "execution_count": 87,
   "metadata": {},
   "outputs": [
    {
     "name": "stderr",
     "output_type": "stream",
     "text": [
      "test_first_100_primes_sqrt_bits (__main__.TestSqrtFractionalBitsExtraction.test_first_100_primes_sqrt_bits) ... ok\n",
      "\n",
      "----------------------------------------------------------------------\n",
      "Ran 1 test in 0.004s\n",
      "\n",
      "OK\n"
     ]
    },
    {
     "name": "stdout",
     "output_type": "stream",
     "text": [
      "\n",
      "Starting validation for 32-bit fractional extraction from square roots of the first 100 prime numbers...\n",
      "\n",
      "Test passed: Output list contains 100 entries.\n",
      "Test passed: All entries are valid 32-bit integers.\n",
      "Test passed: No None or NaN values in the output.\n",
      "Test passed: Results are reproducible (deterministic).\n",
      "\n",
      "All tests completed successfully.\n"
     ]
    },
    {
     "data": {
      "text/plain": [
       "<unittest.runner.TextTestResult run=1 errors=0 failures=0>"
      ]
     },
     "execution_count": 91,
     "metadata": {},
     "output_type": "execute_result"
    }
   ],
   "source": [
    "# Define the test class\n",
    "class TestSqrtFractionalBitsExtraction(unittest.TestCase):\n",
    "\n",
    "    def test_first_100_primes_sqrt_bits(self):\n",
    "        first_100_primes = primes_trial[:100]\n",
    "\n",
    "        print(\"\\nStarting validation for 32-bit fractional extraction from square roots of the first 100 prime numbers...\\n\")\n",
    "\n",
    "        # Compute the fractional bits\n",
    "        sqrt_fractional_bits = []\n",
    "        for prime in first_100_primes:\n",
    "            sqrt_val = math.sqrt(prime)\n",
    "            bits = get_fractional_bits(sqrt_val, bits=32)\n",
    "            sqrt_fractional_bits.append(bits)\n",
    "\n",
    "        # Test 1: Correct number of results\n",
    "        self.assertEqual(len(sqrt_fractional_bits), 100)\n",
    "        print(\"Test passed: Output list contains 100 entries.\")\n",
    "\n",
    "        # Test 2: All values are valid 32-bit integers\n",
    "        for bits in sqrt_fractional_bits:\n",
    "            self.assertIsInstance(bits, int)\n",
    "            self.assertGreaterEqual(bits, 0)\n",
    "            self.assertLess(bits, 2**32)\n",
    "        print(\"Test passed: All entries are valid 32-bit integers.\")\n",
    "\n",
    "        # Test 3: No None or NaN values\n",
    "        for bits in sqrt_fractional_bits:\n",
    "            self.assertIsNotNone(bits)\n",
    "            self.assertFalse(math.isnan(bits))\n",
    "        print(\"Test passed: No None or NaN values in the output.\")\n",
    "\n",
    "        # Test 4: Deterministic output\n",
    "        for prime in first_100_primes:\n",
    "            sqrt_val = math.sqrt(prime)\n",
    "            bits1 = get_fractional_bits(sqrt_val, bits=32)\n",
    "            bits2 = get_fractional_bits(sqrt_val, bits=32)\n",
    "            self.assertEqual(bits1, bits2)\n",
    "        print(\"Test passed: Results are reproducible (deterministic).\")\n",
    "\n",
    "        print(\"\\nAll tests completed successfully.\")\n",
    "\n",
    "unittest.TextTestRunner(verbosity=2).run(unittest.TestLoader().loadTestsFromTestCase(TestSqrtFractionalBitsExtraction))\n"
   ]
  },
  {
   "cell_type": "code",
   "execution_count": 92,
   "metadata": {},
   "outputs": [
    {
     "data": {
      "text/html": [
       "<style type=\"text/css\">\n",
       "#T_916c5 th {\n",
       "  text-align: center;\n",
       "}\n",
       "#T_916c5 td {\n",
       "  text-align: center;\n",
       "}\n",
       "</style>\n",
       "<table id=\"T_916c5\">\n",
       "  <thead>\n",
       "    <tr>\n",
       "      <th id=\"T_916c5_level0_col0\" class=\"col_heading level0 col0\" >Prime</th>\n",
       "      <th id=\"T_916c5_level0_col1\" class=\"col_heading level0 col1\" >Bits</th>\n",
       "      <th id=\"T_916c5_level0_col2\" class=\"col_heading level0 col2\" >Prime</th>\n",
       "      <th id=\"T_916c5_level0_col3\" class=\"col_heading level0 col3\" >Bits</th>\n",
       "      <th id=\"T_916c5_level0_col4\" class=\"col_heading level0 col4\" >Prime</th>\n",
       "      <th id=\"T_916c5_level0_col5\" class=\"col_heading level0 col5\" >Bits</th>\n",
       "      <th id=\"T_916c5_level0_col6\" class=\"col_heading level0 col6\" >Prime</th>\n",
       "      <th id=\"T_916c5_level0_col7\" class=\"col_heading level0 col7\" >Bits</th>\n",
       "      <th id=\"T_916c5_level0_col8\" class=\"col_heading level0 col8\" >Prime</th>\n",
       "      <th id=\"T_916c5_level0_col9\" class=\"col_heading level0 col9\" >Bits</th>\n",
       "    </tr>\n",
       "  </thead>\n",
       "  <tbody>\n",
       "    <tr>\n",
       "      <td id=\"T_916c5_row0_col0\" class=\"data row0 col0\" >2</td>\n",
       "      <td id=\"T_916c5_row0_col1\" class=\"data row0 col1\" >01101010000010011110011001100111</td>\n",
       "      <td id=\"T_916c5_row0_col2\" class=\"data row0 col2\" >3</td>\n",
       "      <td id=\"T_916c5_row0_col3\" class=\"data row0 col3\" >10111011011001111010111010000101</td>\n",
       "      <td id=\"T_916c5_row0_col4\" class=\"data row0 col4\" >5</td>\n",
       "      <td id=\"T_916c5_row0_col5\" class=\"data row0 col5\" >00111100011011101111001101110010</td>\n",
       "      <td id=\"T_916c5_row0_col6\" class=\"data row0 col6\" >7</td>\n",
       "      <td id=\"T_916c5_row0_col7\" class=\"data row0 col7\" >10100101010011111111010100111010</td>\n",
       "      <td id=\"T_916c5_row0_col8\" class=\"data row0 col8\" >11</td>\n",
       "      <td id=\"T_916c5_row0_col9\" class=\"data row0 col9\" >01010001000011100101001001111111</td>\n",
       "    </tr>\n",
       "    <tr>\n",
       "      <td id=\"T_916c5_row1_col0\" class=\"data row1 col0\" >13</td>\n",
       "      <td id=\"T_916c5_row1_col1\" class=\"data row1 col1\" >10011011000001010110100010001100</td>\n",
       "      <td id=\"T_916c5_row1_col2\" class=\"data row1 col2\" >17</td>\n",
       "      <td id=\"T_916c5_row1_col3\" class=\"data row1 col3\" >00011111100000111101100110101011</td>\n",
       "      <td id=\"T_916c5_row1_col4\" class=\"data row1 col4\" >19</td>\n",
       "      <td id=\"T_916c5_row1_col5\" class=\"data row1 col5\" >01011011111000001100110100011001</td>\n",
       "      <td id=\"T_916c5_row1_col6\" class=\"data row1 col6\" >23</td>\n",
       "      <td id=\"T_916c5_row1_col7\" class=\"data row1 col7\" >11001011101110111001110101011101</td>\n",
       "      <td id=\"T_916c5_row1_col8\" class=\"data row1 col8\" >29</td>\n",
       "      <td id=\"T_916c5_row1_col9\" class=\"data row1 col9\" >01100010100110100010100100101010</td>\n",
       "    </tr>\n",
       "    <tr>\n",
       "      <td id=\"T_916c5_row2_col0\" class=\"data row2 col0\" >31</td>\n",
       "      <td id=\"T_916c5_row2_col1\" class=\"data row2 col1\" >10010001010110010000000101011010</td>\n",
       "      <td id=\"T_916c5_row2_col2\" class=\"data row2 col2\" >37</td>\n",
       "      <td id=\"T_916c5_row2_col3\" class=\"data row2 col3\" >00010101001011111110110011011000</td>\n",
       "      <td id=\"T_916c5_row2_col4\" class=\"data row2 col4\" >41</td>\n",
       "      <td id=\"T_916c5_row2_col5\" class=\"data row2 col5\" >01100111001100110010011001100111</td>\n",
       "      <td id=\"T_916c5_row2_col6\" class=\"data row2 col6\" >43</td>\n",
       "      <td id=\"T_916c5_row2_col7\" class=\"data row2 col7\" >10001110101101000100101010000111</td>\n",
       "      <td id=\"T_916c5_row2_col8\" class=\"data row2 col8\" >47</td>\n",
       "      <td id=\"T_916c5_row2_col9\" class=\"data row2 col9\" >11011011000011000010111000001101</td>\n",
       "    </tr>\n",
       "    <tr>\n",
       "      <td id=\"T_916c5_row3_col0\" class=\"data row3 col0\" >53</td>\n",
       "      <td id=\"T_916c5_row3_col1\" class=\"data row3 col1\" >01000111101101010100100000011101</td>\n",
       "      <td id=\"T_916c5_row3_col2\" class=\"data row3 col2\" >59</td>\n",
       "      <td id=\"T_916c5_row3_col3\" class=\"data row3 col3\" >10101110010111111001000101010110</td>\n",
       "      <td id=\"T_916c5_row3_col4\" class=\"data row3 col4\" >61</td>\n",
       "      <td id=\"T_916c5_row3_col5\" class=\"data row3 col5\" >11001111011011001000010111010011</td>\n",
       "      <td id=\"T_916c5_row3_col6\" class=\"data row3 col6\" >67</td>\n",
       "      <td id=\"T_916c5_row3_col7\" class=\"data row3 col7\" >00101111011100110100011101111101</td>\n",
       "      <td id=\"T_916c5_row3_col8\" class=\"data row3 col8\" >71</td>\n",
       "      <td id=\"T_916c5_row3_col9\" class=\"data row3 col9\" >01101101000110000010011011001010</td>\n",
       "    </tr>\n",
       "    <tr>\n",
       "      <td id=\"T_916c5_row4_col0\" class=\"data row4 col0\" >73</td>\n",
       "      <td id=\"T_916c5_row4_col1\" class=\"data row4 col1\" >10001011010000111101010001010111</td>\n",
       "      <td id=\"T_916c5_row4_col2\" class=\"data row4 col2\" >79</td>\n",
       "      <td id=\"T_916c5_row4_col3\" class=\"data row4 col3\" >11100011011000001011010110010110</td>\n",
       "      <td id=\"T_916c5_row4_col4\" class=\"data row4 col4\" >83</td>\n",
       "      <td id=\"T_916c5_row4_col5\" class=\"data row4 col5\" >00011100010001010110000000000010</td>\n",
       "      <td id=\"T_916c5_row4_col6\" class=\"data row4 col6\" >89</td>\n",
       "      <td id=\"T_916c5_row4_col7\" class=\"data row4 col7\" >01101111000110010110001100110001</td>\n",
       "      <td id=\"T_916c5_row4_col8\" class=\"data row4 col8\" >97</td>\n",
       "      <td id=\"T_916c5_row4_col9\" class=\"data row4 col9\" >11011001010011101011111010110001</td>\n",
       "    </tr>\n",
       "    <tr>\n",
       "      <td id=\"T_916c5_row5_col0\" class=\"data row5 col0\" >101</td>\n",
       "      <td id=\"T_916c5_row5_col1\" class=\"data row5 col1\" >00001100110001001010011000010001</td>\n",
       "      <td id=\"T_916c5_row5_col2\" class=\"data row5 col2\" >103</td>\n",
       "      <td id=\"T_916c5_row5_col3\" class=\"data row5 col3\" >00100110000111011100000111110010</td>\n",
       "      <td id=\"T_916c5_row5_col4\" class=\"data row5 col4\" >107</td>\n",
       "      <td id=\"T_916c5_row5_col5\" class=\"data row5 col5\" >01011000000101011010011110111110</td>\n",
       "      <td id=\"T_916c5_row5_col6\" class=\"data row5 col6\" >109</td>\n",
       "      <td id=\"T_916c5_row5_col7\" class=\"data row5 col7\" >01110000101101111110110101100111</td>\n",
       "      <td id=\"T_916c5_row5_col8\" class=\"data row5 col8\" >113</td>\n",
       "      <td id=\"T_916c5_row5_col9\" class=\"data row5 col9\" >10100001010100010011110001101001</td>\n",
       "    </tr>\n",
       "    <tr>\n",
       "      <td id=\"T_916c5_row6_col0\" class=\"data row6 col0\" >127</td>\n",
       "      <td id=\"T_916c5_row6_col1\" class=\"data row6 col1\" >01000100111110010011011000110101</td>\n",
       "      <td id=\"T_916c5_row6_col2\" class=\"data row6 col2\" >131</td>\n",
       "      <td id=\"T_916c5_row6_col3\" class=\"data row6 col3\" >01110010000011011100110111111101</td>\n",
       "      <td id=\"T_916c5_row6_col4\" class=\"data row6 col4\" >137</td>\n",
       "      <td id=\"T_916c5_row6_col5\" class=\"data row6 col5\" >10110100011001110011011010011110</td>\n",
       "      <td id=\"T_916c5_row6_col6\" class=\"data row6 col6\" >139</td>\n",
       "      <td id=\"T_916c5_row6_col7\" class=\"data row6 col7\" >11001010001100100000101101110101</td>\n",
       "      <td id=\"T_916c5_row6_col8\" class=\"data row6 col8\" >149</td>\n",
       "      <td id=\"T_916c5_row6_col9\" class=\"data row6 col9\" >00110100111000001101010000101110</td>\n",
       "    </tr>\n",
       "    <tr>\n",
       "      <td id=\"T_916c5_row7_col0\" class=\"data row7 col0\" >151</td>\n",
       "      <td id=\"T_916c5_row7_col1\" class=\"data row7 col1\" >01001001110001111101100110111101</td>\n",
       "      <td id=\"T_916c5_row7_col2\" class=\"data row7 col2\" >157</td>\n",
       "      <td id=\"T_916c5_row7_col3\" class=\"data row7 col3\" >10000111101010111011100111110010</td>\n",
       "      <td id=\"T_916c5_row7_col4\" class=\"data row7 col4\" >163</td>\n",
       "      <td id=\"T_916c5_row7_col5\" class=\"data row7 col5\" >11000100011000111010001011111100</td>\n",
       "      <td id=\"T_916c5_row7_col6\" class=\"data row7 col6\" >167</td>\n",
       "      <td id=\"T_916c5_row7_col7\" class=\"data row7 col7\" >11101100001111111100001111110011</td>\n",
       "      <td id=\"T_916c5_row7_col8\" class=\"data row7 col8\" >173</td>\n",
       "      <td id=\"T_916c5_row7_col9\" class=\"data row7 col9\" >00100111001001110111111101101101</td>\n",
       "    </tr>\n",
       "    <tr>\n",
       "      <td id=\"T_916c5_row8_col0\" class=\"data row8 col0\" >179</td>\n",
       "      <td id=\"T_916c5_row8_col1\" class=\"data row8 col1\" >01100001000010111110101111110010</td>\n",
       "      <td id=\"T_916c5_row8_col2\" class=\"data row8 col2\" >181</td>\n",
       "      <td id=\"T_916c5_row8_col3\" class=\"data row8 col3\" >01110100001000001011010010011110</td>\n",
       "      <td id=\"T_916c5_row8_col4\" class=\"data row8 col4\" >191</td>\n",
       "      <td id=\"T_916c5_row8_col5\" class=\"data row8 col5\" >11010001111111011000101000110011</td>\n",
       "      <td id=\"T_916c5_row8_col6\" class=\"data row8 col6\" >193</td>\n",
       "      <td id=\"T_916c5_row8_col7\" class=\"data row8 col7\" >11100100011101110011010110010100</td>\n",
       "      <td id=\"T_916c5_row8_col8\" class=\"data row8 col8\" >197</td>\n",
       "      <td id=\"T_916c5_row8_col9\" class=\"data row8 col9\" >00001001001000011001011111110110</td>\n",
       "    </tr>\n",
       "    <tr>\n",
       "      <td id=\"T_916c5_row9_col0\" class=\"data row9 col0\" >199</td>\n",
       "      <td id=\"T_916c5_row9_col1\" class=\"data row9 col1\" >00011011010100110000110010010101</td>\n",
       "      <td id=\"T_916c5_row9_col2\" class=\"data row9 col2\" >211</td>\n",
       "      <td id=\"T_916c5_row9_col3\" class=\"data row9 col3\" >10000110100111010110001101000010</td>\n",
       "      <td id=\"T_916c5_row9_col4\" class=\"data row9 col4\" >223</td>\n",
       "      <td id=\"T_916c5_row9_col5\" class=\"data row9 col5\" >11101110111001010010111001001111</td>\n",
       "      <td id=\"T_916c5_row9_col6\" class=\"data row9 col6\" >227</td>\n",
       "      <td id=\"T_916c5_row9_col7\" class=\"data row9 col7\" >00010001000001110110011010001001</td>\n",
       "      <td id=\"T_916c5_row9_col8\" class=\"data row9 col8\" >229</td>\n",
       "      <td id=\"T_916c5_row9_col9\" class=\"data row9 col9\" >00100001111110111010001101111011</td>\n",
       "    </tr>\n",
       "    <tr>\n",
       "      <td id=\"T_916c5_row10_col0\" class=\"data row10 col0\" >233</td>\n",
       "      <td id=\"T_916c5_row10_col1\" class=\"data row10 col1\" >01000011101010111001111110110110</td>\n",
       "      <td id=\"T_916c5_row10_col2\" class=\"data row10 col2\" >239</td>\n",
       "      <td id=\"T_916c5_row10_col3\" class=\"data row10 col3\" >01110101101010011111100100011101</td>\n",
       "      <td id=\"T_916c5_row10_col4\" class=\"data row10 col4\" >241</td>\n",
       "      <td id=\"T_916c5_row10_col5\" class=\"data row10 col5\" >10000110001100000101000000011001</td>\n",
       "      <td id=\"T_916c5_row10_col6\" class=\"data row10 col6\" >251</td>\n",
       "      <td id=\"T_916c5_row10_col7\" class=\"data row10 col7\" >11010111110011011000000101110011</td>\n",
       "      <td id=\"T_916c5_row10_col8\" class=\"data row10 col8\" >257</td>\n",
       "      <td id=\"T_916c5_row10_col9\" class=\"data row10 col9\" >00000111111111100000000011111111</td>\n",
       "    </tr>\n",
       "    <tr>\n",
       "      <td id=\"T_916c5_row11_col0\" class=\"data row11 col0\" >263</td>\n",
       "      <td id=\"T_916c5_row11_col1\" class=\"data row11 col1\" >00110111100111110101000100111111</td>\n",
       "      <td id=\"T_916c5_row11_col2\" class=\"data row11 col2\" >269</td>\n",
       "      <td id=\"T_916c5_row11_col3\" class=\"data row11 col3\" >01100110101101100101000110101000</td>\n",
       "      <td id=\"T_916c5_row11_col4\" class=\"data row11 col4\" >271</td>\n",
       "      <td id=\"T_916c5_row11_col5\" class=\"data row11 col5\" >01110110010010101011100001000010</td>\n",
       "      <td id=\"T_916c5_row11_col6\" class=\"data row11 col6\" >277</td>\n",
       "      <td id=\"T_916c5_row11_col7\" class=\"data row11 col7\" >10100100101100000110101111100001</td>\n",
       "      <td id=\"T_916c5_row11_col8\" class=\"data row11 col8\" >281</td>\n",
       "      <td id=\"T_916c5_row11_col9\" class=\"data row11 col9\" >11000011010101111000110000010101</td>\n",
       "    </tr>\n",
       "    <tr>\n",
       "      <td id=\"T_916c5_row12_col0\" class=\"data row12 col0\" >283</td>\n",
       "      <td id=\"T_916c5_row12_col1\" class=\"data row12 col1\" >11010010100101100010101001010011</td>\n",
       "      <td id=\"T_916c5_row12_col2\" class=\"data row12 col2\" >293</td>\n",
       "      <td id=\"T_916c5_row12_col3\" class=\"data row12 col3\" >00011110000000111001111101000000</td>\n",
       "      <td id=\"T_916c5_row12_col4\" class=\"data row12 col4\" >307</td>\n",
       "      <td id=\"T_916c5_row12_col5\" class=\"data row12 col5\" >10000101011110110111101111101110</td>\n",
       "      <td id=\"T_916c5_row12_col6\" class=\"data row12 col6\" >311</td>\n",
       "      <td id=\"T_916c5_row12_col7\" class=\"data row12 col7\" >10100010100110111111001011011110</td>\n",
       "      <td id=\"T_916c5_row12_col8\" class=\"data row12 col8\" >313</td>\n",
       "      <td id=\"T_916c5_row12_col9\" class=\"data row12 col9\" >10110001000110100011001011101000</td>\n",
       "    </tr>\n",
       "    <tr>\n",
       "      <td id=\"T_916c5_row13_col0\" class=\"data row13 col0\" >317</td>\n",
       "      <td id=\"T_916c5_row13_col1\" class=\"data row13 col1\" >11001101111100110100111010000000</td>\n",
       "      <td id=\"T_916c5_row13_col2\" class=\"data row13 col2\" >331</td>\n",
       "      <td id=\"T_916c5_row13_col3\" class=\"data row13 col3\" >00110001100000110000010000100110</td>\n",
       "      <td id=\"T_916c5_row13_col4\" class=\"data row13 col4\" >337</td>\n",
       "      <td id=\"T_916c5_row13_col5\" class=\"data row13 col5\" >01011011100010010000100100101011</td>\n",
       "      <td id=\"T_916c5_row13_col6\" class=\"data row13 col6\" >347</td>\n",
       "      <td id=\"T_916c5_row13_col7\" class=\"data row13 col7\" >10100000110000000110101000010011</td>\n",
       "      <td id=\"T_916c5_row13_col8\" class=\"data row13 col8\" >349</td>\n",
       "      <td id=\"T_916c5_row13_col9\" class=\"data row13 col9\" >10101110011110011000010000101111</td>\n",
       "    </tr>\n",
       "    <tr>\n",
       "      <td id=\"T_916c5_row14_col0\" class=\"data row14 col0\" >353</td>\n",
       "      <td id=\"T_916c5_row14_col1\" class=\"data row14 col1\" >11001001110011011010011010001001</td>\n",
       "      <td id=\"T_916c5_row14_col2\" class=\"data row14 col2\" >359</td>\n",
       "      <td id=\"T_916c5_row14_col3\" class=\"data row14 col3\" >11110010100000011111001000111001</td>\n",
       "      <td id=\"T_916c5_row14_col4\" class=\"data row14 col4\" >367</td>\n",
       "      <td id=\"T_916c5_row14_col5\" class=\"data row14 col5\" >00101000010000010010010110010010</td>\n",
       "      <td id=\"T_916c5_row14_col6\" class=\"data row14 col6\" >373</td>\n",
       "      <td id=\"T_916c5_row14_col7\" class=\"data row14 col7\" >01010000001011100110010011011011</td>\n",
       "      <td id=\"T_916c5_row14_col8\" class=\"data row14 col8\" >379</td>\n",
       "      <td id=\"T_916c5_row14_col9\" class=\"data row14 col9\" >01110111110010011100001000010001</td>\n",
       "    </tr>\n",
       "    <tr>\n",
       "      <td id=\"T_916c5_row15_col0\" class=\"data row15 col0\" >383</td>\n",
       "      <td id=\"T_916c5_row15_col1\" class=\"data row15 col1\" >10010010000001001100110110011101</td>\n",
       "      <td id=\"T_916c5_row15_col2\" class=\"data row15 col2\" >389</td>\n",
       "      <td id=\"T_916c5_row15_col3\" class=\"data row15 col3\" >10111001000110111111011001100011</td>\n",
       "      <td id=\"T_916c5_row15_col4\" class=\"data row15 col4\" >397</td>\n",
       "      <td id=\"T_916c5_row15_col5\" class=\"data row15 col5\" >11101100110000111000110010011101</td>\n",
       "      <td id=\"T_916c5_row15_col6\" class=\"data row15 col6\" >401</td>\n",
       "      <td id=\"T_916c5_row15_col7\" class=\"data row15 col7\" >00000110011001010110000010010101</td>\n",
       "      <td id=\"T_916c5_row15_col8\" class=\"data row15 col8\" >409</td>\n",
       "      <td id=\"T_916c5_row15_col9\" class=\"data row15 col9\" >00111001010001111001001110000001</td>\n",
       "    </tr>\n",
       "    <tr>\n",
       "      <td id=\"T_916c5_row16_col0\" class=\"data row16 col0\" >419</td>\n",
       "      <td id=\"T_916c5_row16_col1\" class=\"data row16 col1\" >01111000001100000111011010010111</td>\n",
       "      <td id=\"T_916c5_row16_col2\" class=\"data row16 col2\" >421</td>\n",
       "      <td id=\"T_916c5_row16_col3\" class=\"data row16 col3\" >10000100101011100100101101111100</td>\n",
       "      <td id=\"T_916c5_row16_col4\" class=\"data row16 col4\" >431</td>\n",
       "      <td id=\"T_916c5_row16_col5\" class=\"data row16 col5\" >11000010101100101011011101010101</td>\n",
       "      <td id=\"T_916c5_row16_col6\" class=\"data row16 col6\" >433</td>\n",
       "      <td id=\"T_916c5_row16_col7\" class=\"data row16 col7\" >11001111000000111101001000001110</td>\n",
       "      <td id=\"T_916c5_row16_col8\" class=\"data row16 col8\" >439</td>\n",
       "      <td id=\"T_916c5_row16_col9\" class=\"data row16 col9\" >11110011110010111011000100010111</td>\n",
       "    </tr>\n",
       "    <tr>\n",
       "      <td id=\"T_916c5_row17_col0\" class=\"data row17 col0\" >443</td>\n",
       "      <td id=\"T_916c5_row17_col1\" class=\"data row17 col1\" >00001100001011010011101101001011</td>\n",
       "      <td id=\"T_916c5_row17_col2\" class=\"data row17 col2\" >449</td>\n",
       "      <td id=\"T_916c5_row17_col3\" class=\"data row17 col3\" >00110000100010101111000101100001</td>\n",
       "      <td id=\"T_916c5_row17_col4\" class=\"data row17 col4\" >457</td>\n",
       "      <td id=\"T_916c5_row17_col5\" class=\"data row17 col5\" >01100000101001111010100110011000</td>\n",
       "      <td id=\"T_916c5_row17_col6\" class=\"data row17 col6\" >461</td>\n",
       "      <td id=\"T_916c5_row17_col7\" class=\"data row17 col7\" >01111000100011011001100000010010</td>\n",
       "      <td id=\"T_916c5_row17_col8\" class=\"data row17 col8\" >463</td>\n",
       "      <td id=\"T_916c5_row17_col9\" class=\"data row17 col9\" >10000100011101101001101101000010</td>\n",
       "    </tr>\n",
       "    <tr>\n",
       "      <td id=\"T_916c5_row18_col0\" class=\"data row18 col0\" >467</td>\n",
       "      <td id=\"T_916c5_row18_col1\" class=\"data row18 col1\" >10011100001101001111000001100010</td>\n",
       "      <td id=\"T_916c5_row18_col2\" class=\"data row18 col2\" >479</td>\n",
       "      <td id=\"T_916c5_row18_col3\" class=\"data row18 col3\" >11100010110101010110010011000100</td>\n",
       "      <td id=\"T_916c5_row18_col4\" class=\"data row18 col4\" >487</td>\n",
       "      <td id=\"T_916c5_row18_col5\" class=\"data row18 col5\" >00010001011011010111010111111101</td>\n",
       "      <td id=\"T_916c5_row18_col6\" class=\"data row18 col6\" >491</td>\n",
       "      <td id=\"T_916c5_row18_col7\" class=\"data row18 col7\" >00101000100101001100000100000111</td>\n",
       "      <td id=\"T_916c5_row18_col8\" class=\"data row18 col8\" >499</td>\n",
       "      <td id=\"T_916c5_row18_col9\" class=\"data row18 col9\" >01010110100110110101100011000110</td>\n",
       "    </tr>\n",
       "    <tr>\n",
       "      <td id=\"T_916c5_row19_col0\" class=\"data row19 col0\" >503</td>\n",
       "      <td id=\"T_916c5_row19_col1\" class=\"data row19 col1\" >01101101011110110011100100111001</td>\n",
       "      <td id=\"T_916c5_row19_col2\" class=\"data row19 col2\" >509</td>\n",
       "      <td id=\"T_916c5_row19_col3\" class=\"data row19 col3\" >10001111100111111000110110111011</td>\n",
       "      <td id=\"T_916c5_row19_col4\" class=\"data row19 col4\" >521</td>\n",
       "      <td id=\"T_916c5_row19_col5\" class=\"data row19 col5\" >11010011010011110000001111001101</td>\n",
       "      <td id=\"T_916c5_row19_col6\" class=\"data row19 col6\" >523</td>\n",
       "      <td id=\"T_916c5_row19_col7\" class=\"data row19 col7\" >11011110100000110111001011101111</td>\n",
       "      <td id=\"T_916c5_row19_col8\" class=\"data row19 col8\" >541</td>\n",
       "      <td id=\"T_916c5_row19_col9\" class=\"data row19 col9\" >01000010011010000111101000111001</td>\n",
       "    </tr>\n",
       "  </tbody>\n",
       "</table>\n"
      ],
      "text/plain": [
       "<pandas.io.formats.style.Styler at 0x1cb8269ef30>"
      ]
     },
     "metadata": {},
     "output_type": "display_data"
    }
   ],
   "source": [
    "import pandas as pd\n",
    "import numpy as np\n",
    "\n",
    "# Group (prime, bits) into rows of 5 pairs\n",
    "pairs_per_row = 5\n",
    "pairs = [(str(p), f\"{b:032b}\") for p, b in zip(first_100_primes, sqrt_fractional_bits)]\n",
    "\n",
    "grouped_rows = []\n",
    "for i in range(0, len(pairs), pairs_per_row):\n",
    "    row = []\n",
    "    for prime, bits in pairs[i:i + pairs_per_row]:\n",
    "        row.extend([prime, bits])\n",
    "    grouped_rows.append(row)\n",
    "\n",
    "# Repeating column names\n",
    "columns = []\n",
    "for _ in range(pairs_per_row):\n",
    "    columns.extend([\"Prime\", \"Bits\"])\n",
    "\n",
    "df_clean = pd.DataFrame(grouped_rows, columns=columns)\n",
    "\n",
    "# Apply center alignment to both headers and data using Styler\n",
    "styled = df_clean.style.set_table_styles(\n",
    "    [\n",
    "        {\"selector\": \"th\", \"props\": [(\"text-align\", \"center\")]},\n",
    "        {\"selector\": \"td\", \"props\": [(\"text-align\", \"center\")]}\n",
    "    ]\n",
    ")\n",
    "\n",
    "# Display without index\n",
    "from IPython.display import display\n",
    "display(styled.hide(axis=\"index\"))\n"
   ]
  },
  {
   "cell_type": "markdown",
   "metadata": {},
   "source": [
    "# **Task 6 - Proof of Work**"
   ]
  },
  {
   "cell_type": "code",
   "execution_count": 97,
   "metadata": {},
   "outputs": [
    {
     "name": "stderr",
     "output_type": "stream",
     "text": [
      "[nltk_data] Downloading package words to\n",
      "[nltk_data]     C:\\Users\\melgo\\AppData\\Roaming\\nltk_data...\n",
      "[nltk_data]   Package words is already up-to-date!\n"
     ]
    }
   ],
   "source": [
    "import hashlib\n",
    "from collections import defaultdict\n",
    "import nltk\n",
    "from nltk.corpus import words\n",
    "\n",
    "nltk.download('words')\n",
    "\n",
    "# Load English words from nltk dictionary\n",
    "english_words = set(words.words())\n",
    "\n",
    "# Store best matches\n",
    "max_leading_zeros = 0\n",
    "best_words = []"
   ]
  },
  {
   "cell_type": "markdown",
   "metadata": {},
   "source": [
    "# **Task 7 - Turing Machines**"
   ]
  },
  {
   "cell_type": "markdown",
   "metadata": {},
   "source": [
    "# **Task 8 - Computational Complexity**"
   ]
  }
 ],
 "metadata": {
  "kernelspec": {
   "display_name": "Python 3",
   "language": "python",
   "name": "python3"
  },
  "language_info": {
   "codemirror_mode": {
    "name": "ipython",
    "version": 3
   },
   "file_extension": ".py",
   "mimetype": "text/x-python",
   "name": "python",
   "nbconvert_exporter": "python",
   "pygments_lexer": "ipython3",
   "version": "3.12.2"
  }
 },
 "nbformat": 4,
 "nbformat_minor": 2
}
