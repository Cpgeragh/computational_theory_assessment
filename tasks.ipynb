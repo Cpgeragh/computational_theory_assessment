{
 "cells": [
  {
   "cell_type": "markdown",
   "metadata": {},
   "source": [
    "# **Task 1: Binary Representations**"
   ]
  },
  {
   "cell_type": "markdown",
   "metadata": {},
   "source": [
    "Optional part: Calculate how many bits set in code, bits set is number of 1s"
   ]
  },
  {
   "cell_type": "markdown",
   "metadata": {},
   "source": [
    "## 1. Implement Bitwise Left Rotation (`rotl`)"
   ]
  },
  {
   "cell_type": "code",
   "execution_count": 1,
   "metadata": {},
   "outputs": [],
   "source": [
    "MASK_32 = 0xFFFFFFFF  # 32-bit mask to prevent overflow\n",
    "\n",
    "def rotl(x, n=1):\n",
    "    n %= 32  # Ensures n is within 0-31\n",
    "    return ((x << n) & MASK_32) | ((x & MASK_32) >> (32 - n))"
   ]
  },
  {
   "cell_type": "markdown",
   "metadata": {},
   "source": [
    "### Tests"
   ]
  },
  {
   "cell_type": "code",
   "execution_count": 28,
   "metadata": {},
   "outputs": [
    {
     "name": "stdout",
     "output_type": "stream",
     "text": [
      "Original:   0x12345678 (00010010001101000101011001111000)\n",
      "rotl(4):    0x23456781 (00100011010001010110011110000001)\n",
      "rotl(0):    0x12345678 (00010010001101000101011001111000)\n"
     ]
    }
   ],
   "source": [
    "test_val = 0x12345678\n",
    "    \n",
    "result_4 = rotl(test_val, 4)\n",
    "result_0 = rotl(test_val, 0)\n",
    "\n",
    "# Function to format binary output with leading zeros\n",
    "def to_bin_str(val):\n",
    "    return bin(val)[2:].zfill(32)  # Ensures it's always 32 bits long\n",
    "\n",
    "print(f\"Original:   0x{test_val:X} ({to_bin_str(test_val)})\")\n",
    "print(f\"rotl(4):    0x{result_4:X} ({to_bin_str(result_4)})\")\n",
    "print(f\"rotl(0):    0x{result_0:X} ({to_bin_str(result_0)})\")"
   ]
  },
  {
   "cell_type": "markdown",
   "metadata": {},
   "source": [
    "## 2. Implement Bitwise Right Rotation (`rotr`)\n"
   ]
  },
  {
   "cell_type": "code",
   "execution_count": 14,
   "metadata": {},
   "outputs": [],
   "source": [
    "MASK_32 = 0xFFFFFFFF  # 32-bit mask to prevent overflow\n",
    "\n",
    "def rotr(x, n=1):\n",
    "    \n",
    "    n %= 32  # Ensure n is within 0-31\n",
    "    return ((x >> n) & MASK_32) | ((x << (32 - n)) & MASK_32)\n"
   ]
  },
  {
   "cell_type": "markdown",
   "metadata": {},
   "source": [
    "### Tests"
   ]
  },
  {
   "cell_type": "code",
   "execution_count": 16,
   "metadata": {},
   "outputs": [
    {
     "name": "stdout",
     "output_type": "stream",
     "text": [
      "Original:   0x12345678 (00010010001101000101011001111000)\n",
      "rotr(4):    0x81234567 (10000001001000110100010101100111)\n",
      "rotr(1):    0x91A2B3C (00001001000110100010101100111100)\n"
     ]
    }
   ],
   "source": [
    "test_val = 0x12345678 \n",
    "    \n",
    "result_4 = rotr(test_val, 4)\n",
    "result_1 = rotr(test_val, 1)\n",
    "\n",
    "def to_bin_str(val):\n",
    "    return bin(val)[2:].zfill(32)\n",
    "\n",
    "print(f\"Original:   0x{test_val:X} ({to_bin_str(test_val)})\")\n",
    "print(f\"rotr(4):    0x{result_4:X} ({to_bin_str(result_4)})\")\n",
    "print(f\"rotr(1):    0x{result_1:X} ({to_bin_str(result_1)})\")"
   ]
  },
  {
   "cell_type": "markdown",
   "metadata": {},
   "source": [
    "## 3. Implement `ch(x, y, z)` Function\n"
   ]
  },
  {
   "cell_type": "code",
   "execution_count": 1,
   "metadata": {},
   "outputs": [],
   "source": [
    "# Chooses bits from y where x has bits set to 1 and from z where x has bits set to 0.\n",
    "def ch(x, y, z):\n",
    "    return (x & y) ^ (~x & z)\n"
   ]
  },
  {
   "cell_type": "markdown",
   "metadata": {},
   "source": [
    "### Tests"
   ]
  },
  {
   "cell_type": "code",
   "execution_count": 5,
   "metadata": {},
   "outputs": [
    {
     "name": "stdout",
     "output_type": "stream",
     "text": [
      "ch(0b1010, 0b1100, 0b1111) = 0b1101\n",
      "ch(0b1010, 0b1100, 0b1111) = 0b1111\n",
      "ch(0b1010, 0b1100, 0b1111) = 0b1100\n"
     ]
    }
   ],
   "source": [
    "# x is diferent from both y and z\n",
    "x_val = 0b1010 \n",
    "y_val = 0b1100\n",
    "z_val = 0b1111\n",
    "result = ch(x_val, y_val, z_val)\n",
    "# prints result in binary, with at least 4 bits (padded with zeros if necessary).\n",
    "print(f\"ch(0b1010, 0b1100, 0b1111) = 0b{result:04b}\")\n",
    "\n",
    "# x is equal to y and diferent from z\n",
    "x_val = 0b0000\n",
    "y_val = 0b1100\n",
    "z_val = 0b1111\n",
    "result = ch(x_val, y_val, z_val)\n",
    "# prints result in binary, with at least 4 bits (padded with zeros if necessary).\n",
    "print(f\"ch(0b1010, 0b1100, 0b1111) = 0b{result:04b}\")\n",
    "\n",
    "# x is equal to z and diferent from y\n",
    "x_val = 0b1111\n",
    "y_val = 0b1100\n",
    "z_val = 0b1111\n",
    "result = ch(x_val, y_val, z_val)\n",
    "# prints result in binary, with at least 4 bits (padded with zeros if necessary).\n",
    "print(f\"ch(0b1010, 0b1100, 0b1111) = 0b{result:04b}\")"
   ]
  },
  {
   "cell_type": "markdown",
   "metadata": {},
   "source": [
    "## 4. Implement `maj(x, y, z)` Function"
   ]
  },
  {
   "cell_type": "code",
   "execution_count": 6,
   "metadata": {},
   "outputs": [],
   "source": [
    "# Implement a function that takes a majority vote of the bits in x, y, z.\n",
    "# Each bit should be 1 if at least two of three inputs have 1 in that position.\n",
    "def maj(x, y, z):\n",
    "    return (x & y) ^ (x & z) ^ (y & z)"
   ]
  },
  {
   "cell_type": "markdown",
   "metadata": {},
   "source": [
    "### Tests"
   ]
  },
  {
   "cell_type": "code",
   "execution_count": 12,
   "metadata": {},
   "outputs": [
    {
     "name": "stdout",
     "output_type": "stream",
     "text": [
      "maj(0b1010, 0b1100, 0b1111) = 0b1110\n",
      "maj(0b1010, 0b1100, 0b1111) = 0b1111\n",
      "maj(0b1010, 0b1100, 0b1111) = 0b1000\n"
     ]
    }
   ],
   "source": [
    "# x has a mixture of 1s and 0s\n",
    "x_val = 0b1010 \n",
    "y_val = 0b1100  \n",
    "z_val = 0b1111 \n",
    "result = maj(x_val, y_val, z_val)\n",
    "# prints result in binary, with at least 4 bits (padded with zeros if necessary).\n",
    "print(f\"maj(0b1010, 0b1100, 0b1111) = 0b{result:04b}\")\n",
    "\n",
    "# x has all 1s\n",
    "x_val = 0b1111 \n",
    "y_val = 0b1100  \n",
    "z_val = 0b1111 \n",
    "result = maj(x_val, y_val, z_val)\n",
    "# prints result in binary, with at least 4 bits (padded with zeros if necessary).\n",
    "print(f\"maj(0b1010, 0b1100, 0b1111) = 0b{result:04b}\")\n",
    "\n",
    "# x has all 0s\n",
    "x_val = 0b0000\n",
    "y_val = 0b1100\n",
    "z_val = 0b1111 \n",
    "result = maj(x_val, y_val, z_val)\n",
    "# prints result in binary, with at least 4 bits (padded with zeros if necessary).\n",
    "print(f\"maj(0b1010, 0b1100, 0b1111) = 0b{result:04b}\")"
   ]
  },
  {
   "cell_type": "markdown",
   "metadata": {},
   "source": [
    "# **Task 2**"
   ]
  },
  {
   "cell_type": "markdown",
   "metadata": {},
   "source": [
    "## Convert C Hash Function to Python"
   ]
  },
  {
   "cell_type": "code",
   "execution_count": 14,
   "metadata": {},
   "outputs": [],
   "source": [
    "# Converts a string to a hash value.\n",
    "def hash_function(s):\n",
    "\n",
    "    hashValue = 0\n",
    "    # Hash value updated for each character in the string\n",
    "    for char in s:\n",
    "        # ord() gets ASCII value of the character\n",
    "        hashValue = ord(char) + 31 * hashValue\n",
    "    # Ensure the hash value is within 0-100\n",
    "    return hashValue % 101"
   ]
  },
  {
   "cell_type": "markdown",
   "metadata": {},
   "source": [
    "### Tests"
   ]
  },
  {
   "cell_type": "code",
   "execution_count": 15,
   "metadata": {},
   "outputs": [
    {
     "name": "stdout",
     "output_type": "stream",
     "text": [
      "hash(hello) = 17\n",
      "hash(world) = 34\n",
      "hash(python) = 91\n",
      "hash(hash) = 15\n",
      "hash(coding) = 73\n",
      "hash(umbrella) = 78\n"
     ]
    }
   ],
   "source": [
    "test_strings = [\"hello\", \"world\", \"python\", \"hash\", \"coding\", \"umbrella\"]\n",
    "\n",
    "for s in test_strings:\n",
    "    print(f\"hash({s}) = {hash_function(s)}\")"
   ]
  },
  {
   "cell_type": "markdown",
   "metadata": {},
   "source": [
    "## Expanded Hash Function"
   ]
  },
  {
   "cell_type": "code",
   "execution_count": 9,
   "metadata": {},
   "outputs": [],
   "source": [
    "def hash_function_expanded(s):\n",
    "    \n",
    "    hashValue = 0\n",
    "    print(f\"\\nHashing string '{s}':\")\n",
    "    print(\"-\" * 77)\n",
    "\n",
    "    for index, char in enumerate(s):\n",
    "        ascii_value = ord(char)\n",
    "        print(f\"Step {index + 1}: char = '{char}' with an ASCII value of {ascii_value}, previous hash was {hashValue}\")\n",
    "        print(f\"\\thash = {ascii_value} + 31 * {hashValue}\")\n",
    "        hashValue = ascii_value + 31 * hashValue\n",
    "        print(f\"\\tNew hash value after processing '{char}: {hashValue}\")\n",
    "\n",
    "    final_hash_value = hashValue % 101\n",
    "    print(f\"\\nFinal hash value after modulo 101: {final_hash_value}\")\n",
    "    print(\"-\" * 77)\n",
    "\n",
    "    return final_hash_value"
   ]
  },
  {
   "cell_type": "code",
   "execution_count": 10,
   "metadata": {},
   "outputs": [
    {
     "name": "stdout",
     "output_type": "stream",
     "text": [
      "\n",
      "Hashing string 'hello':\n",
      "-----------------------------------------------------------------------------\n",
      "Step 1: char = 'h' with an ASCII value of 104, previous hash was 0\n",
      "\thash = 104 + 31 * 0\n",
      "\tNew hash value after processing 'h: 104\n",
      "Step 2: char = 'e' with an ASCII value of 101, previous hash was 104\n",
      "\thash = 101 + 31 * 104\n",
      "\tNew hash value after processing 'e: 3325\n",
      "Step 3: char = 'l' with an ASCII value of 108, previous hash was 3325\n",
      "\thash = 108 + 31 * 3325\n",
      "\tNew hash value after processing 'l: 103183\n",
      "Step 4: char = 'l' with an ASCII value of 108, previous hash was 103183\n",
      "\thash = 108 + 31 * 103183\n",
      "\tNew hash value after processing 'l: 3198781\n",
      "Step 5: char = 'o' with an ASCII value of 111, previous hash was 3198781\n",
      "\thash = 111 + 31 * 3198781\n",
      "\tNew hash value after processing 'o: 99162322\n",
      "\n",
      "Final hash value after modulo 101: 17\n",
      "-----------------------------------------------------------------------------\n",
      "\n",
      "Hashing string 'world':\n",
      "-----------------------------------------------------------------------------\n",
      "Step 1: char = 'w' with an ASCII value of 119, previous hash was 0\n",
      "\thash = 119 + 31 * 0\n",
      "\tNew hash value after processing 'w: 119\n",
      "Step 2: char = 'o' with an ASCII value of 111, previous hash was 119\n",
      "\thash = 111 + 31 * 119\n",
      "\tNew hash value after processing 'o: 3800\n",
      "Step 3: char = 'r' with an ASCII value of 114, previous hash was 3800\n",
      "\thash = 114 + 31 * 3800\n",
      "\tNew hash value after processing 'r: 117914\n",
      "Step 4: char = 'l' with an ASCII value of 108, previous hash was 117914\n",
      "\thash = 108 + 31 * 117914\n",
      "\tNew hash value after processing 'l: 3655442\n",
      "Step 5: char = 'd' with an ASCII value of 100, previous hash was 3655442\n",
      "\thash = 100 + 31 * 3655442\n",
      "\tNew hash value after processing 'd: 113318802\n",
      "\n",
      "Final hash value after modulo 101: 34\n",
      "-----------------------------------------------------------------------------\n",
      "\n",
      "Hashing string 'python':\n",
      "-----------------------------------------------------------------------------\n",
      "Step 1: char = 'p' with an ASCII value of 112, previous hash was 0\n",
      "\thash = 112 + 31 * 0\n",
      "\tNew hash value after processing 'p: 112\n",
      "Step 2: char = 'y' with an ASCII value of 121, previous hash was 112\n",
      "\thash = 121 + 31 * 112\n",
      "\tNew hash value after processing 'y: 3593\n",
      "Step 3: char = 't' with an ASCII value of 116, previous hash was 3593\n",
      "\thash = 116 + 31 * 3593\n",
      "\tNew hash value after processing 't: 111499\n",
      "Step 4: char = 'h' with an ASCII value of 104, previous hash was 111499\n",
      "\thash = 104 + 31 * 111499\n",
      "\tNew hash value after processing 'h: 3456573\n",
      "Step 5: char = 'o' with an ASCII value of 111, previous hash was 3456573\n",
      "\thash = 111 + 31 * 3456573\n",
      "\tNew hash value after processing 'o: 107153874\n",
      "Step 6: char = 'n' with an ASCII value of 110, previous hash was 107153874\n",
      "\thash = 110 + 31 * 107153874\n",
      "\tNew hash value after processing 'n: 3321770204\n",
      "\n",
      "Final hash value after modulo 101: 91\n",
      "-----------------------------------------------------------------------------\n",
      "\n",
      "Hashing string 'hash':\n",
      "-----------------------------------------------------------------------------\n",
      "Step 1: char = 'h' with an ASCII value of 104, previous hash was 0\n",
      "\thash = 104 + 31 * 0\n",
      "\tNew hash value after processing 'h: 104\n",
      "Step 2: char = 'a' with an ASCII value of 97, previous hash was 104\n",
      "\thash = 97 + 31 * 104\n",
      "\tNew hash value after processing 'a: 3321\n",
      "Step 3: char = 's' with an ASCII value of 115, previous hash was 3321\n",
      "\thash = 115 + 31 * 3321\n",
      "\tNew hash value after processing 's: 103066\n",
      "Step 4: char = 'h' with an ASCII value of 104, previous hash was 103066\n",
      "\thash = 104 + 31 * 103066\n",
      "\tNew hash value after processing 'h: 3195150\n",
      "\n",
      "Final hash value after modulo 101: 15\n",
      "-----------------------------------------------------------------------------\n",
      "\n",
      "Hashing string 'coding':\n",
      "-----------------------------------------------------------------------------\n",
      "Step 1: char = 'c' with an ASCII value of 99, previous hash was 0\n",
      "\thash = 99 + 31 * 0\n",
      "\tNew hash value after processing 'c: 99\n",
      "Step 2: char = 'o' with an ASCII value of 111, previous hash was 99\n",
      "\thash = 111 + 31 * 99\n",
      "\tNew hash value after processing 'o: 3180\n",
      "Step 3: char = 'd' with an ASCII value of 100, previous hash was 3180\n",
      "\thash = 100 + 31 * 3180\n",
      "\tNew hash value after processing 'd: 98680\n",
      "Step 4: char = 'i' with an ASCII value of 105, previous hash was 98680\n",
      "\thash = 105 + 31 * 98680\n",
      "\tNew hash value after processing 'i: 3059185\n",
      "Step 5: char = 'n' with an ASCII value of 110, previous hash was 3059185\n",
      "\thash = 110 + 31 * 3059185\n",
      "\tNew hash value after processing 'n: 94834845\n",
      "Step 6: char = 'g' with an ASCII value of 103, previous hash was 94834845\n",
      "\thash = 103 + 31 * 94834845\n",
      "\tNew hash value after processing 'g: 2939880298\n",
      "\n",
      "Final hash value after modulo 101: 73\n",
      "-----------------------------------------------------------------------------\n",
      "\n",
      "Hashing string 'umbrella':\n",
      "-----------------------------------------------------------------------------\n",
      "Step 1: char = 'u' with an ASCII value of 117, previous hash was 0\n",
      "\thash = 117 + 31 * 0\n",
      "\tNew hash value after processing 'u: 117\n",
      "Step 2: char = 'm' with an ASCII value of 109, previous hash was 117\n",
      "\thash = 109 + 31 * 117\n",
      "\tNew hash value after processing 'm: 3736\n",
      "Step 3: char = 'b' with an ASCII value of 98, previous hash was 3736\n",
      "\thash = 98 + 31 * 3736\n",
      "\tNew hash value after processing 'b: 115914\n",
      "Step 4: char = 'r' with an ASCII value of 114, previous hash was 115914\n",
      "\thash = 114 + 31 * 115914\n",
      "\tNew hash value after processing 'r: 3593448\n",
      "Step 5: char = 'e' with an ASCII value of 101, previous hash was 3593448\n",
      "\thash = 101 + 31 * 3593448\n",
      "\tNew hash value after processing 'e: 111396989\n",
      "Step 6: char = 'l' with an ASCII value of 108, previous hash was 111396989\n",
      "\thash = 108 + 31 * 111396989\n",
      "\tNew hash value after processing 'l: 3453306767\n",
      "Step 7: char = 'l' with an ASCII value of 108, previous hash was 3453306767\n",
      "\thash = 108 + 31 * 3453306767\n",
      "\tNew hash value after processing 'l: 107052509885\n",
      "Step 8: char = 'a' with an ASCII value of 97, previous hash was 107052509885\n",
      "\thash = 97 + 31 * 107052509885\n",
      "\tNew hash value after processing 'a: 3318627806532\n",
      "\n",
      "Final hash value after modulo 101: 78\n",
      "-----------------------------------------------------------------------------\n",
      "\n",
      "Hashing string 'rust':\n",
      "-----------------------------------------------------------------------------\n",
      "Step 1: char = 'r' with an ASCII value of 114, previous hash was 0\n",
      "\thash = 114 + 31 * 0\n",
      "\tNew hash value after processing 'r: 114\n",
      "Step 2: char = 'u' with an ASCII value of 117, previous hash was 114\n",
      "\thash = 117 + 31 * 114\n",
      "\tNew hash value after processing 'u: 3651\n",
      "Step 3: char = 's' with an ASCII value of 115, previous hash was 3651\n",
      "\thash = 115 + 31 * 3651\n",
      "\tNew hash value after processing 's: 113296\n",
      "Step 4: char = 't' with an ASCII value of 116, previous hash was 113296\n",
      "\thash = 116 + 31 * 113296\n",
      "\tNew hash value after processing 't: 3512292\n",
      "\n",
      "Final hash value after modulo 101: 17\n",
      "-----------------------------------------------------------------------------\n"
     ]
    }
   ],
   "source": [
    "test_strings = [\"hello\", \"world\", \"python\", \"hash\", \"coding\", \"umbrella\", \"rust\"]\n",
    "\n",
    "for s in test_strings:\n",
    "    hash_function_expanded(s)\n"
   ]
  },
  {
   "cell_type": "markdown",
   "metadata": {},
   "source": [
    "## Reasons For Using 31 and 101"
   ]
  },
  {
   "cell_type": "markdown",
   "metadata": {},
   "source": [
    "**Why 31?**\n",
    "\n",
    "- It is a **prime number**, this is important because it helps reduce the chance of **collisions** when hashing strings by distributing hash values more evenly accross the hash table. \n",
    "\n",
    "- A **collision** occurs when two different inputs produce the same hash value. \n",
    "\n",
    "- The multiplication using 31 makes the hash values less predictable and spread out over a wider range, minimising **clustering**.\n",
    "\n",
    "- 31 is also a small number, reducing the likelyhood of integer overflow in C due to it having fixed sized integers (such as 32 or 64-bit). However, since this has been converted to Python this is no longer an issue as it automatically swtiches from fixed-sized intgers to arbitrary-precision integers when needed. It is still used here though to maintain consistancy between languages and to prevent performance slowdown which can still happen with extremely large numbers\n",
    "\n",
    "- In C, multiplying by 31 can be optimised by compilers as a simple calculation it provides of **(hashval << 5) - hashval** enables the efficient use of bit-shifting and subtraction instead of pure multiplication. Once again, however, this isn't a significant issue in Python as it handles operations like multiplication and bit-shifting at a higher level so there is no significant performance difference between them.\n",
    "\n",
    "**Why 101?**\n",
    "\n",
    "- It is also a **prime number**, in this case used in the modulo operation to limit the hash values to be within a specific range, in this case 0 to 100.\n",
    "\n",
    "- Similar to 31, it being a prime number helps **distribute** the hash values more evenly across this range.\n",
    "\n",
    "- Using 101 also helps prevent the **clustering** of hash values, this can occur if the modulo base has **common factors** with the data. Examples of these factors are if the data contains patterns divisible by the modulo base. 101 **doesn't** share common factors with most data patterns, helping to greatly negate this risk."
   ]
  },
  {
   "cell_type": "markdown",
   "metadata": {},
   "source": [
    "# **Task 3**"
   ]
  },
  {
   "cell_type": "markdown",
   "metadata": {},
   "source": [
    "## Calculate the SHA256 Padding for a Given File"
   ]
  },
  {
   "cell_type": "code",
   "execution_count": 4,
   "metadata": {},
   "outputs": [],
   "source": [
    "import tempfile"
   ]
  },
  {
   "cell_type": "markdown",
   "metadata": {},
   "source": [
    "#### Create Temporary File"
   ]
  },
  {
   "cell_type": "code",
   "execution_count": 9,
   "metadata": {},
   "outputs": [],
   "source": [
    "with tempfile.NamedTemporaryFile(delete=False, mode=\"wb\") as temp_file:\n",
    "    temp_file.write(b\"abc\")\n",
    "    temp_file_path = temp_file.name"
   ]
  },
  {
   "cell_type": "markdown",
   "metadata": {},
   "source": [
    "### Tests"
   ]
  },
  {
   "cell_type": "code",
   "execution_count": 10,
   "metadata": {},
   "outputs": [
    {
     "name": "stdout",
     "output_type": "stream",
     "text": [
      "Temporary file created at: C:\\Users\\melgo\\AppData\\Local\\Temp\\tmpv91w_875\n"
     ]
    }
   ],
   "source": [
    "print(f\"Temporary file created at: {temp_file_path}\")"
   ]
  },
  {
   "cell_type": "markdown",
   "metadata": {},
   "source": [
    "#### Read Temporary File"
   ]
  },
  {
   "cell_type": "code",
   "execution_count": 12,
   "metadata": {},
   "outputs": [],
   "source": [
    "with open(temp_file_path, \"rb\") as file:\n",
    "    data = file.read()"
   ]
  },
  {
   "cell_type": "markdown",
   "metadata": {},
   "source": [
    "#### Tests"
   ]
  },
  {
   "cell_type": "code",
   "execution_count": 14,
   "metadata": {},
   "outputs": [
    {
     "name": "stdout",
     "output_type": "stream",
     "text": [
      "Binary contents of the file: 01100001 01100010 01100011\n"
     ]
    }
   ],
   "source": [
    "print(\"Binary contents of the file:\", \" \".join(f\"{byte:08b}\" for byte in data))"
   ]
  },
  {
   "cell_type": "markdown",
   "metadata": {},
   "source": [
    "# Task 4"
   ]
  },
  {
   "cell_type": "markdown",
   "metadata": {},
   "source": [
    "# Task 5"
   ]
  },
  {
   "cell_type": "markdown",
   "metadata": {},
   "source": [
    "# Task 6"
   ]
  },
  {
   "cell_type": "markdown",
   "metadata": {},
   "source": [
    "# Task 7"
   ]
  },
  {
   "cell_type": "markdown",
   "metadata": {},
   "source": [
    "# Task 8"
   ]
  }
 ],
 "metadata": {
  "kernelspec": {
   "display_name": "Python 3",
   "language": "python",
   "name": "python3"
  },
  "language_info": {
   "codemirror_mode": {
    "name": "ipython",
    "version": 3
   },
   "file_extension": ".py",
   "mimetype": "text/x-python",
   "name": "python",
   "nbconvert_exporter": "python",
   "pygments_lexer": "ipython3",
   "version": "3.12.2"
  }
 },
 "nbformat": 4,
 "nbformat_minor": 2
}
